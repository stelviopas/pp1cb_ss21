{
 "cells": [
  {
   "cell_type": "markdown",
   "id": "9d876f19",
   "metadata": {},
   "source": [
    "# 0. Set Up"
   ]
  },
  {
   "cell_type": "code",
   "execution_count": 3,
   "id": "909c1bb7",
   "metadata": {},
   "outputs": [
    {
     "name": "stdout",
     "output_type": "stream",
     "text": [
      "The autoreload extension is already loaded. To reload it, use:\n",
      "  %reload_ext autoreload\n"
     ]
    }
   ],
   "source": [
    "# Import general modules/packages here. \n",
    "# It is a good practice to run all cells in the Notebook sequentially to avoid unexpected outputs.\n",
    "\n",
    "import os\n",
    "import numpy as np\n",
    "\n",
    "import torch\n",
    "import torch.nn as nn\n",
    "import torch.nn.functional as F\n",
    "from torch.utils.data import DataLoader\n",
    "\n",
    "!pip install pytorch-lightning==0.7.6 > /dev/null\n",
    "import pytorch_lightning as pl\n",
    "\n",
    "\n",
    "# force Jupyter to update loaded modules as they change \n",
    "%load_ext autoreload\n",
    "%autoreload 2"
   ]
  },
  {
   "cell_type": "markdown",
   "id": "c3df64b1",
   "metadata": {},
   "source": [
    "# Before you continue ...\n",
    "Please download and add the folder from the exercise page to the root directory of this project.      \n",
    "www.rostlab.org/~bindpredict/datasets_pp1cb/disorder.zip\n",
    "\n",
    "\n",
    "The folder name should be **data**. The folder contains following files: \n",
    "\n",
    "\n",
    "-- baseline_embeddings_disorder.h5     \n",
    "-- disorder_seq.fasta    \n",
    "-- README.md      \n",
    "-- disorder_labels.fasta     \n",
    "-- MSAs      \n",
    " \n",
    " \n",
    "**TO DO**: add a method for automatical download.\n",
    "\n",
    "\n",
    "Run the next cell to display the structure of the repo: "
   ]
  },
  {
   "cell_type": "code",
   "execution_count": 4,
   "id": "ce2c0be2",
   "metadata": {},
   "outputs": [
    {
     "name": "stdout",
     "output_type": "stream",
     "text": [
      "data  lightning_logs  methods  README.md  venv\tvisualization  workflow.ipynb\r\n"
     ]
    }
   ],
   "source": [
    "!ls"
   ]
  },
  {
   "cell_type": "markdown",
   "id": "9b0c8a0d",
   "metadata": {},
   "source": [
    "**methods** \n",
    "\n",
    "\n",
    "-- utils    \n",
    "-- nn\n",
    " Contains the actual code for pre-processing and definition of our NN. \n",
    "\n",
    "\n",
    "**visualization**     \n",
    "Contains methods for ploting and the output folder with images. \n",
    "\n",
    "\n",
    "\n",
    "This notebook is meant to be a main driver which imports all methods and performs machine learning pipeline in abstract high-level calls. It means: we will implement the actual dataset import, network definition and training here by importing an appropriate function into the notebook. "
   ]
  },
  {
   "cell_type": "markdown",
   "id": "ab741e3c",
   "metadata": {},
   "source": [
    "# Table of contents \n",
    "TO DO "
   ]
  },
  {
   "cell_type": "markdown",
   "id": "27162aa1",
   "metadata": {},
   "source": [
    "# 1. Dataset preparation"
   ]
  },
  {
   "cell_type": "markdown",
   "id": "4737c1f0",
   "metadata": {},
   "source": [
    "## Visualize the dataset"
   ]
  },
  {
   "cell_type": "code",
   "execution_count": 5,
   "id": "a2de0b70",
   "metadata": {
    "scrolled": true
   },
   "outputs": [
    {
     "name": "stdout",
     "output_type": "stream",
     "text": [
      "Reading Z-scores...done! Found 1102 proteins.\n",
      "Plotting histogram of all z-scores...done! 125223 usable z-scores in total. 5.05% of all z-scores were unknown and hence removed from the histogram.\n",
      "Plotting histogram of the protein lengths...done! Median length: 114.0.\n"
     ]
    },
    {
     "data": {
      "text/plain": "<Figure size 360x360 with 1 Axes>",
      "image/png": "[encoded data removed]"
     },
     "metadata": {},
     "output_type": "display_data"
    },
    {
     "data": {
      "text/plain": "<Figure size 360x360 with 1 Axes>",
      "image/png": "[encoded data removed]"
     },
     "metadata": {},
     "output_type": "display_data"
    }
   ],
   "source": [
    "import visualization.visualize_dataset as vis\n",
    "from methods.utils.read_embeddings import read_z_scores\n",
    "\n",
    "z_scores = read_z_scores(z_score_file=\"./data/disorder_labels.fasta\")\n",
    "vis.plot_z_score_histogram(z_scores)\n",
    "vis.plot_protein_length_histogram(z_scores)"
   ]
  },
  {
   "cell_type": "markdown",
   "id": "3413d4ab",
   "metadata": {},
   "source": [
    "## Embeddings\n",
    "Here is an example how an embedding works. \n",
    "Each aa seq is represented as a numpy array of size (num_of_aa, 1024), where each number is a z-score. "
   ]
  },
  {
   "cell_type": "code",
   "execution_count": 6,
   "id": "3a25a786",
   "metadata": {},
   "outputs": [
    {
     "name": "stdout",
     "output_type": "stream",
     "text": [
      "Reading embeddings...done! Found 1102 proteins.\n",
      "Reading Z-scores...done! Found 1102 proteins.\n",
      "Matching protein IDs...done!\n",
      "Samples per bin [ 94  66 256 686]\n",
      "Thresholds of bins [-1.89092126  2.24897056  6.38886238 10.5287542  14.66864602]\n"
     ]
    }
   ],
   "source": [
    "import methods.nn.disorder_dataset as dd\n",
    "\n",
    "dataset = dd.load_dataset()"
   ]
  },
  {
   "cell_type": "code",
   "execution_count": 7,
   "id": "bb18234e",
   "metadata": {},
   "outputs": [
    {
     "name": "stdout",
     "output_type": "stream",
     "text": [
      "190\n",
      "54\n",
      "118\n"
     ]
    }
   ],
   "source": [
    "print(len(dataset[0][0]))\n",
    "print(len(dataset[1][0]))\n",
    "print(len(dataset[2][0]))"
   ]
  },
  {
   "cell_type": "code",
   "execution_count": 8,
   "id": "de939203",
   "metadata": {},
   "outputs": [
    {
     "name": "stdout",
     "output_type": "stream",
     "text": [
      "(133, 1024)\n",
      "()\n",
      "8.721429752066117\n"
     ]
    }
   ],
   "source": [
    "test_index = np.random.randint(10)\n",
    "test_x = dataset.x[test_index]\n",
    "test_y = dataset.y[test_index]\n",
    "seq_length, embedding_dim = test_x.shape\n",
    "print(test_x.shape)\n",
    "print(test_y.shape)\n",
    "print(test_y)\n",
    "#test_y.sum()/len(test_y)"
   ]
  },
  {
   "cell_type": "markdown",
   "id": "561ac3d7",
   "metadata": {},
   "source": [
    "## Load the dataset"
   ]
  },
  {
   "cell_type": "code",
   "execution_count": 9,
   "id": "dcf39bf2",
   "metadata": {},
   "outputs": [
    {
     "data": {
      "text/plain": "<Figure size 360x360 with 1 Axes>",
      "image/png": "[encoded data removed]"
     },
     "metadata": {},
     "output_type": "display_data"
    }
   ],
   "source": [
    "from visualization.visualize_dataset import plot_avg_z_score_histogramm\n",
    "\n",
    "plot_avg_z_score_histogramm(dataset.avg_y)"
   ]
  },
  {
   "cell_type": "markdown",
   "id": "ff7e4077",
   "metadata": {},
   "source": [
    "## Split the dataset to k-folds"
   ]
  },
  {
   "cell_type": "markdown",
   "id": "73cd457c",
   "metadata": {},
   "source": [
    "### Sample train/test/val datasets k-times\n",
    "Sampling from each of the bins ensures stratification or, in other words, that the distribution of the data is equal in every set. \n"
   ]
  },
  {
   "cell_type": "code",
   "execution_count": 10,
   "id": "bd4f3ef5",
   "metadata": {},
   "outputs": [],
   "source": [
    "from sklearn.model_selection import StratifiedKFold\n",
    "from sklearn.model_selection import train_test_split\n",
    "\n",
    "from methods.nn.disorder_dataset import collate\n",
    "from methods.nn.disorder_dataset import DisorderDataset\n",
    "\n",
    "\n",
    "def nested_cross_validation(dataset,\n",
    "                            model=None,\n",
    "                            mode='print_fold_info',\n",
    "                            k=10, *kwargs):\n",
    "    \n",
    "    # Set fixed random number seed\n",
    "    SEED = 1\n",
    "    torch.manual_seed(SEED) \n",
    "    \n",
    "    # Define the K-fold Cross Validator\n",
    "    skf = StratifiedKFold(n_splits=k, random_state=SEED, shuffle=True)\n",
    "\n",
    "    # For folds results\n",
    "    results = {}\n",
    "    # For debugging loaders \n",
    "    loaders = {}\n",
    "\n",
    "    # Nested K-Fold Cross Validation model evaluation\n",
    "    # We split the data stratified on artificially constructed bins in df['bins'\n",
    "    # and extract indices.\n",
    "    \n",
    "    # By splitting we only extract indices of samples for each test/train/val sets,\n",
    "    # thus we only need either X or y (equal length).\n",
    "    # For stratification, however, we require the artificially assigned bins whic are also defined in the \n",
    "    # dataset class\n",
    "    \n",
    "    data = dataset.y\n",
    "    stratify_on = dataset.bins\n",
    "    \n",
    "    for fold, (train_val_ids, test_ids) in enumerate(skf.split(data,stratify_on)):\n",
    "        \n",
    "        print(f\"Fold {fold}\")\n",
    "        \n",
    "        train_ids, val_ids = train_test_split(train_val_ids, \n",
    "                                  test_size=0.20,  # 0.25 x 0.8 = 0.2\n",
    "                                  stratify=stratify_on[train_val_ids], \n",
    "                                  random_state=SEED)\n",
    "    \n",
    "        # for a fully connected CNN, all proteins within a batch have to have the same size\n",
    "        # for now we can circumvent that by using a batch size of one, but we might be able\n",
    "        # to make this more efficient later\n",
    "        # see https://discuss.pytorch.org/t/using-variable-sized-input-is-padding-required/18131/6\n",
    "        # for more details\n",
    "        batch_size = 2\n",
    "\n",
    "        # Define data loaders for training and testing data in this fold\n",
    "        valloader = torch.utils.data.DataLoader(\n",
    "                          dataset, \n",
    "                          batch_size=batch_size,\n",
    "                          collate_fn=collate,\n",
    "                          sampler=val_ids)\n",
    "\n",
    "        trainloader = torch.utils.data.DataLoader(\n",
    "                          dataset,\n",
    "                          collate_fn=collate,\n",
    "                          batch_size=batch_size, sampler=train_ids)\n",
    "\n",
    "        testloader = torch.utils.data.DataLoader(\n",
    "                          dataset,\n",
    "                          collate_fn=collate,\n",
    "                          batch_size=batch_size, sampler=test_ids)\n",
    "        \n",
    "        if mode == 'print_fold_info':\n",
    "            \n",
    "            loaders[fold] = [trainloader, valloader, testloader]\n",
    "            \n",
    "            print('train -  {}, avg_len - {:.2f}  |  val -  {}, avg_len - {:.2f}'.format(\n",
    "                np.sum(np.bincount(stratify_on[train_ids])),\n",
    "                np.sum(dataset.aa_len[train_ids])/len(train_ids),\n",
    "                np.sum(np.bincount(stratify_on[val_ids])),\n",
    "                np.sum(dataset.aa_len[val_ids])/len(val_ids)))\n",
    "\n",
    "            print('test -  {}, avg_len - {:.2f}'.format(\n",
    "                np.sum(np.bincount(stratify_on[test_ids])),\n",
    "                np.sum(dataset.aa_len[test_ids])/len(test_ids)))\n",
    "            \n",
    "            show_batches = 1\n",
    "\n",
    "            for i, batch in enumerate(trainloader):\n",
    "                if i == show_batches:\n",
    "                    break\n",
    "\n",
    "                # the batch consists of the embeddings and the labels\n",
    "                embeddings = batch[0]\n",
    "                z_scores = batch[1]\n",
    "                print(f'Embedding: \\nSize: {len(embeddings)}, Individual: {[len(x) for x in embeddings]}')\n",
    "                print(f'Z-Scores: \\nIndividual: {z_scores}')\n",
    "                #print('\\nSequence Lengths: \\n', batch['lengths'].size())\n",
    "                # print('Batch shape, ',batch['z_scores'].shape)\n",
    "                print('\\n')\n",
    "\n",
    "            print()\n",
    "            \n",
    "        elif mode == 'evaluate':\n",
    "\n",
    "            trainer = pl.Trainer(\n",
    "                weights_summary=None,\n",
    "                max_epochs=100,\n",
    "                progress_bar_refresh_rate=1, # to prevent notebook crashes\n",
    "                #Uncomment to use GPU if available\n",
    "                #gpus=1,\n",
    "                deterministic=True\n",
    "            )\n",
    "            trainer.fit(model, train_dataloader=trainloader,val_dataloaders=valloader)\n",
    "            \n",
    "        else:\n",
    "            print(\"Mode is not specified!\")\n",
    "            break\n",
    "        \n",
    "    if mode == 'evaluate':\n",
    "        return results\n",
    "    else:\n",
    "        return loaders"
   ]
  },
  {
   "cell_type": "code",
   "execution_count": 11,
   "id": "4c0ba9dc",
   "metadata": {},
   "outputs": [
    {
     "name": "stdout",
     "output_type": "stream",
     "text": [
      "Fold 0\n",
      "train -  792, avg_len - 120.46  |  val -  199, avg_len - 115.51\n",
      "test -  111, avg_len - 121.62\n",
      "Embedding: \n",
      "Size: 2, Individual: [112, 75]\n",
      "Z-Scores: \n",
      "Individual: [tensor(9.9336), tensor(7.8119)]\n",
      "\n",
      "\n",
      "\n",
      "Fold 1\n",
      "train -  792, avg_len - 119.06  |  val -  199, avg_len - 122.26\n",
      "test -  111, avg_len - 119.47\n",
      "Embedding: \n",
      "Size: 2, Individual: [55, 199]\n",
      "Z-Scores: \n",
      "Individual: [tensor(8.6969), tensor(9.8363)]\n",
      "\n",
      "\n",
      "\n",
      "Fold 2\n",
      "train -  793, avg_len - 120.28  |  val -  199, avg_len - 117.67\n",
      "test -  110, avg_len - 118.97\n",
      "Embedding: \n",
      "Size: 2, Individual: [177, 199]\n",
      "Z-Scores: \n",
      "Individual: [tensor(7.4860), tensor(9.8363)]\n",
      "\n",
      "\n",
      "\n",
      "Fold 3\n",
      "train -  793, avg_len - 118.82  |  val -  199, avg_len - 119.79\n",
      "test -  110, avg_len - 125.65\n",
      "Embedding: \n",
      "Size: 2, Individual: [105, 199]\n",
      "Z-Scores: \n",
      "Individual: [tensor(9.6680), tensor(9.8363)]\n",
      "\n",
      "\n",
      "\n",
      "Fold 4\n",
      "train -  793, avg_len - 119.47  |  val -  199, avg_len - 120.90\n",
      "test -  110, avg_len - 118.98\n",
      "Embedding: \n",
      "Size: 2, Individual: [162, 125]\n",
      "Z-Scores: \n",
      "Individual: [tensor(9.6139), tensor(9.0920)]\n",
      "\n",
      "\n",
      "\n",
      "Fold 5\n",
      "train -  793, avg_len - 120.59  |  val -  199, avg_len - 115.89\n",
      "test -  110, avg_len - 120.01\n",
      "Embedding: \n",
      "Size: 2, Individual: [177, 104]\n",
      "Z-Scores: \n",
      "Individual: [tensor(7.4860), tensor(7.8035)]\n",
      "\n",
      "\n",
      "\n",
      "Fold 6\n",
      "train -  793, avg_len - 117.93  |  val -  199, avg_len - 125.20\n",
      "test -  110, avg_len - 122.35\n",
      "Embedding: \n",
      "Size: 2, Individual: [152, 52]\n",
      "Z-Scores: \n",
      "Individual: [tensor(11.9887), tensor(13.3019)]\n",
      "\n",
      "\n",
      "\n",
      "Fold 7\n",
      "train -  793, avg_len - 120.17  |  val -  199, avg_len - 119.38\n",
      "test -  110, avg_len - 116.73\n",
      "Embedding: \n",
      "Size: 2, Individual: [151, 124]\n",
      "Z-Scores: \n",
      "Individual: [tensor(12.8466), tensor(10.7112)]\n",
      "\n",
      "\n",
      "\n",
      "Fold 8\n",
      "train -  793, avg_len - 120.08  |  val -  199, avg_len - 120.08\n",
      "test -  110, avg_len - 116.10\n",
      "Embedding: \n",
      "Size: 2, Individual: [114, 109]\n",
      "Z-Scores: \n",
      "Individual: [tensor(11.4222), tensor(13.7496)]\n",
      "\n",
      "\n",
      "\n",
      "Fold 9\n",
      "train -  793, avg_len - 119.95  |  val -  199, avg_len - 120.15\n",
      "test -  110, avg_len - 116.92\n",
      "Embedding: \n",
      "Size: 2, Individual: [175, 139]\n",
      "Z-Scores: \n",
      "Individual: [tensor(13.7382), tensor(13.5918)]\n",
      "\n",
      "\n",
      "\n"
     ]
    },
    {
     "data": {
      "text/plain": "{0: [<torch.utils.data.dataloader.DataLoader at 0x7fecc0ab4e80>,\n  <torch.utils.data.dataloader.DataLoader at 0x7fecc0ab4be0>,\n  <torch.utils.data.dataloader.DataLoader at 0x7fecc0a777f0>],\n 1: [<torch.utils.data.dataloader.DataLoader at 0x7fecc0b089a0>,\n  <torch.utils.data.dataloader.DataLoader at 0x7fecc0b22070>,\n  <torch.utils.data.dataloader.DataLoader at 0x7fecc0a034c0>],\n 2: [<torch.utils.data.dataloader.DataLoader at 0x7fecc0a2cc40>,\n  <torch.utils.data.dataloader.DataLoader at 0x7fed8c0395e0>,\n  <torch.utils.data.dataloader.DataLoader at 0x7fecc0a2cbe0>],\n 3: [<torch.utils.data.dataloader.DataLoader at 0x7fecc0a2cca0>,\n  <torch.utils.data.dataloader.DataLoader at 0x7fecc0a2ccd0>,\n  <torch.utils.data.dataloader.DataLoader at 0x7fecc0a2ce20>],\n 4: [<torch.utils.data.dataloader.DataLoader at 0x7fecc0a81cd0>,\n  <torch.utils.data.dataloader.DataLoader at 0x7fecc0a81460>,\n  <torch.utils.data.dataloader.DataLoader at 0x7fecc0a2cee0>],\n 5: [<torch.utils.data.dataloader.DataLoader at 0x7fecc0a2ceb0>,\n  <torch.utils.data.dataloader.DataLoader at 0x7fecc0a295b0>,\n  <torch.utils.data.dataloader.DataLoader at 0x7fecc0a2cfa0>],\n 6: [<torch.utils.data.dataloader.DataLoader at 0x7fecc0a2fe20>,\n  <torch.utils.data.dataloader.DataLoader at 0x7fecc0a2fb20>,\n  <torch.utils.data.dataloader.DataLoader at 0x7fecc0a2fc40>],\n 7: [<torch.utils.data.dataloader.DataLoader at 0x7fecc0a2fcd0>,\n  <torch.utils.data.dataloader.DataLoader at 0x7fecc0a2fdc0>,\n  <torch.utils.data.dataloader.DataLoader at 0x7fecc0a2fbb0>],\n 8: [<torch.utils.data.dataloader.DataLoader at 0x7fecc0a2fa30>,\n  <torch.utils.data.dataloader.DataLoader at 0x7fecc0a2f9a0>,\n  <torch.utils.data.dataloader.DataLoader at 0x7fecc0a2fa60>],\n 9: [<torch.utils.data.dataloader.DataLoader at 0x7fecc0a2fca0>,\n  <torch.utils.data.dataloader.DataLoader at 0x7fecc0a2fc70>,\n  <torch.utils.data.dataloader.DataLoader at 0x7fecc0a2f850>]}"
     },
     "execution_count": 11,
     "metadata": {},
     "output_type": "execute_result"
    }
   ],
   "source": [
    "nested_cross_validation(dataset)"
   ]
  },
  {
   "cell_type": "markdown",
   "id": "fb80cbad",
   "metadata": {},
   "source": [
    "# 2. Create a model\n",
    "\n",
    "Trying out a fully connected CNN."
   ]
  },
  {
   "cell_type": "code",
   "execution_count": null,
   "outputs": [],
   "source": [
    "from methods.nn.model import ConvNet\n",
    "\n",
    "hparams = {'hidden_size': 112,\n",
    "           \"learning_rate\": 1e-4\n",
    "           }\n",
    "model = ConvNet(hparams)\n",
    "\n",
    "nested_cross_validation(dataset, model, mode='evaluate')"
   ],
   "metadata": {
    "collapsed": false,
    "pycharm": {
     "name": "#%%\n"
    }
   }
  },
  {
   "cell_type": "code",
   "execution_count": null,
   "id": "d1209961",
   "metadata": {},
   "outputs": [],
   "source": [
    "from methods.nn.model import FeedForwardNet\n",
    "from pytorch_lightning import Trainer, seed_everything\n",
    "\n",
    "seed_everything = 1\n",
    "\n",
    "\n",
    "########################################################################\n",
    "# TODO: Define your hyper parameters here!                             #\n",
    "########################################################################\n",
    "hparams = {'hidden_size': 112,\n",
    "           \"learning_rate\": 1e-4\n",
    "           }\n",
    "\n",
    "########################################################################\n",
    "#                           END OF YOUR CODE                           #\n",
    "########################################################################\n",
    "model = FeedForwardNet(hparams)"
   ]
  },
  {
   "cell_type": "markdown",
   "id": "d6c7a2af",
   "metadata": {},
   "source": [
    "# 3. Train a model"
   ]
  },
  {
   "cell_type": "code",
   "execution_count": null,
   "id": "f35b9208",
   "metadata": {},
   "outputs": [],
   "source": [
    "nested_cross_validation(dataset, model, mode='evaluate')"
   ]
  },
  {
   "cell_type": "markdown",
   "id": "677db8c8",
   "metadata": {},
   "source": [
    "## Set up Tensorboard"
   ]
  },
  {
   "cell_type": "code",
   "execution_count": null,
   "id": "a19a20a7",
   "metadata": {},
   "outputs": [],
   "source": [
    "%load_ext tensorboard\n",
    "%tensorboard --logdir lightning_logs"
   ]
  },
  {
   "cell_type": "markdown",
   "id": "8b83eebc",
   "metadata": {},
   "source": [
    "# 4. Visualize results"
   ]
  }
 ],
 "metadata": {
  "kernelspec": {
   "display_name": "Python 3",
   "language": "python",
   "name": "python3"
  },
  "language_info": {
   "codemirror_mode": {
    "name": "ipython",
    "version": 3
   },
   "file_extension": ".py",
   "mimetype": "text/x-python",
   "name": "python",
   "nbconvert_exporter": "python",
   "pygments_lexer": "ipython3",
   "version": "3.9.4"
  }
 },
 "nbformat": 4,
 "nbformat_minor": 5
}