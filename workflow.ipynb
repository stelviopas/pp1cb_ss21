{
 "cells": [
  {
   "cell_type": "markdown",
   "id": "a5b2c120",
   "metadata": {},
   "source": [
    "# 0. Prepare the dataset"
   ]
  },
  {
   "cell_type": "code",
   "execution_count": 1,
   "id": "f10fcf9f",
   "metadata": {},
   "outputs": [],
   "source": [
    "# set up \n",
    "\n",
    "# force Jupyter to update loaded modules as they change \n",
    "%load_ext autoreload\n",
    "%autoreload 2"
   ]
  },
  {
   "cell_type": "markdown",
   "id": "a6ce362a",
   "metadata": {},
   "source": [
    "Please download and add the folder from the exercise page to the root directory of this project. \n",
    "The folder name should be \"data\" to prevent it from pushing to GitHub. The folder contains following files: \n",
    "\n",
    "-- baseline_embeddings_disorder.h5     \n",
    "-- disorder_seq.fasta    \n",
    "-- README.md      \n",
    "-- disorder_labels.fasta     \n",
    "-- MSAs      \n",
    " \n",
    "TO DO: add a method for automatical download.\n"
   ]
  },
  {
   "cell_type": "code",
   "execution_count": 2,
   "id": "4d80b23e",
   "metadata": {},
   "outputs": [
    {
     "name": "stdout",
     "output_type": "stream",
     "text": [
      "Reading embeddings...done! Found 1102 proteins.\n",
      "Reading Z-scores...done! Found 1102 proteins.\n",
      "Matching protein IDs...done!\n"
     ]
    }
   ],
   "source": [
    "import methods.nn.disorder_dataset as dd\n",
    "\n",
    "# a unzipped folder downloaded from the exercises page \n",
    "data_folder = 'data'\n",
    "df = dd.create_dataframe(data_folder)"
   ]
  },
  {
   "cell_type": "code",
   "execution_count": 3,
   "id": "5855bacc",
   "metadata": {},
   "outputs": [
    {
     "data": {
      "text/html": [
       "<div>\n",
       "<style scoped>\n",
       "    .dataframe tbody tr th:only-of-type {\n",
       "        vertical-align: middle;\n",
       "    }\n",
       "\n",
       "    .dataframe tbody tr th {\n",
       "        vertical-align: top;\n",
       "    }\n",
       "\n",
       "    .dataframe thead th {\n",
       "        text-align: right;\n",
       "    }\n",
       "</style>\n",
       "<table border=\"1\" class=\"dataframe\">\n",
       "  <thead>\n",
       "    <tr style=\"text-align: right;\">\n",
       "      <th></th>\n",
       "      <th>x</th>\n",
       "      <th>y</th>\n",
       "    </tr>\n",
       "  </thead>\n",
       "  <tbody>\n",
       "    <tr>\n",
       "      <th>0</th>\n",
       "      <td>[[0.43359375, -0.09710693, 0.27978516, 0.15466...</td>\n",
       "      <td>[999.0, 11.111, 14.478, 14.995, 15.417, 14.613...</td>\n",
       "    </tr>\n",
       "    <tr>\n",
       "      <th>1</th>\n",
       "      <td>[[-0.09112549, -0.27441406, -0.19519043, 0.035...</td>\n",
       "      <td>[999.0, 10.238, 12.946, 12.576, 13.361, 13.28,...</td>\n",
       "    </tr>\n",
       "    <tr>\n",
       "      <th>2</th>\n",
       "      <td>[[-0.21716309, -0.32861328, 0.022506714, 0.225...</td>\n",
       "      <td>[999.0, 999.0, 999.0, 0.008, -0.397, -0.627, -...</td>\n",
       "    </tr>\n",
       "    <tr>\n",
       "      <th>3</th>\n",
       "      <td>[[-0.2524414, -0.093811035, -0.03062439, 0.032...</td>\n",
       "      <td>[999.0, 999.0, 999.0, 999.0, 999.0, 999.0, 999...</td>\n",
       "    </tr>\n",
       "    <tr>\n",
       "      <th>4</th>\n",
       "      <td>[[-0.12915039, -0.26342773, 0.1394043, 0.35156...</td>\n",
       "      <td>[999.0, 9.479, 12.204, 14.19, 14.874, 15.397, ...</td>\n",
       "    </tr>\n",
       "    <tr>\n",
       "      <th>...</th>\n",
       "      <td>...</td>\n",
       "      <td>...</td>\n",
       "    </tr>\n",
       "    <tr>\n",
       "      <th>1097</th>\n",
       "      <td>[[0.043792725, -0.16442871, -0.23718262, 0.113...</td>\n",
       "      <td>[999.0, 999.0, 3.487, 3.487, 0.073, 999.0, 999...</td>\n",
       "    </tr>\n",
       "    <tr>\n",
       "      <th>1098</th>\n",
       "      <td>[[-0.041107178, -0.22106934, -0.34399414, 0.43...</td>\n",
       "      <td>[999.0, 5.685, 5.685, -0.44, 999.0, 999.0, 999...</td>\n",
       "    </tr>\n",
       "    <tr>\n",
       "      <th>1099</th>\n",
       "      <td>[[0.0413208, -0.33862305, 0.0869751, 0.2056884...</td>\n",
       "      <td>[999.0, 2.996, 3.144, 2.354, -0.951, -3.404, -...</td>\n",
       "    </tr>\n",
       "    <tr>\n",
       "      <th>1100</th>\n",
       "      <td>[[0.09588623, -0.039520264, -0.005092621, 0.41...</td>\n",
       "      <td>[999.0, 999.0, 999.0, 999.0, 999.0, 999.0, 999...</td>\n",
       "    </tr>\n",
       "    <tr>\n",
       "      <th>1101</th>\n",
       "      <td>[[0.013320923, -0.42163086, -0.12084961, 0.256...</td>\n",
       "      <td>[999.0, 999.0, 999.0, 4.577, 7.472, 8.027, 7.8...</td>\n",
       "    </tr>\n",
       "  </tbody>\n",
       "</table>\n",
       "<p>1102 rows × 2 columns</p>\n",
       "</div>"
      ],
      "text/plain": [
       "                                                      x  \\\n",
       "0     [[0.43359375, -0.09710693, 0.27978516, 0.15466...   \n",
       "1     [[-0.09112549, -0.27441406, -0.19519043, 0.035...   \n",
       "2     [[-0.21716309, -0.32861328, 0.022506714, 0.225...   \n",
       "3     [[-0.2524414, -0.093811035, -0.03062439, 0.032...   \n",
       "4     [[-0.12915039, -0.26342773, 0.1394043, 0.35156...   \n",
       "...                                                 ...   \n",
       "1097  [[0.043792725, -0.16442871, -0.23718262, 0.113...   \n",
       "1098  [[-0.041107178, -0.22106934, -0.34399414, 0.43...   \n",
       "1099  [[0.0413208, -0.33862305, 0.0869751, 0.2056884...   \n",
       "1100  [[0.09588623, -0.039520264, -0.005092621, 0.41...   \n",
       "1101  [[0.013320923, -0.42163086, -0.12084961, 0.256...   \n",
       "\n",
       "                                                      y  \n",
       "0     [999.0, 11.111, 14.478, 14.995, 15.417, 14.613...  \n",
       "1     [999.0, 10.238, 12.946, 12.576, 13.361, 13.28,...  \n",
       "2     [999.0, 999.0, 999.0, 0.008, -0.397, -0.627, -...  \n",
       "3     [999.0, 999.0, 999.0, 999.0, 999.0, 999.0, 999...  \n",
       "4     [999.0, 9.479, 12.204, 14.19, 14.874, 15.397, ...  \n",
       "...                                                 ...  \n",
       "1097  [999.0, 999.0, 3.487, 3.487, 0.073, 999.0, 999...  \n",
       "1098  [999.0, 5.685, 5.685, -0.44, 999.0, 999.0, 999...  \n",
       "1099  [999.0, 2.996, 3.144, 2.354, -0.951, -3.404, -...  \n",
       "1100  [999.0, 999.0, 999.0, 999.0, 999.0, 999.0, 999...  \n",
       "1101  [999.0, 999.0, 999.0, 4.577, 7.472, 8.027, 7.8...  \n",
       "\n",
       "[1102 rows x 2 columns]"
      ]
     },
     "execution_count": 3,
     "metadata": {},
     "output_type": "execute_result"
    }
   ],
   "source": [
    "df"
   ]
  },
  {
   "cell_type": "code",
   "execution_count": 4,
   "id": "13c6c530",
   "metadata": {},
   "outputs": [
    {
     "name": "stdout",
     "output_type": "stream",
     "text": [
      " Example of a protein embedding\n"
     ]
    },
    {
     "data": {
      "text/plain": [
       "array([[-0.09112549, -0.27441406, -0.19519043, ...,  0.07073975,\n",
       "        -0.1295166 , -0.06420898],\n",
       "       [-0.29052734, -0.25610352, -0.0814209 , ...,  0.3696289 ,\n",
       "        -0.09240723,  0.10168457],\n",
       "       [-0.36010742, -0.15673828, -0.35766602, ...,  0.20019531,\n",
       "        -0.14501953,  0.07794189],\n",
       "       ...,\n",
       "       [-0.05996704, -0.05941772,  0.02037048, ...,  0.11663818,\n",
       "        -0.05944824, -0.16064453],\n",
       "       [-0.11566162, -0.0524292 ,  0.37231445, ..., -0.04959106,\n",
       "        -0.01567078, -0.13586426],\n",
       "       [-0.1829834 , -0.04116821,  0.29858398, ...,  0.02999878,\n",
       "        -0.2919922 ,  0.08349609]], dtype=float32)"
      ]
     },
     "execution_count": 4,
     "metadata": {},
     "output_type": "execute_result"
    }
   ],
   "source": [
    "print(\" Example of a protein embedding\")\n",
    "df['x'][1]"
   ]
  },
  {
   "cell_type": "code",
   "execution_count": 5,
   "id": "aef3739b",
   "metadata": {},
   "outputs": [
    {
     "name": "stdout",
     "output_type": "stream",
     "text": [
      " Example of a z-values for that embedding\n"
     ]
    },
    {
     "data": {
      "text/plain": [
       "array([999.   ,  10.238,  12.946,  12.576,  13.361,  13.28 ,  14.732,\n",
       "        14.657,  14.645,  13.357,  13.654,  12.42 ,  13.782,  13.231,\n",
       "        14.305,  12.597,  12.195,  12.758,  14.452,  14.832,  14.964,\n",
       "        14.06 ,  13.621,  14.018,  14.93 ,  16.15 ,  15.118,  14.69 ,\n",
       "        13.673,  13.872,  13.251,  14.293,  15.191,  15.82 ,  15.464,\n",
       "        13.134,  10.934,   8.621,  10.775,  12.847,  14.391,  15.203,\n",
       "        15.389,  15.242,  14.724,  14.087,  12.505,  10.857,  10.88 ,\n",
       "        11.306,  10.07 ,   6.288,   2.861, 999.   ])"
      ]
     },
     "execution_count": 5,
     "metadata": {},
     "output_type": "execute_result"
    }
   ],
   "source": [
    "print(\" Example of a z-values for that embedding\")\n",
    "df['y'][1]"
   ]
  }
 ],
 "metadata": {
  "kernelspec": {
   "display_name": "Python 3",
   "language": "python",
   "name": "python3"
  },
  "language_info": {
   "codemirror_mode": {
    "name": "ipython",
    "version": 3
   },
   "file_extension": ".py",
   "mimetype": "text/x-python",
   "name": "python",
   "nbconvert_exporter": "python",
   "pygments_lexer": "ipython3",
   "version": "3.6.9"
  }
 },
 "nbformat": 4,
 "nbformat_minor": 5
}
