{
 "cells": [
  {
   "cell_type": "markdown",
   "id": "abcf20c7",
   "metadata": {},
   "source": [
    "# 0. Set Up"
   ]
  },
  {
   "cell_type": "code",
   "execution_count": 18,
   "id": "f10fcf9f",
   "metadata": {},
   "outputs": [
    {
     "name": "stdout",
     "output_type": "stream",
     "text": [
      "\u001b[33mWARNING: You are using pip version 21.1.1; however, version 21.1.2 is available.\n",
      "You should consider upgrading via the '/home/anastasiaaa/.virtualenvs/rna/bin/python3 -m pip install --upgrade pip' command.\u001b[0m\n",
      "The autoreload extension is already loaded. To reload it, use:\n",
      "  %reload_ext autoreload\n"
     ]
    }
   ],
   "source": [
    "# Import general modules/packages here. \n",
    "# It is a good practice to run all cells in the Notebook sequentially to avoid unexpected outputs.\n",
    "\n",
    "import os\n",
    "import numpy as np\n",
    "\n",
    "import torch\n",
    "import torch.nn as nn\n",
    "import torch.nn.functional as F\n",
    "from torch.utils.data import DataLoader\n",
    "\n",
    "!pip install pytorch-lightning==0.7.6 > /dev/null\n",
    "import pytorch_lightning as pl\n",
    "\n",
    "\n",
    "# force Jupyter to update loaded modules as they change \n",
    "%load_ext autoreload\n",
    "%autoreload 2"
   ]
  },
  {
   "cell_type": "markdown",
   "id": "a6ce362a",
   "metadata": {},
   "source": [
    "# Before you continue ...\n",
    "Please download and add the folder from the exercise page to the root directory of this project.      \n",
    "www.rostlab.org/~bindpredict/datasets_pp1cb/disorder.zip\n",
    "\n",
    "\n",
    "The folder name should be **data**. The folder contains following files: \n",
    "\n",
    "\n",
    "-- baseline_embeddings_disorder.h5     \n",
    "-- disorder_seq.fasta    \n",
    "-- README.md      \n",
    "-- disorder_labels.fasta     \n",
    "-- MSAs      \n",
    " \n",
    " \n",
    "**TO DO**: add a method for automatical download.\n",
    "\n",
    "\n",
    "Run the next cell to display the structure of the repo: "
   ]
  },
  {
   "cell_type": "code",
   "execution_count": null,
   "id": "2a265cf8",
   "metadata": {},
   "outputs": [],
   "source": [
    "!ls"
   ]
  },
  {
   "cell_type": "markdown",
   "id": "07462140",
   "metadata": {},
   "source": [
    "**methods** \n",
    "\n",
    "\n",
    "-- utils    \n",
    "-- nn\n",
    " Contains the actual code for pre-processing and definition of our NN. \n",
    "\n",
    "\n",
    "**visualization**     \n",
    "Contains methods for ploting and the output folder with images. \n",
    "\n",
    "\n",
    "\n",
    "This notebook is meant to be a main driver which imports all methods and performs machine learning pipeline in abstract high-level calls. It means: we will implement the actual dataset import, network definition and training here by importing an appropriate function into the notebook. "
   ]
  },
  {
   "cell_type": "markdown",
   "id": "4fa11172",
   "metadata": {},
   "source": [
    "# Table of contents \n",
    "TO DO "
   ]
  },
  {
   "cell_type": "markdown",
   "id": "afab59f9",
   "metadata": {},
   "source": [
    "# 1. Dataset preparation"
   ]
  },
  {
   "cell_type": "markdown",
   "id": "f2adab71",
   "metadata": {},
   "source": [
    "## Visualize the dataset"
   ]
  },
  {
   "cell_type": "code",
   "execution_count": 19,
   "id": "a6e74245",
   "metadata": {
    "scrolled": true
   },
   "outputs": [
    {
     "name": "stdout",
     "output_type": "stream",
     "text": [
      "Reading Z-scores...done! Found 1102 proteins.\n",
      "Plotting histogram of all z-scores...done! 125223 usable z-scores in total. 5.05% of all z-scores were unknown and hence removed from the histogram.\n",
      "Plotting histogram of the protein lengths...done! Median length: 114.0.\n"
     ]
    },
    {
     "data": {
      "image/png": "[encoded data removed]",
      "text/plain": [
       "<Figure size 360x360 with 1 Axes>"
      ]
     },
     "metadata": {},
     "output_type": "display_data"
    },
    {
     "data": {
      "image/png": "[encoded data removed]",
      "text/plain": [
       "<Figure size 360x360 with 1 Axes>"
      ]
     },
     "metadata": {},
     "output_type": "display_data"
    }
   ],
   "source": [
    "import visualization.visualize_dataset as vis\n",
    "from methods.utils.read_embeddings import read_z_scores\n",
    "\n",
    "z_scores = read_z_scores(z_score_file=\"./data/disorder_labels.fasta\")\n",
    "vis.plot_z_score_histogram(z_scores)\n",
    "vis.plot_protein_length_histogram(z_scores)"
   ]
  },
  {
   "cell_type": "markdown",
   "id": "6453e5c3",
   "metadata": {},
   "source": [
    "## Embeddings\n",
    "Here is an example how an embedding works. \n",
    "Each aa seq is represented as a numpy array of size (num_of_aa, 1024), where each number is a z-score. "
   ]
  },
  {
   "cell_type": "code",
   "execution_count": 20,
   "id": "134fef0b",
   "metadata": {},
   "outputs": [
    {
     "name": "stdout",
     "output_type": "stream",
     "text": [
      "Reading embeddings...done! Found 1102 proteins.\n",
      "Reading Z-scores...done! Found 1102 proteins.\n",
      "Matching protein IDs...done!\n",
      "Samples per bin [250 199 280 373]\n",
      "Thresholds of bins [-32.688    57.59175 147.8715  238.15125 328.431  ]\n"
     ]
    }
   ],
   "source": [
    "import methods.nn.disorder_dataset as dd\n",
    "\n",
    "dataset = dd.load_dataset()"
   ]
  },
  {
   "cell_type": "code",
   "execution_count": 21,
   "id": "23dec6d2",
   "metadata": {},
   "outputs": [
    {
     "data": {
      "text/plain": [
       "23"
      ]
     },
     "execution_count": 21,
     "metadata": {},
     "output_type": "execute_result"
    }
   ],
   "source": [
    "len(dataset[0]['embeddings'])"
   ]
  },
  {
   "cell_type": "code",
   "execution_count": 22,
   "id": "aa84f44a",
   "metadata": {},
   "outputs": [
    {
     "name": "stdout",
     "output_type": "stream",
     "text": [
      "(23, 1024)\n",
      "(23,)\n"
     ]
    },
    {
     "data": {
      "text/plain": [
       "57.2653913043478"
      ]
     },
     "execution_count": 22,
     "metadata": {},
     "output_type": "execute_result"
    }
   ],
   "source": [
    "test_index = np.random.randint(10)\n",
    "test_x = dataset.x[test_index]\n",
    "test_y = dataset.y[test_index]\n",
    "seq_length, embedding_dim = test_x.shape\n",
    "print(test_x.shape)\n",
    "print(test_y.shape)\n",
    "test_y.sum()/len(test_y)"
   ]
  },
  {
   "cell_type": "markdown",
   "id": "a5b2c120",
   "metadata": {},
   "source": [
    "## Load the dataset"
   ]
  },
  {
   "cell_type": "code",
   "execution_count": 23,
   "id": "8146edd8",
   "metadata": {},
   "outputs": [
    {
     "data": {
      "image/png": "[encoded data removed]",
      "text/plain": [
       "<Figure size 360x360 with 1 Axes>"
      ]
     },
     "metadata": {},
     "output_type": "display_data"
    }
   ],
   "source": [
    "from visualization.visualize_dataset import plot_avg_z_score_histogramm\n",
    "\n",
    "plot_avg_z_score_histogramm(dataset.avg_y)"
   ]
  },
  {
   "cell_type": "markdown",
   "id": "243257e5",
   "metadata": {},
   "source": [
    "## Split the dataset to k-folds"
   ]
  },
  {
   "cell_type": "markdown",
   "id": "0c2c246f",
   "metadata": {},
   "source": [
    "### Sample train/test/val datasets k-times\n",
    "Sampling from each of the bins ensures stratification or, in other words, that the distribution of the data is equal in every set. \n"
   ]
  },
  {
   "cell_type": "code",
   "execution_count": 30,
   "id": "88264620",
   "metadata": {},
   "outputs": [],
   "source": [
    "from sklearn.model_selection import StratifiedKFold\n",
    "from sklearn.model_selection import train_test_split\n",
    "\n",
    "from methods.nn.disorder_dataset import collate\n",
    "from methods.nn.disorder_dataset import DisorderDataset\n",
    "\n",
    "\n",
    "def nested_cross_validation(dataset,\n",
    "                            model=None,\n",
    "                            mode='print_fold_info',\n",
    "                            k=10, *kwargs):\n",
    "    \n",
    "    # Set fixed random number seed\n",
    "    SEED = 1\n",
    "    torch.manual_seed(SEED) \n",
    "    \n",
    "    # Define the K-fold Cross Validator\n",
    "    skf = StratifiedKFold(n_splits=k, random_state=SEED, shuffle=True)\n",
    "\n",
    "    # For folds results\n",
    "    results = {}\n",
    "    # For debugging loaders \n",
    "    loaders = {}\n",
    "\n",
    "    # Nested K-Fold Cross Validation model evaluation\n",
    "    # We split the data stratified on artificially constructed bins in df['bins'\n",
    "    # and extract indices.\n",
    "    \n",
    "    # By splitting we only extract indices of samples for each test/train/val sets,\n",
    "    # thus we only need either X or y (equal length).\n",
    "    # For stratification, however, we require the artificially assigned bins whic are also defined in the \n",
    "    # dataset class\n",
    "    \n",
    "    data = dataset.y\n",
    "    stratify_on = dataset.bins\n",
    "    \n",
    "    for fold, (train_val_ids, test_ids) in enumerate(skf.split(data,stratify_on)):\n",
    "        \n",
    "        print(f\"Fold {fold}\")\n",
    "        \n",
    "        train_ids, val_ids = train_test_split(train_val_ids, \n",
    "                                  test_size=0.20,  # 0.25 x 0.8 = 0.2\n",
    "                                  stratify=stratify_on[train_val_ids], \n",
    "                                  random_state=SEED)\n",
    "    \n",
    "\n",
    "        # Define data loaders for training and testing data in this fold\n",
    "        valloader = torch.utils.data.DataLoader(\n",
    "                          dataset, \n",
    "                          batch_size=10,\n",
    "                          #collate_fn=collate,\n",
    "                          sampler=val_ids)\n",
    "\n",
    "        trainloader = torch.utils.data.DataLoader(\n",
    "                          dataset,\n",
    "                          #collate_fn=collate,\n",
    "                          batch_size=10, sampler=train_ids)\n",
    "\n",
    "        testloader = torch.utils.data.DataLoader(\n",
    "                          dataset,\n",
    "                          #collate_fn=collate,\n",
    "                          batch_size=10, sampler=test_ids)\n",
    "        \n",
    "        if mode == 'print_fold_info':\n",
    "            \n",
    "            loaders[fold] = [trainloader, valloader, testloader]\n",
    "            \n",
    "            print('train -  {}, avg_len - {:.2f}  |  val -  {}, avg_len - {:.2f}'.format(\n",
    "                np.sum(np.bincount(stratify_on[train_ids])),\n",
    "                np.sum(dataset.aa_len[train_ids])/len(train_ids),\n",
    "                np.sum(np.bincount(stratify_on[val_ids])),\n",
    "                np.sum(dataset.aa_len[val_ids])/len(val_ids)))\n",
    "\n",
    "            print('test -  {}, avg_len - {:.2f}'.format(\n",
    "                np.sum(np.bincount(stratify_on[test_ids])),\n",
    "                np.sum(dataset.aa_len[test_ids])/len(test_ids)))\n",
    "            \n",
    "            show_batches = 1\n",
    "            \n",
    "            for i,batch in enumerate(trainloader):\n",
    "                print('Embedding: \\n', batch['embeddings'].size())\n",
    "                print('\\nZ-scores: \\n', batch['z_scores'])\n",
    "                #print('\\nSequence Lengths: \\n', batch['lengths'].size())\n",
    "                print('Batch shape, ',batch['z_scores'].shape)\n",
    "                print('\\n')\n",
    "                if i == show_batches:\n",
    "                    break\n",
    "                  \n",
    "            print()\n",
    "            \n",
    "        elif mode == 'evaluate':\n",
    "\n",
    "            trainer = pl.Trainer(\n",
    "                weights_summary=None,\n",
    "                max_epochs=100,\n",
    "                progress_bar_refresh_rate=1, # to prevent notebook crashes\n",
    "                #Uncomment to use GPU if available\n",
    "                #gpus=1,\n",
    "                deterministic=True\n",
    "            )\n",
    "            trainer.fit(model, train_dataloader=trainloader,val_dataloaders=valloader)\n",
    "            \n",
    "        else:\n",
    "            print(\"Mode is not specified!\")\n",
    "            break\n",
    "        \n",
    "    if mode == 'evaluate':\n",
    "        return results\n",
    "    else:\n",
    "        return loaders"
   ]
  },
  {
   "cell_type": "code",
   "execution_count": 31,
   "id": "e0b2eb2c",
   "metadata": {},
   "outputs": [
    {
     "name": "stdout",
     "output_type": "stream",
     "text": [
      "Fold 0\n",
      "train -  792, avg_len - 23.00  |  val -  199, avg_len - 23.00\n",
      "test -  111, avg_len - 23.00\n",
      "Embedding: \n",
      " torch.Size([10, 23, 1024])\n",
      "\n",
      "Z-scores: \n",
      " tensor([[ 9.9900e+02,  9.1890e+00,  1.0389e+01,  1.2882e+01,  1.2002e+01,\n",
      "          1.4043e+01,  1.3786e+01,  1.4067e+01,  1.3810e+01,  1.3675e+01,\n",
      "          1.3731e+01,  1.2225e+01,  1.1230e+01,  1.0634e+01,  1.1525e+01,\n",
      "          1.3127e+01,  1.2815e+01,  1.4145e+01,  1.4245e+01,  1.4936e+01,\n",
      "          1.4288e+01,  1.3891e+01,  1.4845e+01],\n",
      "        [ 9.9900e+02,  2.0410e+00,  1.1440e+00,  4.4400e-01, -1.7780e+00,\n",
      "         -1.1100e+00,  9.9900e+02,  9.9900e+02,  8.9000e-01,  2.2180e+00,\n",
      "          1.2500e+00,  8.8500e-01, -1.7870e+00, -1.6340e+00,  3.8460e+00,\n",
      "          3.7980e+00,  4.6410e+00, -3.1700e-01,  4.5400e-01, -1.5600e-01,\n",
      "         -4.5400e-01, -7.2400e-01,  2.2400e-01],\n",
      "        [ 9.9900e+02,  1.3910e+00,  1.1230e+00,  9.6600e-01,  2.5000e-02,\n",
      "         -4.2600e-01, -1.4290e+00, -2.2410e+00, -7.6900e-01,  2.2850e+00,\n",
      "          6.6610e+00,  1.0069e+01,  1.3062e+01,  1.1929e+01,  1.2076e+01,\n",
      "          1.0547e+01,  1.1372e+01,  1.0019e+01,  1.1665e+01,  1.3289e+01,\n",
      "          1.4365e+01,  1.4186e+01,  1.4299e+01],\n",
      "        [ 9.9900e+02,  9.9900e+02,  9.9900e+02,  9.9900e+02,  9.9900e+02,\n",
      "          9.9900e+02,  8.4240e+00,  1.0279e+01,  9.8830e+00,  1.0635e+01,\n",
      "          1.1360e+01,  1.3337e+01,  1.3624e+01,  1.4888e+01,  1.5308e+01,\n",
      "          1.5790e+01,  1.5038e+01,  1.4004e+01,  1.3141e+01,  1.3264e+01,\n",
      "          1.3422e+01,  1.4614e+01,  1.4044e+01],\n",
      "        [ 9.9900e+02,  8.5020e+00,  9.1550e+00,  7.2050e+00,  7.8650e+00,\n",
      "          1.1523e+01,  1.3346e+01,  1.4618e+01,  1.3635e+01,  1.4218e+01,\n",
      "          1.3790e+01,  1.4008e+01,  1.4223e+01,  1.4300e+01,  1.4105e+01,\n",
      "          1.2450e+01,  1.2163e+01,  1.1213e+01,  1.2162e+01,  1.1969e+01,\n",
      "          1.0888e+01,  9.6970e+00,  1.0597e+01],\n",
      "        [ 9.9900e+02,  3.7760e+00,  4.5660e+00,  5.1990e+00,  4.2020e+00,\n",
      "          4.6620e+00,  4.5460e+00,  4.7440e+00,  4.1910e+00,  3.0720e+00,\n",
      "          3.0120e+00,  1.0920e+00,  2.8120e+00,  9.9200e-01,  3.5160e+00,\n",
      "          3.2350e+00,  4.3870e+00,  2.8800e+00,  3.8110e+00,  4.1660e+00,\n",
      "          5.0580e+00,  4.4430e+00,  5.5970e+00],\n",
      "        [ 9.9900e+02,  9.9900e+02,  9.9900e+02,  1.3400e-01, -1.7500e-01,\n",
      "         -5.7200e-01,  4.3810e+00,  4.4420e+00,  5.2230e+00,  1.3620e+00,\n",
      "          1.4840e+00,  1.6200e-01,  5.5100e-01,  4.1320e+00,  3.8840e+00,\n",
      "          4.8390e+00,  2.0310e+00,  2.5610e+00,  6.9900e-01,  9.9900e+02,\n",
      "          9.9900e+02,  9.9900e+02,  9.9900e+02],\n",
      "        [ 9.9900e+02,  5.4400e+00,  6.2130e+00,  5.8870e+00,  7.9430e+00,\n",
      "          9.2530e+00,  9.9240e+00,  9.7120e+00,  1.0195e+01,  1.1569e+01,\n",
      "          1.2060e+01,  1.3027e+01,  1.2984e+01,  1.3697e+01,  1.2976e+01,\n",
      "          1.2990e+01,  1.3284e+01,  1.3129e+01,  1.3521e+01,  1.3614e+01,\n",
      "          1.5165e+01,  1.4643e+01,  1.5002e+01],\n",
      "        [ 9.9900e+02,  9.9900e+02,  9.9900e+02,  9.9900e+02,  4.4200e-01,\n",
      "          1.7000e-02, -3.7100e-01, -2.1200e-01,  1.3820e+00,  2.7160e+00,\n",
      "          2.5510e+00,  4.0930e+00,  9.3380e+00,  1.2902e+01,  1.5011e+01,\n",
      "          1.5183e+01,  1.5375e+01,  1.5370e+01,  1.4480e+01,  1.4705e+01,\n",
      "          1.4734e+01,  1.4182e+01,  1.3674e+01],\n",
      "        [ 9.9900e+02,  2.2950e+00,  2.8700e+00,  2.2780e+00,  4.9900e-01,\n",
      "         -1.4160e+00, -2.1040e+00, -1.1970e+00, -1.1220e+00, -8.4700e-01,\n",
      "          1.6600e-01,  2.5200e-01,  1.1290e+00,  1.8630e+00,  3.3400e+00,\n",
      "          3.0110e+00,  1.3030e+00, -1.6310e+00,  4.1920e+00,  6.4210e+00,\n",
      "          9.7030e+00,  1.0155e+01,  1.0979e+01]])\n",
      "Batch shape,  torch.Size([10, 23])\n",
      "\n",
      "\n",
      "Embedding: \n",
      " torch.Size([10, 23, 1024])\n",
      "\n",
      "Z-scores: \n",
      " tensor([[ 9.9900e+02,  6.4820e+00,  6.8100e+00,  3.9710e+00,  4.9370e+00,\n",
      "          5.3920e+00,  5.5590e+00,  4.0490e+00,  3.8870e+00,  3.4640e+00,\n",
      "          3.2850e+00,  2.0050e+00,  3.0670e+00,  3.8290e+00,  3.7510e+00,\n",
      "          2.7510e+00,  6.8800e-01,  1.6900e-01, -4.8500e-01, -4.1000e-01,\n",
      "         -1.2160e+00,  5.5300e-01,  9.1100e-01],\n",
      "        [ 9.9900e+02,  9.9900e+02,  9.9900e+02,  4.6540e+00,  4.6630e+00,\n",
      "          6.2800e-01,  1.3830e+00,  8.4000e-01,  1.7160e+00,  3.8070e+00,\n",
      "          4.9640e+00,  4.4360e+00,  2.8200e+00,  6.1300e-01,  4.7600e-01,\n",
      "         -3.2900e-01, -1.2850e+00, -5.1700e-01,  7.7400e-01,  4.2150e+00,\n",
      "          4.7880e+00,  4.3850e+00,  1.3710e+00],\n",
      "        [ 9.9900e+02,  4.3430e+00,  4.3210e+00,  2.8110e+00, -3.6100e-01,\n",
      "         -1.9180e+00, -2.5090e+00, -1.5130e+00, -4.2000e-01,  3.0620e+00,\n",
      "          3.5200e+00,  3.1210e+00, -1.7840e+00, -2.3390e+00, -2.5200e+00,\n",
      "         -2.4760e+00, -1.5710e+00,  7.9900e-01,  1.9950e+00,  2.4600e+00,\n",
      "          3.2850e+00,  2.8520e+00,  2.3600e+00],\n",
      "        [ 9.9900e+02,  3.4270e+00,  3.0600e+00,  7.7500e-01, -1.9110e+00,\n",
      "         -2.4170e+00,  5.2030e+00,  5.4750e+00,  6.1770e+00,  4.9330e+00,\n",
      "          6.9760e+00,  8.4660e+00,  9.7910e+00,  9.6330e+00,  7.5430e+00,\n",
      "          4.3840e+00,  2.8100e-01, -9.0400e-01,  3.4100e-01,  1.9320e+00,\n",
      "          2.4070e+00,  1.1340e+00, -2.3000e-02],\n",
      "        [ 9.9900e+02,  9.9900e+02,  7.8640e+00,  9.7490e+00,  1.0825e+01,\n",
      "          1.1639e+01,  1.2289e+01,  1.3250e+01,  1.4431e+01,  1.5570e+01,\n",
      "          1.5208e+01,  1.4111e+01,  1.3788e+01,  1.3842e+01,  1.4228e+01,\n",
      "          1.4655e+01,  1.5069e+01,  1.5445e+01,  1.3825e+01,  1.3810e+01,\n",
      "          1.2961e+01,  1.3464e+01,  1.3033e+01],\n",
      "        [ 9.9900e+02,  9.5070e+00,  1.2493e+01,  1.3868e+01,  1.4274e+01,\n",
      "          1.4241e+01,  1.4117e+01,  1.4027e+01,  1.4153e+01,  1.4769e+01,\n",
      "          1.5117e+01,  1.5262e+01,  1.3959e+01,  1.3588e+01,  1.3739e+01,\n",
      "          1.4993e+01,  1.5491e+01,  1.5791e+01,  1.4311e+01,  1.3124e+01,\n",
      "          1.0642e+01,  9.8110e+00,  9.2280e+00],\n",
      "        [ 9.9900e+02,  3.9940e+00,  4.8080e+00,  6.3970e+00,  8.7530e+00,\n",
      "          1.0660e+01,  1.1195e+01,  1.2350e+01,  1.2472e+01,  1.4035e+01,\n",
      "          1.4808e+01,  1.5764e+01,  1.4318e+01,  1.3456e+01,  1.2530e+01,\n",
      "          1.2517e+01,  1.3106e+01,  1.4429e+01,  1.4360e+01,  1.3698e+01,\n",
      "          1.2091e+01,  1.3371e+01,  1.3402e+01],\n",
      "        [ 9.9900e+02,  9.9900e+02,  9.9900e+02,  9.9900e+02,  9.9900e+02,\n",
      "         -9.3900e-01,  8.2000e-01,  1.2380e+00,  5.8700e-01, -1.9980e+00,\n",
      "         -2.7460e+00, -2.2450e+00, -1.1320e+00, -6.2000e-01,  8.7000e-01,\n",
      "          1.2450e+00,  1.9930e+00,  1.5750e+00,  1.3060e+00, -1.0400e-01,\n",
      "         -8.6000e-01, -2.1580e+00, -1.7280e+00],\n",
      "        [ 9.9900e+02,  5.0340e+00,  5.6030e+00,  4.9140e+00,  5.9900e+00,\n",
      "          5.4850e+00,  5.5470e+00,  3.6830e+00,  4.4670e+00,  3.8840e+00,\n",
      "          5.4690e+00,  7.4900e+00,  1.0842e+01,  1.3253e+01,  1.4841e+01,\n",
      "          1.4810e+01,  1.4123e+01,  1.4449e+01,  1.4238e+01,  1.2712e+01,\n",
      "          1.0661e+01,  9.7600e+00,  9.8950e+00],\n",
      "        [ 9.9900e+02,  2.4990e+00,  2.0860e+00,  2.3400e+00, -1.0300e-01,\n",
      "          6.5000e-01,  7.9300e-01,  1.8370e+00,  1.1080e+00,  2.0750e+00,\n",
      "          1.8700e+00,  2.3900e+00,  2.4730e+00,  2.2020e+00,  3.5410e+00,\n",
      "          2.3960e+00,  2.3800e+00, -3.3300e-01,  7.6200e-01,  4.9000e-02,\n",
      "          5.1000e-02, -1.1910e+00, -1.4960e+00]])\n",
      "Batch shape,  torch.Size([10, 23])\n",
      "\n",
      "\n",
      "\n",
      "Fold 1\n",
      "train -  792, avg_len - 23.00  |  val -  199, avg_len - 23.00\n",
      "test -  111, avg_len - 23.00\n",
      "Embedding: \n",
      " torch.Size([10, 23, 1024])\n",
      "\n",
      "Z-scores: \n",
      " tensor([[ 9.9900e+02,  2.2220e+00,  2.8920e+00,  2.3190e+00,  5.4410e+00,\n",
      "          8.7200e+00,  1.2490e+01,  1.3757e+01,  1.4695e+01,  1.4057e+01,\n",
      "          1.4374e+01,  1.3309e+01,  1.4230e+01,  1.4031e+01,  1.4578e+01,\n",
      "          1.3202e+01,  1.3336e+01,  1.3731e+01,  1.4232e+01,  1.4368e+01,\n",
      "          1.4187e+01,  1.4559e+01,  1.5114e+01],\n",
      "        [ 9.9900e+02,  9.9900e+02,  9.9900e+02,  9.9900e+02,  9.9900e+02,\n",
      "          9.9900e+02,  9.9900e+02,  9.9900e+02,  9.9900e+02,  9.9900e+02,\n",
      "          9.9900e+02,  9.9900e+02,  9.9900e+02,  9.9900e+02,  9.9900e+02,\n",
      "          9.9900e+02,  9.9900e+02,  9.9900e+02,  9.9900e+02,  1.1971e+01,\n",
      "          1.2781e+01,  1.2264e+01,  1.2862e+01],\n",
      "        [ 9.9900e+02,  9.9900e+02,  9.9900e+02,  9.9900e+02,  9.9900e+02,\n",
      "         -2.7350e+00, -1.4530e+00,  8.9300e-01,  6.2350e+00,  1.0717e+01,\n",
      "          1.3460e+01,  1.4334e+01,  1.4630e+01,  1.4803e+01,  1.4256e+01,\n",
      "          1.3434e+01,  1.1917e+01,  1.2741e+01,  1.3639e+01,  1.4020e+01,\n",
      "          1.4041e+01,  1.1353e+01,  1.0837e+01],\n",
      "        [ 9.9900e+02,  6.0580e+00,  9.7500e+00,  8.5510e+00,  9.1340e+00,\n",
      "          7.1810e+00,  9.5320e+00,  1.0057e+01,  1.0125e+01,  9.5920e+00,\n",
      "          9.0550e+00,  7.4830e+00,  6.1660e+00,  5.8030e+00,  6.9240e+00,\n",
      "          7.0260e+00,  5.9670e+00,  7.0020e+00,  1.0372e+01,  1.1509e+01,\n",
      "          1.1053e+01,  1.1197e+01,  1.2809e+01],\n",
      "        [ 9.9900e+02,  1.1669e+01,  1.4442e+01,  1.5318e+01,  1.4399e+01,\n",
      "          1.2981e+01,  1.1471e+01,  9.2150e+00,  9.2590e+00,  1.0493e+01,\n",
      "          1.3187e+01,  1.3635e+01,  1.3564e+01,  1.3789e+01,  1.4700e+01,\n",
      "          1.4723e+01,  1.4197e+01,  1.4199e+01,  1.4676e+01,  1.4402e+01,\n",
      "          1.4115e+01,  1.3147e+01,  1.3642e+01],\n",
      "        [ 9.9900e+02,  2.5280e+00,  2.0600e+00, -9.2400e-01, -1.0180e+00,\n",
      "         -1.9560e+00,  5.5200e-01,  9.3600e-01,  1.5090e+00,  2.9540e+00,\n",
      "          2.9800e+00,  4.7240e+00,  2.3050e+00,  2.6720e+00,  4.6240e+00,\n",
      "          5.1110e+00,  5.3300e+00,  4.0100e+00,  5.0790e+00,  6.4940e+00,\n",
      "          6.5770e+00,  6.3040e+00,  6.4810e+00],\n",
      "        [ 9.9900e+02,  1.2250e+00,  3.1500e-01,  7.4900e-01,  3.2700e-01,\n",
      "          7.7000e-01,  9.1000e-01,  8.0000e-03,  1.1770e+00,  3.5200e-01,\n",
      "         -3.4000e-01, -2.5360e+00, -3.2390e+00, -2.1880e+00, -1.5900e+00,\n",
      "         -2.1700e-01,  1.6800e+00,  1.5910e+00,  1.6650e+00,  2.2360e+00,\n",
      "          2.0150e+00,  1.2460e+00,  1.0820e+00],\n",
      "        [ 9.9900e+02,  6.2850e+00,  6.2850e+00,  6.8380e+00,  9.0280e+00,\n",
      "          1.2450e+01,  1.4010e+01,  1.5764e+01,  1.4994e+01,  1.4994e+01,\n",
      "          1.4076e+01,  1.4456e+01,  1.4456e+01,  1.3151e+01,  1.3411e+01,\n",
      "          1.1627e+01,  1.3204e+01,  1.3111e+01,  1.4730e+01,  1.4372e+01,\n",
      "          1.4732e+01,  1.4732e+01,  1.4047e+01],\n",
      "        [ 9.9900e+02,  9.9900e+02,  9.9900e+02,  9.9900e+02,  2.5980e+00,\n",
      "          2.1000e+00,  3.5540e+00,  6.8190e+00,  1.0556e+01,  1.2524e+01,\n",
      "          1.4186e+01,  1.4181e+01,  1.4821e+01,  1.4489e+01,  1.3974e+01,\n",
      "          1.3827e+01,  1.3632e+01,  1.4583e+01,  1.3802e+01,  1.4433e+01,\n",
      "          1.4948e+01,  1.5915e+01,  1.5915e+01],\n",
      "        [ 9.9900e+02,  9.9900e+02,  9.9900e+02,  9.9900e+02, -1.8510e+00,\n",
      "         -2.0670e+00, -9.0000e-03, -1.0600e-01,  1.7680e+00,  6.3700e-01,\n",
      "          3.3680e+00,  2.6460e+00,  3.6470e+00,  9.9900e+02,  9.9900e+02,\n",
      "          9.9900e+02,  9.9900e+02,  9.9900e+02,  9.9900e+02,  9.9900e+02,\n",
      "          6.1560e+00,  8.4970e+00,  1.1984e+01]])\n",
      "Batch shape,  torch.Size([10, 23])\n",
      "\n",
      "\n",
      "Embedding: \n",
      " torch.Size([10, 23, 1024])\n",
      "\n",
      "Z-scores: \n",
      " tensor([[ 9.9900e+02,  8.5100e-01,  8.1400e-01,  1.5800e+00,  4.5800e-01,\n",
      "         -1.4800e-01, -2.6430e+00, -2.0250e+00, -1.8310e+00,  3.2300e-01,\n",
      "          2.2670e+00,  8.4580e+00,  9.1890e+00,  1.0165e+01,  9.0550e+00,\n",
      "          1.0402e+01,  1.2085e+01,  1.1634e+01,  1.1259e+01,  1.0414e+01,\n",
      "          1.0806e+01,  1.1776e+01,  1.1854e+01],\n",
      "        [ 9.9900e+02,  4.2810e+00,  5.5000e+00,  4.4640e+00,  2.4990e+00,\n",
      "         -1.2470e+00, -1.9690e+00, -1.7520e+00, -1.8070e+00,  1.1800e-01,\n",
      "          2.0010e+00,  2.0840e+00,  9.6200e-01,  2.5210e+00,  2.6820e+00,\n",
      "          2.5940e+00, -1.9270e+00, -1.0000e+00, -1.2030e+00, -8.2100e-01,\n",
      "         -2.6750e+00, -2.6940e+00, -7.3900e-01],\n",
      "        [ 9.9900e+02,  4.3430e+00,  4.3210e+00,  2.8110e+00, -3.6100e-01,\n",
      "         -1.9180e+00, -2.5090e+00, -1.5130e+00, -4.2000e-01,  3.0620e+00,\n",
      "          3.5200e+00,  3.1210e+00, -1.7840e+00, -2.3390e+00, -2.5200e+00,\n",
      "         -2.4760e+00, -1.5710e+00,  7.9900e-01,  1.9950e+00,  2.4600e+00,\n",
      "          3.2850e+00,  2.8520e+00,  2.3600e+00],\n",
      "        [ 9.9900e+02,  9.9900e+02,  9.9900e+02,  9.9900e+02,  9.9900e+02,\n",
      "          9.9900e+02,  9.9900e+02,  9.9900e+02,  9.9900e+02,  9.9900e+02,\n",
      "          1.8020e+00,  1.3210e+00, -1.4750e+00,  2.7200e-01,  2.1440e+00,\n",
      "          8.2590e+00,  1.1899e+01,  1.4368e+01,  1.4126e+01,  1.3683e+01,\n",
      "          1.3538e+01,  1.2431e+01,  1.2969e+01],\n",
      "        [ 9.9900e+02,  1.9480e+00,  2.3510e+00,  2.4650e+00,  7.6710e+00,\n",
      "          1.1749e+01,  1.4488e+01,  1.3807e+01,  1.2782e+01,  1.2356e+01,\n",
      "          1.2990e+01,  1.3787e+01,  1.4386e+01,  1.4796e+01,  1.4763e+01,\n",
      "          1.5083e+01,  1.5367e+01,  1.3927e+01,  1.3927e+01,  1.3556e+01,\n",
      "          1.3536e+01,  1.0887e+01,  8.4240e+00],\n",
      "        [ 9.9900e+02,  6.8360e+00,  1.1285e+01,  1.3440e+01,  1.5234e+01,\n",
      "          1.5348e+01,  1.4210e+01,  1.3498e+01,  1.3116e+01,  1.3396e+01,\n",
      "          1.3086e+01,  1.2907e+01,  1.4444e+01,  1.5023e+01,  1.5196e+01,\n",
      "          1.4784e+01,  1.4979e+01,  1.5305e+01,  1.3552e+01,  1.3075e+01,\n",
      "          1.1644e+01,  1.3562e+01,  1.4516e+01],\n",
      "        [ 9.9900e+02,  9.9900e+02,  9.9900e+02,  3.5660e+00,  4.4210e+00,\n",
      "          4.6800e+00,  6.5170e+00,  8.3870e+00,  1.0649e+01,  1.2624e+01,\n",
      "          1.2689e+01,  1.2442e+01,  1.2995e+01,  1.4814e+01,  1.4983e+01,\n",
      "          1.4577e+01,  1.4577e+01,  1.4660e+01,  1.4491e+01,  1.4491e+01,\n",
      "          1.5611e+01,  1.5825e+01,  1.5616e+01],\n",
      "        [ 9.9900e+02,  3.8900e-01, -6.5000e-02,  5.0700e-01, -2.2900e-01,\n",
      "          1.4200e-01, -1.1370e+00, -6.9900e-01, -1.2760e+00, -6.5000e-01,\n",
      "          2.4460e+00,  3.7340e+00,  5.2610e+00,  5.2090e+00,  4.6750e+00,\n",
      "          2.9690e+00,  2.1570e+00,  1.5090e+00,  1.7090e+00, -4.3500e-01,\n",
      "         -6.0500e-01, -2.0000e-03,  2.1710e+00],\n",
      "        [ 9.9900e+02,  1.6950e+00,  1.6270e+00,  7.8700e-01,  1.7810e+00,\n",
      "          4.8420e+00,  7.5360e+00,  9.8390e+00,  1.1435e+01,  1.1540e+01,\n",
      "          1.2155e+01,  1.2536e+01,  1.4031e+01,  1.4260e+01,  1.4553e+01,\n",
      "          1.3623e+01,  1.3003e+01,  1.2549e+01,  1.2781e+01,  1.3512e+01,\n",
      "          1.2403e+01,  1.2711e+01,  1.1938e+01],\n",
      "        [ 9.9900e+02,  9.9900e+02,  9.9900e+02,  1.3400e-01, -1.7500e-01,\n",
      "         -5.7200e-01,  4.3810e+00,  4.4420e+00,  5.2230e+00,  1.3620e+00,\n",
      "          1.4840e+00,  1.6200e-01,  5.5100e-01,  4.1320e+00,  3.8840e+00,\n",
      "          4.8390e+00,  2.0310e+00,  2.5610e+00,  6.9900e-01,  9.9900e+02,\n",
      "          9.9900e+02,  9.9900e+02,  9.9900e+02]])\n",
      "Batch shape,  torch.Size([10, 23])\n",
      "\n",
      "\n",
      "\n",
      "Fold 2\n",
      "train -  793, avg_len - 23.00  |  val -  199, avg_len - 23.00\n",
      "test -  110, avg_len - 23.00\n",
      "Embedding: \n",
      " torch.Size([10, 23, 1024])\n",
      "\n",
      "Z-scores: \n",
      " tensor([[ 9.9900e+02,  2.3610e+00,  3.0030e+00,  3.2150e+00,  3.9990e+00,\n",
      "          4.5020e+00,  8.0410e+00,  8.7070e+00,  9.8340e+00,  7.3290e+00,\n",
      "          7.8280e+00,  5.9620e+00,  6.1380e+00,  9.0480e+00,  1.0389e+01,\n",
      "          1.2358e+01,  1.1586e+01,  1.1927e+01,  1.2826e+01,  1.2620e+01,\n",
      "          1.3134e+01,  1.2525e+01,  1.2999e+01],\n",
      "        [ 9.9900e+02,  9.9900e+02,  9.9900e+02,  9.9900e+02,  9.9900e+02,\n",
      "          9.9900e+02,  9.9900e+02,  9.9900e+02,  2.1760e+00,  1.2810e+00,\n",
      "          1.3920e+00,  4.4100e-01,  4.0090e+00,  3.9790e+00,  4.2790e+00,\n",
      "          1.4120e+00,  3.1460e+00,  3.5370e+00,  3.7280e+00,  1.8770e+00,\n",
      "          1.3320e+00,  2.6050e+00,  6.4840e+00],\n",
      "        [ 9.9900e+02,  5.8980e+00,  5.5380e+00,  2.3710e+00, -8.0900e-01,\n",
      "          4.6000e+00,  5.8250e+00,  9.4800e+00,  9.7260e+00,  1.0046e+01,\n",
      "          1.0936e+01,  1.2037e+01,  1.2778e+01,  1.3467e+01,  1.3112e+01,\n",
      "          1.4134e+01,  1.3189e+01,  1.3940e+01,  1.2863e+01,  1.2509e+01,\n",
      "          1.0923e+01,  1.0516e+01,  1.0369e+01],\n",
      "        [ 9.9900e+02,  8.4210e+00,  9.4550e+00,  1.1428e+01,  1.2167e+01,\n",
      "          1.3078e+01,  1.3965e+01,  1.3468e+01,  1.4536e+01,  1.4418e+01,\n",
      "          1.5518e+01,  1.4986e+01,  1.3638e+01,  1.0286e+01,  8.7550e+00,\n",
      "          8.8800e+00,  1.2463e+01,  1.4481e+01,  1.5482e+01,  1.4973e+01,\n",
      "          1.4756e+01,  1.5138e+01,  1.5084e+01],\n",
      "        [ 9.9900e+02,  8.3450e+00,  9.4430e+00,  9.8640e+00,  1.0862e+01,\n",
      "          1.2012e+01,  1.1529e+01,  1.2688e+01,  1.3660e+01,  1.4363e+01,\n",
      "          1.2723e+01,  1.2884e+01,  1.3497e+01,  1.4977e+01,  1.4414e+01,\n",
      "          1.3219e+01,  1.3570e+01,  1.4378e+01,  1.4909e+01,  1.4552e+01,\n",
      "          1.3669e+01,  1.3773e+01,  1.3981e+01],\n",
      "        [ 9.9900e+02,  3.3120e+00,  2.6250e+00, -9.1900e-01, -2.4680e+00,\n",
      "         -2.2970e+00, -1.9020e+00, -1.9020e+00,  1.3840e+00,  1.4670e+00,\n",
      "          2.5680e+00,  2.3040e+00,  4.9350e+00,  8.3100e+00,  9.7200e+00,\n",
      "          1.1830e+01,  1.3402e+01,  1.5056e+01,  1.4944e+01,  1.4944e+01,\n",
      "          1.4764e+01,  1.5199e+01,  1.5199e+01],\n",
      "        [ 9.9900e+02,  9.9900e+02,  6.2700e-01,  4.5100e-01,  5.3000e-01,\n",
      "          1.0000e-01,  9.9900e+02,  9.9900e+02, -6.2000e-02,  9.8100e-01,\n",
      "          2.6720e+00,  2.8930e+00,  2.0590e+00,  1.6760e+00,  1.0810e+00,\n",
      "          9.0000e-01, -2.1850e+00, -1.7640e+00, -9.3100e-01,  1.8530e+00,\n",
      "          1.8820e+00,  2.3270e+00,  2.7300e-01],\n",
      "        [ 9.9900e+02,  1.0757e+01,  1.3117e+01,  1.3955e+01,  1.2772e+01,\n",
      "          1.2691e+01,  1.2740e+01,  1.3563e+01,  1.2966e+01,  1.2606e+01,\n",
      "          1.3187e+01,  1.4043e+01,  1.4074e+01,  1.4013e+01,  1.3569e+01,\n",
      "          1.4133e+01,  1.4488e+01,  1.4738e+01,  1.4050e+01,  1.3487e+01,\n",
      "          1.4037e+01,  1.4459e+01,  1.3373e+01],\n",
      "        [ 9.9900e+02,  9.9900e+02,  9.9900e+02,  7.8840e+00,  8.4180e+00,\n",
      "          6.0680e+00,  5.2930e+00,  4.0530e+00,  6.1830e+00,  7.8640e+00,\n",
      "          8.1660e+00,  8.3150e+00,  1.0268e+01,  1.3363e+01,  1.4857e+01,\n",
      "          1.4803e+01,  1.4412e+01,  1.3978e+01,  1.4197e+01,  1.4686e+01,\n",
      "          1.4686e+01,  1.4574e+01,  1.4364e+01],\n",
      "        [ 9.9900e+02,  9.9900e+02, -1.9170e+00, -2.0830e+00,  2.4370e+00,\n",
      "          3.3540e+00,  3.7500e+00,  7.7500e-01,  1.3600e-01,  9.9900e+02,\n",
      "          9.9900e+02,  3.1860e+00,  2.1910e+00,  2.0870e+00, -2.3100e-01,\n",
      "          2.3300e-01, -3.1400e-01,  9.9900e+02,  9.9900e+02,  9.9900e+02,\n",
      "          1.2280e+00,  1.3100e-01, -9.2600e-01]])\n",
      "Batch shape,  torch.Size([10, 23])\n",
      "\n",
      "\n",
      "Embedding: \n",
      " torch.Size([10, 23, 1024])\n",
      "\n",
      "Z-scores: \n",
      " tensor([[ 9.9900e+02,  3.7400e-01,  4.1440e+00,  4.5360e+00,  4.2390e+00,\n",
      "          8.7800e-01,  8.3300e-01,  1.5820e+00,  1.4620e+00,  2.1580e+00,\n",
      "          3.0940e+00,  4.0130e+00,  4.7140e+00,  4.6570e+00,  4.5700e+00,\n",
      "          3.5880e+00,  3.2120e+00,  3.1630e+00,  3.5750e+00,  3.3200e+00,\n",
      "          2.6770e+00,  9.5900e-01,  8.7000e-02],\n",
      "        [ 9.9900e+02,  9.9900e+02,  6.8000e-02,  9.1400e-01,  8.5000e-01,\n",
      "          1.1160e+00, -7.6000e-02, -3.1500e-01, -1.6480e+00, -1.6650e+00,\n",
      "         -2.0950e+00, -1.9300e+00, -2.3630e+00, -2.4350e+00, -9.5700e-01,\n",
      "         -3.1600e-01,  7.1400e-01, -2.6100e-01, -6.5000e-02, -7.4100e-01,\n",
      "          3.5800e-01, -3.9000e-01,  3.0000e-02],\n",
      "        [ 9.9900e+02,  3.1770e+00,  3.4620e+00,  2.5790e+00,  1.4800e-01,\n",
      "         -9.5000e-01, -6.7000e-02,  4.3000e-01,  1.7260e+00,  2.8110e+00,\n",
      "          4.4000e+00,  5.7090e+00,  4.7370e+00,  3.7260e+00,  4.9500e-01,\n",
      "         -7.9000e-02, -1.2980e+00, -8.6900e-01, -2.6000e-01,  1.0400e-01,\n",
      "          5.0800e-01,  3.7930e+00,  5.6160e+00],\n",
      "        [ 9.9900e+02,  9.9900e+02,  9.9900e+02,  9.9900e+02,  9.9900e+02,\n",
      "          9.9900e+02,  9.9900e+02,  2.3000e-02, -3.5700e-01, -2.0310e+00,\n",
      "         -1.2850e+00, -3.2180e+00, -1.5400e-01,  1.0550e+00,  4.9170e+00,\n",
      "          9.7120e+00,  1.1746e+01,  1.3319e+01,  1.3852e+01,  1.4482e+01,\n",
      "          1.4764e+01,  1.3911e+01,  1.2869e+01],\n",
      "        [ 9.9900e+02,  5.2000e+00,  7.3800e+00,  9.4550e+00,  9.9620e+00,\n",
      "          1.0277e+01,  6.8120e+00,  6.7410e+00,  3.6900e+00,  7.3270e+00,\n",
      "          9.5900e+00,  1.3328e+01,  1.3737e+01,  1.4045e+01,  1.2217e+01,\n",
      "          1.2126e+01,  1.2256e+01,  1.2596e+01,  1.1377e+01,  8.0490e+00,\n",
      "          4.1710e+00,  1.3020e+00,  2.0860e+00],\n",
      "        [ 9.9900e+02,  2.7290e+00,  3.1500e+00,  5.8170e+00,  7.7570e+00,\n",
      "          1.0147e+01,  1.2597e+01,  1.4214e+01,  1.4605e+01,  1.3720e+01,\n",
      "          1.3558e+01,  1.3297e+01,  1.2341e+01,  1.3059e+01,  1.3137e+01,\n",
      "          1.3964e+01,  1.2668e+01,  1.3672e+01,  1.4502e+01,  1.5046e+01,\n",
      "          1.5005e+01,  1.3903e+01,  1.3807e+01],\n",
      "        [ 9.9900e+02,  7.6600e+00,  1.1039e+01,  1.2112e+01,  1.2815e+01,\n",
      "          1.2395e+01,  1.4109e+01,  1.3989e+01,  1.4677e+01,  1.4876e+01,\n",
      "          1.4499e+01,  1.3623e+01,  1.2478e+01,  1.3417e+01,  1.4291e+01,\n",
      "          1.4070e+01,  1.3493e+01,  1.3531e+01,  1.4799e+01,  1.5263e+01,\n",
      "          1.4477e+01,  1.2477e+01,  1.1992e+01],\n",
      "        [ 9.9900e+02,  2.6400e+00,  4.1840e+00,  2.4800e+00,  4.0470e+00,\n",
      "          3.5530e+00,  3.5680e+00,  1.2210e+00, -1.7140e+00,  1.5330e+00,\n",
      "          3.4680e+00,  3.4430e+00,  1.2210e+00, -1.7140e+00,  1.5330e+00,\n",
      "          3.4680e+00,  3.4430e+00,  1.2210e+00, -1.7140e+00,  1.5330e+00,\n",
      "          3.4680e+00,  3.4430e+00,  1.2210e+00],\n",
      "        [ 9.9900e+02,  9.9900e+02,  9.9900e+02,  9.9900e+02,  7.4240e+00,\n",
      "          1.1525e+01,  1.3861e+01,  1.5392e+01,  1.5635e+01,  1.4507e+01,\n",
      "          1.3663e+01,  1.3214e+01,  1.4917e+01,  1.5763e+01,  1.5323e+01,\n",
      "          1.4871e+01,  1.4197e+01,  1.4506e+01,  1.4459e+01,  1.4024e+01,\n",
      "          1.4174e+01,  1.3803e+01,  1.3997e+01],\n",
      "        [ 9.9900e+02,  2.4990e+00,  2.0860e+00,  2.3400e+00, -1.0300e-01,\n",
      "          6.5000e-01,  7.9300e-01,  1.8370e+00,  1.1080e+00,  2.0750e+00,\n",
      "          1.8700e+00,  2.3900e+00,  2.4730e+00,  2.2020e+00,  3.5410e+00,\n",
      "          2.3960e+00,  2.3800e+00, -3.3300e-01,  7.6200e-01,  4.9000e-02,\n",
      "          5.1000e-02, -1.1910e+00, -1.4960e+00]])\n",
      "Batch shape,  torch.Size([10, 23])\n",
      "\n",
      "\n",
      "\n",
      "Fold 3\n",
      "train -  793, avg_len - 23.00  |  val -  199, avg_len - 23.00\n",
      "test -  110, avg_len - 23.00\n",
      "Embedding: \n",
      " torch.Size([10, 23, 1024])\n",
      "\n",
      "Z-scores: \n",
      " tensor([[ 9.9900e+02,  8.5100e-01,  8.1400e-01,  1.5800e+00,  4.5800e-01,\n",
      "         -1.4800e-01, -2.6430e+00, -2.0250e+00, -1.8310e+00,  3.2300e-01,\n",
      "          2.2670e+00,  8.4580e+00,  9.1890e+00,  1.0165e+01,  9.0550e+00,\n",
      "          1.0402e+01,  1.2085e+01,  1.1634e+01,  1.1259e+01,  1.0414e+01,\n",
      "          1.0806e+01,  1.1776e+01,  1.1854e+01],\n",
      "        [ 9.9900e+02,  8.6880e+00,  9.4290e+00,  8.3810e+00,  5.1810e+00,\n",
      "          4.1610e+00,  2.8780e+00,  4.9210e+00,  4.5340e+00,  3.8570e+00,\n",
      "          9.3400e-01, -5.9800e-01,  1.8340e+00,  1.2770e+00,  1.5770e+00,\n",
      "         -1.1990e+00, -1.4000e+00, -2.2390e+00, -2.2270e+00, -1.6670e+00,\n",
      "         -1.1460e+00,  1.0990e+00,  3.8960e+00],\n",
      "        [ 9.9900e+02,  9.9900e+02,  9.9900e+02,  9.9900e+02,  9.9900e+02,\n",
      "          2.6000e+00,  2.2250e+00,  2.1100e+00, -3.5600e-01,  5.3500e-01,\n",
      "          2.8000e-02,  3.5400e-01,  1.8820e+00,  1.8710e+00,  1.7110e+00,\n",
      "          1.8200e-01,  2.6770e+00,  5.6010e+00,  9.5110e+00,  1.2314e+01,\n",
      "          1.3879e+01,  1.4772e+01,  1.4841e+01],\n",
      "        [ 9.9900e+02,  9.9900e+02,  9.9900e+02,  9.9900e+02,  9.9900e+02,\n",
      "          9.9900e+02,  7.2190e+00,  1.0600e+01,  1.3018e+01,  1.4330e+01,\n",
      "          1.4832e+01,  1.5648e+01,  1.5794e+01,  1.5772e+01,  1.5419e+01,\n",
      "          1.4561e+01,  1.4692e+01,  1.5060e+01,  1.5894e+01,  1.4881e+01,\n",
      "          1.1630e+01,  7.0220e+00,  7.2420e+00],\n",
      "        [ 9.9900e+02,  4.0500e+00,  4.0130e+00,  2.8700e-01,  1.2120e+00,\n",
      "          1.5210e+00,  3.5220e+00,  5.3750e+00,  6.3860e+00,  6.1900e+00,\n",
      "          4.9850e+00,  3.1720e+00,  1.4070e+00, -3.3600e-01,  1.8000e+00,\n",
      "          7.3280e+00,  7.6760e+00,  6.6560e+00, -3.5700e-01, -1.7670e+00,\n",
      "         -2.3630e+00, -2.3340e+00,  1.0900e-01],\n",
      "        [ 9.9900e+02,  9.9900e+02,  6.2700e-01,  4.5100e-01,  5.3000e-01,\n",
      "          1.0000e-01,  9.9900e+02,  9.9900e+02, -6.2000e-02,  9.8100e-01,\n",
      "          2.6720e+00,  2.8930e+00,  2.0590e+00,  1.6760e+00,  1.0810e+00,\n",
      "          9.0000e-01, -2.1850e+00, -1.7640e+00, -9.3100e-01,  1.8530e+00,\n",
      "          1.8820e+00,  2.3270e+00,  2.7300e-01],\n",
      "        [ 9.9900e+02,  4.3370e+00,  6.5620e+00,  9.3710e+00,  1.3191e+01,\n",
      "          1.4544e+01,  1.5125e+01,  1.5036e+01,  1.5832e+01,  1.5616e+01,\n",
      "          1.5073e+01,  1.4042e+01,  1.4068e+01,  1.4218e+01,  1.4928e+01,\n",
      "          1.4930e+01,  1.4963e+01,  1.4802e+01,  1.5247e+01,  1.5379e+01,\n",
      "          1.5350e+01,  1.4345e+01,  1.3772e+01],\n",
      "        [ 9.9900e+02,  1.1238e+01,  1.4347e+01,  1.4407e+01,  1.5479e+01,\n",
      "          1.5069e+01,  1.5049e+01,  1.4728e+01,  1.5351e+01,  1.5836e+01,\n",
      "          1.5314e+01,  1.4483e+01,  1.4265e+01,  1.4881e+01,  1.5706e+01,\n",
      "          1.5343e+01,  1.5282e+01,  1.3804e+01,  1.4089e+01,  1.3681e+01,\n",
      "          1.3809e+01,  1.2487e+01,  1.1663e+01],\n",
      "        [ 9.9900e+02,  6.0850e+00,  7.2200e+00,  5.3250e+00,  3.7440e+00,\n",
      "          2.9590e+00,  3.8060e+00,  5.5400e+00,  6.0360e+00,  8.8050e+00,\n",
      "          1.1638e+01,  1.2653e+01,  1.3606e+01,  1.3562e+01,  1.3900e+01,\n",
      "          1.1592e+01,  1.1918e+01,  1.3493e+01,  1.5589e+01,  1.5343e+01,\n",
      "          1.4927e+01,  1.4691e+01,  1.5132e+01],\n",
      "        [ 9.9900e+02,  9.9900e+02,  2.7300e+00,  2.7300e+00,  8.4400e-01,\n",
      "          2.4460e+00,  2.1800e+00,  2.2470e+00,  1.1100e-01, -8.2800e-01,\n",
      "         -3.1900e+00, -2.8650e+00, -3.3280e+00, -1.9290e+00, -2.3290e+00,\n",
      "         -1.4540e+00, -1.7080e+00, -1.0450e+00, -1.5600e-01, -1.5600e-01,\n",
      "         -3.2800e-01, -2.8370e+00, -3.8580e+00]])\n",
      "Batch shape,  torch.Size([10, 23])\n",
      "\n",
      "\n",
      "Embedding: \n",
      " torch.Size([10, 23, 1024])\n",
      "\n",
      "Z-scores: \n",
      " tensor([[ 9.9900e+02,  8.1280e+00,  1.0246e+01,  1.1111e+01,  1.0325e+01,\n",
      "          9.4340e+00,  7.8870e+00,  8.3440e+00,  9.1460e+00,  1.0323e+01,\n",
      "          8.8410e+00,  8.0940e+00,  8.4400e+00,  8.6930e+00,  1.0311e+01,\n",
      "          1.0472e+01,  1.2578e+01,  1.3224e+01,  1.3714e+01,  1.3368e+01,\n",
      "          1.2499e+01,  1.1314e+01,  1.0864e+01],\n",
      "        [ 9.9900e+02,  9.9900e+02,  9.9900e+02,  9.9900e+02,  9.9900e+02,\n",
      "          9.9900e+02,  9.9900e+02,  9.9900e+02,  9.9900e+02,  9.9900e+02,\n",
      "         -6.3700e-01,  2.3870e+00,  2.3960e+00,  3.2800e+00,  2.5790e+00,\n",
      "          2.1010e+00,  1.4010e+00, -1.5180e+00, -2.7130e+00, -4.0060e+00,\n",
      "         -3.7670e+00, -7.9000e-01, -4.1200e-01],\n",
      "        [ 9.9900e+02,  1.0585e+01,  1.3870e+01,  1.4505e+01,  1.3877e+01,\n",
      "          1.3187e+01,  1.1134e+01,  1.2907e+01,  1.1027e+01,  1.2347e+01,\n",
      "          1.2707e+01,  1.4884e+01,  1.5764e+01,  1.5634e+01,  1.4473e+01,\n",
      "          1.3055e+01,  1.2388e+01,  1.3649e+01,  1.4273e+01,  1.4777e+01,\n",
      "          1.5052e+01,  1.5851e+01,  1.5584e+01],\n",
      "        [ 9.9900e+02,  5.8970e+00,  7.4740e+00,  8.3360e+00,  8.6400e+00,\n",
      "          8.6340e+00,  1.0050e+01,  1.2374e+01,  1.2629e+01,  1.1906e+01,\n",
      "          1.1382e+01,  1.2221e+01,  1.2613e+01,  1.2623e+01,  1.3061e+01,\n",
      "          1.3128e+01,  1.3506e+01,  1.3763e+01,  1.4030e+01,  1.3820e+01,\n",
      "          1.2988e+01,  1.2518e+01,  1.1928e+01],\n",
      "        [ 9.9900e+02,  5.6570e+00,  6.3160e+00,  5.6620e+00,  7.5120e+00,\n",
      "          7.7950e+00,  9.3810e+00,  1.1291e+01,  1.3440e+01,  1.4704e+01,\n",
      "          1.4339e+01,  1.5146e+01,  1.3008e+01,  1.3149e+01,  1.2069e+01,\n",
      "          1.4342e+01,  1.3339e+01,  1.3170e+01,  1.2481e+01,  1.3511e+01,\n",
      "          1.3638e+01,  1.3727e+01,  1.3643e+01],\n",
      "        [ 9.9900e+02,  9.9900e+02,  3.6900e-01,  1.6300e-01,  5.4600e-01,\n",
      "         -3.0500e-01, -9.9500e-01, -2.0950e+00, -2.0600e-01,  2.8480e+00,\n",
      "          5.6360e+00,  9.4770e+00,  1.1815e+01,  1.3791e+01,  1.3639e+01,\n",
      "          1.2446e+01,  1.1763e+01,  1.2489e+01,  1.2946e+01,  1.2951e+01,\n",
      "          1.1155e+01,  1.1788e+01,  1.1836e+01],\n",
      "        [ 9.9900e+02,  3.1770e+00,  3.4620e+00,  2.5790e+00,  1.4800e-01,\n",
      "         -9.5000e-01, -6.7000e-02,  4.3000e-01,  1.7260e+00,  2.8110e+00,\n",
      "          4.4000e+00,  5.7090e+00,  4.7370e+00,  3.7260e+00,  4.9500e-01,\n",
      "         -7.9000e-02, -1.2980e+00, -8.6900e-01, -2.6000e-01,  1.0400e-01,\n",
      "          5.0800e-01,  3.7930e+00,  5.6160e+00],\n",
      "        [ 9.9900e+02,  1.2248e+01,  1.4702e+01,  1.3897e+01,  1.4209e+01,\n",
      "          1.2841e+01,  1.3083e+01,  1.2366e+01,  1.4030e+01,  1.1842e+01,\n",
      "          1.1206e+01,  1.1412e+01,  1.3787e+01,  1.5372e+01,  1.4860e+01,\n",
      "          1.4912e+01,  1.2633e+01,  1.1349e+01,  1.0424e+01,  1.1556e+01,\n",
      "          1.3698e+01,  1.4811e+01,  1.5611e+01],\n",
      "        [ 9.9900e+02,  9.1000e-02, -7.6200e-01, -8.1000e-01,  6.8600e-01,\n",
      "          2.4840e+00,  3.9450e+00,  3.4520e+00,  2.4180e+00,  1.3330e+00,\n",
      "          2.7620e+00,  3.1060e+00,  2.8970e+00,  1.5040e+00,  1.5720e+00,\n",
      "          1.1160e+00,  2.8920e+00,  2.8660e+00,  5.1290e+00,  8.2020e+00,\n",
      "          1.1365e+01,  1.3169e+01,  1.3506e+01],\n",
      "        [ 9.9900e+02,  9.9900e+02,  9.9900e+02,  9.9900e+02,  9.9900e+02,\n",
      "          9.9900e+02,  9.9900e+02,  9.9900e+02,  9.9900e+02,  9.9900e+02,\n",
      "          9.9900e+02,  3.1550e+00,  2.4820e+00,  9.1300e-01, -1.4240e+00,\n",
      "         -1.0660e+00, -1.9890e+00, -1.9890e+00,  5.3770e+00,  1.1046e+01,\n",
      "          1.3512e+01,  1.3467e+01,  1.3467e+01]])\n",
      "Batch shape,  torch.Size([10, 23])\n",
      "\n",
      "\n",
      "\n",
      "Fold 4\n",
      "train -  793, avg_len - 23.00  |  val -  199, avg_len - 23.00\n",
      "test -  110, avg_len - 23.00\n",
      "Embedding: \n",
      " torch.Size([10, 23, 1024])\n",
      "\n",
      "Z-scores: \n",
      " tensor([[ 9.9900e+02,  7.2600e-01, -2.7300e-01,  5.4640e+00,  5.0420e+00,\n",
      "          6.1000e+00,  1.4580e+00,  1.0120e+00,  4.3900e-01,  5.2800e-01,\n",
      "          1.9120e+00,  1.1460e+00,  2.9540e+00,  1.9590e+00,  1.4910e+00,\n",
      "          6.8000e-01,  4.3300e+00,  6.8230e+00,  8.7160e+00,  9.4450e+00,\n",
      "          1.2029e+01,  1.3725e+01,  1.5187e+01],\n",
      "        [ 9.9900e+02,  4.3800e+00,  5.2880e+00,  4.3700e+00,  3.3630e+00,\n",
      "          1.8620e+00,  7.8300e-01,  6.0100e-01,  1.4000e-02,  9.8600e-01,\n",
      "          2.7200e-01,  1.1280e+00,  1.3740e+00,  2.0620e+00,  1.0200e+00,\n",
      "         -6.5900e-01, -1.4420e+00,  3.8000e-02,  4.2200e-01, -5.6000e-02,\n",
      "         -1.1150e+00, -4.2700e-01,  6.6500e-01],\n",
      "        [ 9.9900e+02,  1.3490e+00,  1.2490e+00,  1.1160e+00,  2.4420e+00,\n",
      "          4.1010e+00,  6.1680e+00,  6.3850e+00,  6.7820e+00,  6.9150e+00,\n",
      "          6.3790e+00,  5.1560e+00,  3.7800e+00,  3.9090e+00,  3.1520e+00,\n",
      "          9.3100e-01,  1.5990e+00,  2.9020e+00,  3.7240e+00,  1.3160e+00,\n",
      "          1.9530e+00,  2.0830e+00,  2.4140e+00],\n",
      "        [ 9.9900e+02,  9.9900e+02,  9.9900e+02,  9.9900e+02,  2.5980e+00,\n",
      "          2.1000e+00,  3.5540e+00,  6.8190e+00,  1.0556e+01,  1.2524e+01,\n",
      "          1.4186e+01,  1.4181e+01,  1.4821e+01,  1.4489e+01,  1.3974e+01,\n",
      "          1.3827e+01,  1.3632e+01,  1.4583e+01,  1.3802e+01,  1.4433e+01,\n",
      "          1.4948e+01,  1.5915e+01,  1.5915e+01],\n",
      "        [ 9.9900e+02,  5.2200e+00,  5.9730e+00,  3.9790e+00,  3.7490e+00,\n",
      "          2.3350e+00,  2.2720e+00,  3.9940e+00,  5.2070e+00,  4.6520e+00,\n",
      "          4.3710e+00,  4.0790e+00,  6.2390e+00,  5.5290e+00,  4.3270e+00,\n",
      "          3.4490e+00,  5.4990e+00,  5.7900e+00,  4.8920e+00,  3.6670e+00,\n",
      "          4.5910e+00,  4.8330e+00,  4.8250e+00],\n",
      "        [ 9.9900e+02,  9.9900e+02, -8.7000e-02, -8.0400e-01, -1.7660e+00,\n",
      "         -3.2590e+00, -3.1170e+00, -2.5200e+00,  1.1280e+00,  2.9730e+00,\n",
      "          3.1870e+00,  1.8770e+00, -6.0000e-02, -2.5200e-01,  8.3100e-01,\n",
      "          1.5950e+00,  1.7380e+00,  7.4700e-01, -6.0200e-01, -7.4300e-01,\n",
      "         -1.7000e+00, -1.3600e+00, -1.2050e+00],\n",
      "        [ 9.9900e+02,  3.6060e+00,  6.8510e+00,  1.0880e+01,  1.2429e+01,\n",
      "          1.1962e+01,  9.8950e+00,  1.0648e+01,  1.3188e+01,  1.4905e+01,\n",
      "          1.5686e+01,  1.5377e+01,  1.3977e+01,  1.2979e+01,  1.1797e+01,\n",
      "          1.2418e+01,  1.2450e+01,  1.2518e+01,  1.4027e+01,  1.4302e+01,\n",
      "          1.5431e+01,  1.4416e+01,  1.4707e+01],\n",
      "        [ 9.9900e+02,  7.3800e+00,  1.1213e+01,  1.4209e+01,  1.5690e+01,\n",
      "          1.5403e+01,  1.4805e+01,  1.3908e+01,  1.2860e+01,  1.3448e+01,\n",
      "          1.3813e+01,  1.5523e+01,  1.5492e+01,  1.5749e+01,  1.5408e+01,\n",
      "          1.5272e+01,  1.4976e+01,  1.4935e+01,  1.5187e+01,  1.3977e+01,\n",
      "          1.4146e+01,  1.3704e+01,  1.4184e+01],\n",
      "        [ 9.9900e+02,  2.3070e+00,  2.7180e+00,  3.6040e+00,  3.6640e+00,\n",
      "          3.4170e+00,  1.2560e+00,  9.1000e-02,  1.6340e+00,  1.5000e+00,\n",
      "          2.3470e+00,  2.6000e-02,  1.1650e+00,  5.5030e+00,  1.0107e+01,\n",
      "          1.3439e+01,  1.4332e+01,  1.4108e+01,  1.3085e+01,  1.3208e+01,\n",
      "          1.2511e+01,  1.3898e+01,  1.4233e+01],\n",
      "        [ 9.9900e+02,  9.9900e+02,  9.9900e+02,  9.9900e+02,  1.0300e-01,\n",
      "         -7.4200e-01, -7.0200e-01, -1.7880e+00, -7.0200e-01, -7.7800e-01,\n",
      "         -2.6400e-01, -9.5700e-01, -6.7700e-01, -1.4980e+00,  8.7000e-02,\n",
      "          5.4000e-02,  2.5300e-01, -5.8100e-01, -1.0400e+00, -1.3970e+00,\n",
      "         -2.7400e+00, -2.4770e+00, -2.2140e+00]])\n",
      "Batch shape,  torch.Size([10, 23])\n",
      "\n",
      "\n",
      "Embedding: \n",
      " torch.Size([10, 23, 1024])\n",
      "\n",
      "Z-scores: \n",
      " tensor([[ 9.9900e+02,  3.9120e+00,  4.2910e+00,  1.5360e+00,  3.2410e+00,\n",
      "          5.7540e+00,  8.3080e+00,  8.6160e+00,  6.5380e+00,  5.5230e+00,\n",
      "          4.4330e+00,  4.4360e+00,  3.6560e+00,  4.9910e+00,  6.3070e+00,\n",
      "          6.6140e+00,  8.5220e+00,  1.0067e+01,  1.1805e+01,  1.1966e+01,\n",
      "          1.2208e+01,  1.2216e+01,  1.3533e+01],\n",
      "        [ 9.9900e+02,  9.9900e+02,  9.9900e+02,  9.9900e+02,  9.9900e+02,\n",
      "          9.9900e+02,  9.9900e+02,  9.9900e+02,  9.9900e+02,  9.9900e+02,\n",
      "         -6.3700e-01,  2.3870e+00,  2.3960e+00,  3.2800e+00,  2.5790e+00,\n",
      "          2.1010e+00,  1.4010e+00, -1.5180e+00, -2.7130e+00, -4.0060e+00,\n",
      "         -3.7670e+00, -7.9000e-01, -4.1200e-01],\n",
      "        [ 9.9900e+02,  1.0516e+01,  1.4019e+01,  1.4181e+01,  1.4685e+01,\n",
      "          1.4293e+01,  1.4883e+01,  1.4003e+01,  1.3794e+01,  1.4082e+01,\n",
      "          1.4318e+01,  1.3942e+01,  1.3882e+01,  1.2715e+01,  1.3585e+01,\n",
      "          1.2193e+01,  1.3541e+01,  1.3487e+01,  1.4908e+01,  1.3727e+01,\n",
      "          1.3703e+01,  1.3787e+01,  1.5093e+01],\n",
      "        [ 9.9900e+02,  9.1110e+00,  1.2223e+01,  1.2510e+01,  1.3136e+01,\n",
      "          1.3857e+01,  1.5235e+01,  1.5106e+01,  1.4173e+01,  1.3015e+01,\n",
      "          1.3243e+01,  1.3735e+01,  1.2383e+01,  1.1833e+01,  1.2025e+01,\n",
      "          1.2563e+01,  1.3049e+01,  1.3394e+01,  1.5019e+01,  1.5152e+01,\n",
      "          1.4114e+01,  1.3011e+01,  1.3531e+01],\n",
      "        [ 9.9900e+02,  1.1433e+01,  1.4129e+01,  1.4755e+01,  1.5017e+01,\n",
      "          1.4798e+01,  1.4528e+01,  1.4533e+01,  1.5331e+01,  1.5179e+01,\n",
      "          1.4438e+01,  1.3916e+01,  1.4456e+01,  1.5401e+01,  1.5881e+01,\n",
      "          1.5352e+01,  1.5145e+01,  1.4826e+01,  1.4606e+01,  1.5105e+01,\n",
      "          1.4930e+01,  1.5680e+01,  1.4804e+01],\n",
      "        [ 9.9900e+02,  5.5780e+00,  5.3020e+00,  1.2070e+00,  1.5000e-01,\n",
      "          9.1600e-01,  3.7710e+00,  5.8540e+00,  6.5220e+00,  4.5500e+00,\n",
      "          4.5640e+00,  5.0790e+00,  9.1330e+00,  1.0156e+01,  1.2223e+01,\n",
      "          1.2494e+01,  1.3137e+01,  1.3770e+01,  1.4790e+01,  1.5167e+01,\n",
      "          1.4897e+01,  1.4721e+01,  1.5452e+01],\n",
      "        [ 9.9900e+02,  9.9900e+02,  9.9900e+02,  9.9900e+02,  3.0030e+00,\n",
      "          3.9010e+00,  3.6650e+00,  1.2710e+00, -2.5200e+00, -1.1870e+00,\n",
      "          1.9000e-01,  6.9000e-02,  8.5700e-01,  8.4300e-01,  7.7800e-01,\n",
      "          1.6840e+00,  1.6840e+00,  1.2920e+00, -4.2700e-01, -4.2700e-01,\n",
      "          6.9300e-01, -1.6510e+00, -1.2180e+00],\n",
      "        [ 9.9900e+02,  5.4110e+00,  9.2160e+00,  1.2631e+01,  1.3705e+01,\n",
      "          1.4286e+01,  1.4091e+01,  1.4358e+01,  1.2507e+01,  1.1890e+01,\n",
      "          1.2324e+01,  1.3305e+01,  1.2442e+01,  1.2135e+01,  1.1492e+01,\n",
      "          1.1517e+01,  9.1310e+00,  8.9070e+00,  9.3830e+00,  1.2024e+01,\n",
      "          1.3650e+01,  1.4521e+01,  1.3904e+01],\n",
      "        [ 9.9900e+02,  9.1000e-02, -7.6200e-01, -8.1000e-01,  6.8600e-01,\n",
      "          2.4840e+00,  3.9450e+00,  3.4520e+00,  2.4180e+00,  1.3330e+00,\n",
      "          2.7620e+00,  3.1060e+00,  2.8970e+00,  1.5040e+00,  1.5720e+00,\n",
      "          1.1160e+00,  2.8920e+00,  2.8660e+00,  5.1290e+00,  8.2020e+00,\n",
      "          1.1365e+01,  1.3169e+01,  1.3506e+01],\n",
      "        [ 9.9900e+02,  9.9900e+02,  9.9900e+02,  9.9900e+02,  9.9900e+02,\n",
      "         -4.2600e-01,  1.6200e-01,  6.5800e-01,  5.1500e-01,  3.5300e-01,\n",
      "         -5.2200e-01, -1.1000e+00, -1.2910e+00,  1.0660e+00,  1.3920e+00,\n",
      "          2.1310e+00,  4.9500e-01,  4.1200e-01, -1.5330e+00, -9.8200e-01,\n",
      "          4.7850e+00,  9.4630e+00,  1.2073e+01]])\n",
      "Batch shape,  torch.Size([10, 23])\n",
      "\n",
      "\n",
      "\n",
      "Fold 5\n",
      "train -  793, avg_len - 23.00  |  val -  199, avg_len - 23.00\n",
      "test -  110, avg_len - 23.00\n",
      "Embedding: \n",
      " torch.Size([10, 23, 1024])\n",
      "\n",
      "Z-scores: \n",
      " tensor([[ 9.9900e+02,  9.9900e+02,  2.3970e+00,  1.8360e+00,  7.4000e-01,\n",
      "          1.3970e+00,  2.6670e+00,  2.6040e+00,  3.4950e+00,  3.6710e+00,\n",
      "          4.5570e+00,  3.9520e+00,  3.1510e+00,  1.8230e+00,  3.9100e+00,\n",
      "          7.0400e+00,  1.0548e+01,  1.3290e+01,  1.4885e+01,  1.5199e+01,\n",
      "          1.4714e+01,  1.4490e+01,  1.4199e+01],\n",
      "        [ 9.9900e+02,  4.3800e+00,  5.2880e+00,  4.3700e+00,  3.3630e+00,\n",
      "          1.8620e+00,  7.8300e-01,  6.0100e-01,  1.4000e-02,  9.8600e-01,\n",
      "          2.7200e-01,  1.1280e+00,  1.3740e+00,  2.0620e+00,  1.0200e+00,\n",
      "         -6.5900e-01, -1.4420e+00,  3.8000e-02,  4.2200e-01, -5.6000e-02,\n",
      "         -1.1150e+00, -4.2700e-01,  6.6500e-01],\n",
      "        [ 9.9900e+02,  7.3500e-01,  1.0680e+00,  7.0700e-01,  9.6700e-01,\n",
      "          1.4440e+00,  1.1710e+00,  2.0060e+00,  2.7410e+00,  3.7880e+00,\n",
      "          2.7070e+00,  8.0300e-01,  9.2300e-01,  2.0210e+00,  2.4060e+00,\n",
      "          2.8500e+00,  4.0510e+00,  4.6940e+00,  4.9950e+00,  6.9420e+00,\n",
      "          7.1900e+00,  6.4900e+00,  3.4880e+00],\n",
      "        [ 9.9900e+02,  9.9900e+02,  9.9900e+02,  9.9900e+02,  4.4200e-01,\n",
      "          1.7000e-02, -3.7100e-01, -2.1200e-01,  1.3820e+00,  2.7160e+00,\n",
      "          2.5510e+00,  4.0930e+00,  9.3380e+00,  1.2902e+01,  1.5011e+01,\n",
      "          1.5183e+01,  1.5375e+01,  1.5370e+01,  1.4480e+01,  1.4705e+01,\n",
      "          1.4734e+01,  1.4182e+01,  1.3674e+01],\n",
      "        [ 9.9900e+02,  5.2200e+00,  5.9730e+00,  3.9790e+00,  3.7490e+00,\n",
      "          2.3350e+00,  2.2720e+00,  3.9940e+00,  5.2070e+00,  4.6520e+00,\n",
      "          4.3710e+00,  4.0790e+00,  6.2390e+00,  5.5290e+00,  4.3270e+00,\n",
      "          3.4490e+00,  5.4990e+00,  5.7900e+00,  4.8920e+00,  3.6670e+00,\n",
      "          4.5910e+00,  4.8330e+00,  4.8250e+00],\n",
      "        [ 9.9900e+02,  1.2250e+00,  3.1500e-01,  7.4900e-01,  3.2700e-01,\n",
      "          7.7000e-01,  9.1000e-01,  8.0000e-03,  1.1770e+00,  3.5200e-01,\n",
      "         -3.4000e-01, -2.5360e+00, -3.2390e+00, -2.1880e+00, -1.5900e+00,\n",
      "         -2.1700e-01,  1.6800e+00,  1.5910e+00,  1.6650e+00,  2.2360e+00,\n",
      "          2.0150e+00,  1.2460e+00,  1.0820e+00],\n",
      "        [ 9.9900e+02,  3.2780e+00,  5.7370e+00,  1.0104e+01,  9.7620e+00,\n",
      "          8.7790e+00,  3.6780e+00,  3.9500e+00,  5.8250e+00,  7.5240e+00,\n",
      "          1.0686e+01,  1.2628e+01,  1.3382e+01,  1.3493e+01,  1.3701e+01,\n",
      "          1.4614e+01,  1.4997e+01,  1.4853e+01,  1.4202e+01,  1.4325e+01,\n",
      "          1.4785e+01,  1.5156e+01,  1.4981e+01],\n",
      "        [ 9.9900e+02,  1.1238e+01,  1.4347e+01,  1.4407e+01,  1.5479e+01,\n",
      "          1.5069e+01,  1.5049e+01,  1.4728e+01,  1.5351e+01,  1.5836e+01,\n",
      "          1.5314e+01,  1.4483e+01,  1.4265e+01,  1.4881e+01,  1.5706e+01,\n",
      "          1.5343e+01,  1.5282e+01,  1.3804e+01,  1.4089e+01,  1.3681e+01,\n",
      "          1.3809e+01,  1.2487e+01,  1.1663e+01],\n",
      "        [ 9.9900e+02,  2.1950e+00,  2.1300e+00,  1.7400e+00, -1.9200e-01,\n",
      "          4.7100e-01,  4.5600e-01,  5.1310e+00,  8.0960e+00,  1.1441e+01,\n",
      "          1.2617e+01,  1.4328e+01,  1.3033e+01,  1.2464e+01,  1.1812e+01,\n",
      "          1.2902e+01,  1.4467e+01,  1.4944e+01,  1.5145e+01,  1.4744e+01,\n",
      "          1.3614e+01,  1.4352e+01,  1.3546e+01],\n",
      "        [ 9.9900e+02,  9.9900e+02,  1.3420e+00,  1.1610e+00,  1.5300e-01,\n",
      "          5.3800e-01,  6.2700e-01,  6.7100e-01, -4.2900e-01, -1.0560e+00,\n",
      "          3.3700e-01,  5.4900e-01,  1.0020e+00, -7.6100e-01, -1.3960e+00,\n",
      "         -2.3450e+00, -1.7990e+00, -1.7930e+00, -1.5870e+00, -2.5980e+00,\n",
      "         -2.9590e+00, -3.0200e+00, -1.6060e+00]])\n",
      "Batch shape,  torch.Size([10, 23])\n",
      "\n",
      "\n",
      "Embedding: \n",
      " torch.Size([10, 23, 1024])\n",
      "\n",
      "Z-scores: \n",
      " tensor([[ 9.9900e+02,  5.2000e+00,  7.3800e+00,  9.4550e+00,  9.9620e+00,\n",
      "          1.0277e+01,  6.8120e+00,  6.7410e+00,  3.6900e+00,  7.3270e+00,\n",
      "          9.5900e+00,  1.3328e+01,  1.3737e+01,  1.4045e+01,  1.2217e+01,\n",
      "          1.2126e+01,  1.2256e+01,  1.2596e+01,  1.1377e+01,  8.0490e+00,\n",
      "          4.1710e+00,  1.3020e+00,  2.0860e+00],\n",
      "        [ 9.9900e+02,  9.9900e+02,  1.3070e+00,  9.7500e-01, -5.4300e-01,\n",
      "         -1.0520e+00, -2.1240e+00,  2.8600e-01,  5.0200e-01,  7.4100e-01,\n",
      "         -1.8900e-01,  5.3000e-02,  5.9930e+00,  5.8570e+00,  6.1160e+00,\n",
      "          5.0000e-02, -8.4400e-01, -1.6310e+00, -2.1640e+00, -1.9620e+00,\n",
      "         -6.5800e-01,  2.7790e+00,  3.9700e+00],\n",
      "        [ 9.9900e+02,  1.0516e+01,  1.4019e+01,  1.4181e+01,  1.4685e+01,\n",
      "          1.4293e+01,  1.4883e+01,  1.4003e+01,  1.3794e+01,  1.4082e+01,\n",
      "          1.4318e+01,  1.3942e+01,  1.3882e+01,  1.2715e+01,  1.3585e+01,\n",
      "          1.2193e+01,  1.3541e+01,  1.3487e+01,  1.4908e+01,  1.3727e+01,\n",
      "          1.3703e+01,  1.3787e+01,  1.5093e+01],\n",
      "        [ 9.9900e+02,  8.6240e+00,  1.2063e+01,  1.2144e+01,  1.3042e+01,\n",
      "          1.3269e+01,  1.4873e+01,  1.5322e+01,  1.5142e+01,  1.5211e+01,\n",
      "          1.5243e+01,  1.4872e+01,  1.3534e+01,  1.4021e+01,  1.4904e+01,\n",
      "          1.5282e+01,  1.3981e+01,  1.3578e+01,  1.3400e+01,  1.3696e+01,\n",
      "          1.4085e+01,  1.4226e+01,  1.3972e+01],\n",
      "        [ 9.9900e+02,  1.1433e+01,  1.4129e+01,  1.4755e+01,  1.5017e+01,\n",
      "          1.4798e+01,  1.4528e+01,  1.4533e+01,  1.5331e+01,  1.5179e+01,\n",
      "          1.4438e+01,  1.3916e+01,  1.4456e+01,  1.5401e+01,  1.5881e+01,\n",
      "          1.5352e+01,  1.5145e+01,  1.4826e+01,  1.4606e+01,  1.5105e+01,\n",
      "          1.4930e+01,  1.5680e+01,  1.4804e+01],\n",
      "        [ 9.9900e+02,  5.3340e+00,  6.0890e+00,  7.1030e+00,  5.7460e+00,\n",
      "          6.1750e+00,  8.7180e+00,  1.0070e+01,  1.3002e+01,  1.3926e+01,\n",
      "          1.4925e+01,  1.4860e+01,  1.4286e+01,  1.2834e+01,  8.9410e+00,\n",
      "          5.7020e+00,  2.7480e+00,  4.5070e+00,  5.8510e+00,  5.0540e+00,\n",
      "          5.4210e+00,  3.3560e+00,  6.2260e+00],\n",
      "        [ 9.9900e+02,  4.3430e+00,  4.3210e+00,  2.8110e+00, -3.6100e-01,\n",
      "         -1.9180e+00, -2.5090e+00, -1.5130e+00, -4.2000e-01,  3.0620e+00,\n",
      "          3.5200e+00,  3.1210e+00, -1.7840e+00, -2.3390e+00, -2.5200e+00,\n",
      "         -2.4760e+00, -1.5710e+00,  7.9900e-01,  1.9950e+00,  2.4600e+00,\n",
      "          3.2850e+00,  2.8520e+00,  2.3600e+00],\n",
      "        [ 9.9900e+02,  8.5020e+00,  9.1550e+00,  7.2050e+00,  7.8650e+00,\n",
      "          1.1523e+01,  1.3346e+01,  1.4618e+01,  1.3635e+01,  1.4218e+01,\n",
      "          1.3790e+01,  1.4008e+01,  1.4223e+01,  1.4300e+01,  1.4105e+01,\n",
      "          1.2450e+01,  1.2163e+01,  1.1213e+01,  1.2162e+01,  1.1969e+01,\n",
      "          1.0888e+01,  9.6970e+00,  1.0597e+01],\n",
      "        [ 9.9900e+02,  9.9900e+02,  1.9250e+00,  1.4800e+00,  1.4670e+00,\n",
      "         -5.9500e-01,  7.5000e-01,  2.2910e+00,  4.0220e+00,  5.1070e+00,\n",
      "          4.7810e+00,  5.8560e+00,  7.1400e+00,  7.5880e+00,  6.4590e+00,\n",
      "          3.1830e+00,  8.0700e-01, -1.4460e+00, -1.1400e-01,  1.5720e+00,\n",
      "          3.6850e+00,  5.2150e+00,  5.7590e+00],\n",
      "        [ 9.9900e+02,  9.9900e+02,  9.9900e+02,  9.9900e+02,  9.9900e+02,\n",
      "         -4.2600e-01,  1.6200e-01,  6.5800e-01,  5.1500e-01,  3.5300e-01,\n",
      "         -5.2200e-01, -1.1000e+00, -1.2910e+00,  1.0660e+00,  1.3920e+00,\n",
      "          2.1310e+00,  4.9500e-01,  4.1200e-01, -1.5330e+00, -9.8200e-01,\n",
      "          4.7850e+00,  9.4630e+00,  1.2073e+01]])\n",
      "Batch shape,  torch.Size([10, 23])\n",
      "\n",
      "\n",
      "\n",
      "Fold 6\n",
      "train -  793, avg_len - 23.00  |  val -  199, avg_len - 23.00\n",
      "test -  110, avg_len - 23.00\n",
      "Embedding: \n",
      " torch.Size([10, 23, 1024])\n",
      "\n",
      "Z-scores: \n",
      " tensor([[ 9.9900e+02,  4.4460e+00,  4.4790e+00,  4.4970e+00,  4.5220e+00,\n",
      "          7.1700e+00,  7.7900e+00,  6.9050e+00,  4.5560e+00,  4.7640e+00,\n",
      "          4.5500e+00,  5.2730e+00,  6.2900e+00,  7.7350e+00,  7.4650e+00,\n",
      "          5.4950e+00,  3.6470e+00,  2.2320e+00,  1.7300e+00, -5.1400e-01,\n",
      "         -9.2200e-01, -8.1000e-01,  1.9410e+00],\n",
      "        [ 9.9900e+02,  4.3800e+00,  5.2880e+00,  4.3700e+00,  3.3630e+00,\n",
      "          1.8620e+00,  7.8300e-01,  6.0100e-01,  1.4000e-02,  9.8600e-01,\n",
      "          2.7200e-01,  1.1280e+00,  1.3740e+00,  2.0620e+00,  1.0200e+00,\n",
      "         -6.5900e-01, -1.4420e+00,  3.8000e-02,  4.2200e-01, -5.6000e-02,\n",
      "         -1.1150e+00, -4.2700e-01,  6.6500e-01],\n",
      "        [ 9.9900e+02,  1.3490e+00,  1.2490e+00,  1.1160e+00,  2.4420e+00,\n",
      "          4.1010e+00,  6.1680e+00,  6.3850e+00,  6.7820e+00,  6.9150e+00,\n",
      "          6.3790e+00,  5.1560e+00,  3.7800e+00,  3.9090e+00,  3.1520e+00,\n",
      "          9.3100e-01,  1.5990e+00,  2.9020e+00,  3.7240e+00,  1.3160e+00,\n",
      "          1.9530e+00,  2.0830e+00,  2.4140e+00],\n",
      "        [ 9.9900e+02,  9.9900e+02,  9.9900e+02,  9.9900e+02,  9.9900e+02,\n",
      "          9.9900e+02,  7.2190e+00,  1.0600e+01,  1.3018e+01,  1.4330e+01,\n",
      "          1.4832e+01,  1.5648e+01,  1.5794e+01,  1.5772e+01,  1.5419e+01,\n",
      "          1.4561e+01,  1.4692e+01,  1.5060e+01,  1.5894e+01,  1.4881e+01,\n",
      "          1.1630e+01,  7.0220e+00,  7.2420e+00],\n",
      "        [ 9.9900e+02,  9.9900e+02,  9.9900e+02, -2.6340e+00, -2.8180e+00,\n",
      "         -1.8410e+00,  9.4400e-01,  1.3010e+00,  1.4530e+00,  2.6370e+00,\n",
      "          2.5890e+00,  2.2970e+00,  2.3210e+00,  5.1990e+00,  6.5120e+00,\n",
      "          7.6660e+00,  8.2200e+00,  8.3050e+00,  7.6900e+00,  5.8000e+00,\n",
      "          4.6600e+00,  2.4770e+00,  7.1800e-01],\n",
      "        [ 9.9900e+02,  9.9900e+02,  9.9900e+02,  9.9900e+02,  9.9900e+02,\n",
      "          9.9900e+02,  9.9900e+02,  9.9900e+02,  9.9900e+02,  9.9900e+02,\n",
      "          9.9900e+02,  9.9900e+02,  9.9900e+02,  9.9900e+02,  9.9900e+02,\n",
      "          9.9900e+02,  9.9900e+02,  9.9900e+02,  9.9900e+02,  9.9900e+02,\n",
      "          9.9900e+02,  9.9900e+02,  9.9900e+02],\n",
      "        [ 9.9900e+02,  3.6060e+00,  6.8510e+00,  1.0880e+01,  1.2429e+01,\n",
      "          1.1962e+01,  9.8950e+00,  1.0648e+01,  1.3188e+01,  1.4905e+01,\n",
      "          1.5686e+01,  1.5377e+01,  1.3977e+01,  1.2979e+01,  1.1797e+01,\n",
      "          1.2418e+01,  1.2450e+01,  1.2518e+01,  1.4027e+01,  1.4302e+01,\n",
      "          1.5431e+01,  1.4416e+01,  1.4707e+01],\n",
      "        [ 9.9900e+02,  1.1238e+01,  1.4347e+01,  1.4407e+01,  1.5479e+01,\n",
      "          1.5069e+01,  1.5049e+01,  1.4728e+01,  1.5351e+01,  1.5836e+01,\n",
      "          1.5314e+01,  1.4483e+01,  1.4265e+01,  1.4881e+01,  1.5706e+01,\n",
      "          1.5343e+01,  1.5282e+01,  1.3804e+01,  1.4089e+01,  1.3681e+01,\n",
      "          1.3809e+01,  1.2487e+01,  1.1663e+01],\n",
      "        [ 9.9900e+02,  2.8140e+00,  3.3760e+00,  2.5950e+00,  3.8610e+00,\n",
      "          7.0270e+00,  1.0206e+01,  1.2472e+01,  1.3202e+01,  1.2427e+01,\n",
      "          1.1395e+01,  1.1912e+01,  1.3200e+01,  1.4082e+01,  1.4058e+01,\n",
      "          1.4601e+01,  1.5286e+01,  1.4195e+01,  1.2294e+01,  8.3300e+00,\n",
      "          5.3790e+00,  2.1440e+00,  9.8800e-01],\n",
      "        [ 9.9900e+02,  9.9900e+02,  9.9900e+02,  9.9900e+02,  9.9900e+02,\n",
      "          9.9900e+02,  9.9900e+02,  9.9900e+02,  9.9900e+02,  9.9900e+02,\n",
      "          9.9900e+02,  9.9900e+02,  9.9900e+02,  9.9900e+02,  9.9900e+02,\n",
      "          9.9900e+02,  9.9900e+02,  9.9900e+02,  9.9900e+02,  9.9900e+02,\n",
      "          9.9900e+02,  9.9900e+02,  9.9900e+02]])\n",
      "Batch shape,  torch.Size([10, 23])\n",
      "\n",
      "\n",
      "Embedding: \n",
      " torch.Size([10, 23, 1024])\n",
      "\n",
      "Z-scores: \n",
      " tensor([[ 9.9900e+02,  4.0400e+00,  3.4220e+00,  5.0070e+00,  2.2900e+00,\n",
      "          2.1210e+00, -2.1580e+00,  2.8820e+00,  6.2600e+00,  1.0469e+01,\n",
      "          1.2857e+01,  1.4506e+01,  1.5261e+01,  1.5673e+01,  1.5879e+01,\n",
      "          1.5395e+01,  1.4970e+01,  1.4813e+01,  1.4917e+01,  1.5344e+01,\n",
      "          1.5772e+01,  1.4833e+01,  1.4215e+01],\n",
      "        [ 9.9900e+02,  9.9900e+02,  9.9900e+02,  9.9900e+02,  9.9900e+02,\n",
      "          9.9900e+02,  9.9900e+02,  9.9900e+02,  9.9900e+02,  9.9900e+02,\n",
      "         -6.3700e-01,  2.3870e+00,  2.3960e+00,  3.2800e+00,  2.5790e+00,\n",
      "          2.1010e+00,  1.4010e+00, -1.5180e+00, -2.7130e+00, -4.0060e+00,\n",
      "         -3.7670e+00, -7.9000e-01, -4.1200e-01],\n",
      "        [ 9.9900e+02,  1.0143e+01,  1.2352e+01,  1.2981e+01,  1.3579e+01,\n",
      "          1.4037e+01,  1.3648e+01,  1.3612e+01,  1.3861e+01,  1.4759e+01,\n",
      "          1.5604e+01,  1.6150e+01,  1.5578e+01,  1.5019e+01,  1.3188e+01,\n",
      "          1.3561e+01,  1.2785e+01,  1.4666e+01,  1.4307e+01,  1.5570e+01,\n",
      "          1.3812e+01,  1.4035e+01,  1.2288e+01],\n",
      "        [ 9.9900e+02,  9.9900e+02,  5.7930e+00,  9.5320e+00,  1.2455e+01,\n",
      "          1.4533e+01,  1.5155e+01,  1.5113e+01,  1.5422e+01,  1.4449e+01,\n",
      "          1.2664e+01,  1.2255e+01,  1.2993e+01,  1.4480e+01,  1.3908e+01,\n",
      "          1.3370e+01,  1.2656e+01,  1.1664e+01,  8.7250e+00,  9.5950e+00,\n",
      "          1.0810e+01,  1.4463e+01,  1.4754e+01],\n",
      "        [ 9.9900e+02,  6.5780e+00,  8.7740e+00,  9.5690e+00,  1.0328e+01,\n",
      "          1.1663e+01,  1.3300e+01,  1.4000e+01,  1.4478e+01,  1.3973e+01,\n",
      "          1.3807e+01,  1.2256e+01,  1.1449e+01,  1.2534e+01,  1.4388e+01,\n",
      "          1.5440e+01,  1.5260e+01,  1.4797e+01,  1.4446e+01,  1.3108e+01,\n",
      "          1.1489e+01,  9.7460e+00,  1.0195e+01],\n",
      "        [ 9.9900e+02,  2.6660e+00,  2.0960e+00,  4.9100e-01, -1.1400e+00,\n",
      "         -1.1570e+00, -1.1760e+00,  6.7500e-01,  3.2670e+00,  3.3980e+00,\n",
      "          2.5980e+00,  3.9510e+00,  9.4180e+00,  1.2698e+01,  1.3476e+01,\n",
      "          1.3022e+01,  1.2938e+01,  1.2601e+01,  1.3068e+01,  1.1462e+01,\n",
      "          1.3134e+01,  1.3134e+01,  1.4471e+01],\n",
      "        [ 9.9900e+02,  9.9900e+02,  9.9900e+02,  9.9900e+02,  9.9900e+02,\n",
      "          9.9900e+02,  9.9900e+02,  9.9900e+02,  9.9900e+02,  1.3260e+00,\n",
      "          4.8900e-01, -1.5480e+00, -2.0580e+00, -1.3570e+00,  4.2500e-01,\n",
      "          2.6010e+00,  2.4790e+00,  1.5840e+00, -1.4660e+00, -1.6750e+00,\n",
      "         -2.2300e+00, -3.2530e+00, -2.8320e+00],\n",
      "        [ 9.9900e+02,  8.5020e+00,  9.1550e+00,  7.2050e+00,  7.8650e+00,\n",
      "          1.1523e+01,  1.3346e+01,  1.4618e+01,  1.3635e+01,  1.4218e+01,\n",
      "          1.3790e+01,  1.4008e+01,  1.4223e+01,  1.4300e+01,  1.4105e+01,\n",
      "          1.2450e+01,  1.2163e+01,  1.1213e+01,  1.2162e+01,  1.1969e+01,\n",
      "          1.0888e+01,  9.6970e+00,  1.0597e+01],\n",
      "        [ 9.9900e+02, -1.8200e+00, -2.6500e+00, -1.7740e+00,  9.9100e-01,\n",
      "          3.4250e+00,  4.2630e+00,  3.7930e+00,  4.6160e+00,  8.1180e+00,\n",
      "          1.0388e+01,  1.1518e+01,  1.1353e+01,  1.1102e+01,  9.0820e+00,\n",
      "          6.0590e+00,  1.8770e+00,  1.4990e+00,  5.9600e-01,  1.1330e+00,\n",
      "          1.7040e+00,  2.2680e+00,  1.5210e+00],\n",
      "        [ 9.9900e+02,  9.9900e+02,  9.9900e+02,  9.9900e+02,  9.9900e+02,\n",
      "          9.9900e+02,  9.9900e+02,  1.0270e+00,  1.4520e+00,  2.3770e+00,\n",
      "          3.4360e+00,  2.8160e+00,  1.6250e+00, -6.4100e-01, -5.9300e-01,\n",
      "          5.4400e-01,  1.5870e+00,  1.5730e+00,  4.0700e-01, -1.7830e+00,\n",
      "         -3.0000e-03,  7.5200e-01,  1.4810e+00]])\n",
      "Batch shape,  torch.Size([10, 23])\n",
      "\n",
      "\n",
      "\n",
      "Fold 7\n",
      "train -  793, avg_len - 23.00  |  val -  199, avg_len - 23.00\n",
      "test -  110, avg_len - 23.00\n",
      "Embedding: \n",
      " torch.Size([10, 23, 1024])\n",
      "\n",
      "Z-scores: \n",
      " tensor([[ 9.9900e+02,  3.7400e-01,  4.1440e+00,  4.5360e+00,  4.2390e+00,\n",
      "          8.7800e-01,  8.3300e-01,  1.5820e+00,  1.4620e+00,  2.1580e+00,\n",
      "          3.0940e+00,  4.0130e+00,  4.7140e+00,  4.6570e+00,  4.5700e+00,\n",
      "          3.5880e+00,  3.2120e+00,  3.1630e+00,  3.5750e+00,  3.3200e+00,\n",
      "          2.6770e+00,  9.5900e-01,  8.7000e-02],\n",
      "        [ 9.9900e+02,  2.0410e+00,  1.1440e+00,  4.4400e-01, -1.7780e+00,\n",
      "         -1.1100e+00,  9.9900e+02,  9.9900e+02,  8.9000e-01,  2.2180e+00,\n",
      "          1.2500e+00,  8.8500e-01, -1.7870e+00, -1.6340e+00,  3.8460e+00,\n",
      "          3.7980e+00,  4.6410e+00, -3.1700e-01,  4.5400e-01, -1.5600e-01,\n",
      "         -4.5400e-01, -7.2400e-01,  2.2400e-01],\n",
      "        [ 9.9900e+02,  9.9900e+02,  2.3970e+00,  1.8360e+00,  7.4000e-01,\n",
      "          1.3970e+00,  2.6670e+00,  2.6040e+00,  3.4950e+00,  3.6710e+00,\n",
      "          4.5570e+00,  3.9520e+00,  3.1510e+00,  1.8230e+00,  3.9100e+00,\n",
      "          7.0400e+00,  1.0548e+01,  1.3290e+01,  1.4885e+01,  1.5199e+01,\n",
      "          1.4714e+01,  1.4490e+01,  1.4199e+01],\n",
      "        [ 9.9900e+02,  1.6720e+00,  2.8340e+00,  4.3890e+00,  4.1240e+00,\n",
      "          3.4650e+00,  1.4990e+00,  6.9430e+00,  9.8310e+00,  1.2295e+01,\n",
      "          1.2851e+01,  1.2853e+01,  1.3722e+01,  1.3251e+01,  1.3963e+01,\n",
      "          1.3164e+01,  1.4148e+01,  1.4694e+01,  1.5741e+01,  1.5741e+01,\n",
      "          1.5893e+01,  1.5642e+01,  1.4395e+01],\n",
      "        [ 9.9900e+02,  9.9900e+02,  9.9900e+02, -2.6340e+00, -2.8180e+00,\n",
      "         -1.8410e+00,  9.4400e-01,  1.3010e+00,  1.4530e+00,  2.6370e+00,\n",
      "          2.5890e+00,  2.2970e+00,  2.3210e+00,  5.1990e+00,  6.5120e+00,\n",
      "          7.6660e+00,  8.2200e+00,  8.3050e+00,  7.6900e+00,  5.8000e+00,\n",
      "          4.6600e+00,  2.4770e+00,  7.1800e-01],\n",
      "        [ 9.9900e+02,  2.4990e+00,  2.0860e+00,  2.3400e+00, -1.0300e-01,\n",
      "          6.5000e-01,  7.9300e-01,  1.8370e+00,  1.1080e+00,  2.0750e+00,\n",
      "          1.8700e+00,  2.3900e+00,  2.4730e+00,  2.2020e+00,  3.5410e+00,\n",
      "          2.3960e+00,  2.3800e+00, -3.3300e-01,  7.6200e-01,  4.9000e-02,\n",
      "          5.1000e-02, -1.1910e+00, -1.4960e+00],\n",
      "        [ 9.9900e+02,  3.6060e+00,  6.8510e+00,  1.0880e+01,  1.2429e+01,\n",
      "          1.1962e+01,  9.8950e+00,  1.0648e+01,  1.3188e+01,  1.4905e+01,\n",
      "          1.5686e+01,  1.5377e+01,  1.3977e+01,  1.2979e+01,  1.1797e+01,\n",
      "          1.2418e+01,  1.2450e+01,  1.2518e+01,  1.4027e+01,  1.4302e+01,\n",
      "          1.5431e+01,  1.4416e+01,  1.4707e+01],\n",
      "        [ 9.9900e+02,  5.4400e+00,  6.2130e+00,  5.8870e+00,  7.9430e+00,\n",
      "          9.2530e+00,  9.9240e+00,  9.7120e+00,  1.0195e+01,  1.1569e+01,\n",
      "          1.2060e+01,  1.3027e+01,  1.2984e+01,  1.3697e+01,  1.2976e+01,\n",
      "          1.2990e+01,  1.3284e+01,  1.3129e+01,  1.3521e+01,  1.3614e+01,\n",
      "          1.5165e+01,  1.4643e+01,  1.5002e+01],\n",
      "        [ 9.9900e+02,  2.8140e+00,  3.3760e+00,  2.5950e+00,  3.8610e+00,\n",
      "          7.0270e+00,  1.0206e+01,  1.2472e+01,  1.3202e+01,  1.2427e+01,\n",
      "          1.1395e+01,  1.1912e+01,  1.3200e+01,  1.4082e+01,  1.4058e+01,\n",
      "          1.4601e+01,  1.5286e+01,  1.4195e+01,  1.2294e+01,  8.3300e+00,\n",
      "          5.3790e+00,  2.1440e+00,  9.8800e-01],\n",
      "        [ 9.9900e+02, -8.5800e-01, -1.1660e+00, -1.1030e+00,  1.4970e+00,\n",
      "          1.8220e+00,  1.6230e+00, -1.2720e+00, -2.7750e+00, -7.7000e-02,\n",
      "          3.8430e+00,  5.0850e+00,  5.4200e+00,  3.8230e+00,  3.1230e+00,\n",
      "          1.4570e+00, -3.7300e-01, -2.1520e+00, -1.0520e+00, -7.2800e-01,\n",
      "         -8.0300e-01, -1.5360e+00, -1.5180e+00]])\n",
      "Batch shape,  torch.Size([10, 23])\n",
      "\n",
      "\n",
      "Embedding: \n",
      " torch.Size([10, 23, 1024])\n",
      "\n",
      "Z-scores: \n",
      " tensor([[ 9.9900e+02,  6.4760e+00,  6.4710e+00,  4.6500e+00,  3.1920e+00,\n",
      "          5.0470e+00,  3.6720e+00,  3.7550e+00,  5.9030e+00,  8.4490e+00,\n",
      "          1.2535e+01,  1.4109e+01,  1.5735e+01,  1.5444e+01,  1.4972e+01,\n",
      "          1.4484e+01,  1.3762e+01,  1.3776e+01,  1.3514e+01,  1.4219e+01,\n",
      "          1.4582e+01,  1.4971e+01,  1.3251e+01],\n",
      "        [ 9.9900e+02,  9.9900e+02,  9.9900e+02,  9.9900e+02,  9.9900e+02,\n",
      "          9.9900e+02,  9.9900e+02,  9.9900e+02,  9.9900e+02,  9.9900e+02,\n",
      "         -6.3700e-01,  2.3870e+00,  2.3960e+00,  3.2800e+00,  2.5790e+00,\n",
      "          2.1010e+00,  1.4010e+00, -1.5180e+00, -2.7130e+00, -4.0060e+00,\n",
      "         -3.7670e+00, -7.9000e-01, -4.1200e-01],\n",
      "        [ 9.9900e+02,  9.1110e+00,  1.2223e+01,  1.2510e+01,  1.3136e+01,\n",
      "          1.3857e+01,  1.5235e+01,  1.5106e+01,  1.4173e+01,  1.3015e+01,\n",
      "          1.3243e+01,  1.3735e+01,  1.2383e+01,  1.1833e+01,  1.2025e+01,\n",
      "          1.2563e+01,  1.3049e+01,  1.3394e+01,  1.5019e+01,  1.5152e+01,\n",
      "          1.4114e+01,  1.3011e+01,  1.3531e+01],\n",
      "        [ 9.9900e+02,  5.0190e+00,  6.1460e+00,  6.4970e+00,  8.7650e+00,\n",
      "          9.9120e+00,  1.2119e+01,  1.2632e+01,  1.4086e+01,  1.4631e+01,\n",
      "          1.4042e+01,  1.4107e+01,  1.3232e+01,  1.3973e+01,  1.2184e+01,\n",
      "          1.1220e+01,  1.1242e+01,  1.3638e+01,  1.4431e+01,  1.4290e+01,\n",
      "          1.2262e+01,  1.3118e+01,  1.3667e+01],\n",
      "        [ 9.9900e+02,  6.5780e+00,  8.7740e+00,  9.5690e+00,  1.0328e+01,\n",
      "          1.1663e+01,  1.3300e+01,  1.4000e+01,  1.4478e+01,  1.3973e+01,\n",
      "          1.3807e+01,  1.2256e+01,  1.1449e+01,  1.2534e+01,  1.4388e+01,\n",
      "          1.5440e+01,  1.5260e+01,  1.4797e+01,  1.4446e+01,  1.3108e+01,\n",
      "          1.1489e+01,  9.7460e+00,  1.0195e+01],\n",
      "        [ 9.9900e+02,  9.9900e+02,  3.6900e-01,  1.6300e-01,  5.4600e-01,\n",
      "         -3.0500e-01, -9.9500e-01, -2.0950e+00, -2.0600e-01,  2.8480e+00,\n",
      "          5.6360e+00,  9.4770e+00,  1.1815e+01,  1.3791e+01,  1.3639e+01,\n",
      "          1.2446e+01,  1.1763e+01,  1.2489e+01,  1.2946e+01,  1.2951e+01,\n",
      "          1.1155e+01,  1.1788e+01,  1.1836e+01],\n",
      "        [ 9.9900e+02,  9.9900e+02,  9.9900e+02,  9.9900e+02,  9.9900e+02,\n",
      "         -9.3900e-01,  8.2000e-01,  1.2380e+00,  5.8700e-01, -1.9980e+00,\n",
      "         -2.7460e+00, -2.2450e+00, -1.1320e+00, -6.2000e-01,  8.7000e-01,\n",
      "          1.2450e+00,  1.9930e+00,  1.5750e+00,  1.3060e+00, -1.0400e-01,\n",
      "         -8.6000e-01, -2.1580e+00, -1.7280e+00],\n",
      "        [ 9.9900e+02,  8.9080e+00,  1.1821e+01,  1.2982e+01,  1.4309e+01,\n",
      "          1.4293e+01,  1.3999e+01,  1.4052e+01,  1.4655e+01,  1.4227e+01,\n",
      "          1.4395e+01,  1.4392e+01,  1.5054e+01,  1.4717e+01,  1.4014e+01,\n",
      "          1.3697e+01,  1.4500e+01,  1.3980e+01,  1.4445e+01,  1.3797e+01,\n",
      "          1.4415e+01,  1.3297e+01,  1.3283e+01],\n",
      "        [ 9.9900e+02,  9.9900e+02,  1.9250e+00,  1.4800e+00,  1.4670e+00,\n",
      "         -5.9500e-01,  7.5000e-01,  2.2910e+00,  4.0220e+00,  5.1070e+00,\n",
      "          4.7810e+00,  5.8560e+00,  7.1400e+00,  7.5880e+00,  6.4590e+00,\n",
      "          3.1830e+00,  8.0700e-01, -1.4460e+00, -1.1400e-01,  1.5720e+00,\n",
      "          3.6850e+00,  5.2150e+00,  5.7590e+00],\n",
      "        [ 9.9900e+02,  9.9900e+02,  9.9900e+02,  9.9900e+02,  9.9900e+02,\n",
      "          9.9900e+02,  9.9900e+02,  9.9900e+02,  9.9900e+02,  9.9900e+02,\n",
      "          9.9900e+02,  3.1550e+00,  2.4820e+00,  9.1300e-01, -1.4240e+00,\n",
      "         -1.0660e+00, -1.9890e+00, -1.9890e+00,  5.3770e+00,  1.1046e+01,\n",
      "          1.3512e+01,  1.3467e+01,  1.3467e+01]])\n",
      "Batch shape,  torch.Size([10, 23])\n",
      "\n",
      "\n",
      "\n",
      "Fold 8\n",
      "train -  793, avg_len - 23.00  |  val -  199, avg_len - 23.00\n",
      "test -  110, avg_len - 23.00\n",
      "Embedding: \n",
      " torch.Size([10, 23, 1024])\n",
      "\n",
      "Z-scores: \n",
      " tensor([[ 9.9900e+02,  3.2700e-01, -3.7500e-01, -2.2320e+00, -2.9580e+00,\n",
      "         -3.5880e+00, -4.1280e+00, -3.5500e+00, -2.4760e+00, -1.8290e+00,\n",
      "         -9.9300e-01,  2.0400e-01,  6.0950e+00,  8.2150e+00,  1.0727e+01,\n",
      "          1.1564e+01,  1.3287e+01,  1.4114e+01,  1.4086e+01,  1.3323e+01,\n",
      "          1.3545e+01,  1.3886e+01,  1.4408e+01],\n",
      "        [ 9.9900e+02,  4.3800e+00,  5.2880e+00,  4.3700e+00,  3.3630e+00,\n",
      "          1.8620e+00,  7.8300e-01,  6.0100e-01,  1.4000e-02,  9.8600e-01,\n",
      "          2.7200e-01,  1.1280e+00,  1.3740e+00,  2.0620e+00,  1.0200e+00,\n",
      "         -6.5900e-01, -1.4420e+00,  3.8000e-02,  4.2200e-01, -5.6000e-02,\n",
      "         -1.1150e+00, -4.2700e-01,  6.6500e-01],\n",
      "        [ 9.9900e+02,  7.3500e-01,  1.0680e+00,  7.0700e-01,  9.6700e-01,\n",
      "          1.4440e+00,  1.1710e+00,  2.0060e+00,  2.7410e+00,  3.7880e+00,\n",
      "          2.7070e+00,  8.0300e-01,  9.2300e-01,  2.0210e+00,  2.4060e+00,\n",
      "          2.8500e+00,  4.0510e+00,  4.6940e+00,  4.9950e+00,  6.9420e+00,\n",
      "          7.1900e+00,  6.4900e+00,  3.4880e+00],\n",
      "        [ 9.9900e+02,  9.9900e+02,  9.9900e+02,  9.9900e+02,  2.5980e+00,\n",
      "          2.1000e+00,  3.5540e+00,  6.8190e+00,  1.0556e+01,  1.2524e+01,\n",
      "          1.4186e+01,  1.4181e+01,  1.4821e+01,  1.4489e+01,  1.3974e+01,\n",
      "          1.3827e+01,  1.3632e+01,  1.4583e+01,  1.3802e+01,  1.4433e+01,\n",
      "          1.4948e+01,  1.5915e+01,  1.5915e+01],\n",
      "        [ 9.9900e+02,  5.2200e+00,  5.9730e+00,  3.9790e+00,  3.7490e+00,\n",
      "          2.3350e+00,  2.2720e+00,  3.9940e+00,  5.2070e+00,  4.6520e+00,\n",
      "          4.3710e+00,  4.0790e+00,  6.2390e+00,  5.5290e+00,  4.3270e+00,\n",
      "          3.4490e+00,  5.4990e+00,  5.7900e+00,  4.8920e+00,  3.6670e+00,\n",
      "          4.5910e+00,  4.8330e+00,  4.8250e+00],\n",
      "        [ 9.9900e+02,  9.9900e+02,  4.8900e-01, -4.7000e-02,  6.9600e-01,\n",
      "          2.2730e+00,  2.2900e+00,  6.5380e+00,  5.7250e+00,  5.6980e+00,\n",
      "          4.1140e+00,  4.8930e+00,  5.8610e+00,  2.4120e+00,  1.3380e+00,\n",
      "          3.8500e-01,  1.0100e+00,  5.9500e-01,  1.3120e+00,  1.3400e+00,\n",
      "          1.3650e+00, -1.7600e-01, -1.5300e-01],\n",
      "        [ 9.9900e+02,  9.1270e+00,  1.2399e+01,  1.2206e+01,  1.4024e+01,\n",
      "          1.3673e+01,  1.3168e+01,  1.3490e+01,  1.3905e+01,  1.4295e+01,\n",
      "          1.3446e+01,  1.3142e+01,  1.1498e+01,  1.1962e+01,  1.0222e+01,\n",
      "          1.1966e+01,  1.2666e+01,  1.4457e+01,  1.4269e+01,  1.4269e+01,\n",
      "          1.4269e+01,  1.4840e+01,  1.4178e+01],\n",
      "        [ 9.9900e+02,  7.3800e+00,  1.1213e+01,  1.4209e+01,  1.5690e+01,\n",
      "          1.5403e+01,  1.4805e+01,  1.3908e+01,  1.2860e+01,  1.3448e+01,\n",
      "          1.3813e+01,  1.5523e+01,  1.5492e+01,  1.5749e+01,  1.5408e+01,\n",
      "          1.5272e+01,  1.4976e+01,  1.4935e+01,  1.5187e+01,  1.3977e+01,\n",
      "          1.4146e+01,  1.3704e+01,  1.4184e+01],\n",
      "        [ 9.9900e+02,  2.3070e+00,  2.7180e+00,  3.6040e+00,  3.6640e+00,\n",
      "          3.4170e+00,  1.2560e+00,  9.1000e-02,  1.6340e+00,  1.5000e+00,\n",
      "          2.3470e+00,  2.6000e-02,  1.1650e+00,  5.5030e+00,  1.0107e+01,\n",
      "          1.3439e+01,  1.4332e+01,  1.4108e+01,  1.3085e+01,  1.3208e+01,\n",
      "          1.2511e+01,  1.3898e+01,  1.4233e+01],\n",
      "        [ 9.9900e+02,  1.0400e+00,  1.8290e+00,  2.5010e+00,  2.3720e+00,\n",
      "          1.2820e+00, -3.0000e-01, -1.0830e+00, -1.7520e+00, -9.8600e-01,\n",
      "          1.3340e+00,  2.5150e+00,  2.0180e+00,  1.1470e+00,  4.6200e-01,\n",
      "          1.8410e+00,  2.5070e+00,  3.9030e+00,  6.3740e+00,  7.4400e+00,\n",
      "          8.6960e+00,  7.6880e+00,  5.9200e+00]])\n",
      "Batch shape,  torch.Size([10, 23])\n",
      "\n",
      "\n",
      "Embedding: \n",
      " torch.Size([10, 23, 1024])\n",
      "\n",
      "Z-scores: \n",
      " tensor([[ 9.9900e+02,  6.4760e+00,  6.4710e+00,  4.6500e+00,  3.1920e+00,\n",
      "          5.0470e+00,  3.6720e+00,  3.7550e+00,  5.9030e+00,  8.4490e+00,\n",
      "          1.2535e+01,  1.4109e+01,  1.5735e+01,  1.5444e+01,  1.4972e+01,\n",
      "          1.4484e+01,  1.3762e+01,  1.3776e+01,  1.3514e+01,  1.4219e+01,\n",
      "          1.4582e+01,  1.4971e+01,  1.3251e+01],\n",
      "        [ 9.9900e+02,  9.9900e+02,  9.9900e+02,  9.9900e+02,  9.9900e+02,\n",
      "          9.9900e+02,  9.9900e+02,  9.9900e+02,  9.9900e+02,  9.9900e+02,\n",
      "         -6.3700e-01,  2.3870e+00,  2.3960e+00,  3.2800e+00,  2.5790e+00,\n",
      "          2.1010e+00,  1.4010e+00, -1.5180e+00, -2.7130e+00, -4.0060e+00,\n",
      "         -3.7670e+00, -7.9000e-01, -4.1200e-01],\n",
      "        [ 9.9900e+02,  6.5780e+00,  8.7740e+00,  9.5690e+00,  1.0328e+01,\n",
      "          1.1663e+01,  1.3300e+01,  1.4000e+01,  1.4478e+01,  1.3973e+01,\n",
      "          1.3807e+01,  1.2256e+01,  1.1449e+01,  1.2534e+01,  1.4388e+01,\n",
      "          1.5440e+01,  1.5260e+01,  1.4797e+01,  1.4446e+01,  1.3108e+01,\n",
      "          1.1489e+01,  9.7460e+00,  1.0195e+01],\n",
      "        [ 9.9900e+02,  1.0212e+01,  1.3062e+01,  1.3820e+01,  1.3907e+01,\n",
      "          1.4037e+01,  1.3962e+01,  1.5011e+01,  1.4665e+01,  1.4382e+01,\n",
      "          1.3975e+01,  1.4889e+01,  1.5336e+01,  1.4908e+01,  1.3265e+01,\n",
      "          1.3212e+01,  1.3243e+01,  1.4800e+01,  1.4720e+01,  1.5009e+01,\n",
      "          1.4400e+01,  1.4190e+01,  1.4798e+01],\n",
      "        [ 9.9900e+02,  1.1433e+01,  1.4129e+01,  1.4755e+01,  1.5017e+01,\n",
      "          1.4798e+01,  1.4528e+01,  1.4533e+01,  1.5331e+01,  1.5179e+01,\n",
      "          1.4438e+01,  1.3916e+01,  1.4456e+01,  1.5401e+01,  1.5881e+01,\n",
      "          1.5352e+01,  1.5145e+01,  1.4826e+01,  1.4606e+01,  1.5105e+01,\n",
      "          1.4930e+01,  1.5680e+01,  1.4804e+01],\n",
      "        [ 9.9900e+02,  3.7260e+00,  3.2640e+00,  3.0690e+00, -3.8200e-01,\n",
      "         -3.4100e-01,  2.0600e-01,  1.3400e+00,  3.1210e+00,  5.6020e+00,\n",
      "          8.9260e+00,  1.1374e+01,  1.1808e+01,  1.2351e+01,  1.2141e+01,\n",
      "          1.3623e+01,  1.4134e+01,  1.5299e+01,  1.5119e+01,  1.5023e+01,\n",
      "          1.4533e+01,  1.4039e+01,  1.4217e+01],\n",
      "        [ 9.9900e+02,  4.3430e+00,  4.3210e+00,  2.8110e+00, -3.6100e-01,\n",
      "         -1.9180e+00, -2.5090e+00, -1.5130e+00, -4.2000e-01,  3.0620e+00,\n",
      "          3.5200e+00,  3.1210e+00, -1.7840e+00, -2.3390e+00, -2.5200e+00,\n",
      "         -2.4760e+00, -1.5710e+00,  7.9900e-01,  1.9950e+00,  2.4600e+00,\n",
      "          3.2850e+00,  2.8520e+00,  2.3600e+00],\n",
      "        [ 9.9900e+02,  5.4110e+00,  9.2160e+00,  1.2631e+01,  1.3705e+01,\n",
      "          1.4286e+01,  1.4091e+01,  1.4358e+01,  1.2507e+01,  1.1890e+01,\n",
      "          1.2324e+01,  1.3305e+01,  1.2442e+01,  1.2135e+01,  1.1492e+01,\n",
      "          1.1517e+01,  9.1310e+00,  8.9070e+00,  9.3830e+00,  1.2024e+01,\n",
      "          1.3650e+01,  1.4521e+01,  1.3904e+01],\n",
      "        [ 9.9900e+02,  9.9900e+02,  1.9250e+00,  1.4800e+00,  1.4670e+00,\n",
      "         -5.9500e-01,  7.5000e-01,  2.2910e+00,  4.0220e+00,  5.1070e+00,\n",
      "          4.7810e+00,  5.8560e+00,  7.1400e+00,  7.5880e+00,  6.4590e+00,\n",
      "          3.1830e+00,  8.0700e-01, -1.4460e+00, -1.1400e-01,  1.5720e+00,\n",
      "          3.6850e+00,  5.2150e+00,  5.7590e+00],\n",
      "        [ 9.9900e+02,  9.9900e+02,  9.9900e+02,  9.9900e+02,  9.9900e+02,\n",
      "          9.9900e+02,  9.9900e+02,  9.9900e+02,  9.9900e+02,  9.9900e+02,\n",
      "          9.9900e+02,  3.1550e+00,  2.4820e+00,  9.1300e-01, -1.4240e+00,\n",
      "         -1.0660e+00, -1.9890e+00, -1.9890e+00,  5.3770e+00,  1.1046e+01,\n",
      "          1.3512e+01,  1.3467e+01,  1.3467e+01]])\n",
      "Batch shape,  torch.Size([10, 23])\n",
      "\n",
      "\n",
      "\n",
      "Fold 9\n",
      "train -  793, avg_len - 23.00  |  val -  199, avg_len - 23.00\n",
      "test -  110, avg_len - 23.00\n",
      "Embedding: \n",
      " torch.Size([10, 23, 1024])\n",
      "\n",
      "Z-scores: \n",
      " tensor([[ 9.9900e+02,  6.4820e+00,  6.8100e+00,  3.9710e+00,  4.9370e+00,\n",
      "          5.3920e+00,  5.5590e+00,  4.0490e+00,  3.8870e+00,  3.4640e+00,\n",
      "          3.2850e+00,  2.0050e+00,  3.0670e+00,  3.8290e+00,  3.7510e+00,\n",
      "          2.7510e+00,  6.8800e-01,  1.6900e-01, -4.8500e-01, -4.1000e-01,\n",
      "         -1.2160e+00,  5.5300e-01,  9.1100e-01],\n",
      "        [ 9.9900e+02,  8.6880e+00,  9.4290e+00,  8.3810e+00,  5.1810e+00,\n",
      "          4.1610e+00,  2.8780e+00,  4.9210e+00,  4.5340e+00,  3.8570e+00,\n",
      "          9.3400e-01, -5.9800e-01,  1.8340e+00,  1.2770e+00,  1.5770e+00,\n",
      "         -1.1990e+00, -1.4000e+00, -2.2390e+00, -2.2270e+00, -1.6670e+00,\n",
      "         -1.1460e+00,  1.0990e+00,  3.8960e+00],\n",
      "        [ 9.9900e+02,  9.9900e+02,  9.9900e+02,  9.9900e+02,  9.9900e+02,\n",
      "          9.9900e+02, -1.4810e+00, -1.1810e+00, -1.5120e+00, -1.1760e+00,\n",
      "          2.0000e-03,  5.4740e+00,  8.8770e+00,  1.1601e+01,  1.1536e+01,\n",
      "          1.0871e+01,  1.1597e+01,  1.0866e+01,  1.2016e+01,  1.0617e+01,\n",
      "          1.2626e+01,  1.3405e+01,  1.4668e+01],\n",
      "        [ 9.9900e+02,  9.9900e+02,  9.9900e+02,  9.9900e+02,  9.9900e+02,\n",
      "          9.9900e+02,  7.2190e+00,  1.0600e+01,  1.3018e+01,  1.4330e+01,\n",
      "          1.4832e+01,  1.5648e+01,  1.5794e+01,  1.5772e+01,  1.5419e+01,\n",
      "          1.4561e+01,  1.4692e+01,  1.5060e+01,  1.5894e+01,  1.4881e+01,\n",
      "          1.1630e+01,  7.0220e+00,  7.2420e+00],\n",
      "        [ 9.9900e+02,  2.5280e+00,  2.0600e+00, -9.2400e-01, -1.0180e+00,\n",
      "         -1.9560e+00,  5.5200e-01,  9.3600e-01,  1.5090e+00,  2.9540e+00,\n",
      "          2.9800e+00,  4.7240e+00,  2.3050e+00,  2.6720e+00,  4.6240e+00,\n",
      "          5.1110e+00,  5.3300e+00,  4.0100e+00,  5.0790e+00,  6.4940e+00,\n",
      "          6.5770e+00,  6.3040e+00,  6.4810e+00],\n",
      "        [ 9.9900e+02,  9.9900e+02,  9.9900e+02,  9.9900e+02,  9.9900e+02,\n",
      "          9.9900e+02,  9.9900e+02,  9.9900e+02,  9.9900e+02,  9.9900e+02,\n",
      "          9.9900e+02,  9.9900e+02,  9.9900e+02,  9.9900e+02,  9.9900e+02,\n",
      "          9.9900e+02,  9.9900e+02,  9.9900e+02,  9.9900e+02,  9.9900e+02,\n",
      "          9.9900e+02,  9.9900e+02,  9.9900e+02],\n",
      "        [ 9.9900e+02,  2.8950e+00,  6.0060e+00,  1.0370e+01,  1.3520e+01,\n",
      "          1.4963e+01,  1.4616e+01,  1.4337e+01,  1.4651e+01,  1.4036e+01,\n",
      "          1.3905e+01,  1.3558e+01,  1.4409e+01,  1.4100e+01,  1.3354e+01,\n",
      "          1.3320e+01,  1.4188e+01,  1.5494e+01,  1.5738e+01,  1.5627e+01,\n",
      "          1.4671e+01,  1.4469e+01,  1.3101e+01],\n",
      "        [ 9.9900e+02,  3.5310e+00,  4.1060e+00,  4.8510e+00,  4.0760e+00,\n",
      "          6.4710e+00,  8.6470e+00,  8.0880e+00,  8.6370e+00,  9.8040e+00,\n",
      "          1.3206e+01,  1.3950e+01,  1.4951e+01,  1.4265e+01,  1.4623e+01,\n",
      "          1.3295e+01,  1.3909e+01,  1.4400e+01,  1.4876e+01,  1.4370e+01,\n",
      "          1.4370e+01,  1.4178e+01,  1.4654e+01],\n",
      "        [ 9.9900e+02,  5.2040e+00,  6.2570e+00,  8.3190e+00,  8.2790e+00,\n",
      "          7.3370e+00,  5.1320e+00,  4.3600e-01, -1.5520e+00, -3.2960e+00,\n",
      "         -1.4810e+00, -6.5800e-01,  1.6850e+00,  2.7480e+00,  6.4860e+00,\n",
      "          8.6490e+00,  1.2269e+01,  1.3863e+01,  1.4578e+01,  1.4608e+01,\n",
      "          1.4911e+01,  1.5399e+01,  1.5220e+01],\n",
      "        [ 9.9900e+02,  9.9000e-01,  1.3350e+00,  9.8000e-01,  5.9400e-01,\n",
      "         -2.9300e-01,  7.9400e-01,  5.6700e-01, -1.1000e-02, -1.9030e+00,\n",
      "         -6.4800e-01, -3.3000e-01, -9.1300e-01, -2.3520e+00, -1.8250e+00,\n",
      "          8.1600e-01,  1.1260e+00,  1.4600e+00, -4.1900e-01, -1.0120e+00,\n",
      "         -3.0710e+00, -2.5600e+00, -2.5660e+00]])\n",
      "Batch shape,  torch.Size([10, 23])\n",
      "\n",
      "\n",
      "Embedding: \n",
      " torch.Size([10, 23, 1024])\n",
      "\n",
      "Z-scores: \n",
      " tensor([[ 9.9900e+02,  3.9120e+00,  4.2910e+00,  1.5360e+00,  3.2410e+00,\n",
      "          5.7540e+00,  8.3080e+00,  8.6160e+00,  6.5380e+00,  5.5230e+00,\n",
      "          4.4330e+00,  4.4360e+00,  3.6560e+00,  4.9910e+00,  6.3070e+00,\n",
      "          6.6140e+00,  8.5220e+00,  1.0067e+01,  1.1805e+01,  1.1966e+01,\n",
      "          1.2208e+01,  1.2216e+01,  1.3533e+01],\n",
      "        [ 9.9900e+02,  9.9900e+02,  9.9900e+02,  9.9900e+02,  9.9900e+02,\n",
      "          9.9900e+02,  9.9900e+02,  9.9900e+02,  9.9900e+02,  9.9900e+02,\n",
      "         -6.3700e-01,  2.3870e+00,  2.3960e+00,  3.2800e+00,  2.5790e+00,\n",
      "          2.1010e+00,  1.4010e+00, -1.5180e+00, -2.7130e+00, -4.0060e+00,\n",
      "         -3.7670e+00, -7.9000e-01, -4.1200e-01],\n",
      "        [ 9.9900e+02,  1.0516e+01,  1.4019e+01,  1.4181e+01,  1.4685e+01,\n",
      "          1.4293e+01,  1.4883e+01,  1.4003e+01,  1.3794e+01,  1.4082e+01,\n",
      "          1.4318e+01,  1.3942e+01,  1.3882e+01,  1.2715e+01,  1.3585e+01,\n",
      "          1.2193e+01,  1.3541e+01,  1.3487e+01,  1.4908e+01,  1.3727e+01,\n",
      "          1.3703e+01,  1.3787e+01,  1.5093e+01],\n",
      "        [ 9.9900e+02,  8.6240e+00,  1.2063e+01,  1.2144e+01,  1.3042e+01,\n",
      "          1.3269e+01,  1.4873e+01,  1.5322e+01,  1.5142e+01,  1.5211e+01,\n",
      "          1.5243e+01,  1.4872e+01,  1.3534e+01,  1.4021e+01,  1.4904e+01,\n",
      "          1.5282e+01,  1.3981e+01,  1.3578e+01,  1.3400e+01,  1.3696e+01,\n",
      "          1.4085e+01,  1.4226e+01,  1.3972e+01],\n",
      "        [ 9.9900e+02,  1.1433e+01,  1.4129e+01,  1.4755e+01,  1.5017e+01,\n",
      "          1.4798e+01,  1.4528e+01,  1.4533e+01,  1.5331e+01,  1.5179e+01,\n",
      "          1.4438e+01,  1.3916e+01,  1.4456e+01,  1.5401e+01,  1.5881e+01,\n",
      "          1.5352e+01,  1.5145e+01,  1.4826e+01,  1.4606e+01,  1.5105e+01,\n",
      "          1.4930e+01,  1.5680e+01,  1.4804e+01],\n",
      "        [ 9.9900e+02,  9.9900e+02,  3.6900e-01,  1.6300e-01,  5.4600e-01,\n",
      "         -3.0500e-01, -9.9500e-01, -2.0950e+00, -2.0600e-01,  2.8480e+00,\n",
      "          5.6360e+00,  9.4770e+00,  1.1815e+01,  1.3791e+01,  1.3639e+01,\n",
      "          1.2446e+01,  1.1763e+01,  1.2489e+01,  1.2946e+01,  1.2951e+01,\n",
      "          1.1155e+01,  1.1788e+01,  1.1836e+01],\n",
      "        [ 9.9900e+02,  2.3900e+00,  2.8230e+00,  2.3420e+00,  5.1400e-01,\n",
      "         -1.2200e+00, -1.5890e+00, -1.5970e+00,  2.3000e-02,  5.6700e-01,\n",
      "          2.9500e-01, -1.4920e+00,  1.0760e+00,  1.6260e+00,  2.2720e+00,\n",
      "         -4.5100e-01, -9.5300e-01, -2.7350e+00,  4.8900e-01,  1.0140e+00,\n",
      "          3.2260e+00,  2.0820e+00,  2.2000e+00],\n",
      "        [ 9.9900e+02,  5.4110e+00,  9.2160e+00,  1.2631e+01,  1.3705e+01,\n",
      "          1.4286e+01,  1.4091e+01,  1.4358e+01,  1.2507e+01,  1.1890e+01,\n",
      "          1.2324e+01,  1.3305e+01,  1.2442e+01,  1.2135e+01,  1.1492e+01,\n",
      "          1.1517e+01,  9.1310e+00,  8.9070e+00,  9.3830e+00,  1.2024e+01,\n",
      "          1.3650e+01,  1.4521e+01,  1.3904e+01],\n",
      "        [ 9.9900e+02, -1.8200e+00, -2.6500e+00, -1.7740e+00,  9.9100e-01,\n",
      "          3.4250e+00,  4.2630e+00,  3.7930e+00,  4.6160e+00,  8.1180e+00,\n",
      "          1.0388e+01,  1.1518e+01,  1.1353e+01,  1.1102e+01,  9.0820e+00,\n",
      "          6.0590e+00,  1.8770e+00,  1.4990e+00,  5.9600e-01,  1.1330e+00,\n",
      "          1.7040e+00,  2.2680e+00,  1.5210e+00],\n",
      "        [ 9.9900e+02,  9.9900e+02,  9.9900e+02,  9.9900e+02,  9.9900e+02,\n",
      "          9.9900e+02,  9.9900e+02,  9.9900e+02,  9.9900e+02,  9.9900e+02,\n",
      "          9.9900e+02,  3.1550e+00,  2.4820e+00,  9.1300e-01, -1.4240e+00,\n",
      "         -1.0660e+00, -1.9890e+00, -1.9890e+00,  5.3770e+00,  1.1046e+01,\n",
      "          1.3512e+01,  1.3467e+01,  1.3467e+01]])\n",
      "Batch shape,  torch.Size([10, 23])\n",
      "\n",
      "\n",
      "\n"
     ]
    },
    {
     "data": {
      "text/plain": [
       "{0: [<torch.utils.data.dataloader.DataLoader at 0x7f14c4886828>,\n",
       "  <torch.utils.data.dataloader.DataLoader at 0x7f14c4886518>,\n",
       "  <torch.utils.data.dataloader.DataLoader at 0x7f14c4886710>],\n",
       " 1: [<torch.utils.data.dataloader.DataLoader at 0x7f14c48866a0>,\n",
       "  <torch.utils.data.dataloader.DataLoader at 0x7f14321b3358>,\n",
       "  <torch.utils.data.dataloader.DataLoader at 0x7f14c48868d0>],\n",
       " 2: [<torch.utils.data.dataloader.DataLoader at 0x7f14c4886ac8>,\n",
       "  <torch.utils.data.dataloader.DataLoader at 0x7f14c4886a90>,\n",
       "  <torch.utils.data.dataloader.DataLoader at 0x7f14c4886978>],\n",
       " 3: [<torch.utils.data.dataloader.DataLoader at 0x7f14c4886e80>,\n",
       "  <torch.utils.data.dataloader.DataLoader at 0x7f14c4886ba8>,\n",
       "  <torch.utils.data.dataloader.DataLoader at 0x7f14c4886eb8>],\n",
       " 4: [<torch.utils.data.dataloader.DataLoader at 0x7f14c4886cf8>,\n",
       "  <torch.utils.data.dataloader.DataLoader at 0x7f14c4886ef0>,\n",
       "  <torch.utils.data.dataloader.DataLoader at 0x7f14c4886e48>],\n",
       " 5: [<torch.utils.data.dataloader.DataLoader at 0x7f14c4886390>,\n",
       "  <torch.utils.data.dataloader.DataLoader at 0x7f14c48860f0>,\n",
       "  <torch.utils.data.dataloader.DataLoader at 0x7f14c48862e8>],\n",
       " 6: [<torch.utils.data.dataloader.DataLoader at 0x7f14c4886400>,\n",
       "  <torch.utils.data.dataloader.DataLoader at 0x7f14c4886470>,\n",
       "  <torch.utils.data.dataloader.DataLoader at 0x7f14c4886cc0>],\n",
       " 7: [<torch.utils.data.dataloader.DataLoader at 0x7f14c4886c50>,\n",
       "  <torch.utils.data.dataloader.DataLoader at 0x7f14c4886be0>,\n",
       "  <torch.utils.data.dataloader.DataLoader at 0x7f14c48866d8>],\n",
       " 8: [<torch.utils.data.dataloader.DataLoader at 0x7f14c4886630>,\n",
       "  <torch.utils.data.dataloader.DataLoader at 0x7f14c4886668>,\n",
       "  <torch.utils.data.dataloader.DataLoader at 0x7f14c48865f8>],\n",
       " 9: [<torch.utils.data.dataloader.DataLoader at 0x7f1420888048>,\n",
       "  <torch.utils.data.dataloader.DataLoader at 0x7f14c4d29278>,\n",
       "  <torch.utils.data.dataloader.DataLoader at 0x7f14208880f0>]}"
      ]
     },
     "execution_count": 31,
     "metadata": {},
     "output_type": "execute_result"
    }
   ],
   "source": [
    "nested_cross_validation(dataset)"
   ]
  },
  {
   "cell_type": "markdown",
   "id": "506e596c",
   "metadata": {},
   "source": [
    "# 2. Create a model"
   ]
  },
  {
   "cell_type": "markdown",
   "id": "c56bd2c5",
   "metadata": {},
   "source": [
    "Size of an input and the output layers are equal to the longest sequence in the dataset."
   ]
  },
  {
   "cell_type": "code",
   "execution_count": null,
   "id": "12392f97",
   "metadata": {},
   "outputs": [],
   "source": [
    "'''longest_sequence = 0\n",
    "for e in dataset.x:\n",
    "    if len(e) > longest_sequence:\n",
    "        longest_sequence = len(e)\n",
    "print(f\"Longest sequence length is {longest_sequence}\")\n",
    "615*1024'''"
   ]
  },
  {
   "cell_type": "code",
   "execution_count": 32,
   "id": "ddd603fc",
   "metadata": {},
   "outputs": [],
   "source": [
    "from methods.nn.model import FeedForwardNet\n",
    "from pytorch_lightning import Trainer, seed_everything\n",
    "\n",
    "seed_everything = 1\n",
    "\n",
    "\n",
    "########################################################################\n",
    "# TODO: Define your hyper parameters here!                             #\n",
    "########################################################################\n",
    "hparams = {'hidden_size': 112,\n",
    "           \"learning_rate\": 1e-4\n",
    "           }\n",
    "\n",
    "########################################################################\n",
    "#                           END OF YOUR CODE                           #\n",
    "########################################################################\n",
    "model = FeedForwardNet(hparams)"
   ]
  },
  {
   "cell_type": "markdown",
   "id": "c24bb733",
   "metadata": {},
   "source": [
    "# 3. Train a model"
   ]
  },
  {
   "cell_type": "code",
   "execution_count": 33,
   "id": "1bfe664b",
   "metadata": {},
   "outputs": [
    {
     "name": "stderr",
     "output_type": "stream",
     "text": [
      "GPU available: False, used: False\n",
      "No environment variable for node rank defined. Set as 0.\n"
     ]
    },
    {
     "name": "stdout",
     "output_type": "stream",
     "text": [
      "Fold 0\n"
     ]
    },
    {
     "name": "stderr",
     "output_type": "stream",
     "text": [
      "/home/anastasiaaa/.virtualenvs/rna/lib/python3.6/site-packages/pytorch_lightning/utilities/distributed.py:23: RuntimeWarning: You have defined a `val_dataloader()` and have defined a `validation_step()`, you may also want to define `validation_epoch_end()` for accumulating stats.\n",
      "  warnings.warn(*args, **kwargs)\n",
      "/home/anastasiaaa/.virtualenvs/rna/lib/python3.6/site-packages/pytorch_lightning/utilities/distributed.py:23: UserWarning: The dataloader, val dataloader 0, does not have many workers which may be a bottleneck. Consider increasing the value of the `num_workers` argument` in the `DataLoader` init to improve performance.\n",
      "  warnings.warn(*args, **kwargs)\n"
     ]
    },
    {
     "data": {
      "application/vnd.jupyter.widget-view+json": {
       "model_id": "",
       "version_major": 2,
       "version_minor": 0
      },
      "text/plain": [
       "Validation sanity check: 0it [00:00, ?it/s]"
      ]
     },
     "metadata": {},
     "output_type": "display_data"
    },
    {
     "name": "stderr",
     "output_type": "stream",
     "text": [
      "/home/anastasiaaa/.virtualenvs/rna/lib/python3.6/site-packages/pytorch_lightning/utilities/distributed.py:23: UserWarning: The dataloader, train dataloader, does not have many workers which may be a bottleneck. Consider increasing the value of the `num_workers` argument` in the `DataLoader` init to improve performance.\n",
      "  warnings.warn(*args, **kwargs)\n"
     ]
    },
    {
     "data": {
      "application/vnd.jupyter.widget-view+json": {
       "model_id": "e910390ae74b46bca90b929b5209d5d3",
       "version_major": 2,
       "version_minor": 0
      },
      "text/plain": [
       "Training: 0it [00:00, ?it/s]"
      ]
     },
     "metadata": {},
     "output_type": "display_data"
    },
    {
     "data": {
      "application/vnd.jupyter.widget-view+json": {
       "model_id": "",
       "version_major": 2,
       "version_minor": 0
      },
      "text/plain": [
       "Validating: 0it [00:00, ?it/s]"
      ]
     },
     "metadata": {},
     "output_type": "display_data"
    },
    {
     "data": {
      "application/vnd.jupyter.widget-view+json": {
       "model_id": "",
       "version_major": 2,
       "version_minor": 0
      },
      "text/plain": [
       "Validating: 0it [00:00, ?it/s]"
      ]
     },
     "metadata": {},
     "output_type": "display_data"
    },
    {
     "data": {
      "application/vnd.jupyter.widget-view+json": {
       "model_id": "",
       "version_major": 2,
       "version_minor": 0
      },
      "text/plain": [
       "Validating: 0it [00:00, ?it/s]"
      ]
     },
     "metadata": {},
     "output_type": "display_data"
    },
    {
     "data": {
      "application/vnd.jupyter.widget-view+json": {
       "model_id": "",
       "version_major": 2,
       "version_minor": 0
      },
      "text/plain": [
       "Validating: 0it [00:00, ?it/s]"
      ]
     },
     "metadata": {},
     "output_type": "display_data"
    },
    {
     "data": {
      "application/vnd.jupyter.widget-view+json": {
       "model_id": "",
       "version_major": 2,
       "version_minor": 0
      },
      "text/plain": [
       "Validating: 0it [00:00, ?it/s]"
      ]
     },
     "metadata": {},
     "output_type": "display_data"
    },
    {
     "data": {
      "application/vnd.jupyter.widget-view+json": {
       "model_id": "",
       "version_major": 2,
       "version_minor": 0
      },
      "text/plain": [
       "Validating: 0it [00:00, ?it/s]"
      ]
     },
     "metadata": {},
     "output_type": "display_data"
    },
    {
     "data": {
      "application/vnd.jupyter.widget-view+json": {
       "model_id": "",
       "version_major": 2,
       "version_minor": 0
      },
      "text/plain": [
       "Validating: 0it [00:00, ?it/s]"
      ]
     },
     "metadata": {},
     "output_type": "display_data"
    },
    {
     "data": {
      "application/vnd.jupyter.widget-view+json": {
       "model_id": "",
       "version_major": 2,
       "version_minor": 0
      },
      "text/plain": [
       "Validating: 0it [00:00, ?it/s]"
      ]
     },
     "metadata": {},
     "output_type": "display_data"
    },
    {
     "data": {
      "application/vnd.jupyter.widget-view+json": {
       "model_id": "",
       "version_major": 2,
       "version_minor": 0
      },
      "text/plain": [
       "Validating: 0it [00:00, ?it/s]"
      ]
     },
     "metadata": {},
     "output_type": "display_data"
    },
    {
     "data": {
      "application/vnd.jupyter.widget-view+json": {
       "model_id": "",
       "version_major": 2,
       "version_minor": 0
      },
      "text/plain": [
       "Validating: 0it [00:00, ?it/s]"
      ]
     },
     "metadata": {},
     "output_type": "display_data"
    },
    {
     "data": {
      "application/vnd.jupyter.widget-view+json": {
       "model_id": "",
       "version_major": 2,
       "version_minor": 0
      },
      "text/plain": [
       "Validating: 0it [00:00, ?it/s]"
      ]
     },
     "metadata": {},
     "output_type": "display_data"
    },
    {
     "data": {
      "application/vnd.jupyter.widget-view+json": {
       "model_id": "",
       "version_major": 2,
       "version_minor": 0
      },
      "text/plain": [
       "Validating: 0it [00:00, ?it/s]"
      ]
     },
     "metadata": {},
     "output_type": "display_data"
    },
    {
     "data": {
      "application/vnd.jupyter.widget-view+json": {
       "model_id": "",
       "version_major": 2,
       "version_minor": 0
      },
      "text/plain": [
       "Validating: 0it [00:00, ?it/s]"
      ]
     },
     "metadata": {},
     "output_type": "display_data"
    },
    {
     "data": {
      "application/vnd.jupyter.widget-view+json": {
       "model_id": "",
       "version_major": 2,
       "version_minor": 0
      },
      "text/plain": [
       "Validating: 0it [00:00, ?it/s]"
      ]
     },
     "metadata": {},
     "output_type": "display_data"
    },
    {
     "data": {
      "application/vnd.jupyter.widget-view+json": {
       "model_id": "",
       "version_major": 2,
       "version_minor": 0
      },
      "text/plain": [
       "Validating: 0it [00:00, ?it/s]"
      ]
     },
     "metadata": {},
     "output_type": "display_data"
    },
    {
     "data": {
      "application/vnd.jupyter.widget-view+json": {
       "model_id": "",
       "version_major": 2,
       "version_minor": 0
      },
      "text/plain": [
       "Validating: 0it [00:00, ?it/s]"
      ]
     },
     "metadata": {},
     "output_type": "display_data"
    },
    {
     "data": {
      "application/vnd.jupyter.widget-view+json": {
       "model_id": "",
       "version_major": 2,
       "version_minor": 0
      },
      "text/plain": [
       "Validating: 0it [00:00, ?it/s]"
      ]
     },
     "metadata": {},
     "output_type": "display_data"
    },
    {
     "data": {
      "application/vnd.jupyter.widget-view+json": {
       "model_id": "",
       "version_major": 2,
       "version_minor": 0
      },
      "text/plain": [
       "Validating: 0it [00:00, ?it/s]"
      ]
     },
     "metadata": {},
     "output_type": "display_data"
    },
    {
     "data": {
      "application/vnd.jupyter.widget-view+json": {
       "model_id": "",
       "version_major": 2,
       "version_minor": 0
      },
      "text/plain": [
       "Validating: 0it [00:00, ?it/s]"
      ]
     },
     "metadata": {},
     "output_type": "display_data"
    },
    {
     "data": {
      "application/vnd.jupyter.widget-view+json": {
       "model_id": "",
       "version_major": 2,
       "version_minor": 0
      },
      "text/plain": [
       "Validating: 0it [00:00, ?it/s]"
      ]
     },
     "metadata": {},
     "output_type": "display_data"
    },
    {
     "data": {
      "application/vnd.jupyter.widget-view+json": {
       "model_id": "",
       "version_major": 2,
       "version_minor": 0
      },
      "text/plain": [
       "Validating: 0it [00:00, ?it/s]"
      ]
     },
     "metadata": {},
     "output_type": "display_data"
    },
    {
     "data": {
      "application/vnd.jupyter.widget-view+json": {
       "model_id": "",
       "version_major": 2,
       "version_minor": 0
      },
      "text/plain": [
       "Validating: 0it [00:00, ?it/s]"
      ]
     },
     "metadata": {},
     "output_type": "display_data"
    },
    {
     "data": {
      "application/vnd.jupyter.widget-view+json": {
       "model_id": "",
       "version_major": 2,
       "version_minor": 0
      },
      "text/plain": [
       "Validating: 0it [00:00, ?it/s]"
      ]
     },
     "metadata": {},
     "output_type": "display_data"
    },
    {
     "data": {
      "application/vnd.jupyter.widget-view+json": {
       "model_id": "",
       "version_major": 2,
       "version_minor": 0
      },
      "text/plain": [
       "Validating: 0it [00:00, ?it/s]"
      ]
     },
     "metadata": {},
     "output_type": "display_data"
    },
    {
     "data": {
      "application/vnd.jupyter.widget-view+json": {
       "model_id": "",
       "version_major": 2,
       "version_minor": 0
      },
      "text/plain": [
       "Validating: 0it [00:00, ?it/s]"
      ]
     },
     "metadata": {},
     "output_type": "display_data"
    },
    {
     "data": {
      "application/vnd.jupyter.widget-view+json": {
       "model_id": "",
       "version_major": 2,
       "version_minor": 0
      },
      "text/plain": [
       "Validating: 0it [00:00, ?it/s]"
      ]
     },
     "metadata": {},
     "output_type": "display_data"
    },
    {
     "data": {
      "application/vnd.jupyter.widget-view+json": {
       "model_id": "",
       "version_major": 2,
       "version_minor": 0
      },
      "text/plain": [
       "Validating: 0it [00:00, ?it/s]"
      ]
     },
     "metadata": {},
     "output_type": "display_data"
    },
    {
     "data": {
      "application/vnd.jupyter.widget-view+json": {
       "model_id": "",
       "version_major": 2,
       "version_minor": 0
      },
      "text/plain": [
       "Validating: 0it [00:00, ?it/s]"
      ]
     },
     "metadata": {},
     "output_type": "display_data"
    },
    {
     "data": {
      "application/vnd.jupyter.widget-view+json": {
       "model_id": "",
       "version_major": 2,
       "version_minor": 0
      },
      "text/plain": [
       "Validating: 0it [00:00, ?it/s]"
      ]
     },
     "metadata": {},
     "output_type": "display_data"
    },
    {
     "data": {
      "application/vnd.jupyter.widget-view+json": {
       "model_id": "",
       "version_major": 2,
       "version_minor": 0
      },
      "text/plain": [
       "Validating: 0it [00:00, ?it/s]"
      ]
     },
     "metadata": {},
     "output_type": "display_data"
    },
    {
     "data": {
      "application/vnd.jupyter.widget-view+json": {
       "model_id": "",
       "version_major": 2,
       "version_minor": 0
      },
      "text/plain": [
       "Validating: 0it [00:00, ?it/s]"
      ]
     },
     "metadata": {},
     "output_type": "display_data"
    },
    {
     "data": {
      "application/vnd.jupyter.widget-view+json": {
       "model_id": "",
       "version_major": 2,
       "version_minor": 0
      },
      "text/plain": [
       "Validating: 0it [00:00, ?it/s]"
      ]
     },
     "metadata": {},
     "output_type": "display_data"
    },
    {
     "data": {
      "application/vnd.jupyter.widget-view+json": {
       "model_id": "",
       "version_major": 2,
       "version_minor": 0
      },
      "text/plain": [
       "Validating: 0it [00:00, ?it/s]"
      ]
     },
     "metadata": {},
     "output_type": "display_data"
    },
    {
     "data": {
      "application/vnd.jupyter.widget-view+json": {
       "model_id": "",
       "version_major": 2,
       "version_minor": 0
      },
      "text/plain": [
       "Validating: 0it [00:00, ?it/s]"
      ]
     },
     "metadata": {},
     "output_type": "display_data"
    },
    {
     "data": {
      "application/vnd.jupyter.widget-view+json": {
       "model_id": "",
       "version_major": 2,
       "version_minor": 0
      },
      "text/plain": [
       "Validating: 0it [00:00, ?it/s]"
      ]
     },
     "metadata": {},
     "output_type": "display_data"
    },
    {
     "data": {
      "application/vnd.jupyter.widget-view+json": {
       "model_id": "",
       "version_major": 2,
       "version_minor": 0
      },
      "text/plain": [
       "Validating: 0it [00:00, ?it/s]"
      ]
     },
     "metadata": {},
     "output_type": "display_data"
    },
    {
     "data": {
      "application/vnd.jupyter.widget-view+json": {
       "model_id": "",
       "version_major": 2,
       "version_minor": 0
      },
      "text/plain": [
       "Validating: 0it [00:00, ?it/s]"
      ]
     },
     "metadata": {},
     "output_type": "display_data"
    },
    {
     "data": {
      "application/vnd.jupyter.widget-view+json": {
       "model_id": "",
       "version_major": 2,
       "version_minor": 0
      },
      "text/plain": [
       "Validating: 0it [00:00, ?it/s]"
      ]
     },
     "metadata": {},
     "output_type": "display_data"
    },
    {
     "data": {
      "application/vnd.jupyter.widget-view+json": {
       "model_id": "",
       "version_major": 2,
       "version_minor": 0
      },
      "text/plain": [
       "Validating: 0it [00:00, ?it/s]"
      ]
     },
     "metadata": {},
     "output_type": "display_data"
    },
    {
     "data": {
      "application/vnd.jupyter.widget-view+json": {
       "model_id": "",
       "version_major": 2,
       "version_minor": 0
      },
      "text/plain": [
       "Validating: 0it [00:00, ?it/s]"
      ]
     },
     "metadata": {},
     "output_type": "display_data"
    },
    {
     "data": {
      "application/vnd.jupyter.widget-view+json": {
       "model_id": "",
       "version_major": 2,
       "version_minor": 0
      },
      "text/plain": [
       "Validating: 0it [00:00, ?it/s]"
      ]
     },
     "metadata": {},
     "output_type": "display_data"
    },
    {
     "data": {
      "application/vnd.jupyter.widget-view+json": {
       "model_id": "",
       "version_major": 2,
       "version_minor": 0
      },
      "text/plain": [
       "Validating: 0it [00:00, ?it/s]"
      ]
     },
     "metadata": {},
     "output_type": "display_data"
    },
    {
     "data": {
      "application/vnd.jupyter.widget-view+json": {
       "model_id": "",
       "version_major": 2,
       "version_minor": 0
      },
      "text/plain": [
       "Validating: 0it [00:00, ?it/s]"
      ]
     },
     "metadata": {},
     "output_type": "display_data"
    },
    {
     "data": {
      "application/vnd.jupyter.widget-view+json": {
       "model_id": "",
       "version_major": 2,
       "version_minor": 0
      },
      "text/plain": [
       "Validating: 0it [00:00, ?it/s]"
      ]
     },
     "metadata": {},
     "output_type": "display_data"
    },
    {
     "data": {
      "application/vnd.jupyter.widget-view+json": {
       "model_id": "",
       "version_major": 2,
       "version_minor": 0
      },
      "text/plain": [
       "Validating: 0it [00:00, ?it/s]"
      ]
     },
     "metadata": {},
     "output_type": "display_data"
    },
    {
     "data": {
      "application/vnd.jupyter.widget-view+json": {
       "model_id": "",
       "version_major": 2,
       "version_minor": 0
      },
      "text/plain": [
       "Validating: 0it [00:00, ?it/s]"
      ]
     },
     "metadata": {},
     "output_type": "display_data"
    },
    {
     "data": {
      "application/vnd.jupyter.widget-view+json": {
       "model_id": "",
       "version_major": 2,
       "version_minor": 0
      },
      "text/plain": [
       "Validating: 0it [00:00, ?it/s]"
      ]
     },
     "metadata": {},
     "output_type": "display_data"
    },
    {
     "data": {
      "application/vnd.jupyter.widget-view+json": {
       "model_id": "",
       "version_major": 2,
       "version_minor": 0
      },
      "text/plain": [
       "Validating: 0it [00:00, ?it/s]"
      ]
     },
     "metadata": {},
     "output_type": "display_data"
    },
    {
     "data": {
      "application/vnd.jupyter.widget-view+json": {
       "model_id": "",
       "version_major": 2,
       "version_minor": 0
      },
      "text/plain": [
       "Validating: 0it [00:00, ?it/s]"
      ]
     },
     "metadata": {},
     "output_type": "display_data"
    },
    {
     "data": {
      "application/vnd.jupyter.widget-view+json": {
       "model_id": "",
       "version_major": 2,
       "version_minor": 0
      },
      "text/plain": [
       "Validating: 0it [00:00, ?it/s]"
      ]
     },
     "metadata": {},
     "output_type": "display_data"
    },
    {
     "data": {
      "application/vnd.jupyter.widget-view+json": {
       "model_id": "",
       "version_major": 2,
       "version_minor": 0
      },
      "text/plain": [
       "Validating: 0it [00:00, ?it/s]"
      ]
     },
     "metadata": {},
     "output_type": "display_data"
    },
    {
     "data": {
      "application/vnd.jupyter.widget-view+json": {
       "model_id": "",
       "version_major": 2,
       "version_minor": 0
      },
      "text/plain": [
       "Validating: 0it [00:00, ?it/s]"
      ]
     },
     "metadata": {},
     "output_type": "display_data"
    },
    {
     "data": {
      "application/vnd.jupyter.widget-view+json": {
       "model_id": "",
       "version_major": 2,
       "version_minor": 0
      },
      "text/plain": [
       "Validating: 0it [00:00, ?it/s]"
      ]
     },
     "metadata": {},
     "output_type": "display_data"
    },
    {
     "data": {
      "application/vnd.jupyter.widget-view+json": {
       "model_id": "",
       "version_major": 2,
       "version_minor": 0
      },
      "text/plain": [
       "Validating: 0it [00:00, ?it/s]"
      ]
     },
     "metadata": {},
     "output_type": "display_data"
    },
    {
     "data": {
      "application/vnd.jupyter.widget-view+json": {
       "model_id": "",
       "version_major": 2,
       "version_minor": 0
      },
      "text/plain": [
       "Validating: 0it [00:00, ?it/s]"
      ]
     },
     "metadata": {},
     "output_type": "display_data"
    },
    {
     "data": {
      "application/vnd.jupyter.widget-view+json": {
       "model_id": "",
       "version_major": 2,
       "version_minor": 0
      },
      "text/plain": [
       "Validating: 0it [00:00, ?it/s]"
      ]
     },
     "metadata": {},
     "output_type": "display_data"
    },
    {
     "data": {
      "application/vnd.jupyter.widget-view+json": {
       "model_id": "",
       "version_major": 2,
       "version_minor": 0
      },
      "text/plain": [
       "Validating: 0it [00:00, ?it/s]"
      ]
     },
     "metadata": {},
     "output_type": "display_data"
    },
    {
     "data": {
      "application/vnd.jupyter.widget-view+json": {
       "model_id": "",
       "version_major": 2,
       "version_minor": 0
      },
      "text/plain": [
       "Validating: 0it [00:00, ?it/s]"
      ]
     },
     "metadata": {},
     "output_type": "display_data"
    },
    {
     "data": {
      "application/vnd.jupyter.widget-view+json": {
       "model_id": "",
       "version_major": 2,
       "version_minor": 0
      },
      "text/plain": [
       "Validating: 0it [00:00, ?it/s]"
      ]
     },
     "metadata": {},
     "output_type": "display_data"
    },
    {
     "data": {
      "application/vnd.jupyter.widget-view+json": {
       "model_id": "",
       "version_major": 2,
       "version_minor": 0
      },
      "text/plain": [
       "Validating: 0it [00:00, ?it/s]"
      ]
     },
     "metadata": {},
     "output_type": "display_data"
    },
    {
     "data": {
      "application/vnd.jupyter.widget-view+json": {
       "model_id": "",
       "version_major": 2,
       "version_minor": 0
      },
      "text/plain": [
       "Validating: 0it [00:00, ?it/s]"
      ]
     },
     "metadata": {},
     "output_type": "display_data"
    },
    {
     "data": {
      "application/vnd.jupyter.widget-view+json": {
       "model_id": "",
       "version_major": 2,
       "version_minor": 0
      },
      "text/plain": [
       "Validating: 0it [00:00, ?it/s]"
      ]
     },
     "metadata": {},
     "output_type": "display_data"
    },
    {
     "data": {
      "application/vnd.jupyter.widget-view+json": {
       "model_id": "",
       "version_major": 2,
       "version_minor": 0
      },
      "text/plain": [
       "Validating: 0it [00:00, ?it/s]"
      ]
     },
     "metadata": {},
     "output_type": "display_data"
    },
    {
     "data": {
      "application/vnd.jupyter.widget-view+json": {
       "model_id": "",
       "version_major": 2,
       "version_minor": 0
      },
      "text/plain": [
       "Validating: 0it [00:00, ?it/s]"
      ]
     },
     "metadata": {},
     "output_type": "display_data"
    },
    {
     "data": {
      "application/vnd.jupyter.widget-view+json": {
       "model_id": "",
       "version_major": 2,
       "version_minor": 0
      },
      "text/plain": [
       "Validating: 0it [00:00, ?it/s]"
      ]
     },
     "metadata": {},
     "output_type": "display_data"
    },
    {
     "data": {
      "application/vnd.jupyter.widget-view+json": {
       "model_id": "",
       "version_major": 2,
       "version_minor": 0
      },
      "text/plain": [
       "Validating: 0it [00:00, ?it/s]"
      ]
     },
     "metadata": {},
     "output_type": "display_data"
    },
    {
     "data": {
      "application/vnd.jupyter.widget-view+json": {
       "model_id": "",
       "version_major": 2,
       "version_minor": 0
      },
      "text/plain": [
       "Validating: 0it [00:00, ?it/s]"
      ]
     },
     "metadata": {},
     "output_type": "display_data"
    },
    {
     "data": {
      "application/vnd.jupyter.widget-view+json": {
       "model_id": "",
       "version_major": 2,
       "version_minor": 0
      },
      "text/plain": [
       "Validating: 0it [00:00, ?it/s]"
      ]
     },
     "metadata": {},
     "output_type": "display_data"
    },
    {
     "data": {
      "application/vnd.jupyter.widget-view+json": {
       "model_id": "",
       "version_major": 2,
       "version_minor": 0
      },
      "text/plain": [
       "Validating: 0it [00:00, ?it/s]"
      ]
     },
     "metadata": {},
     "output_type": "display_data"
    },
    {
     "data": {
      "application/vnd.jupyter.widget-view+json": {
       "model_id": "",
       "version_major": 2,
       "version_minor": 0
      },
      "text/plain": [
       "Validating: 0it [00:00, ?it/s]"
      ]
     },
     "metadata": {},
     "output_type": "display_data"
    },
    {
     "data": {
      "application/vnd.jupyter.widget-view+json": {
       "model_id": "",
       "version_major": 2,
       "version_minor": 0
      },
      "text/plain": [
       "Validating: 0it [00:00, ?it/s]"
      ]
     },
     "metadata": {},
     "output_type": "display_data"
    },
    {
     "data": {
      "application/vnd.jupyter.widget-view+json": {
       "model_id": "",
       "version_major": 2,
       "version_minor": 0
      },
      "text/plain": [
       "Validating: 0it [00:00, ?it/s]"
      ]
     },
     "metadata": {},
     "output_type": "display_data"
    },
    {
     "data": {
      "application/vnd.jupyter.widget-view+json": {
       "model_id": "",
       "version_major": 2,
       "version_minor": 0
      },
      "text/plain": [
       "Validating: 0it [00:00, ?it/s]"
      ]
     },
     "metadata": {},
     "output_type": "display_data"
    },
    {
     "data": {
      "application/vnd.jupyter.widget-view+json": {
       "model_id": "",
       "version_major": 2,
       "version_minor": 0
      },
      "text/plain": [
       "Validating: 0it [00:00, ?it/s]"
      ]
     },
     "metadata": {},
     "output_type": "display_data"
    },
    {
     "data": {
      "application/vnd.jupyter.widget-view+json": {
       "model_id": "",
       "version_major": 2,
       "version_minor": 0
      },
      "text/plain": [
       "Validating: 0it [00:00, ?it/s]"
      ]
     },
     "metadata": {},
     "output_type": "display_data"
    },
    {
     "data": {
      "application/vnd.jupyter.widget-view+json": {
       "model_id": "",
       "version_major": 2,
       "version_minor": 0
      },
      "text/plain": [
       "Validating: 0it [00:00, ?it/s]"
      ]
     },
     "metadata": {},
     "output_type": "display_data"
    },
    {
     "data": {
      "application/vnd.jupyter.widget-view+json": {
       "model_id": "",
       "version_major": 2,
       "version_minor": 0
      },
      "text/plain": [
       "Validating: 0it [00:00, ?it/s]"
      ]
     },
     "metadata": {},
     "output_type": "display_data"
    },
    {
     "data": {
      "application/vnd.jupyter.widget-view+json": {
       "model_id": "",
       "version_major": 2,
       "version_minor": 0
      },
      "text/plain": [
       "Validating: 0it [00:00, ?it/s]"
      ]
     },
     "metadata": {},
     "output_type": "display_data"
    },
    {
     "data": {
      "application/vnd.jupyter.widget-view+json": {
       "model_id": "",
       "version_major": 2,
       "version_minor": 0
      },
      "text/plain": [
       "Validating: 0it [00:00, ?it/s]"
      ]
     },
     "metadata": {},
     "output_type": "display_data"
    },
    {
     "data": {
      "application/vnd.jupyter.widget-view+json": {
       "model_id": "",
       "version_major": 2,
       "version_minor": 0
      },
      "text/plain": [
       "Validating: 0it [00:00, ?it/s]"
      ]
     },
     "metadata": {},
     "output_type": "display_data"
    },
    {
     "data": {
      "application/vnd.jupyter.widget-view+json": {
       "model_id": "",
       "version_major": 2,
       "version_minor": 0
      },
      "text/plain": [
       "Validating: 0it [00:00, ?it/s]"
      ]
     },
     "metadata": {},
     "output_type": "display_data"
    },
    {
     "data": {
      "application/vnd.jupyter.widget-view+json": {
       "model_id": "",
       "version_major": 2,
       "version_minor": 0
      },
      "text/plain": [
       "Validating: 0it [00:00, ?it/s]"
      ]
     },
     "metadata": {},
     "output_type": "display_data"
    },
    {
     "data": {
      "application/vnd.jupyter.widget-view+json": {
       "model_id": "",
       "version_major": 2,
       "version_minor": 0
      },
      "text/plain": [
       "Validating: 0it [00:00, ?it/s]"
      ]
     },
     "metadata": {},
     "output_type": "display_data"
    },
    {
     "data": {
      "application/vnd.jupyter.widget-view+json": {
       "model_id": "",
       "version_major": 2,
       "version_minor": 0
      },
      "text/plain": [
       "Validating: 0it [00:00, ?it/s]"
      ]
     },
     "metadata": {},
     "output_type": "display_data"
    },
    {
     "data": {
      "application/vnd.jupyter.widget-view+json": {
       "model_id": "",
       "version_major": 2,
       "version_minor": 0
      },
      "text/plain": [
       "Validating: 0it [00:00, ?it/s]"
      ]
     },
     "metadata": {},
     "output_type": "display_data"
    },
    {
     "data": {
      "application/vnd.jupyter.widget-view+json": {
       "model_id": "",
       "version_major": 2,
       "version_minor": 0
      },
      "text/plain": [
       "Validating: 0it [00:00, ?it/s]"
      ]
     },
     "metadata": {},
     "output_type": "display_data"
    },
    {
     "data": {
      "application/vnd.jupyter.widget-view+json": {
       "model_id": "",
       "version_major": 2,
       "version_minor": 0
      },
      "text/plain": [
       "Validating: 0it [00:00, ?it/s]"
      ]
     },
     "metadata": {},
     "output_type": "display_data"
    },
    {
     "data": {
      "application/vnd.jupyter.widget-view+json": {
       "model_id": "",
       "version_major": 2,
       "version_minor": 0
      },
      "text/plain": [
       "Validating: 0it [00:00, ?it/s]"
      ]
     },
     "metadata": {},
     "output_type": "display_data"
    },
    {
     "data": {
      "application/vnd.jupyter.widget-view+json": {
       "model_id": "",
       "version_major": 2,
       "version_minor": 0
      },
      "text/plain": [
       "Validating: 0it [00:00, ?it/s]"
      ]
     },
     "metadata": {},
     "output_type": "display_data"
    },
    {
     "data": {
      "application/vnd.jupyter.widget-view+json": {
       "model_id": "",
       "version_major": 2,
       "version_minor": 0
      },
      "text/plain": [
       "Validating: 0it [00:00, ?it/s]"
      ]
     },
     "metadata": {},
     "output_type": "display_data"
    },
    {
     "data": {
      "application/vnd.jupyter.widget-view+json": {
       "model_id": "",
       "version_major": 2,
       "version_minor": 0
      },
      "text/plain": [
       "Validating: 0it [00:00, ?it/s]"
      ]
     },
     "metadata": {},
     "output_type": "display_data"
    },
    {
     "data": {
      "application/vnd.jupyter.widget-view+json": {
       "model_id": "",
       "version_major": 2,
       "version_minor": 0
      },
      "text/plain": [
       "Validating: 0it [00:00, ?it/s]"
      ]
     },
     "metadata": {},
     "output_type": "display_data"
    },
    {
     "data": {
      "application/vnd.jupyter.widget-view+json": {
       "model_id": "",
       "version_major": 2,
       "version_minor": 0
      },
      "text/plain": [
       "Validating: 0it [00:00, ?it/s]"
      ]
     },
     "metadata": {},
     "output_type": "display_data"
    },
    {
     "data": {
      "application/vnd.jupyter.widget-view+json": {
       "model_id": "",
       "version_major": 2,
       "version_minor": 0
      },
      "text/plain": [
       "Validating: 0it [00:00, ?it/s]"
      ]
     },
     "metadata": {},
     "output_type": "display_data"
    },
    {
     "data": {
      "application/vnd.jupyter.widget-view+json": {
       "model_id": "",
       "version_major": 2,
       "version_minor": 0
      },
      "text/plain": [
       "Validating: 0it [00:00, ?it/s]"
      ]
     },
     "metadata": {},
     "output_type": "display_data"
    },
    {
     "data": {
      "application/vnd.jupyter.widget-view+json": {
       "model_id": "",
       "version_major": 2,
       "version_minor": 0
      },
      "text/plain": [
       "Validating: 0it [00:00, ?it/s]"
      ]
     },
     "metadata": {},
     "output_type": "display_data"
    },
    {
     "data": {
      "application/vnd.jupyter.widget-view+json": {
       "model_id": "",
       "version_major": 2,
       "version_minor": 0
      },
      "text/plain": [
       "Validating: 0it [00:00, ?it/s]"
      ]
     },
     "metadata": {},
     "output_type": "display_data"
    },
    {
     "data": {
      "application/vnd.jupyter.widget-view+json": {
       "model_id": "",
       "version_major": 2,
       "version_minor": 0
      },
      "text/plain": [
       "Validating: 0it [00:00, ?it/s]"
      ]
     },
     "metadata": {},
     "output_type": "display_data"
    },
    {
     "data": {
      "application/vnd.jupyter.widget-view+json": {
       "model_id": "",
       "version_major": 2,
       "version_minor": 0
      },
      "text/plain": [
       "Validating: 0it [00:00, ?it/s]"
      ]
     },
     "metadata": {},
     "output_type": "display_data"
    },
    {
     "data": {
      "application/vnd.jupyter.widget-view+json": {
       "model_id": "",
       "version_major": 2,
       "version_minor": 0
      },
      "text/plain": [
       "Validating: 0it [00:00, ?it/s]"
      ]
     },
     "metadata": {},
     "output_type": "display_data"
    },
    {
     "name": "stderr",
     "output_type": "stream",
     "text": [
      "GPU available: False, used: False\n",
      "No environment variable for node rank defined. Set as 0.\n"
     ]
    },
    {
     "name": "stdout",
     "output_type": "stream",
     "text": [
      "Fold 1\n"
     ]
    },
    {
     "name": "stderr",
     "output_type": "stream",
     "text": [
      "/home/anastasiaaa/.virtualenvs/rna/lib/python3.6/site-packages/pytorch_lightning/utilities/distributed.py:23: RuntimeWarning: You have defined a `val_dataloader()` and have defined a `validation_step()`, you may also want to define `validation_epoch_end()` for accumulating stats.\n",
      "  warnings.warn(*args, **kwargs)\n",
      "/home/anastasiaaa/.virtualenvs/rna/lib/python3.6/site-packages/pytorch_lightning/utilities/distributed.py:23: UserWarning: The dataloader, val dataloader 0, does not have many workers which may be a bottleneck. Consider increasing the value of the `num_workers` argument` in the `DataLoader` init to improve performance.\n",
      "  warnings.warn(*args, **kwargs)\n"
     ]
    },
    {
     "data": {
      "application/vnd.jupyter.widget-view+json": {
       "model_id": "",
       "version_major": 2,
       "version_minor": 0
      },
      "text/plain": [
       "Validation sanity check: 0it [00:00, ?it/s]"
      ]
     },
     "metadata": {},
     "output_type": "display_data"
    },
    {
     "name": "stderr",
     "output_type": "stream",
     "text": [
      "/home/anastasiaaa/.virtualenvs/rna/lib/python3.6/site-packages/pytorch_lightning/utilities/distributed.py:23: UserWarning: The dataloader, train dataloader, does not have many workers which may be a bottleneck. Consider increasing the value of the `num_workers` argument` in the `DataLoader` init to improve performance.\n",
      "  warnings.warn(*args, **kwargs)\n"
     ]
    },
    {
     "data": {
      "application/vnd.jupyter.widget-view+json": {
       "model_id": "d2ead9af95214966ac2aaf3147614678",
       "version_major": 2,
       "version_minor": 0
      },
      "text/plain": [
       "Training: 0it [00:00, ?it/s]"
      ]
     },
     "metadata": {},
     "output_type": "display_data"
    },
    {
     "data": {
      "application/vnd.jupyter.widget-view+json": {
       "model_id": "",
       "version_major": 2,
       "version_minor": 0
      },
      "text/plain": [
       "Validating: 0it [00:00, ?it/s]"
      ]
     },
     "metadata": {},
     "output_type": "display_data"
    },
    {
     "data": {
      "application/vnd.jupyter.widget-view+json": {
       "model_id": "",
       "version_major": 2,
       "version_minor": 0
      },
      "text/plain": [
       "Validating: 0it [00:00, ?it/s]"
      ]
     },
     "metadata": {},
     "output_type": "display_data"
    },
    {
     "data": {
      "application/vnd.jupyter.widget-view+json": {
       "model_id": "",
       "version_major": 2,
       "version_minor": 0
      },
      "text/plain": [
       "Validating: 0it [00:00, ?it/s]"
      ]
     },
     "metadata": {},
     "output_type": "display_data"
    },
    {
     "data": {
      "application/vnd.jupyter.widget-view+json": {
       "model_id": "",
       "version_major": 2,
       "version_minor": 0
      },
      "text/plain": [
       "Validating: 0it [00:00, ?it/s]"
      ]
     },
     "metadata": {},
     "output_type": "display_data"
    },
    {
     "data": {
      "application/vnd.jupyter.widget-view+json": {
       "model_id": "",
       "version_major": 2,
       "version_minor": 0
      },
      "text/plain": [
       "Validating: 0it [00:00, ?it/s]"
      ]
     },
     "metadata": {},
     "output_type": "display_data"
    },
    {
     "data": {
      "application/vnd.jupyter.widget-view+json": {
       "model_id": "",
       "version_major": 2,
       "version_minor": 0
      },
      "text/plain": [
       "Validating: 0it [00:00, ?it/s]"
      ]
     },
     "metadata": {},
     "output_type": "display_data"
    },
    {
     "data": {
      "application/vnd.jupyter.widget-view+json": {
       "model_id": "",
       "version_major": 2,
       "version_minor": 0
      },
      "text/plain": [
       "Validating: 0it [00:00, ?it/s]"
      ]
     },
     "metadata": {},
     "output_type": "display_data"
    },
    {
     "data": {
      "application/vnd.jupyter.widget-view+json": {
       "model_id": "",
       "version_major": 2,
       "version_minor": 0
      },
      "text/plain": [
       "Validating: 0it [00:00, ?it/s]"
      ]
     },
     "metadata": {},
     "output_type": "display_data"
    },
    {
     "data": {
      "application/vnd.jupyter.widget-view+json": {
       "model_id": "",
       "version_major": 2,
       "version_minor": 0
      },
      "text/plain": [
       "Validating: 0it [00:00, ?it/s]"
      ]
     },
     "metadata": {},
     "output_type": "display_data"
    },
    {
     "data": {
      "application/vnd.jupyter.widget-view+json": {
       "model_id": "",
       "version_major": 2,
       "version_minor": 0
      },
      "text/plain": [
       "Validating: 0it [00:00, ?it/s]"
      ]
     },
     "metadata": {},
     "output_type": "display_data"
    },
    {
     "data": {
      "application/vnd.jupyter.widget-view+json": {
       "model_id": "",
       "version_major": 2,
       "version_minor": 0
      },
      "text/plain": [
       "Validating: 0it [00:00, ?it/s]"
      ]
     },
     "metadata": {},
     "output_type": "display_data"
    },
    {
     "data": {
      "application/vnd.jupyter.widget-view+json": {
       "model_id": "",
       "version_major": 2,
       "version_minor": 0
      },
      "text/plain": [
       "Validating: 0it [00:00, ?it/s]"
      ]
     },
     "metadata": {},
     "output_type": "display_data"
    },
    {
     "data": {
      "application/vnd.jupyter.widget-view+json": {
       "model_id": "",
       "version_major": 2,
       "version_minor": 0
      },
      "text/plain": [
       "Validating: 0it [00:00, ?it/s]"
      ]
     },
     "metadata": {},
     "output_type": "display_data"
    },
    {
     "data": {
      "application/vnd.jupyter.widget-view+json": {
       "model_id": "",
       "version_major": 2,
       "version_minor": 0
      },
      "text/plain": [
       "Validating: 0it [00:00, ?it/s]"
      ]
     },
     "metadata": {},
     "output_type": "display_data"
    },
    {
     "data": {
      "application/vnd.jupyter.widget-view+json": {
       "model_id": "",
       "version_major": 2,
       "version_minor": 0
      },
      "text/plain": [
       "Validating: 0it [00:00, ?it/s]"
      ]
     },
     "metadata": {},
     "output_type": "display_data"
    },
    {
     "data": {
      "application/vnd.jupyter.widget-view+json": {
       "model_id": "",
       "version_major": 2,
       "version_minor": 0
      },
      "text/plain": [
       "Validating: 0it [00:00, ?it/s]"
      ]
     },
     "metadata": {},
     "output_type": "display_data"
    },
    {
     "data": {
      "application/vnd.jupyter.widget-view+json": {
       "model_id": "",
       "version_major": 2,
       "version_minor": 0
      },
      "text/plain": [
       "Validating: 0it [00:00, ?it/s]"
      ]
     },
     "metadata": {},
     "output_type": "display_data"
    },
    {
     "data": {
      "application/vnd.jupyter.widget-view+json": {
       "model_id": "",
       "version_major": 2,
       "version_minor": 0
      },
      "text/plain": [
       "Validating: 0it [00:00, ?it/s]"
      ]
     },
     "metadata": {},
     "output_type": "display_data"
    },
    {
     "data": {
      "application/vnd.jupyter.widget-view+json": {
       "model_id": "",
       "version_major": 2,
       "version_minor": 0
      },
      "text/plain": [
       "Validating: 0it [00:00, ?it/s]"
      ]
     },
     "metadata": {},
     "output_type": "display_data"
    },
    {
     "data": {
      "application/vnd.jupyter.widget-view+json": {
       "model_id": "",
       "version_major": 2,
       "version_minor": 0
      },
      "text/plain": [
       "Validating: 0it [00:00, ?it/s]"
      ]
     },
     "metadata": {},
     "output_type": "display_data"
    },
    {
     "data": {
      "application/vnd.jupyter.widget-view+json": {
       "model_id": "",
       "version_major": 2,
       "version_minor": 0
      },
      "text/plain": [
       "Validating: 0it [00:00, ?it/s]"
      ]
     },
     "metadata": {},
     "output_type": "display_data"
    },
    {
     "data": {
      "application/vnd.jupyter.widget-view+json": {
       "model_id": "",
       "version_major": 2,
       "version_minor": 0
      },
      "text/plain": [
       "Validating: 0it [00:00, ?it/s]"
      ]
     },
     "metadata": {},
     "output_type": "display_data"
    },
    {
     "data": {
      "application/vnd.jupyter.widget-view+json": {
       "model_id": "",
       "version_major": 2,
       "version_minor": 0
      },
      "text/plain": [
       "Validating: 0it [00:00, ?it/s]"
      ]
     },
     "metadata": {},
     "output_type": "display_data"
    },
    {
     "data": {
      "application/vnd.jupyter.widget-view+json": {
       "model_id": "",
       "version_major": 2,
       "version_minor": 0
      },
      "text/plain": [
       "Validating: 0it [00:00, ?it/s]"
      ]
     },
     "metadata": {},
     "output_type": "display_data"
    },
    {
     "data": {
      "application/vnd.jupyter.widget-view+json": {
       "model_id": "",
       "version_major": 2,
       "version_minor": 0
      },
      "text/plain": [
       "Validating: 0it [00:00, ?it/s]"
      ]
     },
     "metadata": {},
     "output_type": "display_data"
    },
    {
     "data": {
      "application/vnd.jupyter.widget-view+json": {
       "model_id": "",
       "version_major": 2,
       "version_minor": 0
      },
      "text/plain": [
       "Validating: 0it [00:00, ?it/s]"
      ]
     },
     "metadata": {},
     "output_type": "display_data"
    },
    {
     "data": {
      "application/vnd.jupyter.widget-view+json": {
       "model_id": "",
       "version_major": 2,
       "version_minor": 0
      },
      "text/plain": [
       "Validating: 0it [00:00, ?it/s]"
      ]
     },
     "metadata": {},
     "output_type": "display_data"
    },
    {
     "data": {
      "application/vnd.jupyter.widget-view+json": {
       "model_id": "",
       "version_major": 2,
       "version_minor": 0
      },
      "text/plain": [
       "Validating: 0it [00:00, ?it/s]"
      ]
     },
     "metadata": {},
     "output_type": "display_data"
    },
    {
     "data": {
      "application/vnd.jupyter.widget-view+json": {
       "model_id": "",
       "version_major": 2,
       "version_minor": 0
      },
      "text/plain": [
       "Validating: 0it [00:00, ?it/s]"
      ]
     },
     "metadata": {},
     "output_type": "display_data"
    },
    {
     "data": {
      "application/vnd.jupyter.widget-view+json": {
       "model_id": "",
       "version_major": 2,
       "version_minor": 0
      },
      "text/plain": [
       "Validating: 0it [00:00, ?it/s]"
      ]
     },
     "metadata": {},
     "output_type": "display_data"
    },
    {
     "data": {
      "application/vnd.jupyter.widget-view+json": {
       "model_id": "",
       "version_major": 2,
       "version_minor": 0
      },
      "text/plain": [
       "Validating: 0it [00:00, ?it/s]"
      ]
     },
     "metadata": {},
     "output_type": "display_data"
    },
    {
     "data": {
      "application/vnd.jupyter.widget-view+json": {
       "model_id": "",
       "version_major": 2,
       "version_minor": 0
      },
      "text/plain": [
       "Validating: 0it [00:00, ?it/s]"
      ]
     },
     "metadata": {},
     "output_type": "display_data"
    },
    {
     "data": {
      "application/vnd.jupyter.widget-view+json": {
       "model_id": "",
       "version_major": 2,
       "version_minor": 0
      },
      "text/plain": [
       "Validating: 0it [00:00, ?it/s]"
      ]
     },
     "metadata": {},
     "output_type": "display_data"
    },
    {
     "data": {
      "application/vnd.jupyter.widget-view+json": {
       "model_id": "",
       "version_major": 2,
       "version_minor": 0
      },
      "text/plain": [
       "Validating: 0it [00:00, ?it/s]"
      ]
     },
     "metadata": {},
     "output_type": "display_data"
    },
    {
     "data": {
      "application/vnd.jupyter.widget-view+json": {
       "model_id": "",
       "version_major": 2,
       "version_minor": 0
      },
      "text/plain": [
       "Validating: 0it [00:00, ?it/s]"
      ]
     },
     "metadata": {},
     "output_type": "display_data"
    },
    {
     "data": {
      "application/vnd.jupyter.widget-view+json": {
       "model_id": "",
       "version_major": 2,
       "version_minor": 0
      },
      "text/plain": [
       "Validating: 0it [00:00, ?it/s]"
      ]
     },
     "metadata": {},
     "output_type": "display_data"
    },
    {
     "data": {
      "application/vnd.jupyter.widget-view+json": {
       "model_id": "",
       "version_major": 2,
       "version_minor": 0
      },
      "text/plain": [
       "Validating: 0it [00:00, ?it/s]"
      ]
     },
     "metadata": {},
     "output_type": "display_data"
    },
    {
     "data": {
      "application/vnd.jupyter.widget-view+json": {
       "model_id": "",
       "version_major": 2,
       "version_minor": 0
      },
      "text/plain": [
       "Validating: 0it [00:00, ?it/s]"
      ]
     },
     "metadata": {},
     "output_type": "display_data"
    },
    {
     "data": {
      "application/vnd.jupyter.widget-view+json": {
       "model_id": "",
       "version_major": 2,
       "version_minor": 0
      },
      "text/plain": [
       "Validating: 0it [00:00, ?it/s]"
      ]
     },
     "metadata": {},
     "output_type": "display_data"
    },
    {
     "data": {
      "application/vnd.jupyter.widget-view+json": {
       "model_id": "",
       "version_major": 2,
       "version_minor": 0
      },
      "text/plain": [
       "Validating: 0it [00:00, ?it/s]"
      ]
     },
     "metadata": {},
     "output_type": "display_data"
    },
    {
     "data": {
      "application/vnd.jupyter.widget-view+json": {
       "model_id": "",
       "version_major": 2,
       "version_minor": 0
      },
      "text/plain": [
       "Validating: 0it [00:00, ?it/s]"
      ]
     },
     "metadata": {},
     "output_type": "display_data"
    },
    {
     "data": {
      "application/vnd.jupyter.widget-view+json": {
       "model_id": "",
       "version_major": 2,
       "version_minor": 0
      },
      "text/plain": [
       "Validating: 0it [00:00, ?it/s]"
      ]
     },
     "metadata": {},
     "output_type": "display_data"
    },
    {
     "data": {
      "application/vnd.jupyter.widget-view+json": {
       "model_id": "",
       "version_major": 2,
       "version_minor": 0
      },
      "text/plain": [
       "Validating: 0it [00:00, ?it/s]"
      ]
     },
     "metadata": {},
     "output_type": "display_data"
    },
    {
     "data": {
      "application/vnd.jupyter.widget-view+json": {
       "model_id": "",
       "version_major": 2,
       "version_minor": 0
      },
      "text/plain": [
       "Validating: 0it [00:00, ?it/s]"
      ]
     },
     "metadata": {},
     "output_type": "display_data"
    },
    {
     "data": {
      "application/vnd.jupyter.widget-view+json": {
       "model_id": "",
       "version_major": 2,
       "version_minor": 0
      },
      "text/plain": [
       "Validating: 0it [00:00, ?it/s]"
      ]
     },
     "metadata": {},
     "output_type": "display_data"
    },
    {
     "data": {
      "application/vnd.jupyter.widget-view+json": {
       "model_id": "",
       "version_major": 2,
       "version_minor": 0
      },
      "text/plain": [
       "Validating: 0it [00:00, ?it/s]"
      ]
     },
     "metadata": {},
     "output_type": "display_data"
    },
    {
     "data": {
      "application/vnd.jupyter.widget-view+json": {
       "model_id": "",
       "version_major": 2,
       "version_minor": 0
      },
      "text/plain": [
       "Validating: 0it [00:00, ?it/s]"
      ]
     },
     "metadata": {},
     "output_type": "display_data"
    },
    {
     "data": {
      "application/vnd.jupyter.widget-view+json": {
       "model_id": "",
       "version_major": 2,
       "version_minor": 0
      },
      "text/plain": [
       "Validating: 0it [00:00, ?it/s]"
      ]
     },
     "metadata": {},
     "output_type": "display_data"
    },
    {
     "data": {
      "application/vnd.jupyter.widget-view+json": {
       "model_id": "",
       "version_major": 2,
       "version_minor": 0
      },
      "text/plain": [
       "Validating: 0it [00:00, ?it/s]"
      ]
     },
     "metadata": {},
     "output_type": "display_data"
    },
    {
     "data": {
      "application/vnd.jupyter.widget-view+json": {
       "model_id": "",
       "version_major": 2,
       "version_minor": 0
      },
      "text/plain": [
       "Validating: 0it [00:00, ?it/s]"
      ]
     },
     "metadata": {},
     "output_type": "display_data"
    },
    {
     "data": {
      "application/vnd.jupyter.widget-view+json": {
       "model_id": "",
       "version_major": 2,
       "version_minor": 0
      },
      "text/plain": [
       "Validating: 0it [00:00, ?it/s]"
      ]
     },
     "metadata": {},
     "output_type": "display_data"
    },
    {
     "data": {
      "application/vnd.jupyter.widget-view+json": {
       "model_id": "",
       "version_major": 2,
       "version_minor": 0
      },
      "text/plain": [
       "Validating: 0it [00:00, ?it/s]"
      ]
     },
     "metadata": {},
     "output_type": "display_data"
    },
    {
     "data": {
      "application/vnd.jupyter.widget-view+json": {
       "model_id": "",
       "version_major": 2,
       "version_minor": 0
      },
      "text/plain": [
       "Validating: 0it [00:00, ?it/s]"
      ]
     },
     "metadata": {},
     "output_type": "display_data"
    },
    {
     "data": {
      "application/vnd.jupyter.widget-view+json": {
       "model_id": "",
       "version_major": 2,
       "version_minor": 0
      },
      "text/plain": [
       "Validating: 0it [00:00, ?it/s]"
      ]
     },
     "metadata": {},
     "output_type": "display_data"
    },
    {
     "data": {
      "application/vnd.jupyter.widget-view+json": {
       "model_id": "",
       "version_major": 2,
       "version_minor": 0
      },
      "text/plain": [
       "Validating: 0it [00:00, ?it/s]"
      ]
     },
     "metadata": {},
     "output_type": "display_data"
    },
    {
     "data": {
      "application/vnd.jupyter.widget-view+json": {
       "model_id": "",
       "version_major": 2,
       "version_minor": 0
      },
      "text/plain": [
       "Validating: 0it [00:00, ?it/s]"
      ]
     },
     "metadata": {},
     "output_type": "display_data"
    },
    {
     "data": {
      "application/vnd.jupyter.widget-view+json": {
       "model_id": "",
       "version_major": 2,
       "version_minor": 0
      },
      "text/plain": [
       "Validating: 0it [00:00, ?it/s]"
      ]
     },
     "metadata": {},
     "output_type": "display_data"
    },
    {
     "data": {
      "application/vnd.jupyter.widget-view+json": {
       "model_id": "",
       "version_major": 2,
       "version_minor": 0
      },
      "text/plain": [
       "Validating: 0it [00:00, ?it/s]"
      ]
     },
     "metadata": {},
     "output_type": "display_data"
    },
    {
     "data": {
      "application/vnd.jupyter.widget-view+json": {
       "model_id": "",
       "version_major": 2,
       "version_minor": 0
      },
      "text/plain": [
       "Validating: 0it [00:00, ?it/s]"
      ]
     },
     "metadata": {},
     "output_type": "display_data"
    },
    {
     "data": {
      "application/vnd.jupyter.widget-view+json": {
       "model_id": "",
       "version_major": 2,
       "version_minor": 0
      },
      "text/plain": [
       "Validating: 0it [00:00, ?it/s]"
      ]
     },
     "metadata": {},
     "output_type": "display_data"
    },
    {
     "data": {
      "application/vnd.jupyter.widget-view+json": {
       "model_id": "",
       "version_major": 2,
       "version_minor": 0
      },
      "text/plain": [
       "Validating: 0it [00:00, ?it/s]"
      ]
     },
     "metadata": {},
     "output_type": "display_data"
    },
    {
     "data": {
      "application/vnd.jupyter.widget-view+json": {
       "model_id": "",
       "version_major": 2,
       "version_minor": 0
      },
      "text/plain": [
       "Validating: 0it [00:00, ?it/s]"
      ]
     },
     "metadata": {},
     "output_type": "display_data"
    },
    {
     "data": {
      "application/vnd.jupyter.widget-view+json": {
       "model_id": "",
       "version_major": 2,
       "version_minor": 0
      },
      "text/plain": [
       "Validating: 0it [00:00, ?it/s]"
      ]
     },
     "metadata": {},
     "output_type": "display_data"
    },
    {
     "data": {
      "application/vnd.jupyter.widget-view+json": {
       "model_id": "",
       "version_major": 2,
       "version_minor": 0
      },
      "text/plain": [
       "Validating: 0it [00:00, ?it/s]"
      ]
     },
     "metadata": {},
     "output_type": "display_data"
    },
    {
     "data": {
      "application/vnd.jupyter.widget-view+json": {
       "model_id": "",
       "version_major": 2,
       "version_minor": 0
      },
      "text/plain": [
       "Validating: 0it [00:00, ?it/s]"
      ]
     },
     "metadata": {},
     "output_type": "display_data"
    },
    {
     "data": {
      "application/vnd.jupyter.widget-view+json": {
       "model_id": "",
       "version_major": 2,
       "version_minor": 0
      },
      "text/plain": [
       "Validating: 0it [00:00, ?it/s]"
      ]
     },
     "metadata": {},
     "output_type": "display_data"
    },
    {
     "data": {
      "application/vnd.jupyter.widget-view+json": {
       "model_id": "",
       "version_major": 2,
       "version_minor": 0
      },
      "text/plain": [
       "Validating: 0it [00:00, ?it/s]"
      ]
     },
     "metadata": {},
     "output_type": "display_data"
    },
    {
     "data": {
      "application/vnd.jupyter.widget-view+json": {
       "model_id": "",
       "version_major": 2,
       "version_minor": 0
      },
      "text/plain": [
       "Validating: 0it [00:00, ?it/s]"
      ]
     },
     "metadata": {},
     "output_type": "display_data"
    },
    {
     "data": {
      "application/vnd.jupyter.widget-view+json": {
       "model_id": "",
       "version_major": 2,
       "version_minor": 0
      },
      "text/plain": [
       "Validating: 0it [00:00, ?it/s]"
      ]
     },
     "metadata": {},
     "output_type": "display_data"
    },
    {
     "data": {
      "application/vnd.jupyter.widget-view+json": {
       "model_id": "",
       "version_major": 2,
       "version_minor": 0
      },
      "text/plain": [
       "Validating: 0it [00:00, ?it/s]"
      ]
     },
     "metadata": {},
     "output_type": "display_data"
    },
    {
     "data": {
      "application/vnd.jupyter.widget-view+json": {
       "model_id": "",
       "version_major": 2,
       "version_minor": 0
      },
      "text/plain": [
       "Validating: 0it [00:00, ?it/s]"
      ]
     },
     "metadata": {},
     "output_type": "display_data"
    },
    {
     "data": {
      "application/vnd.jupyter.widget-view+json": {
       "model_id": "",
       "version_major": 2,
       "version_minor": 0
      },
      "text/plain": [
       "Validating: 0it [00:00, ?it/s]"
      ]
     },
     "metadata": {},
     "output_type": "display_data"
    },
    {
     "data": {
      "application/vnd.jupyter.widget-view+json": {
       "model_id": "",
       "version_major": 2,
       "version_minor": 0
      },
      "text/plain": [
       "Validating: 0it [00:00, ?it/s]"
      ]
     },
     "metadata": {},
     "output_type": "display_data"
    },
    {
     "data": {
      "application/vnd.jupyter.widget-view+json": {
       "model_id": "",
       "version_major": 2,
       "version_minor": 0
      },
      "text/plain": [
       "Validating: 0it [00:00, ?it/s]"
      ]
     },
     "metadata": {},
     "output_type": "display_data"
    },
    {
     "data": {
      "application/vnd.jupyter.widget-view+json": {
       "model_id": "",
       "version_major": 2,
       "version_minor": 0
      },
      "text/plain": [
       "Validating: 0it [00:00, ?it/s]"
      ]
     },
     "metadata": {},
     "output_type": "display_data"
    },
    {
     "data": {
      "application/vnd.jupyter.widget-view+json": {
       "model_id": "",
       "version_major": 2,
       "version_minor": 0
      },
      "text/plain": [
       "Validating: 0it [00:00, ?it/s]"
      ]
     },
     "metadata": {},
     "output_type": "display_data"
    },
    {
     "data": {
      "application/vnd.jupyter.widget-view+json": {
       "model_id": "",
       "version_major": 2,
       "version_minor": 0
      },
      "text/plain": [
       "Validating: 0it [00:00, ?it/s]"
      ]
     },
     "metadata": {},
     "output_type": "display_data"
    },
    {
     "data": {
      "application/vnd.jupyter.widget-view+json": {
       "model_id": "",
       "version_major": 2,
       "version_minor": 0
      },
      "text/plain": [
       "Validating: 0it [00:00, ?it/s]"
      ]
     },
     "metadata": {},
     "output_type": "display_data"
    },
    {
     "data": {
      "application/vnd.jupyter.widget-view+json": {
       "model_id": "",
       "version_major": 2,
       "version_minor": 0
      },
      "text/plain": [
       "Validating: 0it [00:00, ?it/s]"
      ]
     },
     "metadata": {},
     "output_type": "display_data"
    },
    {
     "data": {
      "application/vnd.jupyter.widget-view+json": {
       "model_id": "",
       "version_major": 2,
       "version_minor": 0
      },
      "text/plain": [
       "Validating: 0it [00:00, ?it/s]"
      ]
     },
     "metadata": {},
     "output_type": "display_data"
    },
    {
     "data": {
      "application/vnd.jupyter.widget-view+json": {
       "model_id": "",
       "version_major": 2,
       "version_minor": 0
      },
      "text/plain": [
       "Validating: 0it [00:00, ?it/s]"
      ]
     },
     "metadata": {},
     "output_type": "display_data"
    },
    {
     "data": {
      "application/vnd.jupyter.widget-view+json": {
       "model_id": "",
       "version_major": 2,
       "version_minor": 0
      },
      "text/plain": [
       "Validating: 0it [00:00, ?it/s]"
      ]
     },
     "metadata": {},
     "output_type": "display_data"
    },
    {
     "data": {
      "application/vnd.jupyter.widget-view+json": {
       "model_id": "",
       "version_major": 2,
       "version_minor": 0
      },
      "text/plain": [
       "Validating: 0it [00:00, ?it/s]"
      ]
     },
     "metadata": {},
     "output_type": "display_data"
    },
    {
     "data": {
      "application/vnd.jupyter.widget-view+json": {
       "model_id": "",
       "version_major": 2,
       "version_minor": 0
      },
      "text/plain": [
       "Validating: 0it [00:00, ?it/s]"
      ]
     },
     "metadata": {},
     "output_type": "display_data"
    },
    {
     "data": {
      "application/vnd.jupyter.widget-view+json": {
       "model_id": "",
       "version_major": 2,
       "version_minor": 0
      },
      "text/plain": [
       "Validating: 0it [00:00, ?it/s]"
      ]
     },
     "metadata": {},
     "output_type": "display_data"
    },
    {
     "data": {
      "application/vnd.jupyter.widget-view+json": {
       "model_id": "",
       "version_major": 2,
       "version_minor": 0
      },
      "text/plain": [
       "Validating: 0it [00:00, ?it/s]"
      ]
     },
     "metadata": {},
     "output_type": "display_data"
    },
    {
     "data": {
      "application/vnd.jupyter.widget-view+json": {
       "model_id": "",
       "version_major": 2,
       "version_minor": 0
      },
      "text/plain": [
       "Validating: 0it [00:00, ?it/s]"
      ]
     },
     "metadata": {},
     "output_type": "display_data"
    },
    {
     "data": {
      "application/vnd.jupyter.widget-view+json": {
       "model_id": "",
       "version_major": 2,
       "version_minor": 0
      },
      "text/plain": [
       "Validating: 0it [00:00, ?it/s]"
      ]
     },
     "metadata": {},
     "output_type": "display_data"
    },
    {
     "data": {
      "application/vnd.jupyter.widget-view+json": {
       "model_id": "",
       "version_major": 2,
       "version_minor": 0
      },
      "text/plain": [
       "Validating: 0it [00:00, ?it/s]"
      ]
     },
     "metadata": {},
     "output_type": "display_data"
    },
    {
     "data": {
      "application/vnd.jupyter.widget-view+json": {
       "model_id": "",
       "version_major": 2,
       "version_minor": 0
      },
      "text/plain": [
       "Validating: 0it [00:00, ?it/s]"
      ]
     },
     "metadata": {},
     "output_type": "display_data"
    },
    {
     "data": {
      "application/vnd.jupyter.widget-view+json": {
       "model_id": "",
       "version_major": 2,
       "version_minor": 0
      },
      "text/plain": [
       "Validating: 0it [00:00, ?it/s]"
      ]
     },
     "metadata": {},
     "output_type": "display_data"
    },
    {
     "data": {
      "application/vnd.jupyter.widget-view+json": {
       "model_id": "",
       "version_major": 2,
       "version_minor": 0
      },
      "text/plain": [
       "Validating: 0it [00:00, ?it/s]"
      ]
     },
     "metadata": {},
     "output_type": "display_data"
    },
    {
     "data": {
      "application/vnd.jupyter.widget-view+json": {
       "model_id": "",
       "version_major": 2,
       "version_minor": 0
      },
      "text/plain": [
       "Validating: 0it [00:00, ?it/s]"
      ]
     },
     "metadata": {},
     "output_type": "display_data"
    },
    {
     "data": {
      "application/vnd.jupyter.widget-view+json": {
       "model_id": "",
       "version_major": 2,
       "version_minor": 0
      },
      "text/plain": [
       "Validating: 0it [00:00, ?it/s]"
      ]
     },
     "metadata": {},
     "output_type": "display_data"
    },
    {
     "data": {
      "application/vnd.jupyter.widget-view+json": {
       "model_id": "",
       "version_major": 2,
       "version_minor": 0
      },
      "text/plain": [
       "Validating: 0it [00:00, ?it/s]"
      ]
     },
     "metadata": {},
     "output_type": "display_data"
    },
    {
     "data": {
      "application/vnd.jupyter.widget-view+json": {
       "model_id": "",
       "version_major": 2,
       "version_minor": 0
      },
      "text/plain": [
       "Validating: 0it [00:00, ?it/s]"
      ]
     },
     "metadata": {},
     "output_type": "display_data"
    },
    {
     "data": {
      "application/vnd.jupyter.widget-view+json": {
       "model_id": "",
       "version_major": 2,
       "version_minor": 0
      },
      "text/plain": [
       "Validating: 0it [00:00, ?it/s]"
      ]
     },
     "metadata": {},
     "output_type": "display_data"
    },
    {
     "data": {
      "application/vnd.jupyter.widget-view+json": {
       "model_id": "",
       "version_major": 2,
       "version_minor": 0
      },
      "text/plain": [
       "Validating: 0it [00:00, ?it/s]"
      ]
     },
     "metadata": {},
     "output_type": "display_data"
    },
    {
     "data": {
      "application/vnd.jupyter.widget-view+json": {
       "model_id": "",
       "version_major": 2,
       "version_minor": 0
      },
      "text/plain": [
       "Validating: 0it [00:00, ?it/s]"
      ]
     },
     "metadata": {},
     "output_type": "display_data"
    },
    {
     "data": {
      "application/vnd.jupyter.widget-view+json": {
       "model_id": "",
       "version_major": 2,
       "version_minor": 0
      },
      "text/plain": [
       "Validating: 0it [00:00, ?it/s]"
      ]
     },
     "metadata": {},
     "output_type": "display_data"
    },
    {
     "name": "stderr",
     "output_type": "stream",
     "text": [
      "GPU available: False, used: False\n",
      "No environment variable for node rank defined. Set as 0.\n"
     ]
    },
    {
     "name": "stdout",
     "output_type": "stream",
     "text": [
      "Fold 2\n"
     ]
    },
    {
     "name": "stderr",
     "output_type": "stream",
     "text": [
      "/home/anastasiaaa/.virtualenvs/rna/lib/python3.6/site-packages/pytorch_lightning/utilities/distributed.py:23: RuntimeWarning: You have defined a `val_dataloader()` and have defined a `validation_step()`, you may also want to define `validation_epoch_end()` for accumulating stats.\n",
      "  warnings.warn(*args, **kwargs)\n",
      "/home/anastasiaaa/.virtualenvs/rna/lib/python3.6/site-packages/pytorch_lightning/utilities/distributed.py:23: UserWarning: The dataloader, val dataloader 0, does not have many workers which may be a bottleneck. Consider increasing the value of the `num_workers` argument` in the `DataLoader` init to improve performance.\n",
      "  warnings.warn(*args, **kwargs)\n"
     ]
    },
    {
     "data": {
      "application/vnd.jupyter.widget-view+json": {
       "model_id": "",
       "version_major": 2,
       "version_minor": 0
      },
      "text/plain": [
       "Validation sanity check: 0it [00:00, ?it/s]"
      ]
     },
     "metadata": {},
     "output_type": "display_data"
    },
    {
     "name": "stderr",
     "output_type": "stream",
     "text": [
      "/home/anastasiaaa/.virtualenvs/rna/lib/python3.6/site-packages/pytorch_lightning/utilities/distributed.py:23: UserWarning: The dataloader, train dataloader, does not have many workers which may be a bottleneck. Consider increasing the value of the `num_workers` argument` in the `DataLoader` init to improve performance.\n",
      "  warnings.warn(*args, **kwargs)\n"
     ]
    },
    {
     "data": {
      "application/vnd.jupyter.widget-view+json": {
       "model_id": "5ff2eeddf38248948302726749e94b7b",
       "version_major": 2,
       "version_minor": 0
      },
      "text/plain": [
       "Training: 0it [00:00, ?it/s]"
      ]
     },
     "metadata": {},
     "output_type": "display_data"
    },
    {
     "data": {
      "application/vnd.jupyter.widget-view+json": {
       "model_id": "",
       "version_major": 2,
       "version_minor": 0
      },
      "text/plain": [
       "Validating: 0it [00:00, ?it/s]"
      ]
     },
     "metadata": {},
     "output_type": "display_data"
    },
    {
     "data": {
      "application/vnd.jupyter.widget-view+json": {
       "model_id": "",
       "version_major": 2,
       "version_minor": 0
      },
      "text/plain": [
       "Validating: 0it [00:00, ?it/s]"
      ]
     },
     "metadata": {},
     "output_type": "display_data"
    },
    {
     "data": {
      "application/vnd.jupyter.widget-view+json": {
       "model_id": "",
       "version_major": 2,
       "version_minor": 0
      },
      "text/plain": [
       "Validating: 0it [00:00, ?it/s]"
      ]
     },
     "metadata": {},
     "output_type": "display_data"
    },
    {
     "data": {
      "application/vnd.jupyter.widget-view+json": {
       "model_id": "",
       "version_major": 2,
       "version_minor": 0
      },
      "text/plain": [
       "Validating: 0it [00:00, ?it/s]"
      ]
     },
     "metadata": {},
     "output_type": "display_data"
    },
    {
     "data": {
      "application/vnd.jupyter.widget-view+json": {
       "model_id": "",
       "version_major": 2,
       "version_minor": 0
      },
      "text/plain": [
       "Validating: 0it [00:00, ?it/s]"
      ]
     },
     "metadata": {},
     "output_type": "display_data"
    },
    {
     "data": {
      "application/vnd.jupyter.widget-view+json": {
       "model_id": "",
       "version_major": 2,
       "version_minor": 0
      },
      "text/plain": [
       "Validating: 0it [00:00, ?it/s]"
      ]
     },
     "metadata": {},
     "output_type": "display_data"
    },
    {
     "data": {
      "application/vnd.jupyter.widget-view+json": {
       "model_id": "",
       "version_major": 2,
       "version_minor": 0
      },
      "text/plain": [
       "Validating: 0it [00:00, ?it/s]"
      ]
     },
     "metadata": {},
     "output_type": "display_data"
    },
    {
     "data": {
      "application/vnd.jupyter.widget-view+json": {
       "model_id": "",
       "version_major": 2,
       "version_minor": 0
      },
      "text/plain": [
       "Validating: 0it [00:00, ?it/s]"
      ]
     },
     "metadata": {},
     "output_type": "display_data"
    },
    {
     "data": {
      "application/vnd.jupyter.widget-view+json": {
       "model_id": "",
       "version_major": 2,
       "version_minor": 0
      },
      "text/plain": [
       "Validating: 0it [00:00, ?it/s]"
      ]
     },
     "metadata": {},
     "output_type": "display_data"
    },
    {
     "data": {
      "application/vnd.jupyter.widget-view+json": {
       "model_id": "",
       "version_major": 2,
       "version_minor": 0
      },
      "text/plain": [
       "Validating: 0it [00:00, ?it/s]"
      ]
     },
     "metadata": {},
     "output_type": "display_data"
    },
    {
     "data": {
      "application/vnd.jupyter.widget-view+json": {
       "model_id": "",
       "version_major": 2,
       "version_minor": 0
      },
      "text/plain": [
       "Validating: 0it [00:00, ?it/s]"
      ]
     },
     "metadata": {},
     "output_type": "display_data"
    },
    {
     "data": {
      "application/vnd.jupyter.widget-view+json": {
       "model_id": "",
       "version_major": 2,
       "version_minor": 0
      },
      "text/plain": [
       "Validating: 0it [00:00, ?it/s]"
      ]
     },
     "metadata": {},
     "output_type": "display_data"
    },
    {
     "data": {
      "application/vnd.jupyter.widget-view+json": {
       "model_id": "",
       "version_major": 2,
       "version_minor": 0
      },
      "text/plain": [
       "Validating: 0it [00:00, ?it/s]"
      ]
     },
     "metadata": {},
     "output_type": "display_data"
    },
    {
     "data": {
      "application/vnd.jupyter.widget-view+json": {
       "model_id": "",
       "version_major": 2,
       "version_minor": 0
      },
      "text/plain": [
       "Validating: 0it [00:00, ?it/s]"
      ]
     },
     "metadata": {},
     "output_type": "display_data"
    },
    {
     "data": {
      "application/vnd.jupyter.widget-view+json": {
       "model_id": "",
       "version_major": 2,
       "version_minor": 0
      },
      "text/plain": [
       "Validating: 0it [00:00, ?it/s]"
      ]
     },
     "metadata": {},
     "output_type": "display_data"
    },
    {
     "data": {
      "application/vnd.jupyter.widget-view+json": {
       "model_id": "",
       "version_major": 2,
       "version_minor": 0
      },
      "text/plain": [
       "Validating: 0it [00:00, ?it/s]"
      ]
     },
     "metadata": {},
     "output_type": "display_data"
    },
    {
     "data": {
      "application/vnd.jupyter.widget-view+json": {
       "model_id": "",
       "version_major": 2,
       "version_minor": 0
      },
      "text/plain": [
       "Validating: 0it [00:00, ?it/s]"
      ]
     },
     "metadata": {},
     "output_type": "display_data"
    },
    {
     "data": {
      "application/vnd.jupyter.widget-view+json": {
       "model_id": "",
       "version_major": 2,
       "version_minor": 0
      },
      "text/plain": [
       "Validating: 0it [00:00, ?it/s]"
      ]
     },
     "metadata": {},
     "output_type": "display_data"
    },
    {
     "data": {
      "application/vnd.jupyter.widget-view+json": {
       "model_id": "",
       "version_major": 2,
       "version_minor": 0
      },
      "text/plain": [
       "Validating: 0it [00:00, ?it/s]"
      ]
     },
     "metadata": {},
     "output_type": "display_data"
    },
    {
     "data": {
      "application/vnd.jupyter.widget-view+json": {
       "model_id": "",
       "version_major": 2,
       "version_minor": 0
      },
      "text/plain": [
       "Validating: 0it [00:00, ?it/s]"
      ]
     },
     "metadata": {},
     "output_type": "display_data"
    },
    {
     "data": {
      "application/vnd.jupyter.widget-view+json": {
       "model_id": "",
       "version_major": 2,
       "version_minor": 0
      },
      "text/plain": [
       "Validating: 0it [00:00, ?it/s]"
      ]
     },
     "metadata": {},
     "output_type": "display_data"
    },
    {
     "data": {
      "application/vnd.jupyter.widget-view+json": {
       "model_id": "",
       "version_major": 2,
       "version_minor": 0
      },
      "text/plain": [
       "Validating: 0it [00:00, ?it/s]"
      ]
     },
     "metadata": {},
     "output_type": "display_data"
    },
    {
     "data": {
      "application/vnd.jupyter.widget-view+json": {
       "model_id": "",
       "version_major": 2,
       "version_minor": 0
      },
      "text/plain": [
       "Validating: 0it [00:00, ?it/s]"
      ]
     },
     "metadata": {},
     "output_type": "display_data"
    },
    {
     "data": {
      "application/vnd.jupyter.widget-view+json": {
       "model_id": "",
       "version_major": 2,
       "version_minor": 0
      },
      "text/plain": [
       "Validating: 0it [00:00, ?it/s]"
      ]
     },
     "metadata": {},
     "output_type": "display_data"
    },
    {
     "data": {
      "application/vnd.jupyter.widget-view+json": {
       "model_id": "",
       "version_major": 2,
       "version_minor": 0
      },
      "text/plain": [
       "Validating: 0it [00:00, ?it/s]"
      ]
     },
     "metadata": {},
     "output_type": "display_data"
    },
    {
     "data": {
      "application/vnd.jupyter.widget-view+json": {
       "model_id": "",
       "version_major": 2,
       "version_minor": 0
      },
      "text/plain": [
       "Validating: 0it [00:00, ?it/s]"
      ]
     },
     "metadata": {},
     "output_type": "display_data"
    },
    {
     "data": {
      "application/vnd.jupyter.widget-view+json": {
       "model_id": "",
       "version_major": 2,
       "version_minor": 0
      },
      "text/plain": [
       "Validating: 0it [00:00, ?it/s]"
      ]
     },
     "metadata": {},
     "output_type": "display_data"
    },
    {
     "data": {
      "application/vnd.jupyter.widget-view+json": {
       "model_id": "",
       "version_major": 2,
       "version_minor": 0
      },
      "text/plain": [
       "Validating: 0it [00:00, ?it/s]"
      ]
     },
     "metadata": {},
     "output_type": "display_data"
    },
    {
     "data": {
      "application/vnd.jupyter.widget-view+json": {
       "model_id": "",
       "version_major": 2,
       "version_minor": 0
      },
      "text/plain": [
       "Validating: 0it [00:00, ?it/s]"
      ]
     },
     "metadata": {},
     "output_type": "display_data"
    },
    {
     "data": {
      "application/vnd.jupyter.widget-view+json": {
       "model_id": "",
       "version_major": 2,
       "version_minor": 0
      },
      "text/plain": [
       "Validating: 0it [00:00, ?it/s]"
      ]
     },
     "metadata": {},
     "output_type": "display_data"
    },
    {
     "data": {
      "application/vnd.jupyter.widget-view+json": {
       "model_id": "",
       "version_major": 2,
       "version_minor": 0
      },
      "text/plain": [
       "Validating: 0it [00:00, ?it/s]"
      ]
     },
     "metadata": {},
     "output_type": "display_data"
    },
    {
     "data": {
      "application/vnd.jupyter.widget-view+json": {
       "model_id": "",
       "version_major": 2,
       "version_minor": 0
      },
      "text/plain": [
       "Validating: 0it [00:00, ?it/s]"
      ]
     },
     "metadata": {},
     "output_type": "display_data"
    },
    {
     "data": {
      "application/vnd.jupyter.widget-view+json": {
       "model_id": "",
       "version_major": 2,
       "version_minor": 0
      },
      "text/plain": [
       "Validating: 0it [00:00, ?it/s]"
      ]
     },
     "metadata": {},
     "output_type": "display_data"
    },
    {
     "data": {
      "application/vnd.jupyter.widget-view+json": {
       "model_id": "",
       "version_major": 2,
       "version_minor": 0
      },
      "text/plain": [
       "Validating: 0it [00:00, ?it/s]"
      ]
     },
     "metadata": {},
     "output_type": "display_data"
    },
    {
     "data": {
      "application/vnd.jupyter.widget-view+json": {
       "model_id": "",
       "version_major": 2,
       "version_minor": 0
      },
      "text/plain": [
       "Validating: 0it [00:00, ?it/s]"
      ]
     },
     "metadata": {},
     "output_type": "display_data"
    },
    {
     "data": {
      "application/vnd.jupyter.widget-view+json": {
       "model_id": "",
       "version_major": 2,
       "version_minor": 0
      },
      "text/plain": [
       "Validating: 0it [00:00, ?it/s]"
      ]
     },
     "metadata": {},
     "output_type": "display_data"
    },
    {
     "data": {
      "application/vnd.jupyter.widget-view+json": {
       "model_id": "",
       "version_major": 2,
       "version_minor": 0
      },
      "text/plain": [
       "Validating: 0it [00:00, ?it/s]"
      ]
     },
     "metadata": {},
     "output_type": "display_data"
    },
    {
     "data": {
      "application/vnd.jupyter.widget-view+json": {
       "model_id": "",
       "version_major": 2,
       "version_minor": 0
      },
      "text/plain": [
       "Validating: 0it [00:00, ?it/s]"
      ]
     },
     "metadata": {},
     "output_type": "display_data"
    },
    {
     "data": {
      "application/vnd.jupyter.widget-view+json": {
       "model_id": "",
       "version_major": 2,
       "version_minor": 0
      },
      "text/plain": [
       "Validating: 0it [00:00, ?it/s]"
      ]
     },
     "metadata": {},
     "output_type": "display_data"
    },
    {
     "data": {
      "application/vnd.jupyter.widget-view+json": {
       "model_id": "",
       "version_major": 2,
       "version_minor": 0
      },
      "text/plain": [
       "Validating: 0it [00:00, ?it/s]"
      ]
     },
     "metadata": {},
     "output_type": "display_data"
    },
    {
     "data": {
      "application/vnd.jupyter.widget-view+json": {
       "model_id": "",
       "version_major": 2,
       "version_minor": 0
      },
      "text/plain": [
       "Validating: 0it [00:00, ?it/s]"
      ]
     },
     "metadata": {},
     "output_type": "display_data"
    },
    {
     "data": {
      "application/vnd.jupyter.widget-view+json": {
       "model_id": "",
       "version_major": 2,
       "version_minor": 0
      },
      "text/plain": [
       "Validating: 0it [00:00, ?it/s]"
      ]
     },
     "metadata": {},
     "output_type": "display_data"
    },
    {
     "data": {
      "application/vnd.jupyter.widget-view+json": {
       "model_id": "",
       "version_major": 2,
       "version_minor": 0
      },
      "text/plain": [
       "Validating: 0it [00:00, ?it/s]"
      ]
     },
     "metadata": {},
     "output_type": "display_data"
    },
    {
     "data": {
      "application/vnd.jupyter.widget-view+json": {
       "model_id": "",
       "version_major": 2,
       "version_minor": 0
      },
      "text/plain": [
       "Validating: 0it [00:00, ?it/s]"
      ]
     },
     "metadata": {},
     "output_type": "display_data"
    },
    {
     "data": {
      "application/vnd.jupyter.widget-view+json": {
       "model_id": "",
       "version_major": 2,
       "version_minor": 0
      },
      "text/plain": [
       "Validating: 0it [00:00, ?it/s]"
      ]
     },
     "metadata": {},
     "output_type": "display_data"
    },
    {
     "data": {
      "application/vnd.jupyter.widget-view+json": {
       "model_id": "",
       "version_major": 2,
       "version_minor": 0
      },
      "text/plain": [
       "Validating: 0it [00:00, ?it/s]"
      ]
     },
     "metadata": {},
     "output_type": "display_data"
    },
    {
     "data": {
      "application/vnd.jupyter.widget-view+json": {
       "model_id": "",
       "version_major": 2,
       "version_minor": 0
      },
      "text/plain": [
       "Validating: 0it [00:00, ?it/s]"
      ]
     },
     "metadata": {},
     "output_type": "display_data"
    },
    {
     "data": {
      "application/vnd.jupyter.widget-view+json": {
       "model_id": "",
       "version_major": 2,
       "version_minor": 0
      },
      "text/plain": [
       "Validating: 0it [00:00, ?it/s]"
      ]
     },
     "metadata": {},
     "output_type": "display_data"
    },
    {
     "data": {
      "application/vnd.jupyter.widget-view+json": {
       "model_id": "",
       "version_major": 2,
       "version_minor": 0
      },
      "text/plain": [
       "Validating: 0it [00:00, ?it/s]"
      ]
     },
     "metadata": {},
     "output_type": "display_data"
    },
    {
     "data": {
      "application/vnd.jupyter.widget-view+json": {
       "model_id": "",
       "version_major": 2,
       "version_minor": 0
      },
      "text/plain": [
       "Validating: 0it [00:00, ?it/s]"
      ]
     },
     "metadata": {},
     "output_type": "display_data"
    },
    {
     "data": {
      "application/vnd.jupyter.widget-view+json": {
       "model_id": "",
       "version_major": 2,
       "version_minor": 0
      },
      "text/plain": [
       "Validating: 0it [00:00, ?it/s]"
      ]
     },
     "metadata": {},
     "output_type": "display_data"
    },
    {
     "data": {
      "application/vnd.jupyter.widget-view+json": {
       "model_id": "",
       "version_major": 2,
       "version_minor": 0
      },
      "text/plain": [
       "Validating: 0it [00:00, ?it/s]"
      ]
     },
     "metadata": {},
     "output_type": "display_data"
    },
    {
     "data": {
      "application/vnd.jupyter.widget-view+json": {
       "model_id": "",
       "version_major": 2,
       "version_minor": 0
      },
      "text/plain": [
       "Validating: 0it [00:00, ?it/s]"
      ]
     },
     "metadata": {},
     "output_type": "display_data"
    },
    {
     "data": {
      "application/vnd.jupyter.widget-view+json": {
       "model_id": "",
       "version_major": 2,
       "version_minor": 0
      },
      "text/plain": [
       "Validating: 0it [00:00, ?it/s]"
      ]
     },
     "metadata": {},
     "output_type": "display_data"
    },
    {
     "data": {
      "application/vnd.jupyter.widget-view+json": {
       "model_id": "",
       "version_major": 2,
       "version_minor": 0
      },
      "text/plain": [
       "Validating: 0it [00:00, ?it/s]"
      ]
     },
     "metadata": {},
     "output_type": "display_data"
    },
    {
     "data": {
      "application/vnd.jupyter.widget-view+json": {
       "model_id": "",
       "version_major": 2,
       "version_minor": 0
      },
      "text/plain": [
       "Validating: 0it [00:00, ?it/s]"
      ]
     },
     "metadata": {},
     "output_type": "display_data"
    },
    {
     "data": {
      "application/vnd.jupyter.widget-view+json": {
       "model_id": "",
       "version_major": 2,
       "version_minor": 0
      },
      "text/plain": [
       "Validating: 0it [00:00, ?it/s]"
      ]
     },
     "metadata": {},
     "output_type": "display_data"
    },
    {
     "data": {
      "application/vnd.jupyter.widget-view+json": {
       "model_id": "",
       "version_major": 2,
       "version_minor": 0
      },
      "text/plain": [
       "Validating: 0it [00:00, ?it/s]"
      ]
     },
     "metadata": {},
     "output_type": "display_data"
    },
    {
     "data": {
      "application/vnd.jupyter.widget-view+json": {
       "model_id": "",
       "version_major": 2,
       "version_minor": 0
      },
      "text/plain": [
       "Validating: 0it [00:00, ?it/s]"
      ]
     },
     "metadata": {},
     "output_type": "display_data"
    },
    {
     "data": {
      "application/vnd.jupyter.widget-view+json": {
       "model_id": "",
       "version_major": 2,
       "version_minor": 0
      },
      "text/plain": [
       "Validating: 0it [00:00, ?it/s]"
      ]
     },
     "metadata": {},
     "output_type": "display_data"
    },
    {
     "data": {
      "application/vnd.jupyter.widget-view+json": {
       "model_id": "",
       "version_major": 2,
       "version_minor": 0
      },
      "text/plain": [
       "Validating: 0it [00:00, ?it/s]"
      ]
     },
     "metadata": {},
     "output_type": "display_data"
    },
    {
     "data": {
      "application/vnd.jupyter.widget-view+json": {
       "model_id": "",
       "version_major": 2,
       "version_minor": 0
      },
      "text/plain": [
       "Validating: 0it [00:00, ?it/s]"
      ]
     },
     "metadata": {},
     "output_type": "display_data"
    },
    {
     "data": {
      "application/vnd.jupyter.widget-view+json": {
       "model_id": "",
       "version_major": 2,
       "version_minor": 0
      },
      "text/plain": [
       "Validating: 0it [00:00, ?it/s]"
      ]
     },
     "metadata": {},
     "output_type": "display_data"
    },
    {
     "data": {
      "application/vnd.jupyter.widget-view+json": {
       "model_id": "",
       "version_major": 2,
       "version_minor": 0
      },
      "text/plain": [
       "Validating: 0it [00:00, ?it/s]"
      ]
     },
     "metadata": {},
     "output_type": "display_data"
    },
    {
     "data": {
      "application/vnd.jupyter.widget-view+json": {
       "model_id": "",
       "version_major": 2,
       "version_minor": 0
      },
      "text/plain": [
       "Validating: 0it [00:00, ?it/s]"
      ]
     },
     "metadata": {},
     "output_type": "display_data"
    },
    {
     "data": {
      "application/vnd.jupyter.widget-view+json": {
       "model_id": "",
       "version_major": 2,
       "version_minor": 0
      },
      "text/plain": [
       "Validating: 0it [00:00, ?it/s]"
      ]
     },
     "metadata": {},
     "output_type": "display_data"
    },
    {
     "data": {
      "application/vnd.jupyter.widget-view+json": {
       "model_id": "",
       "version_major": 2,
       "version_minor": 0
      },
      "text/plain": [
       "Validating: 0it [00:00, ?it/s]"
      ]
     },
     "metadata": {},
     "output_type": "display_data"
    },
    {
     "data": {
      "application/vnd.jupyter.widget-view+json": {
       "model_id": "",
       "version_major": 2,
       "version_minor": 0
      },
      "text/plain": [
       "Validating: 0it [00:00, ?it/s]"
      ]
     },
     "metadata": {},
     "output_type": "display_data"
    },
    {
     "data": {
      "application/vnd.jupyter.widget-view+json": {
       "model_id": "",
       "version_major": 2,
       "version_minor": 0
      },
      "text/plain": [
       "Validating: 0it [00:00, ?it/s]"
      ]
     },
     "metadata": {},
     "output_type": "display_data"
    },
    {
     "data": {
      "application/vnd.jupyter.widget-view+json": {
       "model_id": "",
       "version_major": 2,
       "version_minor": 0
      },
      "text/plain": [
       "Validating: 0it [00:00, ?it/s]"
      ]
     },
     "metadata": {},
     "output_type": "display_data"
    },
    {
     "data": {
      "application/vnd.jupyter.widget-view+json": {
       "model_id": "",
       "version_major": 2,
       "version_minor": 0
      },
      "text/plain": [
       "Validating: 0it [00:00, ?it/s]"
      ]
     },
     "metadata": {},
     "output_type": "display_data"
    },
    {
     "data": {
      "application/vnd.jupyter.widget-view+json": {
       "model_id": "",
       "version_major": 2,
       "version_minor": 0
      },
      "text/plain": [
       "Validating: 0it [00:00, ?it/s]"
      ]
     },
     "metadata": {},
     "output_type": "display_data"
    },
    {
     "data": {
      "application/vnd.jupyter.widget-view+json": {
       "model_id": "",
       "version_major": 2,
       "version_minor": 0
      },
      "text/plain": [
       "Validating: 0it [00:00, ?it/s]"
      ]
     },
     "metadata": {},
     "output_type": "display_data"
    },
    {
     "data": {
      "application/vnd.jupyter.widget-view+json": {
       "model_id": "",
       "version_major": 2,
       "version_minor": 0
      },
      "text/plain": [
       "Validating: 0it [00:00, ?it/s]"
      ]
     },
     "metadata": {},
     "output_type": "display_data"
    },
    {
     "data": {
      "application/vnd.jupyter.widget-view+json": {
       "model_id": "",
       "version_major": 2,
       "version_minor": 0
      },
      "text/plain": [
       "Validating: 0it [00:00, ?it/s]"
      ]
     },
     "metadata": {},
     "output_type": "display_data"
    },
    {
     "data": {
      "application/vnd.jupyter.widget-view+json": {
       "model_id": "",
       "version_major": 2,
       "version_minor": 0
      },
      "text/plain": [
       "Validating: 0it [00:00, ?it/s]"
      ]
     },
     "metadata": {},
     "output_type": "display_data"
    },
    {
     "data": {
      "application/vnd.jupyter.widget-view+json": {
       "model_id": "",
       "version_major": 2,
       "version_minor": 0
      },
      "text/plain": [
       "Validating: 0it [00:00, ?it/s]"
      ]
     },
     "metadata": {},
     "output_type": "display_data"
    },
    {
     "data": {
      "application/vnd.jupyter.widget-view+json": {
       "model_id": "",
       "version_major": 2,
       "version_minor": 0
      },
      "text/plain": [
       "Validating: 0it [00:00, ?it/s]"
      ]
     },
     "metadata": {},
     "output_type": "display_data"
    },
    {
     "data": {
      "application/vnd.jupyter.widget-view+json": {
       "model_id": "",
       "version_major": 2,
       "version_minor": 0
      },
      "text/plain": [
       "Validating: 0it [00:00, ?it/s]"
      ]
     },
     "metadata": {},
     "output_type": "display_data"
    },
    {
     "data": {
      "application/vnd.jupyter.widget-view+json": {
       "model_id": "",
       "version_major": 2,
       "version_minor": 0
      },
      "text/plain": [
       "Validating: 0it [00:00, ?it/s]"
      ]
     },
     "metadata": {},
     "output_type": "display_data"
    },
    {
     "data": {
      "application/vnd.jupyter.widget-view+json": {
       "model_id": "",
       "version_major": 2,
       "version_minor": 0
      },
      "text/plain": [
       "Validating: 0it [00:00, ?it/s]"
      ]
     },
     "metadata": {},
     "output_type": "display_data"
    },
    {
     "data": {
      "application/vnd.jupyter.widget-view+json": {
       "model_id": "",
       "version_major": 2,
       "version_minor": 0
      },
      "text/plain": [
       "Validating: 0it [00:00, ?it/s]"
      ]
     },
     "metadata": {},
     "output_type": "display_data"
    },
    {
     "data": {
      "application/vnd.jupyter.widget-view+json": {
       "model_id": "",
       "version_major": 2,
       "version_minor": 0
      },
      "text/plain": [
       "Validating: 0it [00:00, ?it/s]"
      ]
     },
     "metadata": {},
     "output_type": "display_data"
    },
    {
     "data": {
      "application/vnd.jupyter.widget-view+json": {
       "model_id": "",
       "version_major": 2,
       "version_minor": 0
      },
      "text/plain": [
       "Validating: 0it [00:00, ?it/s]"
      ]
     },
     "metadata": {},
     "output_type": "display_data"
    },
    {
     "data": {
      "application/vnd.jupyter.widget-view+json": {
       "model_id": "",
       "version_major": 2,
       "version_minor": 0
      },
      "text/plain": [
       "Validating: 0it [00:00, ?it/s]"
      ]
     },
     "metadata": {},
     "output_type": "display_data"
    },
    {
     "data": {
      "application/vnd.jupyter.widget-view+json": {
       "model_id": "",
       "version_major": 2,
       "version_minor": 0
      },
      "text/plain": [
       "Validating: 0it [00:00, ?it/s]"
      ]
     },
     "metadata": {},
     "output_type": "display_data"
    },
    {
     "data": {
      "application/vnd.jupyter.widget-view+json": {
       "model_id": "",
       "version_major": 2,
       "version_minor": 0
      },
      "text/plain": [
       "Validating: 0it [00:00, ?it/s]"
      ]
     },
     "metadata": {},
     "output_type": "display_data"
    },
    {
     "data": {
      "application/vnd.jupyter.widget-view+json": {
       "model_id": "",
       "version_major": 2,
       "version_minor": 0
      },
      "text/plain": [
       "Validating: 0it [00:00, ?it/s]"
      ]
     },
     "metadata": {},
     "output_type": "display_data"
    },
    {
     "data": {
      "application/vnd.jupyter.widget-view+json": {
       "model_id": "",
       "version_major": 2,
       "version_minor": 0
      },
      "text/plain": [
       "Validating: 0it [00:00, ?it/s]"
      ]
     },
     "metadata": {},
     "output_type": "display_data"
    },
    {
     "data": {
      "application/vnd.jupyter.widget-view+json": {
       "model_id": "",
       "version_major": 2,
       "version_minor": 0
      },
      "text/plain": [
       "Validating: 0it [00:00, ?it/s]"
      ]
     },
     "metadata": {},
     "output_type": "display_data"
    },
    {
     "data": {
      "application/vnd.jupyter.widget-view+json": {
       "model_id": "",
       "version_major": 2,
       "version_minor": 0
      },
      "text/plain": [
       "Validating: 0it [00:00, ?it/s]"
      ]
     },
     "metadata": {},
     "output_type": "display_data"
    },
    {
     "data": {
      "application/vnd.jupyter.widget-view+json": {
       "model_id": "",
       "version_major": 2,
       "version_minor": 0
      },
      "text/plain": [
       "Validating: 0it [00:00, ?it/s]"
      ]
     },
     "metadata": {},
     "output_type": "display_data"
    },
    {
     "data": {
      "application/vnd.jupyter.widget-view+json": {
       "model_id": "",
       "version_major": 2,
       "version_minor": 0
      },
      "text/plain": [
       "Validating: 0it [00:00, ?it/s]"
      ]
     },
     "metadata": {},
     "output_type": "display_data"
    },
    {
     "data": {
      "application/vnd.jupyter.widget-view+json": {
       "model_id": "",
       "version_major": 2,
       "version_minor": 0
      },
      "text/plain": [
       "Validating: 0it [00:00, ?it/s]"
      ]
     },
     "metadata": {},
     "output_type": "display_data"
    },
    {
     "data": {
      "application/vnd.jupyter.widget-view+json": {
       "model_id": "",
       "version_major": 2,
       "version_minor": 0
      },
      "text/plain": [
       "Validating: 0it [00:00, ?it/s]"
      ]
     },
     "metadata": {},
     "output_type": "display_data"
    },
    {
     "data": {
      "application/vnd.jupyter.widget-view+json": {
       "model_id": "",
       "version_major": 2,
       "version_minor": 0
      },
      "text/plain": [
       "Validating: 0it [00:00, ?it/s]"
      ]
     },
     "metadata": {},
     "output_type": "display_data"
    },
    {
     "data": {
      "application/vnd.jupyter.widget-view+json": {
       "model_id": "",
       "version_major": 2,
       "version_minor": 0
      },
      "text/plain": [
       "Validating: 0it [00:00, ?it/s]"
      ]
     },
     "metadata": {},
     "output_type": "display_data"
    },
    {
     "data": {
      "application/vnd.jupyter.widget-view+json": {
       "model_id": "",
       "version_major": 2,
       "version_minor": 0
      },
      "text/plain": [
       "Validating: 0it [00:00, ?it/s]"
      ]
     },
     "metadata": {},
     "output_type": "display_data"
    },
    {
     "data": {
      "application/vnd.jupyter.widget-view+json": {
       "model_id": "",
       "version_major": 2,
       "version_minor": 0
      },
      "text/plain": [
       "Validating: 0it [00:00, ?it/s]"
      ]
     },
     "metadata": {},
     "output_type": "display_data"
    },
    {
     "data": {
      "application/vnd.jupyter.widget-view+json": {
       "model_id": "",
       "version_major": 2,
       "version_minor": 0
      },
      "text/plain": [
       "Validating: 0it [00:00, ?it/s]"
      ]
     },
     "metadata": {},
     "output_type": "display_data"
    },
    {
     "name": "stderr",
     "output_type": "stream",
     "text": [
      "GPU available: False, used: False\n",
      "No environment variable for node rank defined. Set as 0.\n"
     ]
    },
    {
     "name": "stdout",
     "output_type": "stream",
     "text": [
      "Fold 3\n"
     ]
    },
    {
     "name": "stderr",
     "output_type": "stream",
     "text": [
      "/home/anastasiaaa/.virtualenvs/rna/lib/python3.6/site-packages/pytorch_lightning/utilities/distributed.py:23: RuntimeWarning: You have defined a `val_dataloader()` and have defined a `validation_step()`, you may also want to define `validation_epoch_end()` for accumulating stats.\n",
      "  warnings.warn(*args, **kwargs)\n",
      "/home/anastasiaaa/.virtualenvs/rna/lib/python3.6/site-packages/pytorch_lightning/utilities/distributed.py:23: UserWarning: The dataloader, val dataloader 0, does not have many workers which may be a bottleneck. Consider increasing the value of the `num_workers` argument` in the `DataLoader` init to improve performance.\n",
      "  warnings.warn(*args, **kwargs)\n"
     ]
    },
    {
     "data": {
      "application/vnd.jupyter.widget-view+json": {
       "model_id": "",
       "version_major": 2,
       "version_minor": 0
      },
      "text/plain": [
       "Validation sanity check: 0it [00:00, ?it/s]"
      ]
     },
     "metadata": {},
     "output_type": "display_data"
    },
    {
     "name": "stderr",
     "output_type": "stream",
     "text": [
      "/home/anastasiaaa/.virtualenvs/rna/lib/python3.6/site-packages/pytorch_lightning/utilities/distributed.py:23: UserWarning: The dataloader, train dataloader, does not have many workers which may be a bottleneck. Consider increasing the value of the `num_workers` argument` in the `DataLoader` init to improve performance.\n",
      "  warnings.warn(*args, **kwargs)\n"
     ]
    },
    {
     "data": {
      "application/vnd.jupyter.widget-view+json": {
       "model_id": "42aded72562e46ff8b89a725f6b00437",
       "version_major": 2,
       "version_minor": 0
      },
      "text/plain": [
       "Training: 0it [00:00, ?it/s]"
      ]
     },
     "metadata": {},
     "output_type": "display_data"
    },
    {
     "data": {
      "application/vnd.jupyter.widget-view+json": {
       "model_id": "",
       "version_major": 2,
       "version_minor": 0
      },
      "text/plain": [
       "Validating: 0it [00:00, ?it/s]"
      ]
     },
     "metadata": {},
     "output_type": "display_data"
    },
    {
     "data": {
      "application/vnd.jupyter.widget-view+json": {
       "model_id": "",
       "version_major": 2,
       "version_minor": 0
      },
      "text/plain": [
       "Validating: 0it [00:00, ?it/s]"
      ]
     },
     "metadata": {},
     "output_type": "display_data"
    },
    {
     "data": {
      "application/vnd.jupyter.widget-view+json": {
       "model_id": "",
       "version_major": 2,
       "version_minor": 0
      },
      "text/plain": [
       "Validating: 0it [00:00, ?it/s]"
      ]
     },
     "metadata": {},
     "output_type": "display_data"
    },
    {
     "data": {
      "application/vnd.jupyter.widget-view+json": {
       "model_id": "",
       "version_major": 2,
       "version_minor": 0
      },
      "text/plain": [
       "Validating: 0it [00:00, ?it/s]"
      ]
     },
     "metadata": {},
     "output_type": "display_data"
    },
    {
     "data": {
      "application/vnd.jupyter.widget-view+json": {
       "model_id": "",
       "version_major": 2,
       "version_minor": 0
      },
      "text/plain": [
       "Validating: 0it [00:00, ?it/s]"
      ]
     },
     "metadata": {},
     "output_type": "display_data"
    },
    {
     "data": {
      "application/vnd.jupyter.widget-view+json": {
       "model_id": "",
       "version_major": 2,
       "version_minor": 0
      },
      "text/plain": [
       "Validating: 0it [00:00, ?it/s]"
      ]
     },
     "metadata": {},
     "output_type": "display_data"
    },
    {
     "data": {
      "application/vnd.jupyter.widget-view+json": {
       "model_id": "",
       "version_major": 2,
       "version_minor": 0
      },
      "text/plain": [
       "Validating: 0it [00:00, ?it/s]"
      ]
     },
     "metadata": {},
     "output_type": "display_data"
    },
    {
     "data": {
      "application/vnd.jupyter.widget-view+json": {
       "model_id": "",
       "version_major": 2,
       "version_minor": 0
      },
      "text/plain": [
       "Validating: 0it [00:00, ?it/s]"
      ]
     },
     "metadata": {},
     "output_type": "display_data"
    },
    {
     "data": {
      "application/vnd.jupyter.widget-view+json": {
       "model_id": "",
       "version_major": 2,
       "version_minor": 0
      },
      "text/plain": [
       "Validating: 0it [00:00, ?it/s]"
      ]
     },
     "metadata": {},
     "output_type": "display_data"
    },
    {
     "data": {
      "application/vnd.jupyter.widget-view+json": {
       "model_id": "",
       "version_major": 2,
       "version_minor": 0
      },
      "text/plain": [
       "Validating: 0it [00:00, ?it/s]"
      ]
     },
     "metadata": {},
     "output_type": "display_data"
    },
    {
     "data": {
      "application/vnd.jupyter.widget-view+json": {
       "model_id": "",
       "version_major": 2,
       "version_minor": 0
      },
      "text/plain": [
       "Validating: 0it [00:00, ?it/s]"
      ]
     },
     "metadata": {},
     "output_type": "display_data"
    },
    {
     "data": {
      "application/vnd.jupyter.widget-view+json": {
       "model_id": "",
       "version_major": 2,
       "version_minor": 0
      },
      "text/plain": [
       "Validating: 0it [00:00, ?it/s]"
      ]
     },
     "metadata": {},
     "output_type": "display_data"
    },
    {
     "data": {
      "application/vnd.jupyter.widget-view+json": {
       "model_id": "",
       "version_major": 2,
       "version_minor": 0
      },
      "text/plain": [
       "Validating: 0it [00:00, ?it/s]"
      ]
     },
     "metadata": {},
     "output_type": "display_data"
    },
    {
     "data": {
      "application/vnd.jupyter.widget-view+json": {
       "model_id": "",
       "version_major": 2,
       "version_minor": 0
      },
      "text/plain": [
       "Validating: 0it [00:00, ?it/s]"
      ]
     },
     "metadata": {},
     "output_type": "display_data"
    },
    {
     "data": {
      "application/vnd.jupyter.widget-view+json": {
       "model_id": "",
       "version_major": 2,
       "version_minor": 0
      },
      "text/plain": [
       "Validating: 0it [00:00, ?it/s]"
      ]
     },
     "metadata": {},
     "output_type": "display_data"
    },
    {
     "data": {
      "application/vnd.jupyter.widget-view+json": {
       "model_id": "",
       "version_major": 2,
       "version_minor": 0
      },
      "text/plain": [
       "Validating: 0it [00:00, ?it/s]"
      ]
     },
     "metadata": {},
     "output_type": "display_data"
    },
    {
     "data": {
      "application/vnd.jupyter.widget-view+json": {
       "model_id": "",
       "version_major": 2,
       "version_minor": 0
      },
      "text/plain": [
       "Validating: 0it [00:00, ?it/s]"
      ]
     },
     "metadata": {},
     "output_type": "display_data"
    },
    {
     "data": {
      "application/vnd.jupyter.widget-view+json": {
       "model_id": "",
       "version_major": 2,
       "version_minor": 0
      },
      "text/plain": [
       "Validating: 0it [00:00, ?it/s]"
      ]
     },
     "metadata": {},
     "output_type": "display_data"
    },
    {
     "data": {
      "application/vnd.jupyter.widget-view+json": {
       "model_id": "",
       "version_major": 2,
       "version_minor": 0
      },
      "text/plain": [
       "Validating: 0it [00:00, ?it/s]"
      ]
     },
     "metadata": {},
     "output_type": "display_data"
    },
    {
     "data": {
      "application/vnd.jupyter.widget-view+json": {
       "model_id": "",
       "version_major": 2,
       "version_minor": 0
      },
      "text/plain": [
       "Validating: 0it [00:00, ?it/s]"
      ]
     },
     "metadata": {},
     "output_type": "display_data"
    },
    {
     "data": {
      "application/vnd.jupyter.widget-view+json": {
       "model_id": "",
       "version_major": 2,
       "version_minor": 0
      },
      "text/plain": [
       "Validating: 0it [00:00, ?it/s]"
      ]
     },
     "metadata": {},
     "output_type": "display_data"
    },
    {
     "data": {
      "application/vnd.jupyter.widget-view+json": {
       "model_id": "",
       "version_major": 2,
       "version_minor": 0
      },
      "text/plain": [
       "Validating: 0it [00:00, ?it/s]"
      ]
     },
     "metadata": {},
     "output_type": "display_data"
    },
    {
     "data": {
      "application/vnd.jupyter.widget-view+json": {
       "model_id": "",
       "version_major": 2,
       "version_minor": 0
      },
      "text/plain": [
       "Validating: 0it [00:00, ?it/s]"
      ]
     },
     "metadata": {},
     "output_type": "display_data"
    },
    {
     "data": {
      "application/vnd.jupyter.widget-view+json": {
       "model_id": "",
       "version_major": 2,
       "version_minor": 0
      },
      "text/plain": [
       "Validating: 0it [00:00, ?it/s]"
      ]
     },
     "metadata": {},
     "output_type": "display_data"
    },
    {
     "data": {
      "application/vnd.jupyter.widget-view+json": {
       "model_id": "",
       "version_major": 2,
       "version_minor": 0
      },
      "text/plain": [
       "Validating: 0it [00:00, ?it/s]"
      ]
     },
     "metadata": {},
     "output_type": "display_data"
    },
    {
     "data": {
      "application/vnd.jupyter.widget-view+json": {
       "model_id": "",
       "version_major": 2,
       "version_minor": 0
      },
      "text/plain": [
       "Validating: 0it [00:00, ?it/s]"
      ]
     },
     "metadata": {},
     "output_type": "display_data"
    },
    {
     "data": {
      "application/vnd.jupyter.widget-view+json": {
       "model_id": "",
       "version_major": 2,
       "version_minor": 0
      },
      "text/plain": [
       "Validating: 0it [00:00, ?it/s]"
      ]
     },
     "metadata": {},
     "output_type": "display_data"
    },
    {
     "data": {
      "application/vnd.jupyter.widget-view+json": {
       "model_id": "",
       "version_major": 2,
       "version_minor": 0
      },
      "text/plain": [
       "Validating: 0it [00:00, ?it/s]"
      ]
     },
     "metadata": {},
     "output_type": "display_data"
    },
    {
     "data": {
      "application/vnd.jupyter.widget-view+json": {
       "model_id": "",
       "version_major": 2,
       "version_minor": 0
      },
      "text/plain": [
       "Validating: 0it [00:00, ?it/s]"
      ]
     },
     "metadata": {},
     "output_type": "display_data"
    },
    {
     "data": {
      "application/vnd.jupyter.widget-view+json": {
       "model_id": "",
       "version_major": 2,
       "version_minor": 0
      },
      "text/plain": [
       "Validating: 0it [00:00, ?it/s]"
      ]
     },
     "metadata": {},
     "output_type": "display_data"
    },
    {
     "data": {
      "application/vnd.jupyter.widget-view+json": {
       "model_id": "",
       "version_major": 2,
       "version_minor": 0
      },
      "text/plain": [
       "Validating: 0it [00:00, ?it/s]"
      ]
     },
     "metadata": {},
     "output_type": "display_data"
    },
    {
     "data": {
      "application/vnd.jupyter.widget-view+json": {
       "model_id": "",
       "version_major": 2,
       "version_minor": 0
      },
      "text/plain": [
       "Validating: 0it [00:00, ?it/s]"
      ]
     },
     "metadata": {},
     "output_type": "display_data"
    },
    {
     "data": {
      "application/vnd.jupyter.widget-view+json": {
       "model_id": "",
       "version_major": 2,
       "version_minor": 0
      },
      "text/plain": [
       "Validating: 0it [00:00, ?it/s]"
      ]
     },
     "metadata": {},
     "output_type": "display_data"
    },
    {
     "data": {
      "application/vnd.jupyter.widget-view+json": {
       "model_id": "",
       "version_major": 2,
       "version_minor": 0
      },
      "text/plain": [
       "Validating: 0it [00:00, ?it/s]"
      ]
     },
     "metadata": {},
     "output_type": "display_data"
    },
    {
     "data": {
      "application/vnd.jupyter.widget-view+json": {
       "model_id": "",
       "version_major": 2,
       "version_minor": 0
      },
      "text/plain": [
       "Validating: 0it [00:00, ?it/s]"
      ]
     },
     "metadata": {},
     "output_type": "display_data"
    },
    {
     "data": {
      "application/vnd.jupyter.widget-view+json": {
       "model_id": "",
       "version_major": 2,
       "version_minor": 0
      },
      "text/plain": [
       "Validating: 0it [00:00, ?it/s]"
      ]
     },
     "metadata": {},
     "output_type": "display_data"
    },
    {
     "data": {
      "application/vnd.jupyter.widget-view+json": {
       "model_id": "",
       "version_major": 2,
       "version_minor": 0
      },
      "text/plain": [
       "Validating: 0it [00:00, ?it/s]"
      ]
     },
     "metadata": {},
     "output_type": "display_data"
    },
    {
     "data": {
      "application/vnd.jupyter.widget-view+json": {
       "model_id": "",
       "version_major": 2,
       "version_minor": 0
      },
      "text/plain": [
       "Validating: 0it [00:00, ?it/s]"
      ]
     },
     "metadata": {},
     "output_type": "display_data"
    },
    {
     "data": {
      "application/vnd.jupyter.widget-view+json": {
       "model_id": "",
       "version_major": 2,
       "version_minor": 0
      },
      "text/plain": [
       "Validating: 0it [00:00, ?it/s]"
      ]
     },
     "metadata": {},
     "output_type": "display_data"
    },
    {
     "data": {
      "application/vnd.jupyter.widget-view+json": {
       "model_id": "",
       "version_major": 2,
       "version_minor": 0
      },
      "text/plain": [
       "Validating: 0it [00:00, ?it/s]"
      ]
     },
     "metadata": {},
     "output_type": "display_data"
    },
    {
     "data": {
      "application/vnd.jupyter.widget-view+json": {
       "model_id": "",
       "version_major": 2,
       "version_minor": 0
      },
      "text/plain": [
       "Validating: 0it [00:00, ?it/s]"
      ]
     },
     "metadata": {},
     "output_type": "display_data"
    },
    {
     "data": {
      "application/vnd.jupyter.widget-view+json": {
       "model_id": "",
       "version_major": 2,
       "version_minor": 0
      },
      "text/plain": [
       "Validating: 0it [00:00, ?it/s]"
      ]
     },
     "metadata": {},
     "output_type": "display_data"
    },
    {
     "data": {
      "application/vnd.jupyter.widget-view+json": {
       "model_id": "",
       "version_major": 2,
       "version_minor": 0
      },
      "text/plain": [
       "Validating: 0it [00:00, ?it/s]"
      ]
     },
     "metadata": {},
     "output_type": "display_data"
    },
    {
     "data": {
      "application/vnd.jupyter.widget-view+json": {
       "model_id": "",
       "version_major": 2,
       "version_minor": 0
      },
      "text/plain": [
       "Validating: 0it [00:00, ?it/s]"
      ]
     },
     "metadata": {},
     "output_type": "display_data"
    },
    {
     "data": {
      "application/vnd.jupyter.widget-view+json": {
       "model_id": "",
       "version_major": 2,
       "version_minor": 0
      },
      "text/plain": [
       "Validating: 0it [00:00, ?it/s]"
      ]
     },
     "metadata": {},
     "output_type": "display_data"
    },
    {
     "data": {
      "application/vnd.jupyter.widget-view+json": {
       "model_id": "",
       "version_major": 2,
       "version_minor": 0
      },
      "text/plain": [
       "Validating: 0it [00:00, ?it/s]"
      ]
     },
     "metadata": {},
     "output_type": "display_data"
    },
    {
     "data": {
      "application/vnd.jupyter.widget-view+json": {
       "model_id": "",
       "version_major": 2,
       "version_minor": 0
      },
      "text/plain": [
       "Validating: 0it [00:00, ?it/s]"
      ]
     },
     "metadata": {},
     "output_type": "display_data"
    },
    {
     "data": {
      "application/vnd.jupyter.widget-view+json": {
       "model_id": "",
       "version_major": 2,
       "version_minor": 0
      },
      "text/plain": [
       "Validating: 0it [00:00, ?it/s]"
      ]
     },
     "metadata": {},
     "output_type": "display_data"
    },
    {
     "data": {
      "application/vnd.jupyter.widget-view+json": {
       "model_id": "",
       "version_major": 2,
       "version_minor": 0
      },
      "text/plain": [
       "Validating: 0it [00:00, ?it/s]"
      ]
     },
     "metadata": {},
     "output_type": "display_data"
    },
    {
     "data": {
      "application/vnd.jupyter.widget-view+json": {
       "model_id": "",
       "version_major": 2,
       "version_minor": 0
      },
      "text/plain": [
       "Validating: 0it [00:00, ?it/s]"
      ]
     },
     "metadata": {},
     "output_type": "display_data"
    },
    {
     "data": {
      "application/vnd.jupyter.widget-view+json": {
       "model_id": "",
       "version_major": 2,
       "version_minor": 0
      },
      "text/plain": [
       "Validating: 0it [00:00, ?it/s]"
      ]
     },
     "metadata": {},
     "output_type": "display_data"
    },
    {
     "data": {
      "application/vnd.jupyter.widget-view+json": {
       "model_id": "",
       "version_major": 2,
       "version_minor": 0
      },
      "text/plain": [
       "Validating: 0it [00:00, ?it/s]"
      ]
     },
     "metadata": {},
     "output_type": "display_data"
    },
    {
     "data": {
      "application/vnd.jupyter.widget-view+json": {
       "model_id": "",
       "version_major": 2,
       "version_minor": 0
      },
      "text/plain": [
       "Validating: 0it [00:00, ?it/s]"
      ]
     },
     "metadata": {},
     "output_type": "display_data"
    },
    {
     "data": {
      "application/vnd.jupyter.widget-view+json": {
       "model_id": "",
       "version_major": 2,
       "version_minor": 0
      },
      "text/plain": [
       "Validating: 0it [00:00, ?it/s]"
      ]
     },
     "metadata": {},
     "output_type": "display_data"
    },
    {
     "data": {
      "application/vnd.jupyter.widget-view+json": {
       "model_id": "",
       "version_major": 2,
       "version_minor": 0
      },
      "text/plain": [
       "Validating: 0it [00:00, ?it/s]"
      ]
     },
     "metadata": {},
     "output_type": "display_data"
    },
    {
     "data": {
      "application/vnd.jupyter.widget-view+json": {
       "model_id": "",
       "version_major": 2,
       "version_minor": 0
      },
      "text/plain": [
       "Validating: 0it [00:00, ?it/s]"
      ]
     },
     "metadata": {},
     "output_type": "display_data"
    },
    {
     "data": {
      "application/vnd.jupyter.widget-view+json": {
       "model_id": "",
       "version_major": 2,
       "version_minor": 0
      },
      "text/plain": [
       "Validating: 0it [00:00, ?it/s]"
      ]
     },
     "metadata": {},
     "output_type": "display_data"
    },
    {
     "data": {
      "application/vnd.jupyter.widget-view+json": {
       "model_id": "",
       "version_major": 2,
       "version_minor": 0
      },
      "text/plain": [
       "Validating: 0it [00:00, ?it/s]"
      ]
     },
     "metadata": {},
     "output_type": "display_data"
    },
    {
     "data": {
      "application/vnd.jupyter.widget-view+json": {
       "model_id": "",
       "version_major": 2,
       "version_minor": 0
      },
      "text/plain": [
       "Validating: 0it [00:00, ?it/s]"
      ]
     },
     "metadata": {},
     "output_type": "display_data"
    },
    {
     "data": {
      "application/vnd.jupyter.widget-view+json": {
       "model_id": "",
       "version_major": 2,
       "version_minor": 0
      },
      "text/plain": [
       "Validating: 0it [00:00, ?it/s]"
      ]
     },
     "metadata": {},
     "output_type": "display_data"
    },
    {
     "data": {
      "application/vnd.jupyter.widget-view+json": {
       "model_id": "",
       "version_major": 2,
       "version_minor": 0
      },
      "text/plain": [
       "Validating: 0it [00:00, ?it/s]"
      ]
     },
     "metadata": {},
     "output_type": "display_data"
    },
    {
     "data": {
      "application/vnd.jupyter.widget-view+json": {
       "model_id": "",
       "version_major": 2,
       "version_minor": 0
      },
      "text/plain": [
       "Validating: 0it [00:00, ?it/s]"
      ]
     },
     "metadata": {},
     "output_type": "display_data"
    },
    {
     "data": {
      "application/vnd.jupyter.widget-view+json": {
       "model_id": "",
       "version_major": 2,
       "version_minor": 0
      },
      "text/plain": [
       "Validating: 0it [00:00, ?it/s]"
      ]
     },
     "metadata": {},
     "output_type": "display_data"
    },
    {
     "data": {
      "application/vnd.jupyter.widget-view+json": {
       "model_id": "",
       "version_major": 2,
       "version_minor": 0
      },
      "text/plain": [
       "Validating: 0it [00:00, ?it/s]"
      ]
     },
     "metadata": {},
     "output_type": "display_data"
    },
    {
     "data": {
      "application/vnd.jupyter.widget-view+json": {
       "model_id": "",
       "version_major": 2,
       "version_minor": 0
      },
      "text/plain": [
       "Validating: 0it [00:00, ?it/s]"
      ]
     },
     "metadata": {},
     "output_type": "display_data"
    },
    {
     "data": {
      "application/vnd.jupyter.widget-view+json": {
       "model_id": "",
       "version_major": 2,
       "version_minor": 0
      },
      "text/plain": [
       "Validating: 0it [00:00, ?it/s]"
      ]
     },
     "metadata": {},
     "output_type": "display_data"
    },
    {
     "data": {
      "application/vnd.jupyter.widget-view+json": {
       "model_id": "",
       "version_major": 2,
       "version_minor": 0
      },
      "text/plain": [
       "Validating: 0it [00:00, ?it/s]"
      ]
     },
     "metadata": {},
     "output_type": "display_data"
    },
    {
     "data": {
      "application/vnd.jupyter.widget-view+json": {
       "model_id": "",
       "version_major": 2,
       "version_minor": 0
      },
      "text/plain": [
       "Validating: 0it [00:00, ?it/s]"
      ]
     },
     "metadata": {},
     "output_type": "display_data"
    },
    {
     "data": {
      "application/vnd.jupyter.widget-view+json": {
       "model_id": "",
       "version_major": 2,
       "version_minor": 0
      },
      "text/plain": [
       "Validating: 0it [00:00, ?it/s]"
      ]
     },
     "metadata": {},
     "output_type": "display_data"
    },
    {
     "data": {
      "application/vnd.jupyter.widget-view+json": {
       "model_id": "",
       "version_major": 2,
       "version_minor": 0
      },
      "text/plain": [
       "Validating: 0it [00:00, ?it/s]"
      ]
     },
     "metadata": {},
     "output_type": "display_data"
    },
    {
     "data": {
      "application/vnd.jupyter.widget-view+json": {
       "model_id": "",
       "version_major": 2,
       "version_minor": 0
      },
      "text/plain": [
       "Validating: 0it [00:00, ?it/s]"
      ]
     },
     "metadata": {},
     "output_type": "display_data"
    },
    {
     "data": {
      "application/vnd.jupyter.widget-view+json": {
       "model_id": "",
       "version_major": 2,
       "version_minor": 0
      },
      "text/plain": [
       "Validating: 0it [00:00, ?it/s]"
      ]
     },
     "metadata": {},
     "output_type": "display_data"
    },
    {
     "data": {
      "application/vnd.jupyter.widget-view+json": {
       "model_id": "",
       "version_major": 2,
       "version_minor": 0
      },
      "text/plain": [
       "Validating: 0it [00:00, ?it/s]"
      ]
     },
     "metadata": {},
     "output_type": "display_data"
    },
    {
     "data": {
      "application/vnd.jupyter.widget-view+json": {
       "model_id": "",
       "version_major": 2,
       "version_minor": 0
      },
      "text/plain": [
       "Validating: 0it [00:00, ?it/s]"
      ]
     },
     "metadata": {},
     "output_type": "display_data"
    },
    {
     "data": {
      "application/vnd.jupyter.widget-view+json": {
       "model_id": "",
       "version_major": 2,
       "version_minor": 0
      },
      "text/plain": [
       "Validating: 0it [00:00, ?it/s]"
      ]
     },
     "metadata": {},
     "output_type": "display_data"
    },
    {
     "data": {
      "application/vnd.jupyter.widget-view+json": {
       "model_id": "",
       "version_major": 2,
       "version_minor": 0
      },
      "text/plain": [
       "Validating: 0it [00:00, ?it/s]"
      ]
     },
     "metadata": {},
     "output_type": "display_data"
    },
    {
     "data": {
      "application/vnd.jupyter.widget-view+json": {
       "model_id": "",
       "version_major": 2,
       "version_minor": 0
      },
      "text/plain": [
       "Validating: 0it [00:00, ?it/s]"
      ]
     },
     "metadata": {},
     "output_type": "display_data"
    },
    {
     "data": {
      "application/vnd.jupyter.widget-view+json": {
       "model_id": "",
       "version_major": 2,
       "version_minor": 0
      },
      "text/plain": [
       "Validating: 0it [00:00, ?it/s]"
      ]
     },
     "metadata": {},
     "output_type": "display_data"
    },
    {
     "data": {
      "application/vnd.jupyter.widget-view+json": {
       "model_id": "",
       "version_major": 2,
       "version_minor": 0
      },
      "text/plain": [
       "Validating: 0it [00:00, ?it/s]"
      ]
     },
     "metadata": {},
     "output_type": "display_data"
    },
    {
     "data": {
      "application/vnd.jupyter.widget-view+json": {
       "model_id": "",
       "version_major": 2,
       "version_minor": 0
      },
      "text/plain": [
       "Validating: 0it [00:00, ?it/s]"
      ]
     },
     "metadata": {},
     "output_type": "display_data"
    },
    {
     "data": {
      "application/vnd.jupyter.widget-view+json": {
       "model_id": "",
       "version_major": 2,
       "version_minor": 0
      },
      "text/plain": [
       "Validating: 0it [00:00, ?it/s]"
      ]
     },
     "metadata": {},
     "output_type": "display_data"
    },
    {
     "data": {
      "application/vnd.jupyter.widget-view+json": {
       "model_id": "",
       "version_major": 2,
       "version_minor": 0
      },
      "text/plain": [
       "Validating: 0it [00:00, ?it/s]"
      ]
     },
     "metadata": {},
     "output_type": "display_data"
    },
    {
     "data": {
      "application/vnd.jupyter.widget-view+json": {
       "model_id": "",
       "version_major": 2,
       "version_minor": 0
      },
      "text/plain": [
       "Validating: 0it [00:00, ?it/s]"
      ]
     },
     "metadata": {},
     "output_type": "display_data"
    },
    {
     "data": {
      "application/vnd.jupyter.widget-view+json": {
       "model_id": "",
       "version_major": 2,
       "version_minor": 0
      },
      "text/plain": [
       "Validating: 0it [00:00, ?it/s]"
      ]
     },
     "metadata": {},
     "output_type": "display_data"
    },
    {
     "data": {
      "application/vnd.jupyter.widget-view+json": {
       "model_id": "",
       "version_major": 2,
       "version_minor": 0
      },
      "text/plain": [
       "Validating: 0it [00:00, ?it/s]"
      ]
     },
     "metadata": {},
     "output_type": "display_data"
    },
    {
     "data": {
      "application/vnd.jupyter.widget-view+json": {
       "model_id": "",
       "version_major": 2,
       "version_minor": 0
      },
      "text/plain": [
       "Validating: 0it [00:00, ?it/s]"
      ]
     },
     "metadata": {},
     "output_type": "display_data"
    },
    {
     "data": {
      "application/vnd.jupyter.widget-view+json": {
       "model_id": "",
       "version_major": 2,
       "version_minor": 0
      },
      "text/plain": [
       "Validating: 0it [00:00, ?it/s]"
      ]
     },
     "metadata": {},
     "output_type": "display_data"
    },
    {
     "data": {
      "application/vnd.jupyter.widget-view+json": {
       "model_id": "",
       "version_major": 2,
       "version_minor": 0
      },
      "text/plain": [
       "Validating: 0it [00:00, ?it/s]"
      ]
     },
     "metadata": {},
     "output_type": "display_data"
    },
    {
     "data": {
      "application/vnd.jupyter.widget-view+json": {
       "model_id": "",
       "version_major": 2,
       "version_minor": 0
      },
      "text/plain": [
       "Validating: 0it [00:00, ?it/s]"
      ]
     },
     "metadata": {},
     "output_type": "display_data"
    },
    {
     "data": {
      "application/vnd.jupyter.widget-view+json": {
       "model_id": "",
       "version_major": 2,
       "version_minor": 0
      },
      "text/plain": [
       "Validating: 0it [00:00, ?it/s]"
      ]
     },
     "metadata": {},
     "output_type": "display_data"
    },
    {
     "data": {
      "application/vnd.jupyter.widget-view+json": {
       "model_id": "",
       "version_major": 2,
       "version_minor": 0
      },
      "text/plain": [
       "Validating: 0it [00:00, ?it/s]"
      ]
     },
     "metadata": {},
     "output_type": "display_data"
    },
    {
     "data": {
      "application/vnd.jupyter.widget-view+json": {
       "model_id": "",
       "version_major": 2,
       "version_minor": 0
      },
      "text/plain": [
       "Validating: 0it [00:00, ?it/s]"
      ]
     },
     "metadata": {},
     "output_type": "display_data"
    },
    {
     "data": {
      "application/vnd.jupyter.widget-view+json": {
       "model_id": "",
       "version_major": 2,
       "version_minor": 0
      },
      "text/plain": [
       "Validating: 0it [00:00, ?it/s]"
      ]
     },
     "metadata": {},
     "output_type": "display_data"
    },
    {
     "data": {
      "application/vnd.jupyter.widget-view+json": {
       "model_id": "",
       "version_major": 2,
       "version_minor": 0
      },
      "text/plain": [
       "Validating: 0it [00:00, ?it/s]"
      ]
     },
     "metadata": {},
     "output_type": "display_data"
    },
    {
     "data": {
      "application/vnd.jupyter.widget-view+json": {
       "model_id": "",
       "version_major": 2,
       "version_minor": 0
      },
      "text/plain": [
       "Validating: 0it [00:00, ?it/s]"
      ]
     },
     "metadata": {},
     "output_type": "display_data"
    },
    {
     "data": {
      "application/vnd.jupyter.widget-view+json": {
       "model_id": "",
       "version_major": 2,
       "version_minor": 0
      },
      "text/plain": [
       "Validating: 0it [00:00, ?it/s]"
      ]
     },
     "metadata": {},
     "output_type": "display_data"
    },
    {
     "data": {
      "application/vnd.jupyter.widget-view+json": {
       "model_id": "",
       "version_major": 2,
       "version_minor": 0
      },
      "text/plain": [
       "Validating: 0it [00:00, ?it/s]"
      ]
     },
     "metadata": {},
     "output_type": "display_data"
    },
    {
     "data": {
      "application/vnd.jupyter.widget-view+json": {
       "model_id": "",
       "version_major": 2,
       "version_minor": 0
      },
      "text/plain": [
       "Validating: 0it [00:00, ?it/s]"
      ]
     },
     "metadata": {},
     "output_type": "display_data"
    },
    {
     "data": {
      "application/vnd.jupyter.widget-view+json": {
       "model_id": "",
       "version_major": 2,
       "version_minor": 0
      },
      "text/plain": [
       "Validating: 0it [00:00, ?it/s]"
      ]
     },
     "metadata": {},
     "output_type": "display_data"
    },
    {
     "data": {
      "application/vnd.jupyter.widget-view+json": {
       "model_id": "",
       "version_major": 2,
       "version_minor": 0
      },
      "text/plain": [
       "Validating: 0it [00:00, ?it/s]"
      ]
     },
     "metadata": {},
     "output_type": "display_data"
    },
    {
     "name": "stderr",
     "output_type": "stream",
     "text": [
      "GPU available: False, used: False\n",
      "No environment variable for node rank defined. Set as 0.\n"
     ]
    },
    {
     "name": "stdout",
     "output_type": "stream",
     "text": [
      "Fold 4\n"
     ]
    },
    {
     "name": "stderr",
     "output_type": "stream",
     "text": [
      "/home/anastasiaaa/.virtualenvs/rna/lib/python3.6/site-packages/pytorch_lightning/utilities/distributed.py:23: RuntimeWarning: You have defined a `val_dataloader()` and have defined a `validation_step()`, you may also want to define `validation_epoch_end()` for accumulating stats.\n",
      "  warnings.warn(*args, **kwargs)\n",
      "/home/anastasiaaa/.virtualenvs/rna/lib/python3.6/site-packages/pytorch_lightning/utilities/distributed.py:23: UserWarning: The dataloader, val dataloader 0, does not have many workers which may be a bottleneck. Consider increasing the value of the `num_workers` argument` in the `DataLoader` init to improve performance.\n",
      "  warnings.warn(*args, **kwargs)\n"
     ]
    },
    {
     "data": {
      "application/vnd.jupyter.widget-view+json": {
       "model_id": "",
       "version_major": 2,
       "version_minor": 0
      },
      "text/plain": [
       "Validation sanity check: 0it [00:00, ?it/s]"
      ]
     },
     "metadata": {},
     "output_type": "display_data"
    },
    {
     "name": "stderr",
     "output_type": "stream",
     "text": [
      "/home/anastasiaaa/.virtualenvs/rna/lib/python3.6/site-packages/pytorch_lightning/utilities/distributed.py:23: UserWarning: The dataloader, train dataloader, does not have many workers which may be a bottleneck. Consider increasing the value of the `num_workers` argument` in the `DataLoader` init to improve performance.\n",
      "  warnings.warn(*args, **kwargs)\n"
     ]
    },
    {
     "data": {
      "application/vnd.jupyter.widget-view+json": {
       "model_id": "f9616a403eaa4c7e8ea0f65cc0080fd9",
       "version_major": 2,
       "version_minor": 0
      },
      "text/plain": [
       "Training: 0it [00:00, ?it/s]"
      ]
     },
     "metadata": {},
     "output_type": "display_data"
    },
    {
     "data": {
      "application/vnd.jupyter.widget-view+json": {
       "model_id": "",
       "version_major": 2,
       "version_minor": 0
      },
      "text/plain": [
       "Validating: 0it [00:00, ?it/s]"
      ]
     },
     "metadata": {},
     "output_type": "display_data"
    },
    {
     "data": {
      "application/vnd.jupyter.widget-view+json": {
       "model_id": "",
       "version_major": 2,
       "version_minor": 0
      },
      "text/plain": [
       "Validating: 0it [00:00, ?it/s]"
      ]
     },
     "metadata": {},
     "output_type": "display_data"
    },
    {
     "data": {
      "application/vnd.jupyter.widget-view+json": {
       "model_id": "",
       "version_major": 2,
       "version_minor": 0
      },
      "text/plain": [
       "Validating: 0it [00:00, ?it/s]"
      ]
     },
     "metadata": {},
     "output_type": "display_data"
    },
    {
     "data": {
      "application/vnd.jupyter.widget-view+json": {
       "model_id": "",
       "version_major": 2,
       "version_minor": 0
      },
      "text/plain": [
       "Validating: 0it [00:00, ?it/s]"
      ]
     },
     "metadata": {},
     "output_type": "display_data"
    },
    {
     "data": {
      "application/vnd.jupyter.widget-view+json": {
       "model_id": "",
       "version_major": 2,
       "version_minor": 0
      },
      "text/plain": [
       "Validating: 0it [00:00, ?it/s]"
      ]
     },
     "metadata": {},
     "output_type": "display_data"
    },
    {
     "data": {
      "application/vnd.jupyter.widget-view+json": {
       "model_id": "",
       "version_major": 2,
       "version_minor": 0
      },
      "text/plain": [
       "Validating: 0it [00:00, ?it/s]"
      ]
     },
     "metadata": {},
     "output_type": "display_data"
    },
    {
     "data": {
      "application/vnd.jupyter.widget-view+json": {
       "model_id": "",
       "version_major": 2,
       "version_minor": 0
      },
      "text/plain": [
       "Validating: 0it [00:00, ?it/s]"
      ]
     },
     "metadata": {},
     "output_type": "display_data"
    },
    {
     "data": {
      "application/vnd.jupyter.widget-view+json": {
       "model_id": "",
       "version_major": 2,
       "version_minor": 0
      },
      "text/plain": [
       "Validating: 0it [00:00, ?it/s]"
      ]
     },
     "metadata": {},
     "output_type": "display_data"
    },
    {
     "data": {
      "application/vnd.jupyter.widget-view+json": {
       "model_id": "",
       "version_major": 2,
       "version_minor": 0
      },
      "text/plain": [
       "Validating: 0it [00:00, ?it/s]"
      ]
     },
     "metadata": {},
     "output_type": "display_data"
    },
    {
     "data": {
      "application/vnd.jupyter.widget-view+json": {
       "model_id": "",
       "version_major": 2,
       "version_minor": 0
      },
      "text/plain": [
       "Validating: 0it [00:00, ?it/s]"
      ]
     },
     "metadata": {},
     "output_type": "display_data"
    },
    {
     "data": {
      "application/vnd.jupyter.widget-view+json": {
       "model_id": "",
       "version_major": 2,
       "version_minor": 0
      },
      "text/plain": [
       "Validating: 0it [00:00, ?it/s]"
      ]
     },
     "metadata": {},
     "output_type": "display_data"
    },
    {
     "data": {
      "application/vnd.jupyter.widget-view+json": {
       "model_id": "",
       "version_major": 2,
       "version_minor": 0
      },
      "text/plain": [
       "Validating: 0it [00:00, ?it/s]"
      ]
     },
     "metadata": {},
     "output_type": "display_data"
    },
    {
     "data": {
      "application/vnd.jupyter.widget-view+json": {
       "model_id": "",
       "version_major": 2,
       "version_minor": 0
      },
      "text/plain": [
       "Validating: 0it [00:00, ?it/s]"
      ]
     },
     "metadata": {},
     "output_type": "display_data"
    },
    {
     "data": {
      "application/vnd.jupyter.widget-view+json": {
       "model_id": "",
       "version_major": 2,
       "version_minor": 0
      },
      "text/plain": [
       "Validating: 0it [00:00, ?it/s]"
      ]
     },
     "metadata": {},
     "output_type": "display_data"
    },
    {
     "data": {
      "application/vnd.jupyter.widget-view+json": {
       "model_id": "",
       "version_major": 2,
       "version_minor": 0
      },
      "text/plain": [
       "Validating: 0it [00:00, ?it/s]"
      ]
     },
     "metadata": {},
     "output_type": "display_data"
    },
    {
     "data": {
      "application/vnd.jupyter.widget-view+json": {
       "model_id": "",
       "version_major": 2,
       "version_minor": 0
      },
      "text/plain": [
       "Validating: 0it [00:00, ?it/s]"
      ]
     },
     "metadata": {},
     "output_type": "display_data"
    },
    {
     "data": {
      "application/vnd.jupyter.widget-view+json": {
       "model_id": "",
       "version_major": 2,
       "version_minor": 0
      },
      "text/plain": [
       "Validating: 0it [00:00, ?it/s]"
      ]
     },
     "metadata": {},
     "output_type": "display_data"
    },
    {
     "data": {
      "application/vnd.jupyter.widget-view+json": {
       "model_id": "",
       "version_major": 2,
       "version_minor": 0
      },
      "text/plain": [
       "Validating: 0it [00:00, ?it/s]"
      ]
     },
     "metadata": {},
     "output_type": "display_data"
    },
    {
     "data": {
      "application/vnd.jupyter.widget-view+json": {
       "model_id": "",
       "version_major": 2,
       "version_minor": 0
      },
      "text/plain": [
       "Validating: 0it [00:00, ?it/s]"
      ]
     },
     "metadata": {},
     "output_type": "display_data"
    },
    {
     "data": {
      "application/vnd.jupyter.widget-view+json": {
       "model_id": "",
       "version_major": 2,
       "version_minor": 0
      },
      "text/plain": [
       "Validating: 0it [00:00, ?it/s]"
      ]
     },
     "metadata": {},
     "output_type": "display_data"
    },
    {
     "data": {
      "application/vnd.jupyter.widget-view+json": {
       "model_id": "",
       "version_major": 2,
       "version_minor": 0
      },
      "text/plain": [
       "Validating: 0it [00:00, ?it/s]"
      ]
     },
     "metadata": {},
     "output_type": "display_data"
    },
    {
     "data": {
      "application/vnd.jupyter.widget-view+json": {
       "model_id": "",
       "version_major": 2,
       "version_minor": 0
      },
      "text/plain": [
       "Validating: 0it [00:00, ?it/s]"
      ]
     },
     "metadata": {},
     "output_type": "display_data"
    },
    {
     "data": {
      "application/vnd.jupyter.widget-view+json": {
       "model_id": "",
       "version_major": 2,
       "version_minor": 0
      },
      "text/plain": [
       "Validating: 0it [00:00, ?it/s]"
      ]
     },
     "metadata": {},
     "output_type": "display_data"
    },
    {
     "data": {
      "application/vnd.jupyter.widget-view+json": {
       "model_id": "",
       "version_major": 2,
       "version_minor": 0
      },
      "text/plain": [
       "Validating: 0it [00:00, ?it/s]"
      ]
     },
     "metadata": {},
     "output_type": "display_data"
    },
    {
     "data": {
      "application/vnd.jupyter.widget-view+json": {
       "model_id": "",
       "version_major": 2,
       "version_minor": 0
      },
      "text/plain": [
       "Validating: 0it [00:00, ?it/s]"
      ]
     },
     "metadata": {},
     "output_type": "display_data"
    },
    {
     "data": {
      "application/vnd.jupyter.widget-view+json": {
       "model_id": "",
       "version_major": 2,
       "version_minor": 0
      },
      "text/plain": [
       "Validating: 0it [00:00, ?it/s]"
      ]
     },
     "metadata": {},
     "output_type": "display_data"
    },
    {
     "data": {
      "application/vnd.jupyter.widget-view+json": {
       "model_id": "",
       "version_major": 2,
       "version_minor": 0
      },
      "text/plain": [
       "Validating: 0it [00:00, ?it/s]"
      ]
     },
     "metadata": {},
     "output_type": "display_data"
    },
    {
     "data": {
      "application/vnd.jupyter.widget-view+json": {
       "model_id": "",
       "version_major": 2,
       "version_minor": 0
      },
      "text/plain": [
       "Validating: 0it [00:00, ?it/s]"
      ]
     },
     "metadata": {},
     "output_type": "display_data"
    },
    {
     "data": {
      "application/vnd.jupyter.widget-view+json": {
       "model_id": "",
       "version_major": 2,
       "version_minor": 0
      },
      "text/plain": [
       "Validating: 0it [00:00, ?it/s]"
      ]
     },
     "metadata": {},
     "output_type": "display_data"
    },
    {
     "data": {
      "application/vnd.jupyter.widget-view+json": {
       "model_id": "",
       "version_major": 2,
       "version_minor": 0
      },
      "text/plain": [
       "Validating: 0it [00:00, ?it/s]"
      ]
     },
     "metadata": {},
     "output_type": "display_data"
    },
    {
     "data": {
      "application/vnd.jupyter.widget-view+json": {
       "model_id": "",
       "version_major": 2,
       "version_minor": 0
      },
      "text/plain": [
       "Validating: 0it [00:00, ?it/s]"
      ]
     },
     "metadata": {},
     "output_type": "display_data"
    },
    {
     "data": {
      "application/vnd.jupyter.widget-view+json": {
       "model_id": "",
       "version_major": 2,
       "version_minor": 0
      },
      "text/plain": [
       "Validating: 0it [00:00, ?it/s]"
      ]
     },
     "metadata": {},
     "output_type": "display_data"
    },
    {
     "data": {
      "application/vnd.jupyter.widget-view+json": {
       "model_id": "",
       "version_major": 2,
       "version_minor": 0
      },
      "text/plain": [
       "Validating: 0it [00:00, ?it/s]"
      ]
     },
     "metadata": {},
     "output_type": "display_data"
    },
    {
     "data": {
      "application/vnd.jupyter.widget-view+json": {
       "model_id": "",
       "version_major": 2,
       "version_minor": 0
      },
      "text/plain": [
       "Validating: 0it [00:00, ?it/s]"
      ]
     },
     "metadata": {},
     "output_type": "display_data"
    },
    {
     "data": {
      "application/vnd.jupyter.widget-view+json": {
       "model_id": "",
       "version_major": 2,
       "version_minor": 0
      },
      "text/plain": [
       "Validating: 0it [00:00, ?it/s]"
      ]
     },
     "metadata": {},
     "output_type": "display_data"
    },
    {
     "data": {
      "application/vnd.jupyter.widget-view+json": {
       "model_id": "",
       "version_major": 2,
       "version_minor": 0
      },
      "text/plain": [
       "Validating: 0it [00:00, ?it/s]"
      ]
     },
     "metadata": {},
     "output_type": "display_data"
    },
    {
     "data": {
      "application/vnd.jupyter.widget-view+json": {
       "model_id": "",
       "version_major": 2,
       "version_minor": 0
      },
      "text/plain": [
       "Validating: 0it [00:00, ?it/s]"
      ]
     },
     "metadata": {},
     "output_type": "display_data"
    },
    {
     "data": {
      "application/vnd.jupyter.widget-view+json": {
       "model_id": "",
       "version_major": 2,
       "version_minor": 0
      },
      "text/plain": [
       "Validating: 0it [00:00, ?it/s]"
      ]
     },
     "metadata": {},
     "output_type": "display_data"
    },
    {
     "data": {
      "application/vnd.jupyter.widget-view+json": {
       "model_id": "",
       "version_major": 2,
       "version_minor": 0
      },
      "text/plain": [
       "Validating: 0it [00:00, ?it/s]"
      ]
     },
     "metadata": {},
     "output_type": "display_data"
    },
    {
     "data": {
      "application/vnd.jupyter.widget-view+json": {
       "model_id": "",
       "version_major": 2,
       "version_minor": 0
      },
      "text/plain": [
       "Validating: 0it [00:00, ?it/s]"
      ]
     },
     "metadata": {},
     "output_type": "display_data"
    },
    {
     "data": {
      "application/vnd.jupyter.widget-view+json": {
       "model_id": "",
       "version_major": 2,
       "version_minor": 0
      },
      "text/plain": [
       "Validating: 0it [00:00, ?it/s]"
      ]
     },
     "metadata": {},
     "output_type": "display_data"
    },
    {
     "data": {
      "application/vnd.jupyter.widget-view+json": {
       "model_id": "",
       "version_major": 2,
       "version_minor": 0
      },
      "text/plain": [
       "Validating: 0it [00:00, ?it/s]"
      ]
     },
     "metadata": {},
     "output_type": "display_data"
    },
    {
     "data": {
      "application/vnd.jupyter.widget-view+json": {
       "model_id": "",
       "version_major": 2,
       "version_minor": 0
      },
      "text/plain": [
       "Validating: 0it [00:00, ?it/s]"
      ]
     },
     "metadata": {},
     "output_type": "display_data"
    },
    {
     "data": {
      "application/vnd.jupyter.widget-view+json": {
       "model_id": "",
       "version_major": 2,
       "version_minor": 0
      },
      "text/plain": [
       "Validating: 0it [00:00, ?it/s]"
      ]
     },
     "metadata": {},
     "output_type": "display_data"
    },
    {
     "data": {
      "application/vnd.jupyter.widget-view+json": {
       "model_id": "",
       "version_major": 2,
       "version_minor": 0
      },
      "text/plain": [
       "Validating: 0it [00:00, ?it/s]"
      ]
     },
     "metadata": {},
     "output_type": "display_data"
    },
    {
     "data": {
      "application/vnd.jupyter.widget-view+json": {
       "model_id": "",
       "version_major": 2,
       "version_minor": 0
      },
      "text/plain": [
       "Validating: 0it [00:00, ?it/s]"
      ]
     },
     "metadata": {},
     "output_type": "display_data"
    },
    {
     "data": {
      "application/vnd.jupyter.widget-view+json": {
       "model_id": "",
       "version_major": 2,
       "version_minor": 0
      },
      "text/plain": [
       "Validating: 0it [00:00, ?it/s]"
      ]
     },
     "metadata": {},
     "output_type": "display_data"
    },
    {
     "data": {
      "application/vnd.jupyter.widget-view+json": {
       "model_id": "",
       "version_major": 2,
       "version_minor": 0
      },
      "text/plain": [
       "Validating: 0it [00:00, ?it/s]"
      ]
     },
     "metadata": {},
     "output_type": "display_data"
    },
    {
     "data": {
      "application/vnd.jupyter.widget-view+json": {
       "model_id": "",
       "version_major": 2,
       "version_minor": 0
      },
      "text/plain": [
       "Validating: 0it [00:00, ?it/s]"
      ]
     },
     "metadata": {},
     "output_type": "display_data"
    },
    {
     "data": {
      "application/vnd.jupyter.widget-view+json": {
       "model_id": "",
       "version_major": 2,
       "version_minor": 0
      },
      "text/plain": [
       "Validating: 0it [00:00, ?it/s]"
      ]
     },
     "metadata": {},
     "output_type": "display_data"
    },
    {
     "data": {
      "application/vnd.jupyter.widget-view+json": {
       "model_id": "",
       "version_major": 2,
       "version_minor": 0
      },
      "text/plain": [
       "Validating: 0it [00:00, ?it/s]"
      ]
     },
     "metadata": {},
     "output_type": "display_data"
    },
    {
     "data": {
      "application/vnd.jupyter.widget-view+json": {
       "model_id": "",
       "version_major": 2,
       "version_minor": 0
      },
      "text/plain": [
       "Validating: 0it [00:00, ?it/s]"
      ]
     },
     "metadata": {},
     "output_type": "display_data"
    },
    {
     "data": {
      "application/vnd.jupyter.widget-view+json": {
       "model_id": "",
       "version_major": 2,
       "version_minor": 0
      },
      "text/plain": [
       "Validating: 0it [00:00, ?it/s]"
      ]
     },
     "metadata": {},
     "output_type": "display_data"
    },
    {
     "data": {
      "application/vnd.jupyter.widget-view+json": {
       "model_id": "",
       "version_major": 2,
       "version_minor": 0
      },
      "text/plain": [
       "Validating: 0it [00:00, ?it/s]"
      ]
     },
     "metadata": {},
     "output_type": "display_data"
    },
    {
     "data": {
      "application/vnd.jupyter.widget-view+json": {
       "model_id": "",
       "version_major": 2,
       "version_minor": 0
      },
      "text/plain": [
       "Validating: 0it [00:00, ?it/s]"
      ]
     },
     "metadata": {},
     "output_type": "display_data"
    },
    {
     "data": {
      "application/vnd.jupyter.widget-view+json": {
       "model_id": "",
       "version_major": 2,
       "version_minor": 0
      },
      "text/plain": [
       "Validating: 0it [00:00, ?it/s]"
      ]
     },
     "metadata": {},
     "output_type": "display_data"
    },
    {
     "data": {
      "application/vnd.jupyter.widget-view+json": {
       "model_id": "",
       "version_major": 2,
       "version_minor": 0
      },
      "text/plain": [
       "Validating: 0it [00:00, ?it/s]"
      ]
     },
     "metadata": {},
     "output_type": "display_data"
    },
    {
     "data": {
      "application/vnd.jupyter.widget-view+json": {
       "model_id": "",
       "version_major": 2,
       "version_minor": 0
      },
      "text/plain": [
       "Validating: 0it [00:00, ?it/s]"
      ]
     },
     "metadata": {},
     "output_type": "display_data"
    },
    {
     "data": {
      "application/vnd.jupyter.widget-view+json": {
       "model_id": "",
       "version_major": 2,
       "version_minor": 0
      },
      "text/plain": [
       "Validating: 0it [00:00, ?it/s]"
      ]
     },
     "metadata": {},
     "output_type": "display_data"
    },
    {
     "data": {
      "application/vnd.jupyter.widget-view+json": {
       "model_id": "",
       "version_major": 2,
       "version_minor": 0
      },
      "text/plain": [
       "Validating: 0it [00:00, ?it/s]"
      ]
     },
     "metadata": {},
     "output_type": "display_data"
    },
    {
     "data": {
      "application/vnd.jupyter.widget-view+json": {
       "model_id": "",
       "version_major": 2,
       "version_minor": 0
      },
      "text/plain": [
       "Validating: 0it [00:00, ?it/s]"
      ]
     },
     "metadata": {},
     "output_type": "display_data"
    },
    {
     "data": {
      "application/vnd.jupyter.widget-view+json": {
       "model_id": "",
       "version_major": 2,
       "version_minor": 0
      },
      "text/plain": [
       "Validating: 0it [00:00, ?it/s]"
      ]
     },
     "metadata": {},
     "output_type": "display_data"
    },
    {
     "data": {
      "application/vnd.jupyter.widget-view+json": {
       "model_id": "",
       "version_major": 2,
       "version_minor": 0
      },
      "text/plain": [
       "Validating: 0it [00:00, ?it/s]"
      ]
     },
     "metadata": {},
     "output_type": "display_data"
    },
    {
     "data": {
      "application/vnd.jupyter.widget-view+json": {
       "model_id": "",
       "version_major": 2,
       "version_minor": 0
      },
      "text/plain": [
       "Validating: 0it [00:00, ?it/s]"
      ]
     },
     "metadata": {},
     "output_type": "display_data"
    },
    {
     "data": {
      "application/vnd.jupyter.widget-view+json": {
       "model_id": "",
       "version_major": 2,
       "version_minor": 0
      },
      "text/plain": [
       "Validating: 0it [00:00, ?it/s]"
      ]
     },
     "metadata": {},
     "output_type": "display_data"
    },
    {
     "data": {
      "application/vnd.jupyter.widget-view+json": {
       "model_id": "",
       "version_major": 2,
       "version_minor": 0
      },
      "text/plain": [
       "Validating: 0it [00:00, ?it/s]"
      ]
     },
     "metadata": {},
     "output_type": "display_data"
    },
    {
     "data": {
      "application/vnd.jupyter.widget-view+json": {
       "model_id": "",
       "version_major": 2,
       "version_minor": 0
      },
      "text/plain": [
       "Validating: 0it [00:00, ?it/s]"
      ]
     },
     "metadata": {},
     "output_type": "display_data"
    },
    {
     "data": {
      "application/vnd.jupyter.widget-view+json": {
       "model_id": "",
       "version_major": 2,
       "version_minor": 0
      },
      "text/plain": [
       "Validating: 0it [00:00, ?it/s]"
      ]
     },
     "metadata": {},
     "output_type": "display_data"
    },
    {
     "data": {
      "application/vnd.jupyter.widget-view+json": {
       "model_id": "",
       "version_major": 2,
       "version_minor": 0
      },
      "text/plain": [
       "Validating: 0it [00:00, ?it/s]"
      ]
     },
     "metadata": {},
     "output_type": "display_data"
    },
    {
     "data": {
      "application/vnd.jupyter.widget-view+json": {
       "model_id": "",
       "version_major": 2,
       "version_minor": 0
      },
      "text/plain": [
       "Validating: 0it [00:00, ?it/s]"
      ]
     },
     "metadata": {},
     "output_type": "display_data"
    },
    {
     "data": {
      "application/vnd.jupyter.widget-view+json": {
       "model_id": "",
       "version_major": 2,
       "version_minor": 0
      },
      "text/plain": [
       "Validating: 0it [00:00, ?it/s]"
      ]
     },
     "metadata": {},
     "output_type": "display_data"
    },
    {
     "data": {
      "application/vnd.jupyter.widget-view+json": {
       "model_id": "",
       "version_major": 2,
       "version_minor": 0
      },
      "text/plain": [
       "Validating: 0it [00:00, ?it/s]"
      ]
     },
     "metadata": {},
     "output_type": "display_data"
    },
    {
     "data": {
      "application/vnd.jupyter.widget-view+json": {
       "model_id": "",
       "version_major": 2,
       "version_minor": 0
      },
      "text/plain": [
       "Validating: 0it [00:00, ?it/s]"
      ]
     },
     "metadata": {},
     "output_type": "display_data"
    },
    {
     "data": {
      "application/vnd.jupyter.widget-view+json": {
       "model_id": "",
       "version_major": 2,
       "version_minor": 0
      },
      "text/plain": [
       "Validating: 0it [00:00, ?it/s]"
      ]
     },
     "metadata": {},
     "output_type": "display_data"
    },
    {
     "data": {
      "application/vnd.jupyter.widget-view+json": {
       "model_id": "",
       "version_major": 2,
       "version_minor": 0
      },
      "text/plain": [
       "Validating: 0it [00:00, ?it/s]"
      ]
     },
     "metadata": {},
     "output_type": "display_data"
    },
    {
     "data": {
      "application/vnd.jupyter.widget-view+json": {
       "model_id": "",
       "version_major": 2,
       "version_minor": 0
      },
      "text/plain": [
       "Validating: 0it [00:00, ?it/s]"
      ]
     },
     "metadata": {},
     "output_type": "display_data"
    },
    {
     "data": {
      "application/vnd.jupyter.widget-view+json": {
       "model_id": "",
       "version_major": 2,
       "version_minor": 0
      },
      "text/plain": [
       "Validating: 0it [00:00, ?it/s]"
      ]
     },
     "metadata": {},
     "output_type": "display_data"
    },
    {
     "data": {
      "application/vnd.jupyter.widget-view+json": {
       "model_id": "",
       "version_major": 2,
       "version_minor": 0
      },
      "text/plain": [
       "Validating: 0it [00:00, ?it/s]"
      ]
     },
     "metadata": {},
     "output_type": "display_data"
    },
    {
     "data": {
      "application/vnd.jupyter.widget-view+json": {
       "model_id": "",
       "version_major": 2,
       "version_minor": 0
      },
      "text/plain": [
       "Validating: 0it [00:00, ?it/s]"
      ]
     },
     "metadata": {},
     "output_type": "display_data"
    },
    {
     "data": {
      "application/vnd.jupyter.widget-view+json": {
       "model_id": "",
       "version_major": 2,
       "version_minor": 0
      },
      "text/plain": [
       "Validating: 0it [00:00, ?it/s]"
      ]
     },
     "metadata": {},
     "output_type": "display_data"
    },
    {
     "data": {
      "application/vnd.jupyter.widget-view+json": {
       "model_id": "",
       "version_major": 2,
       "version_minor": 0
      },
      "text/plain": [
       "Validating: 0it [00:00, ?it/s]"
      ]
     },
     "metadata": {},
     "output_type": "display_data"
    },
    {
     "data": {
      "application/vnd.jupyter.widget-view+json": {
       "model_id": "",
       "version_major": 2,
       "version_minor": 0
      },
      "text/plain": [
       "Validating: 0it [00:00, ?it/s]"
      ]
     },
     "metadata": {},
     "output_type": "display_data"
    },
    {
     "data": {
      "application/vnd.jupyter.widget-view+json": {
       "model_id": "",
       "version_major": 2,
       "version_minor": 0
      },
      "text/plain": [
       "Validating: 0it [00:00, ?it/s]"
      ]
     },
     "metadata": {},
     "output_type": "display_data"
    },
    {
     "data": {
      "application/vnd.jupyter.widget-view+json": {
       "model_id": "",
       "version_major": 2,
       "version_minor": 0
      },
      "text/plain": [
       "Validating: 0it [00:00, ?it/s]"
      ]
     },
     "metadata": {},
     "output_type": "display_data"
    },
    {
     "data": {
      "application/vnd.jupyter.widget-view+json": {
       "model_id": "",
       "version_major": 2,
       "version_minor": 0
      },
      "text/plain": [
       "Validating: 0it [00:00, ?it/s]"
      ]
     },
     "metadata": {},
     "output_type": "display_data"
    },
    {
     "data": {
      "application/vnd.jupyter.widget-view+json": {
       "model_id": "",
       "version_major": 2,
       "version_minor": 0
      },
      "text/plain": [
       "Validating: 0it [00:00, ?it/s]"
      ]
     },
     "metadata": {},
     "output_type": "display_data"
    },
    {
     "data": {
      "application/vnd.jupyter.widget-view+json": {
       "model_id": "",
       "version_major": 2,
       "version_minor": 0
      },
      "text/plain": [
       "Validating: 0it [00:00, ?it/s]"
      ]
     },
     "metadata": {},
     "output_type": "display_data"
    },
    {
     "data": {
      "application/vnd.jupyter.widget-view+json": {
       "model_id": "",
       "version_major": 2,
       "version_minor": 0
      },
      "text/plain": [
       "Validating: 0it [00:00, ?it/s]"
      ]
     },
     "metadata": {},
     "output_type": "display_data"
    },
    {
     "data": {
      "application/vnd.jupyter.widget-view+json": {
       "model_id": "",
       "version_major": 2,
       "version_minor": 0
      },
      "text/plain": [
       "Validating: 0it [00:00, ?it/s]"
      ]
     },
     "metadata": {},
     "output_type": "display_data"
    },
    {
     "data": {
      "application/vnd.jupyter.widget-view+json": {
       "model_id": "",
       "version_major": 2,
       "version_minor": 0
      },
      "text/plain": [
       "Validating: 0it [00:00, ?it/s]"
      ]
     },
     "metadata": {},
     "output_type": "display_data"
    },
    {
     "data": {
      "application/vnd.jupyter.widget-view+json": {
       "model_id": "",
       "version_major": 2,
       "version_minor": 0
      },
      "text/plain": [
       "Validating: 0it [00:00, ?it/s]"
      ]
     },
     "metadata": {},
     "output_type": "display_data"
    },
    {
     "data": {
      "application/vnd.jupyter.widget-view+json": {
       "model_id": "",
       "version_major": 2,
       "version_minor": 0
      },
      "text/plain": [
       "Validating: 0it [00:00, ?it/s]"
      ]
     },
     "metadata": {},
     "output_type": "display_data"
    },
    {
     "data": {
      "application/vnd.jupyter.widget-view+json": {
       "model_id": "",
       "version_major": 2,
       "version_minor": 0
      },
      "text/plain": [
       "Validating: 0it [00:00, ?it/s]"
      ]
     },
     "metadata": {},
     "output_type": "display_data"
    },
    {
     "data": {
      "application/vnd.jupyter.widget-view+json": {
       "model_id": "",
       "version_major": 2,
       "version_minor": 0
      },
      "text/plain": [
       "Validating: 0it [00:00, ?it/s]"
      ]
     },
     "metadata": {},
     "output_type": "display_data"
    },
    {
     "data": {
      "application/vnd.jupyter.widget-view+json": {
       "model_id": "",
       "version_major": 2,
       "version_minor": 0
      },
      "text/plain": [
       "Validating: 0it [00:00, ?it/s]"
      ]
     },
     "metadata": {},
     "output_type": "display_data"
    },
    {
     "data": {
      "application/vnd.jupyter.widget-view+json": {
       "model_id": "",
       "version_major": 2,
       "version_minor": 0
      },
      "text/plain": [
       "Validating: 0it [00:00, ?it/s]"
      ]
     },
     "metadata": {},
     "output_type": "display_data"
    },
    {
     "data": {
      "application/vnd.jupyter.widget-view+json": {
       "model_id": "",
       "version_major": 2,
       "version_minor": 0
      },
      "text/plain": [
       "Validating: 0it [00:00, ?it/s]"
      ]
     },
     "metadata": {},
     "output_type": "display_data"
    },
    {
     "data": {
      "application/vnd.jupyter.widget-view+json": {
       "model_id": "",
       "version_major": 2,
       "version_minor": 0
      },
      "text/plain": [
       "Validating: 0it [00:00, ?it/s]"
      ]
     },
     "metadata": {},
     "output_type": "display_data"
    },
    {
     "data": {
      "application/vnd.jupyter.widget-view+json": {
       "model_id": "",
       "version_major": 2,
       "version_minor": 0
      },
      "text/plain": [
       "Validating: 0it [00:00, ?it/s]"
      ]
     },
     "metadata": {},
     "output_type": "display_data"
    },
    {
     "data": {
      "application/vnd.jupyter.widget-view+json": {
       "model_id": "",
       "version_major": 2,
       "version_minor": 0
      },
      "text/plain": [
       "Validating: 0it [00:00, ?it/s]"
      ]
     },
     "metadata": {},
     "output_type": "display_data"
    },
    {
     "name": "stderr",
     "output_type": "stream",
     "text": [
      "GPU available: False, used: False\n",
      "No environment variable for node rank defined. Set as 0.\n"
     ]
    },
    {
     "name": "stdout",
     "output_type": "stream",
     "text": [
      "Fold 5\n"
     ]
    },
    {
     "name": "stderr",
     "output_type": "stream",
     "text": [
      "/home/anastasiaaa/.virtualenvs/rna/lib/python3.6/site-packages/pytorch_lightning/utilities/distributed.py:23: RuntimeWarning: You have defined a `val_dataloader()` and have defined a `validation_step()`, you may also want to define `validation_epoch_end()` for accumulating stats.\n",
      "  warnings.warn(*args, **kwargs)\n",
      "/home/anastasiaaa/.virtualenvs/rna/lib/python3.6/site-packages/pytorch_lightning/utilities/distributed.py:23: UserWarning: The dataloader, val dataloader 0, does not have many workers which may be a bottleneck. Consider increasing the value of the `num_workers` argument` in the `DataLoader` init to improve performance.\n",
      "  warnings.warn(*args, **kwargs)\n"
     ]
    },
    {
     "data": {
      "application/vnd.jupyter.widget-view+json": {
       "model_id": "",
       "version_major": 2,
       "version_minor": 0
      },
      "text/plain": [
       "Validation sanity check: 0it [00:00, ?it/s]"
      ]
     },
     "metadata": {},
     "output_type": "display_data"
    },
    {
     "name": "stderr",
     "output_type": "stream",
     "text": [
      "/home/anastasiaaa/.virtualenvs/rna/lib/python3.6/site-packages/pytorch_lightning/utilities/distributed.py:23: UserWarning: The dataloader, train dataloader, does not have many workers which may be a bottleneck. Consider increasing the value of the `num_workers` argument` in the `DataLoader` init to improve performance.\n",
      "  warnings.warn(*args, **kwargs)\n"
     ]
    },
    {
     "data": {
      "application/vnd.jupyter.widget-view+json": {
       "model_id": "977d3bb5e5ee4f209bbe20ec509712dd",
       "version_major": 2,
       "version_minor": 0
      },
      "text/plain": [
       "Training: 0it [00:00, ?it/s]"
      ]
     },
     "metadata": {},
     "output_type": "display_data"
    },
    {
     "data": {
      "application/vnd.jupyter.widget-view+json": {
       "model_id": "",
       "version_major": 2,
       "version_minor": 0
      },
      "text/plain": [
       "Validating: 0it [00:00, ?it/s]"
      ]
     },
     "metadata": {},
     "output_type": "display_data"
    },
    {
     "data": {
      "application/vnd.jupyter.widget-view+json": {
       "model_id": "",
       "version_major": 2,
       "version_minor": 0
      },
      "text/plain": [
       "Validating: 0it [00:00, ?it/s]"
      ]
     },
     "metadata": {},
     "output_type": "display_data"
    },
    {
     "data": {
      "application/vnd.jupyter.widget-view+json": {
       "model_id": "",
       "version_major": 2,
       "version_minor": 0
      },
      "text/plain": [
       "Validating: 0it [00:00, ?it/s]"
      ]
     },
     "metadata": {},
     "output_type": "display_data"
    },
    {
     "data": {
      "application/vnd.jupyter.widget-view+json": {
       "model_id": "",
       "version_major": 2,
       "version_minor": 0
      },
      "text/plain": [
       "Validating: 0it [00:00, ?it/s]"
      ]
     },
     "metadata": {},
     "output_type": "display_data"
    },
    {
     "data": {
      "application/vnd.jupyter.widget-view+json": {
       "model_id": "",
       "version_major": 2,
       "version_minor": 0
      },
      "text/plain": [
       "Validating: 0it [00:00, ?it/s]"
      ]
     },
     "metadata": {},
     "output_type": "display_data"
    },
    {
     "data": {
      "application/vnd.jupyter.widget-view+json": {
       "model_id": "",
       "version_major": 2,
       "version_minor": 0
      },
      "text/plain": [
       "Validating: 0it [00:00, ?it/s]"
      ]
     },
     "metadata": {},
     "output_type": "display_data"
    },
    {
     "data": {
      "application/vnd.jupyter.widget-view+json": {
       "model_id": "",
       "version_major": 2,
       "version_minor": 0
      },
      "text/plain": [
       "Validating: 0it [00:00, ?it/s]"
      ]
     },
     "metadata": {},
     "output_type": "display_data"
    },
    {
     "data": {
      "application/vnd.jupyter.widget-view+json": {
       "model_id": "",
       "version_major": 2,
       "version_minor": 0
      },
      "text/plain": [
       "Validating: 0it [00:00, ?it/s]"
      ]
     },
     "metadata": {},
     "output_type": "display_data"
    },
    {
     "data": {
      "application/vnd.jupyter.widget-view+json": {
       "model_id": "",
       "version_major": 2,
       "version_minor": 0
      },
      "text/plain": [
       "Validating: 0it [00:00, ?it/s]"
      ]
     },
     "metadata": {},
     "output_type": "display_data"
    },
    {
     "data": {
      "application/vnd.jupyter.widget-view+json": {
       "model_id": "",
       "version_major": 2,
       "version_minor": 0
      },
      "text/plain": [
       "Validating: 0it [00:00, ?it/s]"
      ]
     },
     "metadata": {},
     "output_type": "display_data"
    },
    {
     "data": {
      "application/vnd.jupyter.widget-view+json": {
       "model_id": "",
       "version_major": 2,
       "version_minor": 0
      },
      "text/plain": [
       "Validating: 0it [00:00, ?it/s]"
      ]
     },
     "metadata": {},
     "output_type": "display_data"
    },
    {
     "data": {
      "application/vnd.jupyter.widget-view+json": {
       "model_id": "",
       "version_major": 2,
       "version_minor": 0
      },
      "text/plain": [
       "Validating: 0it [00:00, ?it/s]"
      ]
     },
     "metadata": {},
     "output_type": "display_data"
    },
    {
     "data": {
      "application/vnd.jupyter.widget-view+json": {
       "model_id": "",
       "version_major": 2,
       "version_minor": 0
      },
      "text/plain": [
       "Validating: 0it [00:00, ?it/s]"
      ]
     },
     "metadata": {},
     "output_type": "display_data"
    },
    {
     "data": {
      "application/vnd.jupyter.widget-view+json": {
       "model_id": "",
       "version_major": 2,
       "version_minor": 0
      },
      "text/plain": [
       "Validating: 0it [00:00, ?it/s]"
      ]
     },
     "metadata": {},
     "output_type": "display_data"
    },
    {
     "data": {
      "application/vnd.jupyter.widget-view+json": {
       "model_id": "",
       "version_major": 2,
       "version_minor": 0
      },
      "text/plain": [
       "Validating: 0it [00:00, ?it/s]"
      ]
     },
     "metadata": {},
     "output_type": "display_data"
    },
    {
     "data": {
      "application/vnd.jupyter.widget-view+json": {
       "model_id": "",
       "version_major": 2,
       "version_minor": 0
      },
      "text/plain": [
       "Validating: 0it [00:00, ?it/s]"
      ]
     },
     "metadata": {},
     "output_type": "display_data"
    },
    {
     "data": {
      "application/vnd.jupyter.widget-view+json": {
       "model_id": "",
       "version_major": 2,
       "version_minor": 0
      },
      "text/plain": [
       "Validating: 0it [00:00, ?it/s]"
      ]
     },
     "metadata": {},
     "output_type": "display_data"
    },
    {
     "data": {
      "application/vnd.jupyter.widget-view+json": {
       "model_id": "",
       "version_major": 2,
       "version_minor": 0
      },
      "text/plain": [
       "Validating: 0it [00:00, ?it/s]"
      ]
     },
     "metadata": {},
     "output_type": "display_data"
    },
    {
     "data": {
      "application/vnd.jupyter.widget-view+json": {
       "model_id": "",
       "version_major": 2,
       "version_minor": 0
      },
      "text/plain": [
       "Validating: 0it [00:00, ?it/s]"
      ]
     },
     "metadata": {},
     "output_type": "display_data"
    },
    {
     "data": {
      "application/vnd.jupyter.widget-view+json": {
       "model_id": "",
       "version_major": 2,
       "version_minor": 0
      },
      "text/plain": [
       "Validating: 0it [00:00, ?it/s]"
      ]
     },
     "metadata": {},
     "output_type": "display_data"
    },
    {
     "data": {
      "application/vnd.jupyter.widget-view+json": {
       "model_id": "",
       "version_major": 2,
       "version_minor": 0
      },
      "text/plain": [
       "Validating: 0it [00:00, ?it/s]"
      ]
     },
     "metadata": {},
     "output_type": "display_data"
    },
    {
     "data": {
      "application/vnd.jupyter.widget-view+json": {
       "model_id": "",
       "version_major": 2,
       "version_minor": 0
      },
      "text/plain": [
       "Validating: 0it [00:00, ?it/s]"
      ]
     },
     "metadata": {},
     "output_type": "display_data"
    },
    {
     "data": {
      "application/vnd.jupyter.widget-view+json": {
       "model_id": "",
       "version_major": 2,
       "version_minor": 0
      },
      "text/plain": [
       "Validating: 0it [00:00, ?it/s]"
      ]
     },
     "metadata": {},
     "output_type": "display_data"
    },
    {
     "data": {
      "application/vnd.jupyter.widget-view+json": {
       "model_id": "",
       "version_major": 2,
       "version_minor": 0
      },
      "text/plain": [
       "Validating: 0it [00:00, ?it/s]"
      ]
     },
     "metadata": {},
     "output_type": "display_data"
    },
    {
     "data": {
      "application/vnd.jupyter.widget-view+json": {
       "model_id": "",
       "version_major": 2,
       "version_minor": 0
      },
      "text/plain": [
       "Validating: 0it [00:00, ?it/s]"
      ]
     },
     "metadata": {},
     "output_type": "display_data"
    },
    {
     "data": {
      "application/vnd.jupyter.widget-view+json": {
       "model_id": "",
       "version_major": 2,
       "version_minor": 0
      },
      "text/plain": [
       "Validating: 0it [00:00, ?it/s]"
      ]
     },
     "metadata": {},
     "output_type": "display_data"
    },
    {
     "data": {
      "application/vnd.jupyter.widget-view+json": {
       "model_id": "",
       "version_major": 2,
       "version_minor": 0
      },
      "text/plain": [
       "Validating: 0it [00:00, ?it/s]"
      ]
     },
     "metadata": {},
     "output_type": "display_data"
    },
    {
     "data": {
      "application/vnd.jupyter.widget-view+json": {
       "model_id": "",
       "version_major": 2,
       "version_minor": 0
      },
      "text/plain": [
       "Validating: 0it [00:00, ?it/s]"
      ]
     },
     "metadata": {},
     "output_type": "display_data"
    },
    {
     "data": {
      "application/vnd.jupyter.widget-view+json": {
       "model_id": "",
       "version_major": 2,
       "version_minor": 0
      },
      "text/plain": [
       "Validating: 0it [00:00, ?it/s]"
      ]
     },
     "metadata": {},
     "output_type": "display_data"
    },
    {
     "data": {
      "application/vnd.jupyter.widget-view+json": {
       "model_id": "",
       "version_major": 2,
       "version_minor": 0
      },
      "text/plain": [
       "Validating: 0it [00:00, ?it/s]"
      ]
     },
     "metadata": {},
     "output_type": "display_data"
    },
    {
     "data": {
      "application/vnd.jupyter.widget-view+json": {
       "model_id": "",
       "version_major": 2,
       "version_minor": 0
      },
      "text/plain": [
       "Validating: 0it [00:00, ?it/s]"
      ]
     },
     "metadata": {},
     "output_type": "display_data"
    },
    {
     "data": {
      "application/vnd.jupyter.widget-view+json": {
       "model_id": "",
       "version_major": 2,
       "version_minor": 0
      },
      "text/plain": [
       "Validating: 0it [00:00, ?it/s]"
      ]
     },
     "metadata": {},
     "output_type": "display_data"
    },
    {
     "data": {
      "application/vnd.jupyter.widget-view+json": {
       "model_id": "",
       "version_major": 2,
       "version_minor": 0
      },
      "text/plain": [
       "Validating: 0it [00:00, ?it/s]"
      ]
     },
     "metadata": {},
     "output_type": "display_data"
    },
    {
     "data": {
      "application/vnd.jupyter.widget-view+json": {
       "model_id": "",
       "version_major": 2,
       "version_minor": 0
      },
      "text/plain": [
       "Validating: 0it [00:00, ?it/s]"
      ]
     },
     "metadata": {},
     "output_type": "display_data"
    },
    {
     "data": {
      "application/vnd.jupyter.widget-view+json": {
       "model_id": "",
       "version_major": 2,
       "version_minor": 0
      },
      "text/plain": [
       "Validating: 0it [00:00, ?it/s]"
      ]
     },
     "metadata": {},
     "output_type": "display_data"
    },
    {
     "data": {
      "application/vnd.jupyter.widget-view+json": {
       "model_id": "",
       "version_major": 2,
       "version_minor": 0
      },
      "text/plain": [
       "Validating: 0it [00:00, ?it/s]"
      ]
     },
     "metadata": {},
     "output_type": "display_data"
    },
    {
     "data": {
      "application/vnd.jupyter.widget-view+json": {
       "model_id": "",
       "version_major": 2,
       "version_minor": 0
      },
      "text/plain": [
       "Validating: 0it [00:00, ?it/s]"
      ]
     },
     "metadata": {},
     "output_type": "display_data"
    },
    {
     "data": {
      "application/vnd.jupyter.widget-view+json": {
       "model_id": "",
       "version_major": 2,
       "version_minor": 0
      },
      "text/plain": [
       "Validating: 0it [00:00, ?it/s]"
      ]
     },
     "metadata": {},
     "output_type": "display_data"
    },
    {
     "data": {
      "application/vnd.jupyter.widget-view+json": {
       "model_id": "",
       "version_major": 2,
       "version_minor": 0
      },
      "text/plain": [
       "Validating: 0it [00:00, ?it/s]"
      ]
     },
     "metadata": {},
     "output_type": "display_data"
    },
    {
     "data": {
      "application/vnd.jupyter.widget-view+json": {
       "model_id": "",
       "version_major": 2,
       "version_minor": 0
      },
      "text/plain": [
       "Validating: 0it [00:00, ?it/s]"
      ]
     },
     "metadata": {},
     "output_type": "display_data"
    },
    {
     "data": {
      "application/vnd.jupyter.widget-view+json": {
       "model_id": "",
       "version_major": 2,
       "version_minor": 0
      },
      "text/plain": [
       "Validating: 0it [00:00, ?it/s]"
      ]
     },
     "metadata": {},
     "output_type": "display_data"
    },
    {
     "data": {
      "application/vnd.jupyter.widget-view+json": {
       "model_id": "",
       "version_major": 2,
       "version_minor": 0
      },
      "text/plain": [
       "Validating: 0it [00:00, ?it/s]"
      ]
     },
     "metadata": {},
     "output_type": "display_data"
    },
    {
     "data": {
      "application/vnd.jupyter.widget-view+json": {
       "model_id": "",
       "version_major": 2,
       "version_minor": 0
      },
      "text/plain": [
       "Validating: 0it [00:00, ?it/s]"
      ]
     },
     "metadata": {},
     "output_type": "display_data"
    },
    {
     "data": {
      "application/vnd.jupyter.widget-view+json": {
       "model_id": "",
       "version_major": 2,
       "version_minor": 0
      },
      "text/plain": [
       "Validating: 0it [00:00, ?it/s]"
      ]
     },
     "metadata": {},
     "output_type": "display_data"
    },
    {
     "data": {
      "application/vnd.jupyter.widget-view+json": {
       "model_id": "",
       "version_major": 2,
       "version_minor": 0
      },
      "text/plain": [
       "Validating: 0it [00:00, ?it/s]"
      ]
     },
     "metadata": {},
     "output_type": "display_data"
    },
    {
     "data": {
      "application/vnd.jupyter.widget-view+json": {
       "model_id": "",
       "version_major": 2,
       "version_minor": 0
      },
      "text/plain": [
       "Validating: 0it [00:00, ?it/s]"
      ]
     },
     "metadata": {},
     "output_type": "display_data"
    },
    {
     "data": {
      "application/vnd.jupyter.widget-view+json": {
       "model_id": "",
       "version_major": 2,
       "version_minor": 0
      },
      "text/plain": [
       "Validating: 0it [00:00, ?it/s]"
      ]
     },
     "metadata": {},
     "output_type": "display_data"
    },
    {
     "data": {
      "application/vnd.jupyter.widget-view+json": {
       "model_id": "",
       "version_major": 2,
       "version_minor": 0
      },
      "text/plain": [
       "Validating: 0it [00:00, ?it/s]"
      ]
     },
     "metadata": {},
     "output_type": "display_data"
    },
    {
     "data": {
      "application/vnd.jupyter.widget-view+json": {
       "model_id": "",
       "version_major": 2,
       "version_minor": 0
      },
      "text/plain": [
       "Validating: 0it [00:00, ?it/s]"
      ]
     },
     "metadata": {},
     "output_type": "display_data"
    },
    {
     "data": {
      "application/vnd.jupyter.widget-view+json": {
       "model_id": "",
       "version_major": 2,
       "version_minor": 0
      },
      "text/plain": [
       "Validating: 0it [00:00, ?it/s]"
      ]
     },
     "metadata": {},
     "output_type": "display_data"
    },
    {
     "data": {
      "application/vnd.jupyter.widget-view+json": {
       "model_id": "",
       "version_major": 2,
       "version_minor": 0
      },
      "text/plain": [
       "Validating: 0it [00:00, ?it/s]"
      ]
     },
     "metadata": {},
     "output_type": "display_data"
    },
    {
     "data": {
      "application/vnd.jupyter.widget-view+json": {
       "model_id": "",
       "version_major": 2,
       "version_minor": 0
      },
      "text/plain": [
       "Validating: 0it [00:00, ?it/s]"
      ]
     },
     "metadata": {},
     "output_type": "display_data"
    },
    {
     "name": "stderr",
     "output_type": "stream",
     "text": [
      "Detected KeyboardInterrupt, attempting graceful shutdown...\n",
      "GPU available: False, used: False\n",
      "No environment variable for node rank defined. Set as 0.\n"
     ]
    },
    {
     "name": "stdout",
     "output_type": "stream",
     "text": [
      "Fold 6\n"
     ]
    },
    {
     "name": "stderr",
     "output_type": "stream",
     "text": [
      "/home/anastasiaaa/.virtualenvs/rna/lib/python3.6/site-packages/pytorch_lightning/utilities/distributed.py:23: RuntimeWarning: You have defined a `val_dataloader()` and have defined a `validation_step()`, you may also want to define `validation_epoch_end()` for accumulating stats.\n",
      "  warnings.warn(*args, **kwargs)\n",
      "/home/anastasiaaa/.virtualenvs/rna/lib/python3.6/site-packages/pytorch_lightning/utilities/distributed.py:23: UserWarning: The dataloader, val dataloader 0, does not have many workers which may be a bottleneck. Consider increasing the value of the `num_workers` argument` in the `DataLoader` init to improve performance.\n",
      "  warnings.warn(*args, **kwargs)\n"
     ]
    },
    {
     "data": {
      "application/vnd.jupyter.widget-view+json": {
       "model_id": "",
       "version_major": 2,
       "version_minor": 0
      },
      "text/plain": [
       "Validation sanity check: 0it [00:00, ?it/s]"
      ]
     },
     "metadata": {},
     "output_type": "display_data"
    },
    {
     "name": "stderr",
     "output_type": "stream",
     "text": [
      "/home/anastasiaaa/.virtualenvs/rna/lib/python3.6/site-packages/pytorch_lightning/utilities/distributed.py:23: UserWarning: The dataloader, train dataloader, does not have many workers which may be a bottleneck. Consider increasing the value of the `num_workers` argument` in the `DataLoader` init to improve performance.\n",
      "  warnings.warn(*args, **kwargs)\n"
     ]
    },
    {
     "data": {
      "application/vnd.jupyter.widget-view+json": {
       "model_id": "6b66ea3cc94f4d3295955b794cc4f563",
       "version_major": 2,
       "version_minor": 0
      },
      "text/plain": [
       "Training: 0it [00:00, ?it/s]"
      ]
     },
     "metadata": {},
     "output_type": "display_data"
    },
    {
     "data": {
      "application/vnd.jupyter.widget-view+json": {
       "model_id": "",
       "version_major": 2,
       "version_minor": 0
      },
      "text/plain": [
       "Validating: 0it [00:00, ?it/s]"
      ]
     },
     "metadata": {},
     "output_type": "display_data"
    },
    {
     "data": {
      "application/vnd.jupyter.widget-view+json": {
       "model_id": "",
       "version_major": 2,
       "version_minor": 0
      },
      "text/plain": [
       "Validating: 0it [00:00, ?it/s]"
      ]
     },
     "metadata": {},
     "output_type": "display_data"
    },
    {
     "data": {
      "application/vnd.jupyter.widget-view+json": {
       "model_id": "",
       "version_major": 2,
       "version_minor": 0
      },
      "text/plain": [
       "Validating: 0it [00:00, ?it/s]"
      ]
     },
     "metadata": {},
     "output_type": "display_data"
    },
    {
     "data": {
      "application/vnd.jupyter.widget-view+json": {
       "model_id": "",
       "version_major": 2,
       "version_minor": 0
      },
      "text/plain": [
       "Validating: 0it [00:00, ?it/s]"
      ]
     },
     "metadata": {},
     "output_type": "display_data"
    },
    {
     "data": {
      "application/vnd.jupyter.widget-view+json": {
       "model_id": "",
       "version_major": 2,
       "version_minor": 0
      },
      "text/plain": [
       "Validating: 0it [00:00, ?it/s]"
      ]
     },
     "metadata": {},
     "output_type": "display_data"
    },
    {
     "data": {
      "application/vnd.jupyter.widget-view+json": {
       "model_id": "",
       "version_major": 2,
       "version_minor": 0
      },
      "text/plain": [
       "Validating: 0it [00:00, ?it/s]"
      ]
     },
     "metadata": {},
     "output_type": "display_data"
    },
    {
     "data": {
      "application/vnd.jupyter.widget-view+json": {
       "model_id": "",
       "version_major": 2,
       "version_minor": 0
      },
      "text/plain": [
       "Validating: 0it [00:00, ?it/s]"
      ]
     },
     "metadata": {},
     "output_type": "display_data"
    },
    {
     "data": {
      "application/vnd.jupyter.widget-view+json": {
       "model_id": "",
       "version_major": 2,
       "version_minor": 0
      },
      "text/plain": [
       "Validating: 0it [00:00, ?it/s]"
      ]
     },
     "metadata": {},
     "output_type": "display_data"
    },
    {
     "data": {
      "application/vnd.jupyter.widget-view+json": {
       "model_id": "",
       "version_major": 2,
       "version_minor": 0
      },
      "text/plain": [
       "Validating: 0it [00:00, ?it/s]"
      ]
     },
     "metadata": {},
     "output_type": "display_data"
    },
    {
     "data": {
      "application/vnd.jupyter.widget-view+json": {
       "model_id": "",
       "version_major": 2,
       "version_minor": 0
      },
      "text/plain": [
       "Validating: 0it [00:00, ?it/s]"
      ]
     },
     "metadata": {},
     "output_type": "display_data"
    },
    {
     "data": {
      "application/vnd.jupyter.widget-view+json": {
       "model_id": "",
       "version_major": 2,
       "version_minor": 0
      },
      "text/plain": [
       "Validating: 0it [00:00, ?it/s]"
      ]
     },
     "metadata": {},
     "output_type": "display_data"
    },
    {
     "data": {
      "application/vnd.jupyter.widget-view+json": {
       "model_id": "",
       "version_major": 2,
       "version_minor": 0
      },
      "text/plain": [
       "Validating: 0it [00:00, ?it/s]"
      ]
     },
     "metadata": {},
     "output_type": "display_data"
    },
    {
     "data": {
      "application/vnd.jupyter.widget-view+json": {
       "model_id": "",
       "version_major": 2,
       "version_minor": 0
      },
      "text/plain": [
       "Validating: 0it [00:00, ?it/s]"
      ]
     },
     "metadata": {},
     "output_type": "display_data"
    },
    {
     "data": {
      "application/vnd.jupyter.widget-view+json": {
       "model_id": "",
       "version_major": 2,
       "version_minor": 0
      },
      "text/plain": [
       "Validating: 0it [00:00, ?it/s]"
      ]
     },
     "metadata": {},
     "output_type": "display_data"
    },
    {
     "data": {
      "application/vnd.jupyter.widget-view+json": {
       "model_id": "",
       "version_major": 2,
       "version_minor": 0
      },
      "text/plain": [
       "Validating: 0it [00:00, ?it/s]"
      ]
     },
     "metadata": {},
     "output_type": "display_data"
    },
    {
     "data": {
      "application/vnd.jupyter.widget-view+json": {
       "model_id": "",
       "version_major": 2,
       "version_minor": 0
      },
      "text/plain": [
       "Validating: 0it [00:00, ?it/s]"
      ]
     },
     "metadata": {},
     "output_type": "display_data"
    },
    {
     "data": {
      "application/vnd.jupyter.widget-view+json": {
       "model_id": "",
       "version_major": 2,
       "version_minor": 0
      },
      "text/plain": [
       "Validating: 0it [00:00, ?it/s]"
      ]
     },
     "metadata": {},
     "output_type": "display_data"
    },
    {
     "data": {
      "application/vnd.jupyter.widget-view+json": {
       "model_id": "",
       "version_major": 2,
       "version_minor": 0
      },
      "text/plain": [
       "Validating: 0it [00:00, ?it/s]"
      ]
     },
     "metadata": {},
     "output_type": "display_data"
    },
    {
     "data": {
      "application/vnd.jupyter.widget-view+json": {
       "model_id": "",
       "version_major": 2,
       "version_minor": 0
      },
      "text/plain": [
       "Validating: 0it [00:00, ?it/s]"
      ]
     },
     "metadata": {},
     "output_type": "display_data"
    },
    {
     "data": {
      "application/vnd.jupyter.widget-view+json": {
       "model_id": "",
       "version_major": 2,
       "version_minor": 0
      },
      "text/plain": [
       "Validating: 0it [00:00, ?it/s]"
      ]
     },
     "metadata": {},
     "output_type": "display_data"
    },
    {
     "data": {
      "application/vnd.jupyter.widget-view+json": {
       "model_id": "",
       "version_major": 2,
       "version_minor": 0
      },
      "text/plain": [
       "Validating: 0it [00:00, ?it/s]"
      ]
     },
     "metadata": {},
     "output_type": "display_data"
    },
    {
     "data": {
      "application/vnd.jupyter.widget-view+json": {
       "model_id": "",
       "version_major": 2,
       "version_minor": 0
      },
      "text/plain": [
       "Validating: 0it [00:00, ?it/s]"
      ]
     },
     "metadata": {},
     "output_type": "display_data"
    },
    {
     "data": {
      "application/vnd.jupyter.widget-view+json": {
       "model_id": "",
       "version_major": 2,
       "version_minor": 0
      },
      "text/plain": [
       "Validating: 0it [00:00, ?it/s]"
      ]
     },
     "metadata": {},
     "output_type": "display_data"
    },
    {
     "data": {
      "application/vnd.jupyter.widget-view+json": {
       "model_id": "",
       "version_major": 2,
       "version_minor": 0
      },
      "text/plain": [
       "Validating: 0it [00:00, ?it/s]"
      ]
     },
     "metadata": {},
     "output_type": "display_data"
    },
    {
     "data": {
      "application/vnd.jupyter.widget-view+json": {
       "model_id": "",
       "version_major": 2,
       "version_minor": 0
      },
      "text/plain": [
       "Validating: 0it [00:00, ?it/s]"
      ]
     },
     "metadata": {},
     "output_type": "display_data"
    },
    {
     "data": {
      "application/vnd.jupyter.widget-view+json": {
       "model_id": "",
       "version_major": 2,
       "version_minor": 0
      },
      "text/plain": [
       "Validating: 0it [00:00, ?it/s]"
      ]
     },
     "metadata": {},
     "output_type": "display_data"
    },
    {
     "data": {
      "application/vnd.jupyter.widget-view+json": {
       "model_id": "",
       "version_major": 2,
       "version_minor": 0
      },
      "text/plain": [
       "Validating: 0it [00:00, ?it/s]"
      ]
     },
     "metadata": {},
     "output_type": "display_data"
    },
    {
     "data": {
      "application/vnd.jupyter.widget-view+json": {
       "model_id": "",
       "version_major": 2,
       "version_minor": 0
      },
      "text/plain": [
       "Validating: 0it [00:00, ?it/s]"
      ]
     },
     "metadata": {},
     "output_type": "display_data"
    },
    {
     "data": {
      "application/vnd.jupyter.widget-view+json": {
       "model_id": "",
       "version_major": 2,
       "version_minor": 0
      },
      "text/plain": [
       "Validating: 0it [00:00, ?it/s]"
      ]
     },
     "metadata": {},
     "output_type": "display_data"
    },
    {
     "data": {
      "application/vnd.jupyter.widget-view+json": {
       "model_id": "",
       "version_major": 2,
       "version_minor": 0
      },
      "text/plain": [
       "Validating: 0it [00:00, ?it/s]"
      ]
     },
     "metadata": {},
     "output_type": "display_data"
    },
    {
     "data": {
      "application/vnd.jupyter.widget-view+json": {
       "model_id": "",
       "version_major": 2,
       "version_minor": 0
      },
      "text/plain": [
       "Validating: 0it [00:00, ?it/s]"
      ]
     },
     "metadata": {},
     "output_type": "display_data"
    },
    {
     "data": {
      "application/vnd.jupyter.widget-view+json": {
       "model_id": "",
       "version_major": 2,
       "version_minor": 0
      },
      "text/plain": [
       "Validating: 0it [00:00, ?it/s]"
      ]
     },
     "metadata": {},
     "output_type": "display_data"
    },
    {
     "data": {
      "application/vnd.jupyter.widget-view+json": {
       "model_id": "",
       "version_major": 2,
       "version_minor": 0
      },
      "text/plain": [
       "Validating: 0it [00:00, ?it/s]"
      ]
     },
     "metadata": {},
     "output_type": "display_data"
    },
    {
     "data": {
      "application/vnd.jupyter.widget-view+json": {
       "model_id": "",
       "version_major": 2,
       "version_minor": 0
      },
      "text/plain": [
       "Validating: 0it [00:00, ?it/s]"
      ]
     },
     "metadata": {},
     "output_type": "display_data"
    },
    {
     "data": {
      "application/vnd.jupyter.widget-view+json": {
       "model_id": "",
       "version_major": 2,
       "version_minor": 0
      },
      "text/plain": [
       "Validating: 0it [00:00, ?it/s]"
      ]
     },
     "metadata": {},
     "output_type": "display_data"
    },
    {
     "data": {
      "application/vnd.jupyter.widget-view+json": {
       "model_id": "",
       "version_major": 2,
       "version_minor": 0
      },
      "text/plain": [
       "Validating: 0it [00:00, ?it/s]"
      ]
     },
     "metadata": {},
     "output_type": "display_data"
    },
    {
     "data": {
      "application/vnd.jupyter.widget-view+json": {
       "model_id": "",
       "version_major": 2,
       "version_minor": 0
      },
      "text/plain": [
       "Validating: 0it [00:00, ?it/s]"
      ]
     },
     "metadata": {},
     "output_type": "display_data"
    },
    {
     "data": {
      "application/vnd.jupyter.widget-view+json": {
       "model_id": "",
       "version_major": 2,
       "version_minor": 0
      },
      "text/plain": [
       "Validating: 0it [00:00, ?it/s]"
      ]
     },
     "metadata": {},
     "output_type": "display_data"
    },
    {
     "data": {
      "application/vnd.jupyter.widget-view+json": {
       "model_id": "",
       "version_major": 2,
       "version_minor": 0
      },
      "text/plain": [
       "Validating: 0it [00:00, ?it/s]"
      ]
     },
     "metadata": {},
     "output_type": "display_data"
    },
    {
     "data": {
      "application/vnd.jupyter.widget-view+json": {
       "model_id": "",
       "version_major": 2,
       "version_minor": 0
      },
      "text/plain": [
       "Validating: 0it [00:00, ?it/s]"
      ]
     },
     "metadata": {},
     "output_type": "display_data"
    },
    {
     "data": {
      "application/vnd.jupyter.widget-view+json": {
       "model_id": "",
       "version_major": 2,
       "version_minor": 0
      },
      "text/plain": [
       "Validating: 0it [00:00, ?it/s]"
      ]
     },
     "metadata": {},
     "output_type": "display_data"
    },
    {
     "data": {
      "application/vnd.jupyter.widget-view+json": {
       "model_id": "",
       "version_major": 2,
       "version_minor": 0
      },
      "text/plain": [
       "Validating: 0it [00:00, ?it/s]"
      ]
     },
     "metadata": {},
     "output_type": "display_data"
    },
    {
     "data": {
      "application/vnd.jupyter.widget-view+json": {
       "model_id": "",
       "version_major": 2,
       "version_minor": 0
      },
      "text/plain": [
       "Validating: 0it [00:00, ?it/s]"
      ]
     },
     "metadata": {},
     "output_type": "display_data"
    },
    {
     "data": {
      "application/vnd.jupyter.widget-view+json": {
       "model_id": "",
       "version_major": 2,
       "version_minor": 0
      },
      "text/plain": [
       "Validating: 0it [00:00, ?it/s]"
      ]
     },
     "metadata": {},
     "output_type": "display_data"
    },
    {
     "data": {
      "application/vnd.jupyter.widget-view+json": {
       "model_id": "",
       "version_major": 2,
       "version_minor": 0
      },
      "text/plain": [
       "Validating: 0it [00:00, ?it/s]"
      ]
     },
     "metadata": {},
     "output_type": "display_data"
    },
    {
     "data": {
      "application/vnd.jupyter.widget-view+json": {
       "model_id": "",
       "version_major": 2,
       "version_minor": 0
      },
      "text/plain": [
       "Validating: 0it [00:00, ?it/s]"
      ]
     },
     "metadata": {},
     "output_type": "display_data"
    },
    {
     "data": {
      "application/vnd.jupyter.widget-view+json": {
       "model_id": "",
       "version_major": 2,
       "version_minor": 0
      },
      "text/plain": [
       "Validating: 0it [00:00, ?it/s]"
      ]
     },
     "metadata": {},
     "output_type": "display_data"
    },
    {
     "data": {
      "application/vnd.jupyter.widget-view+json": {
       "model_id": "",
       "version_major": 2,
       "version_minor": 0
      },
      "text/plain": [
       "Validating: 0it [00:00, ?it/s]"
      ]
     },
     "metadata": {},
     "output_type": "display_data"
    },
    {
     "data": {
      "application/vnd.jupyter.widget-view+json": {
       "model_id": "",
       "version_major": 2,
       "version_minor": 0
      },
      "text/plain": [
       "Validating: 0it [00:00, ?it/s]"
      ]
     },
     "metadata": {},
     "output_type": "display_data"
    },
    {
     "data": {
      "application/vnd.jupyter.widget-view+json": {
       "model_id": "",
       "version_major": 2,
       "version_minor": 0
      },
      "text/plain": [
       "Validating: 0it [00:00, ?it/s]"
      ]
     },
     "metadata": {},
     "output_type": "display_data"
    },
    {
     "data": {
      "application/vnd.jupyter.widget-view+json": {
       "model_id": "",
       "version_major": 2,
       "version_minor": 0
      },
      "text/plain": [
       "Validating: 0it [00:00, ?it/s]"
      ]
     },
     "metadata": {},
     "output_type": "display_data"
    },
    {
     "data": {
      "application/vnd.jupyter.widget-view+json": {
       "model_id": "",
       "version_major": 2,
       "version_minor": 0
      },
      "text/plain": [
       "Validating: 0it [00:00, ?it/s]"
      ]
     },
     "metadata": {},
     "output_type": "display_data"
    },
    {
     "data": {
      "application/vnd.jupyter.widget-view+json": {
       "model_id": "",
       "version_major": 2,
       "version_minor": 0
      },
      "text/plain": [
       "Validating: 0it [00:00, ?it/s]"
      ]
     },
     "metadata": {},
     "output_type": "display_data"
    },
    {
     "data": {
      "application/vnd.jupyter.widget-view+json": {
       "model_id": "",
       "version_major": 2,
       "version_minor": 0
      },
      "text/plain": [
       "Validating: 0it [00:00, ?it/s]"
      ]
     },
     "metadata": {},
     "output_type": "display_data"
    },
    {
     "data": {
      "application/vnd.jupyter.widget-view+json": {
       "model_id": "",
       "version_major": 2,
       "version_minor": 0
      },
      "text/plain": [
       "Validating: 0it [00:00, ?it/s]"
      ]
     },
     "metadata": {},
     "output_type": "display_data"
    },
    {
     "data": {
      "application/vnd.jupyter.widget-view+json": {
       "model_id": "",
       "version_major": 2,
       "version_minor": 0
      },
      "text/plain": [
       "Validating: 0it [00:00, ?it/s]"
      ]
     },
     "metadata": {},
     "output_type": "display_data"
    },
    {
     "data": {
      "application/vnd.jupyter.widget-view+json": {
       "model_id": "",
       "version_major": 2,
       "version_minor": 0
      },
      "text/plain": [
       "Validating: 0it [00:00, ?it/s]"
      ]
     },
     "metadata": {},
     "output_type": "display_data"
    },
    {
     "data": {
      "application/vnd.jupyter.widget-view+json": {
       "model_id": "",
       "version_major": 2,
       "version_minor": 0
      },
      "text/plain": [
       "Validating: 0it [00:00, ?it/s]"
      ]
     },
     "metadata": {},
     "output_type": "display_data"
    },
    {
     "data": {
      "application/vnd.jupyter.widget-view+json": {
       "model_id": "",
       "version_major": 2,
       "version_minor": 0
      },
      "text/plain": [
       "Validating: 0it [00:00, ?it/s]"
      ]
     },
     "metadata": {},
     "output_type": "display_data"
    },
    {
     "data": {
      "application/vnd.jupyter.widget-view+json": {
       "model_id": "",
       "version_major": 2,
       "version_minor": 0
      },
      "text/plain": [
       "Validating: 0it [00:00, ?it/s]"
      ]
     },
     "metadata": {},
     "output_type": "display_data"
    },
    {
     "data": {
      "application/vnd.jupyter.widget-view+json": {
       "model_id": "",
       "version_major": 2,
       "version_minor": 0
      },
      "text/plain": [
       "Validating: 0it [00:00, ?it/s]"
      ]
     },
     "metadata": {},
     "output_type": "display_data"
    },
    {
     "data": {
      "application/vnd.jupyter.widget-view+json": {
       "model_id": "",
       "version_major": 2,
       "version_minor": 0
      },
      "text/plain": [
       "Validating: 0it [00:00, ?it/s]"
      ]
     },
     "metadata": {},
     "output_type": "display_data"
    },
    {
     "data": {
      "application/vnd.jupyter.widget-view+json": {
       "model_id": "",
       "version_major": 2,
       "version_minor": 0
      },
      "text/plain": [
       "Validating: 0it [00:00, ?it/s]"
      ]
     },
     "metadata": {},
     "output_type": "display_data"
    },
    {
     "data": {
      "application/vnd.jupyter.widget-view+json": {
       "model_id": "",
       "version_major": 2,
       "version_minor": 0
      },
      "text/plain": [
       "Validating: 0it [00:00, ?it/s]"
      ]
     },
     "metadata": {},
     "output_type": "display_data"
    },
    {
     "data": {
      "application/vnd.jupyter.widget-view+json": {
       "model_id": "",
       "version_major": 2,
       "version_minor": 0
      },
      "text/plain": [
       "Validating: 0it [00:00, ?it/s]"
      ]
     },
     "metadata": {},
     "output_type": "display_data"
    },
    {
     "data": {
      "application/vnd.jupyter.widget-view+json": {
       "model_id": "",
       "version_major": 2,
       "version_minor": 0
      },
      "text/plain": [
       "Validating: 0it [00:00, ?it/s]"
      ]
     },
     "metadata": {},
     "output_type": "display_data"
    },
    {
     "data": {
      "application/vnd.jupyter.widget-view+json": {
       "model_id": "",
       "version_major": 2,
       "version_minor": 0
      },
      "text/plain": [
       "Validating: 0it [00:00, ?it/s]"
      ]
     },
     "metadata": {},
     "output_type": "display_data"
    },
    {
     "data": {
      "application/vnd.jupyter.widget-view+json": {
       "model_id": "",
       "version_major": 2,
       "version_minor": 0
      },
      "text/plain": [
       "Validating: 0it [00:00, ?it/s]"
      ]
     },
     "metadata": {},
     "output_type": "display_data"
    },
    {
     "data": {
      "application/vnd.jupyter.widget-view+json": {
       "model_id": "",
       "version_major": 2,
       "version_minor": 0
      },
      "text/plain": [
       "Validating: 0it [00:00, ?it/s]"
      ]
     },
     "metadata": {},
     "output_type": "display_data"
    },
    {
     "data": {
      "application/vnd.jupyter.widget-view+json": {
       "model_id": "",
       "version_major": 2,
       "version_minor": 0
      },
      "text/plain": [
       "Validating: 0it [00:00, ?it/s]"
      ]
     },
     "metadata": {},
     "output_type": "display_data"
    },
    {
     "data": {
      "application/vnd.jupyter.widget-view+json": {
       "model_id": "",
       "version_major": 2,
       "version_minor": 0
      },
      "text/plain": [
       "Validating: 0it [00:00, ?it/s]"
      ]
     },
     "metadata": {},
     "output_type": "display_data"
    },
    {
     "data": {
      "application/vnd.jupyter.widget-view+json": {
       "model_id": "",
       "version_major": 2,
       "version_minor": 0
      },
      "text/plain": [
       "Validating: 0it [00:00, ?it/s]"
      ]
     },
     "metadata": {},
     "output_type": "display_data"
    },
    {
     "data": {
      "application/vnd.jupyter.widget-view+json": {
       "model_id": "",
       "version_major": 2,
       "version_minor": 0
      },
      "text/plain": [
       "Validating: 0it [00:00, ?it/s]"
      ]
     },
     "metadata": {},
     "output_type": "display_data"
    },
    {
     "data": {
      "application/vnd.jupyter.widget-view+json": {
       "model_id": "",
       "version_major": 2,
       "version_minor": 0
      },
      "text/plain": [
       "Validating: 0it [00:00, ?it/s]"
      ]
     },
     "metadata": {},
     "output_type": "display_data"
    },
    {
     "data": {
      "application/vnd.jupyter.widget-view+json": {
       "model_id": "",
       "version_major": 2,
       "version_minor": 0
      },
      "text/plain": [
       "Validating: 0it [00:00, ?it/s]"
      ]
     },
     "metadata": {},
     "output_type": "display_data"
    },
    {
     "data": {
      "application/vnd.jupyter.widget-view+json": {
       "model_id": "",
       "version_major": 2,
       "version_minor": 0
      },
      "text/plain": [
       "Validating: 0it [00:00, ?it/s]"
      ]
     },
     "metadata": {},
     "output_type": "display_data"
    },
    {
     "data": {
      "application/vnd.jupyter.widget-view+json": {
       "model_id": "",
       "version_major": 2,
       "version_minor": 0
      },
      "text/plain": [
       "Validating: 0it [00:00, ?it/s]"
      ]
     },
     "metadata": {},
     "output_type": "display_data"
    },
    {
     "data": {
      "application/vnd.jupyter.widget-view+json": {
       "model_id": "",
       "version_major": 2,
       "version_minor": 0
      },
      "text/plain": [
       "Validating: 0it [00:00, ?it/s]"
      ]
     },
     "metadata": {},
     "output_type": "display_data"
    },
    {
     "data": {
      "application/vnd.jupyter.widget-view+json": {
       "model_id": "",
       "version_major": 2,
       "version_minor": 0
      },
      "text/plain": [
       "Validating: 0it [00:00, ?it/s]"
      ]
     },
     "metadata": {},
     "output_type": "display_data"
    },
    {
     "data": {
      "application/vnd.jupyter.widget-view+json": {
       "model_id": "",
       "version_major": 2,
       "version_minor": 0
      },
      "text/plain": [
       "Validating: 0it [00:00, ?it/s]"
      ]
     },
     "metadata": {},
     "output_type": "display_data"
    },
    {
     "data": {
      "application/vnd.jupyter.widget-view+json": {
       "model_id": "",
       "version_major": 2,
       "version_minor": 0
      },
      "text/plain": [
       "Validating: 0it [00:00, ?it/s]"
      ]
     },
     "metadata": {},
     "output_type": "display_data"
    },
    {
     "data": {
      "application/vnd.jupyter.widget-view+json": {
       "model_id": "",
       "version_major": 2,
       "version_minor": 0
      },
      "text/plain": [
       "Validating: 0it [00:00, ?it/s]"
      ]
     },
     "metadata": {},
     "output_type": "display_data"
    },
    {
     "data": {
      "application/vnd.jupyter.widget-view+json": {
       "model_id": "",
       "version_major": 2,
       "version_minor": 0
      },
      "text/plain": [
       "Validating: 0it [00:00, ?it/s]"
      ]
     },
     "metadata": {},
     "output_type": "display_data"
    },
    {
     "data": {
      "application/vnd.jupyter.widget-view+json": {
       "model_id": "",
       "version_major": 2,
       "version_minor": 0
      },
      "text/plain": [
       "Validating: 0it [00:00, ?it/s]"
      ]
     },
     "metadata": {},
     "output_type": "display_data"
    },
    {
     "data": {
      "application/vnd.jupyter.widget-view+json": {
       "model_id": "",
       "version_major": 2,
       "version_minor": 0
      },
      "text/plain": [
       "Validating: 0it [00:00, ?it/s]"
      ]
     },
     "metadata": {},
     "output_type": "display_data"
    },
    {
     "data": {
      "application/vnd.jupyter.widget-view+json": {
       "model_id": "",
       "version_major": 2,
       "version_minor": 0
      },
      "text/plain": [
       "Validating: 0it [00:00, ?it/s]"
      ]
     },
     "metadata": {},
     "output_type": "display_data"
    },
    {
     "data": {
      "application/vnd.jupyter.widget-view+json": {
       "model_id": "",
       "version_major": 2,
       "version_minor": 0
      },
      "text/plain": [
       "Validating: 0it [00:00, ?it/s]"
      ]
     },
     "metadata": {},
     "output_type": "display_data"
    },
    {
     "data": {
      "application/vnd.jupyter.widget-view+json": {
       "model_id": "",
       "version_major": 2,
       "version_minor": 0
      },
      "text/plain": [
       "Validating: 0it [00:00, ?it/s]"
      ]
     },
     "metadata": {},
     "output_type": "display_data"
    },
    {
     "data": {
      "application/vnd.jupyter.widget-view+json": {
       "model_id": "",
       "version_major": 2,
       "version_minor": 0
      },
      "text/plain": [
       "Validating: 0it [00:00, ?it/s]"
      ]
     },
     "metadata": {},
     "output_type": "display_data"
    },
    {
     "data": {
      "application/vnd.jupyter.widget-view+json": {
       "model_id": "",
       "version_major": 2,
       "version_minor": 0
      },
      "text/plain": [
       "Validating: 0it [00:00, ?it/s]"
      ]
     },
     "metadata": {},
     "output_type": "display_data"
    },
    {
     "data": {
      "application/vnd.jupyter.widget-view+json": {
       "model_id": "",
       "version_major": 2,
       "version_minor": 0
      },
      "text/plain": [
       "Validating: 0it [00:00, ?it/s]"
      ]
     },
     "metadata": {},
     "output_type": "display_data"
    },
    {
     "data": {
      "application/vnd.jupyter.widget-view+json": {
       "model_id": "",
       "version_major": 2,
       "version_minor": 0
      },
      "text/plain": [
       "Validating: 0it [00:00, ?it/s]"
      ]
     },
     "metadata": {},
     "output_type": "display_data"
    },
    {
     "data": {
      "application/vnd.jupyter.widget-view+json": {
       "model_id": "",
       "version_major": 2,
       "version_minor": 0
      },
      "text/plain": [
       "Validating: 0it [00:00, ?it/s]"
      ]
     },
     "metadata": {},
     "output_type": "display_data"
    },
    {
     "data": {
      "application/vnd.jupyter.widget-view+json": {
       "model_id": "",
       "version_major": 2,
       "version_minor": 0
      },
      "text/plain": [
       "Validating: 0it [00:00, ?it/s]"
      ]
     },
     "metadata": {},
     "output_type": "display_data"
    },
    {
     "data": {
      "application/vnd.jupyter.widget-view+json": {
       "model_id": "",
       "version_major": 2,
       "version_minor": 0
      },
      "text/plain": [
       "Validating: 0it [00:00, ?it/s]"
      ]
     },
     "metadata": {},
     "output_type": "display_data"
    },
    {
     "data": {
      "application/vnd.jupyter.widget-view+json": {
       "model_id": "",
       "version_major": 2,
       "version_minor": 0
      },
      "text/plain": [
       "Validating: 0it [00:00, ?it/s]"
      ]
     },
     "metadata": {},
     "output_type": "display_data"
    },
    {
     "data": {
      "application/vnd.jupyter.widget-view+json": {
       "model_id": "",
       "version_major": 2,
       "version_minor": 0
      },
      "text/plain": [
       "Validating: 0it [00:00, ?it/s]"
      ]
     },
     "metadata": {},
     "output_type": "display_data"
    },
    {
     "data": {
      "application/vnd.jupyter.widget-view+json": {
       "model_id": "",
       "version_major": 2,
       "version_minor": 0
      },
      "text/plain": [
       "Validating: 0it [00:00, ?it/s]"
      ]
     },
     "metadata": {},
     "output_type": "display_data"
    },
    {
     "data": {
      "application/vnd.jupyter.widget-view+json": {
       "model_id": "",
       "version_major": 2,
       "version_minor": 0
      },
      "text/plain": [
       "Validating: 0it [00:00, ?it/s]"
      ]
     },
     "metadata": {},
     "output_type": "display_data"
    },
    {
     "data": {
      "application/vnd.jupyter.widget-view+json": {
       "model_id": "",
       "version_major": 2,
       "version_minor": 0
      },
      "text/plain": [
       "Validating: 0it [00:00, ?it/s]"
      ]
     },
     "metadata": {},
     "output_type": "display_data"
    },
    {
     "name": "stderr",
     "output_type": "stream",
     "text": [
      "GPU available: False, used: False\n",
      "No environment variable for node rank defined. Set as 0.\n"
     ]
    },
    {
     "name": "stdout",
     "output_type": "stream",
     "text": [
      "Fold 7\n"
     ]
    },
    {
     "name": "stderr",
     "output_type": "stream",
     "text": [
      "/home/anastasiaaa/.virtualenvs/rna/lib/python3.6/site-packages/pytorch_lightning/utilities/distributed.py:23: RuntimeWarning: You have defined a `val_dataloader()` and have defined a `validation_step()`, you may also want to define `validation_epoch_end()` for accumulating stats.\n",
      "  warnings.warn(*args, **kwargs)\n",
      "/home/anastasiaaa/.virtualenvs/rna/lib/python3.6/site-packages/pytorch_lightning/utilities/distributed.py:23: UserWarning: The dataloader, val dataloader 0, does not have many workers which may be a bottleneck. Consider increasing the value of the `num_workers` argument` in the `DataLoader` init to improve performance.\n",
      "  warnings.warn(*args, **kwargs)\n"
     ]
    },
    {
     "data": {
      "application/vnd.jupyter.widget-view+json": {
       "model_id": "",
       "version_major": 2,
       "version_minor": 0
      },
      "text/plain": [
       "Validation sanity check: 0it [00:00, ?it/s]"
      ]
     },
     "metadata": {},
     "output_type": "display_data"
    },
    {
     "name": "stderr",
     "output_type": "stream",
     "text": [
      "/home/anastasiaaa/.virtualenvs/rna/lib/python3.6/site-packages/pytorch_lightning/utilities/distributed.py:23: UserWarning: The dataloader, train dataloader, does not have many workers which may be a bottleneck. Consider increasing the value of the `num_workers` argument` in the `DataLoader` init to improve performance.\n",
      "  warnings.warn(*args, **kwargs)\n"
     ]
    },
    {
     "data": {
      "application/vnd.jupyter.widget-view+json": {
       "model_id": "4e5d0ef270bc44c5b8bd28947e2b223d",
       "version_major": 2,
       "version_minor": 0
      },
      "text/plain": [
       "Training: 0it [00:00, ?it/s]"
      ]
     },
     "metadata": {},
     "output_type": "display_data"
    },
    {
     "data": {
      "application/vnd.jupyter.widget-view+json": {
       "model_id": "",
       "version_major": 2,
       "version_minor": 0
      },
      "text/plain": [
       "Validating: 0it [00:00, ?it/s]"
      ]
     },
     "metadata": {},
     "output_type": "display_data"
    },
    {
     "data": {
      "application/vnd.jupyter.widget-view+json": {
       "model_id": "",
       "version_major": 2,
       "version_minor": 0
      },
      "text/plain": [
       "Validating: 0it [00:00, ?it/s]"
      ]
     },
     "metadata": {},
     "output_type": "display_data"
    },
    {
     "data": {
      "application/vnd.jupyter.widget-view+json": {
       "model_id": "",
       "version_major": 2,
       "version_minor": 0
      },
      "text/plain": [
       "Validating: 0it [00:00, ?it/s]"
      ]
     },
     "metadata": {},
     "output_type": "display_data"
    },
    {
     "data": {
      "application/vnd.jupyter.widget-view+json": {
       "model_id": "",
       "version_major": 2,
       "version_minor": 0
      },
      "text/plain": [
       "Validating: 0it [00:00, ?it/s]"
      ]
     },
     "metadata": {},
     "output_type": "display_data"
    },
    {
     "data": {
      "application/vnd.jupyter.widget-view+json": {
       "model_id": "",
       "version_major": 2,
       "version_minor": 0
      },
      "text/plain": [
       "Validating: 0it [00:00, ?it/s]"
      ]
     },
     "metadata": {},
     "output_type": "display_data"
    },
    {
     "data": {
      "application/vnd.jupyter.widget-view+json": {
       "model_id": "",
       "version_major": 2,
       "version_minor": 0
      },
      "text/plain": [
       "Validating: 0it [00:00, ?it/s]"
      ]
     },
     "metadata": {},
     "output_type": "display_data"
    },
    {
     "data": {
      "application/vnd.jupyter.widget-view+json": {
       "model_id": "",
       "version_major": 2,
       "version_minor": 0
      },
      "text/plain": [
       "Validating: 0it [00:00, ?it/s]"
      ]
     },
     "metadata": {},
     "output_type": "display_data"
    },
    {
     "data": {
      "application/vnd.jupyter.widget-view+json": {
       "model_id": "",
       "version_major": 2,
       "version_minor": 0
      },
      "text/plain": [
       "Validating: 0it [00:00, ?it/s]"
      ]
     },
     "metadata": {},
     "output_type": "display_data"
    },
    {
     "data": {
      "application/vnd.jupyter.widget-view+json": {
       "model_id": "",
       "version_major": 2,
       "version_minor": 0
      },
      "text/plain": [
       "Validating: 0it [00:00, ?it/s]"
      ]
     },
     "metadata": {},
     "output_type": "display_data"
    },
    {
     "data": {
      "application/vnd.jupyter.widget-view+json": {
       "model_id": "",
       "version_major": 2,
       "version_minor": 0
      },
      "text/plain": [
       "Validating: 0it [00:00, ?it/s]"
      ]
     },
     "metadata": {},
     "output_type": "display_data"
    },
    {
     "data": {
      "application/vnd.jupyter.widget-view+json": {
       "model_id": "",
       "version_major": 2,
       "version_minor": 0
      },
      "text/plain": [
       "Validating: 0it [00:00, ?it/s]"
      ]
     },
     "metadata": {},
     "output_type": "display_data"
    },
    {
     "data": {
      "application/vnd.jupyter.widget-view+json": {
       "model_id": "",
       "version_major": 2,
       "version_minor": 0
      },
      "text/plain": [
       "Validating: 0it [00:00, ?it/s]"
      ]
     },
     "metadata": {},
     "output_type": "display_data"
    },
    {
     "data": {
      "application/vnd.jupyter.widget-view+json": {
       "model_id": "",
       "version_major": 2,
       "version_minor": 0
      },
      "text/plain": [
       "Validating: 0it [00:00, ?it/s]"
      ]
     },
     "metadata": {},
     "output_type": "display_data"
    },
    {
     "data": {
      "application/vnd.jupyter.widget-view+json": {
       "model_id": "",
       "version_major": 2,
       "version_minor": 0
      },
      "text/plain": [
       "Validating: 0it [00:00, ?it/s]"
      ]
     },
     "metadata": {},
     "output_type": "display_data"
    },
    {
     "data": {
      "application/vnd.jupyter.widget-view+json": {
       "model_id": "",
       "version_major": 2,
       "version_minor": 0
      },
      "text/plain": [
       "Validating: 0it [00:00, ?it/s]"
      ]
     },
     "metadata": {},
     "output_type": "display_data"
    },
    {
     "data": {
      "application/vnd.jupyter.widget-view+json": {
       "model_id": "",
       "version_major": 2,
       "version_minor": 0
      },
      "text/plain": [
       "Validating: 0it [00:00, ?it/s]"
      ]
     },
     "metadata": {},
     "output_type": "display_data"
    },
    {
     "data": {
      "application/vnd.jupyter.widget-view+json": {
       "model_id": "",
       "version_major": 2,
       "version_minor": 0
      },
      "text/plain": [
       "Validating: 0it [00:00, ?it/s]"
      ]
     },
     "metadata": {},
     "output_type": "display_data"
    },
    {
     "data": {
      "application/vnd.jupyter.widget-view+json": {
       "model_id": "",
       "version_major": 2,
       "version_minor": 0
      },
      "text/plain": [
       "Validating: 0it [00:00, ?it/s]"
      ]
     },
     "metadata": {},
     "output_type": "display_data"
    },
    {
     "data": {
      "application/vnd.jupyter.widget-view+json": {
       "model_id": "",
       "version_major": 2,
       "version_minor": 0
      },
      "text/plain": [
       "Validating: 0it [00:00, ?it/s]"
      ]
     },
     "metadata": {},
     "output_type": "display_data"
    },
    {
     "data": {
      "application/vnd.jupyter.widget-view+json": {
       "model_id": "",
       "version_major": 2,
       "version_minor": 0
      },
      "text/plain": [
       "Validating: 0it [00:00, ?it/s]"
      ]
     },
     "metadata": {},
     "output_type": "display_data"
    },
    {
     "data": {
      "application/vnd.jupyter.widget-view+json": {
       "model_id": "",
       "version_major": 2,
       "version_minor": 0
      },
      "text/plain": [
       "Validating: 0it [00:00, ?it/s]"
      ]
     },
     "metadata": {},
     "output_type": "display_data"
    },
    {
     "data": {
      "application/vnd.jupyter.widget-view+json": {
       "model_id": "",
       "version_major": 2,
       "version_minor": 0
      },
      "text/plain": [
       "Validating: 0it [00:00, ?it/s]"
      ]
     },
     "metadata": {},
     "output_type": "display_data"
    },
    {
     "data": {
      "application/vnd.jupyter.widget-view+json": {
       "model_id": "",
       "version_major": 2,
       "version_minor": 0
      },
      "text/plain": [
       "Validating: 0it [00:00, ?it/s]"
      ]
     },
     "metadata": {},
     "output_type": "display_data"
    },
    {
     "data": {
      "application/vnd.jupyter.widget-view+json": {
       "model_id": "",
       "version_major": 2,
       "version_minor": 0
      },
      "text/plain": [
       "Validating: 0it [00:00, ?it/s]"
      ]
     },
     "metadata": {},
     "output_type": "display_data"
    },
    {
     "data": {
      "application/vnd.jupyter.widget-view+json": {
       "model_id": "",
       "version_major": 2,
       "version_minor": 0
      },
      "text/plain": [
       "Validating: 0it [00:00, ?it/s]"
      ]
     },
     "metadata": {},
     "output_type": "display_data"
    },
    {
     "data": {
      "application/vnd.jupyter.widget-view+json": {
       "model_id": "",
       "version_major": 2,
       "version_minor": 0
      },
      "text/plain": [
       "Validating: 0it [00:00, ?it/s]"
      ]
     },
     "metadata": {},
     "output_type": "display_data"
    },
    {
     "data": {
      "application/vnd.jupyter.widget-view+json": {
       "model_id": "",
       "version_major": 2,
       "version_minor": 0
      },
      "text/plain": [
       "Validating: 0it [00:00, ?it/s]"
      ]
     },
     "metadata": {},
     "output_type": "display_data"
    },
    {
     "data": {
      "application/vnd.jupyter.widget-view+json": {
       "model_id": "",
       "version_major": 2,
       "version_minor": 0
      },
      "text/plain": [
       "Validating: 0it [00:00, ?it/s]"
      ]
     },
     "metadata": {},
     "output_type": "display_data"
    },
    {
     "data": {
      "application/vnd.jupyter.widget-view+json": {
       "model_id": "",
       "version_major": 2,
       "version_minor": 0
      },
      "text/plain": [
       "Validating: 0it [00:00, ?it/s]"
      ]
     },
     "metadata": {},
     "output_type": "display_data"
    },
    {
     "data": {
      "application/vnd.jupyter.widget-view+json": {
       "model_id": "",
       "version_major": 2,
       "version_minor": 0
      },
      "text/plain": [
       "Validating: 0it [00:00, ?it/s]"
      ]
     },
     "metadata": {},
     "output_type": "display_data"
    },
    {
     "data": {
      "application/vnd.jupyter.widget-view+json": {
       "model_id": "",
       "version_major": 2,
       "version_minor": 0
      },
      "text/plain": [
       "Validating: 0it [00:00, ?it/s]"
      ]
     },
     "metadata": {},
     "output_type": "display_data"
    },
    {
     "data": {
      "application/vnd.jupyter.widget-view+json": {
       "model_id": "",
       "version_major": 2,
       "version_minor": 0
      },
      "text/plain": [
       "Validating: 0it [00:00, ?it/s]"
      ]
     },
     "metadata": {},
     "output_type": "display_data"
    },
    {
     "data": {
      "application/vnd.jupyter.widget-view+json": {
       "model_id": "",
       "version_major": 2,
       "version_minor": 0
      },
      "text/plain": [
       "Validating: 0it [00:00, ?it/s]"
      ]
     },
     "metadata": {},
     "output_type": "display_data"
    },
    {
     "data": {
      "application/vnd.jupyter.widget-view+json": {
       "model_id": "",
       "version_major": 2,
       "version_minor": 0
      },
      "text/plain": [
       "Validating: 0it [00:00, ?it/s]"
      ]
     },
     "metadata": {},
     "output_type": "display_data"
    },
    {
     "data": {
      "application/vnd.jupyter.widget-view+json": {
       "model_id": "",
       "version_major": 2,
       "version_minor": 0
      },
      "text/plain": [
       "Validating: 0it [00:00, ?it/s]"
      ]
     },
     "metadata": {},
     "output_type": "display_data"
    },
    {
     "data": {
      "application/vnd.jupyter.widget-view+json": {
       "model_id": "",
       "version_major": 2,
       "version_minor": 0
      },
      "text/plain": [
       "Validating: 0it [00:00, ?it/s]"
      ]
     },
     "metadata": {},
     "output_type": "display_data"
    },
    {
     "data": {
      "application/vnd.jupyter.widget-view+json": {
       "model_id": "",
       "version_major": 2,
       "version_minor": 0
      },
      "text/plain": [
       "Validating: 0it [00:00, ?it/s]"
      ]
     },
     "metadata": {},
     "output_type": "display_data"
    },
    {
     "data": {
      "application/vnd.jupyter.widget-view+json": {
       "model_id": "",
       "version_major": 2,
       "version_minor": 0
      },
      "text/plain": [
       "Validating: 0it [00:00, ?it/s]"
      ]
     },
     "metadata": {},
     "output_type": "display_data"
    },
    {
     "data": {
      "application/vnd.jupyter.widget-view+json": {
       "model_id": "",
       "version_major": 2,
       "version_minor": 0
      },
      "text/plain": [
       "Validating: 0it [00:00, ?it/s]"
      ]
     },
     "metadata": {},
     "output_type": "display_data"
    },
    {
     "data": {
      "application/vnd.jupyter.widget-view+json": {
       "model_id": "",
       "version_major": 2,
       "version_minor": 0
      },
      "text/plain": [
       "Validating: 0it [00:00, ?it/s]"
      ]
     },
     "metadata": {},
     "output_type": "display_data"
    },
    {
     "data": {
      "application/vnd.jupyter.widget-view+json": {
       "model_id": "",
       "version_major": 2,
       "version_minor": 0
      },
      "text/plain": [
       "Validating: 0it [00:00, ?it/s]"
      ]
     },
     "metadata": {},
     "output_type": "display_data"
    },
    {
     "data": {
      "application/vnd.jupyter.widget-view+json": {
       "model_id": "",
       "version_major": 2,
       "version_minor": 0
      },
      "text/plain": [
       "Validating: 0it [00:00, ?it/s]"
      ]
     },
     "metadata": {},
     "output_type": "display_data"
    },
    {
     "data": {
      "application/vnd.jupyter.widget-view+json": {
       "model_id": "",
       "version_major": 2,
       "version_minor": 0
      },
      "text/plain": [
       "Validating: 0it [00:00, ?it/s]"
      ]
     },
     "metadata": {},
     "output_type": "display_data"
    },
    {
     "data": {
      "application/vnd.jupyter.widget-view+json": {
       "model_id": "",
       "version_major": 2,
       "version_minor": 0
      },
      "text/plain": [
       "Validating: 0it [00:00, ?it/s]"
      ]
     },
     "metadata": {},
     "output_type": "display_data"
    },
    {
     "data": {
      "application/vnd.jupyter.widget-view+json": {
       "model_id": "",
       "version_major": 2,
       "version_minor": 0
      },
      "text/plain": [
       "Validating: 0it [00:00, ?it/s]"
      ]
     },
     "metadata": {},
     "output_type": "display_data"
    },
    {
     "data": {
      "application/vnd.jupyter.widget-view+json": {
       "model_id": "",
       "version_major": 2,
       "version_minor": 0
      },
      "text/plain": [
       "Validating: 0it [00:00, ?it/s]"
      ]
     },
     "metadata": {},
     "output_type": "display_data"
    },
    {
     "data": {
      "application/vnd.jupyter.widget-view+json": {
       "model_id": "",
       "version_major": 2,
       "version_minor": 0
      },
      "text/plain": [
       "Validating: 0it [00:00, ?it/s]"
      ]
     },
     "metadata": {},
     "output_type": "display_data"
    },
    {
     "data": {
      "application/vnd.jupyter.widget-view+json": {
       "model_id": "",
       "version_major": 2,
       "version_minor": 0
      },
      "text/plain": [
       "Validating: 0it [00:00, ?it/s]"
      ]
     },
     "metadata": {},
     "output_type": "display_data"
    },
    {
     "data": {
      "application/vnd.jupyter.widget-view+json": {
       "model_id": "",
       "version_major": 2,
       "version_minor": 0
      },
      "text/plain": [
       "Validating: 0it [00:00, ?it/s]"
      ]
     },
     "metadata": {},
     "output_type": "display_data"
    },
    {
     "data": {
      "application/vnd.jupyter.widget-view+json": {
       "model_id": "",
       "version_major": 2,
       "version_minor": 0
      },
      "text/plain": [
       "Validating: 0it [00:00, ?it/s]"
      ]
     },
     "metadata": {},
     "output_type": "display_data"
    },
    {
     "data": {
      "application/vnd.jupyter.widget-view+json": {
       "model_id": "",
       "version_major": 2,
       "version_minor": 0
      },
      "text/plain": [
       "Validating: 0it [00:00, ?it/s]"
      ]
     },
     "metadata": {},
     "output_type": "display_data"
    },
    {
     "data": {
      "application/vnd.jupyter.widget-view+json": {
       "model_id": "",
       "version_major": 2,
       "version_minor": 0
      },
      "text/plain": [
       "Validating: 0it [00:00, ?it/s]"
      ]
     },
     "metadata": {},
     "output_type": "display_data"
    },
    {
     "data": {
      "application/vnd.jupyter.widget-view+json": {
       "model_id": "",
       "version_major": 2,
       "version_minor": 0
      },
      "text/plain": [
       "Validating: 0it [00:00, ?it/s]"
      ]
     },
     "metadata": {},
     "output_type": "display_data"
    },
    {
     "data": {
      "application/vnd.jupyter.widget-view+json": {
       "model_id": "",
       "version_major": 2,
       "version_minor": 0
      },
      "text/plain": [
       "Validating: 0it [00:00, ?it/s]"
      ]
     },
     "metadata": {},
     "output_type": "display_data"
    },
    {
     "data": {
      "application/vnd.jupyter.widget-view+json": {
       "model_id": "",
       "version_major": 2,
       "version_minor": 0
      },
      "text/plain": [
       "Validating: 0it [00:00, ?it/s]"
      ]
     },
     "metadata": {},
     "output_type": "display_data"
    },
    {
     "data": {
      "application/vnd.jupyter.widget-view+json": {
       "model_id": "",
       "version_major": 2,
       "version_minor": 0
      },
      "text/plain": [
       "Validating: 0it [00:00, ?it/s]"
      ]
     },
     "metadata": {},
     "output_type": "display_data"
    },
    {
     "data": {
      "application/vnd.jupyter.widget-view+json": {
       "model_id": "",
       "version_major": 2,
       "version_minor": 0
      },
      "text/plain": [
       "Validating: 0it [00:00, ?it/s]"
      ]
     },
     "metadata": {},
     "output_type": "display_data"
    },
    {
     "data": {
      "application/vnd.jupyter.widget-view+json": {
       "model_id": "",
       "version_major": 2,
       "version_minor": 0
      },
      "text/plain": [
       "Validating: 0it [00:00, ?it/s]"
      ]
     },
     "metadata": {},
     "output_type": "display_data"
    },
    {
     "data": {
      "application/vnd.jupyter.widget-view+json": {
       "model_id": "",
       "version_major": 2,
       "version_minor": 0
      },
      "text/plain": [
       "Validating: 0it [00:00, ?it/s]"
      ]
     },
     "metadata": {},
     "output_type": "display_data"
    },
    {
     "data": {
      "application/vnd.jupyter.widget-view+json": {
       "model_id": "",
       "version_major": 2,
       "version_minor": 0
      },
      "text/plain": [
       "Validating: 0it [00:00, ?it/s]"
      ]
     },
     "metadata": {},
     "output_type": "display_data"
    },
    {
     "data": {
      "application/vnd.jupyter.widget-view+json": {
       "model_id": "",
       "version_major": 2,
       "version_minor": 0
      },
      "text/plain": [
       "Validating: 0it [00:00, ?it/s]"
      ]
     },
     "metadata": {},
     "output_type": "display_data"
    },
    {
     "data": {
      "application/vnd.jupyter.widget-view+json": {
       "model_id": "",
       "version_major": 2,
       "version_minor": 0
      },
      "text/plain": [
       "Validating: 0it [00:00, ?it/s]"
      ]
     },
     "metadata": {},
     "output_type": "display_data"
    },
    {
     "data": {
      "application/vnd.jupyter.widget-view+json": {
       "model_id": "",
       "version_major": 2,
       "version_minor": 0
      },
      "text/plain": [
       "Validating: 0it [00:00, ?it/s]"
      ]
     },
     "metadata": {},
     "output_type": "display_data"
    },
    {
     "data": {
      "application/vnd.jupyter.widget-view+json": {
       "model_id": "",
       "version_major": 2,
       "version_minor": 0
      },
      "text/plain": [
       "Validating: 0it [00:00, ?it/s]"
      ]
     },
     "metadata": {},
     "output_type": "display_data"
    },
    {
     "data": {
      "application/vnd.jupyter.widget-view+json": {
       "model_id": "",
       "version_major": 2,
       "version_minor": 0
      },
      "text/plain": [
       "Validating: 0it [00:00, ?it/s]"
      ]
     },
     "metadata": {},
     "output_type": "display_data"
    },
    {
     "data": {
      "application/vnd.jupyter.widget-view+json": {
       "model_id": "",
       "version_major": 2,
       "version_minor": 0
      },
      "text/plain": [
       "Validating: 0it [00:00, ?it/s]"
      ]
     },
     "metadata": {},
     "output_type": "display_data"
    },
    {
     "data": {
      "application/vnd.jupyter.widget-view+json": {
       "model_id": "",
       "version_major": 2,
       "version_minor": 0
      },
      "text/plain": [
       "Validating: 0it [00:00, ?it/s]"
      ]
     },
     "metadata": {},
     "output_type": "display_data"
    },
    {
     "data": {
      "application/vnd.jupyter.widget-view+json": {
       "model_id": "",
       "version_major": 2,
       "version_minor": 0
      },
      "text/plain": [
       "Validating: 0it [00:00, ?it/s]"
      ]
     },
     "metadata": {},
     "output_type": "display_data"
    },
    {
     "data": {
      "application/vnd.jupyter.widget-view+json": {
       "model_id": "",
       "version_major": 2,
       "version_minor": 0
      },
      "text/plain": [
       "Validating: 0it [00:00, ?it/s]"
      ]
     },
     "metadata": {},
     "output_type": "display_data"
    },
    {
     "data": {
      "application/vnd.jupyter.widget-view+json": {
       "model_id": "",
       "version_major": 2,
       "version_minor": 0
      },
      "text/plain": [
       "Validating: 0it [00:00, ?it/s]"
      ]
     },
     "metadata": {},
     "output_type": "display_data"
    },
    {
     "data": {
      "application/vnd.jupyter.widget-view+json": {
       "model_id": "",
       "version_major": 2,
       "version_minor": 0
      },
      "text/plain": [
       "Validating: 0it [00:00, ?it/s]"
      ]
     },
     "metadata": {},
     "output_type": "display_data"
    },
    {
     "data": {
      "application/vnd.jupyter.widget-view+json": {
       "model_id": "",
       "version_major": 2,
       "version_minor": 0
      },
      "text/plain": [
       "Validating: 0it [00:00, ?it/s]"
      ]
     },
     "metadata": {},
     "output_type": "display_data"
    },
    {
     "data": {
      "application/vnd.jupyter.widget-view+json": {
       "model_id": "",
       "version_major": 2,
       "version_minor": 0
      },
      "text/plain": [
       "Validating: 0it [00:00, ?it/s]"
      ]
     },
     "metadata": {},
     "output_type": "display_data"
    },
    {
     "data": {
      "application/vnd.jupyter.widget-view+json": {
       "model_id": "",
       "version_major": 2,
       "version_minor": 0
      },
      "text/plain": [
       "Validating: 0it [00:00, ?it/s]"
      ]
     },
     "metadata": {},
     "output_type": "display_data"
    },
    {
     "data": {
      "application/vnd.jupyter.widget-view+json": {
       "model_id": "",
       "version_major": 2,
       "version_minor": 0
      },
      "text/plain": [
       "Validating: 0it [00:00, ?it/s]"
      ]
     },
     "metadata": {},
     "output_type": "display_data"
    },
    {
     "data": {
      "application/vnd.jupyter.widget-view+json": {
       "model_id": "",
       "version_major": 2,
       "version_minor": 0
      },
      "text/plain": [
       "Validating: 0it [00:00, ?it/s]"
      ]
     },
     "metadata": {},
     "output_type": "display_data"
    },
    {
     "data": {
      "application/vnd.jupyter.widget-view+json": {
       "model_id": "",
       "version_major": 2,
       "version_minor": 0
      },
      "text/plain": [
       "Validating: 0it [00:00, ?it/s]"
      ]
     },
     "metadata": {},
     "output_type": "display_data"
    },
    {
     "data": {
      "application/vnd.jupyter.widget-view+json": {
       "model_id": "",
       "version_major": 2,
       "version_minor": 0
      },
      "text/plain": [
       "Validating: 0it [00:00, ?it/s]"
      ]
     },
     "metadata": {},
     "output_type": "display_data"
    },
    {
     "data": {
      "application/vnd.jupyter.widget-view+json": {
       "model_id": "",
       "version_major": 2,
       "version_minor": 0
      },
      "text/plain": [
       "Validating: 0it [00:00, ?it/s]"
      ]
     },
     "metadata": {},
     "output_type": "display_data"
    },
    {
     "data": {
      "application/vnd.jupyter.widget-view+json": {
       "model_id": "",
       "version_major": 2,
       "version_minor": 0
      },
      "text/plain": [
       "Validating: 0it [00:00, ?it/s]"
      ]
     },
     "metadata": {},
     "output_type": "display_data"
    },
    {
     "data": {
      "application/vnd.jupyter.widget-view+json": {
       "model_id": "",
       "version_major": 2,
       "version_minor": 0
      },
      "text/plain": [
       "Validating: 0it [00:00, ?it/s]"
      ]
     },
     "metadata": {},
     "output_type": "display_data"
    },
    {
     "data": {
      "application/vnd.jupyter.widget-view+json": {
       "model_id": "",
       "version_major": 2,
       "version_minor": 0
      },
      "text/plain": [
       "Validating: 0it [00:00, ?it/s]"
      ]
     },
     "metadata": {},
     "output_type": "display_data"
    },
    {
     "data": {
      "application/vnd.jupyter.widget-view+json": {
       "model_id": "",
       "version_major": 2,
       "version_minor": 0
      },
      "text/plain": [
       "Validating: 0it [00:00, ?it/s]"
      ]
     },
     "metadata": {},
     "output_type": "display_data"
    },
    {
     "data": {
      "application/vnd.jupyter.widget-view+json": {
       "model_id": "",
       "version_major": 2,
       "version_minor": 0
      },
      "text/plain": [
       "Validating: 0it [00:00, ?it/s]"
      ]
     },
     "metadata": {},
     "output_type": "display_data"
    },
    {
     "data": {
      "application/vnd.jupyter.widget-view+json": {
       "model_id": "",
       "version_major": 2,
       "version_minor": 0
      },
      "text/plain": [
       "Validating: 0it [00:00, ?it/s]"
      ]
     },
     "metadata": {},
     "output_type": "display_data"
    },
    {
     "data": {
      "application/vnd.jupyter.widget-view+json": {
       "model_id": "",
       "version_major": 2,
       "version_minor": 0
      },
      "text/plain": [
       "Validating: 0it [00:00, ?it/s]"
      ]
     },
     "metadata": {},
     "output_type": "display_data"
    },
    {
     "data": {
      "application/vnd.jupyter.widget-view+json": {
       "model_id": "",
       "version_major": 2,
       "version_minor": 0
      },
      "text/plain": [
       "Validating: 0it [00:00, ?it/s]"
      ]
     },
     "metadata": {},
     "output_type": "display_data"
    },
    {
     "data": {
      "application/vnd.jupyter.widget-view+json": {
       "model_id": "",
       "version_major": 2,
       "version_minor": 0
      },
      "text/plain": [
       "Validating: 0it [00:00, ?it/s]"
      ]
     },
     "metadata": {},
     "output_type": "display_data"
    },
    {
     "data": {
      "application/vnd.jupyter.widget-view+json": {
       "model_id": "",
       "version_major": 2,
       "version_minor": 0
      },
      "text/plain": [
       "Validating: 0it [00:00, ?it/s]"
      ]
     },
     "metadata": {},
     "output_type": "display_data"
    },
    {
     "data": {
      "application/vnd.jupyter.widget-view+json": {
       "model_id": "",
       "version_major": 2,
       "version_minor": 0
      },
      "text/plain": [
       "Validating: 0it [00:00, ?it/s]"
      ]
     },
     "metadata": {},
     "output_type": "display_data"
    },
    {
     "data": {
      "application/vnd.jupyter.widget-view+json": {
       "model_id": "",
       "version_major": 2,
       "version_minor": 0
      },
      "text/plain": [
       "Validating: 0it [00:00, ?it/s]"
      ]
     },
     "metadata": {},
     "output_type": "display_data"
    },
    {
     "data": {
      "application/vnd.jupyter.widget-view+json": {
       "model_id": "",
       "version_major": 2,
       "version_minor": 0
      },
      "text/plain": [
       "Validating: 0it [00:00, ?it/s]"
      ]
     },
     "metadata": {},
     "output_type": "display_data"
    },
    {
     "data": {
      "application/vnd.jupyter.widget-view+json": {
       "model_id": "",
       "version_major": 2,
       "version_minor": 0
      },
      "text/plain": [
       "Validating: 0it [00:00, ?it/s]"
      ]
     },
     "metadata": {},
     "output_type": "display_data"
    },
    {
     "data": {
      "application/vnd.jupyter.widget-view+json": {
       "model_id": "",
       "version_major": 2,
       "version_minor": 0
      },
      "text/plain": [
       "Validating: 0it [00:00, ?it/s]"
      ]
     },
     "metadata": {},
     "output_type": "display_data"
    },
    {
     "data": {
      "application/vnd.jupyter.widget-view+json": {
       "model_id": "",
       "version_major": 2,
       "version_minor": 0
      },
      "text/plain": [
       "Validating: 0it [00:00, ?it/s]"
      ]
     },
     "metadata": {},
     "output_type": "display_data"
    },
    {
     "data": {
      "application/vnd.jupyter.widget-view+json": {
       "model_id": "",
       "version_major": 2,
       "version_minor": 0
      },
      "text/plain": [
       "Validating: 0it [00:00, ?it/s]"
      ]
     },
     "metadata": {},
     "output_type": "display_data"
    },
    {
     "data": {
      "application/vnd.jupyter.widget-view+json": {
       "model_id": "",
       "version_major": 2,
       "version_minor": 0
      },
      "text/plain": [
       "Validating: 0it [00:00, ?it/s]"
      ]
     },
     "metadata": {},
     "output_type": "display_data"
    },
    {
     "data": {
      "application/vnd.jupyter.widget-view+json": {
       "model_id": "",
       "version_major": 2,
       "version_minor": 0
      },
      "text/plain": [
       "Validating: 0it [00:00, ?it/s]"
      ]
     },
     "metadata": {},
     "output_type": "display_data"
    },
    {
     "data": {
      "application/vnd.jupyter.widget-view+json": {
       "model_id": "",
       "version_major": 2,
       "version_minor": 0
      },
      "text/plain": [
       "Validating: 0it [00:00, ?it/s]"
      ]
     },
     "metadata": {},
     "output_type": "display_data"
    },
    {
     "data": {
      "application/vnd.jupyter.widget-view+json": {
       "model_id": "",
       "version_major": 2,
       "version_minor": 0
      },
      "text/plain": [
       "Validating: 0it [00:00, ?it/s]"
      ]
     },
     "metadata": {},
     "output_type": "display_data"
    },
    {
     "name": "stderr",
     "output_type": "stream",
     "text": [
      "GPU available: False, used: False\n",
      "No environment variable for node rank defined. Set as 0.\n"
     ]
    },
    {
     "name": "stdout",
     "output_type": "stream",
     "text": [
      "Fold 8\n"
     ]
    },
    {
     "name": "stderr",
     "output_type": "stream",
     "text": [
      "/home/anastasiaaa/.virtualenvs/rna/lib/python3.6/site-packages/pytorch_lightning/utilities/distributed.py:23: RuntimeWarning: You have defined a `val_dataloader()` and have defined a `validation_step()`, you may also want to define `validation_epoch_end()` for accumulating stats.\n",
      "  warnings.warn(*args, **kwargs)\n",
      "/home/anastasiaaa/.virtualenvs/rna/lib/python3.6/site-packages/pytorch_lightning/utilities/distributed.py:23: UserWarning: The dataloader, val dataloader 0, does not have many workers which may be a bottleneck. Consider increasing the value of the `num_workers` argument` in the `DataLoader` init to improve performance.\n",
      "  warnings.warn(*args, **kwargs)\n"
     ]
    },
    {
     "data": {
      "application/vnd.jupyter.widget-view+json": {
       "model_id": "",
       "version_major": 2,
       "version_minor": 0
      },
      "text/plain": [
       "Validation sanity check: 0it [00:00, ?it/s]"
      ]
     },
     "metadata": {},
     "output_type": "display_data"
    },
    {
     "name": "stderr",
     "output_type": "stream",
     "text": [
      "/home/anastasiaaa/.virtualenvs/rna/lib/python3.6/site-packages/pytorch_lightning/utilities/distributed.py:23: UserWarning: The dataloader, train dataloader, does not have many workers which may be a bottleneck. Consider increasing the value of the `num_workers` argument` in the `DataLoader` init to improve performance.\n",
      "  warnings.warn(*args, **kwargs)\n"
     ]
    },
    {
     "data": {
      "application/vnd.jupyter.widget-view+json": {
       "model_id": "b426579dfb524676a0edb01e6f4c0643",
       "version_major": 2,
       "version_minor": 0
      },
      "text/plain": [
       "Training: 0it [00:00, ?it/s]"
      ]
     },
     "metadata": {},
     "output_type": "display_data"
    },
    {
     "data": {
      "application/vnd.jupyter.widget-view+json": {
       "model_id": "",
       "version_major": 2,
       "version_minor": 0
      },
      "text/plain": [
       "Validating: 0it [00:00, ?it/s]"
      ]
     },
     "metadata": {},
     "output_type": "display_data"
    },
    {
     "name": "stderr",
     "output_type": "stream",
     "text": [
      "Detected KeyboardInterrupt, attempting graceful shutdown...\n",
      "GPU available: False, used: False\n",
      "No environment variable for node rank defined. Set as 0.\n"
     ]
    },
    {
     "name": "stdout",
     "output_type": "stream",
     "text": [
      "Fold 9\n"
     ]
    },
    {
     "name": "stderr",
     "output_type": "stream",
     "text": [
      "/home/anastasiaaa/.virtualenvs/rna/lib/python3.6/site-packages/pytorch_lightning/utilities/distributed.py:23: RuntimeWarning: You have defined a `val_dataloader()` and have defined a `validation_step()`, you may also want to define `validation_epoch_end()` for accumulating stats.\n",
      "  warnings.warn(*args, **kwargs)\n",
      "/home/anastasiaaa/.virtualenvs/rna/lib/python3.6/site-packages/pytorch_lightning/utilities/distributed.py:23: UserWarning: The dataloader, val dataloader 0, does not have many workers which may be a bottleneck. Consider increasing the value of the `num_workers` argument` in the `DataLoader` init to improve performance.\n",
      "  warnings.warn(*args, **kwargs)\n"
     ]
    },
    {
     "data": {
      "application/vnd.jupyter.widget-view+json": {
       "model_id": "",
       "version_major": 2,
       "version_minor": 0
      },
      "text/plain": [
       "Validation sanity check: 0it [00:00, ?it/s]"
      ]
     },
     "metadata": {},
     "output_type": "display_data"
    },
    {
     "name": "stderr",
     "output_type": "stream",
     "text": [
      "/home/anastasiaaa/.virtualenvs/rna/lib/python3.6/site-packages/pytorch_lightning/utilities/distributed.py:23: UserWarning: The dataloader, train dataloader, does not have many workers which may be a bottleneck. Consider increasing the value of the `num_workers` argument` in the `DataLoader` init to improve performance.\n",
      "  warnings.warn(*args, **kwargs)\n"
     ]
    },
    {
     "data": {
      "application/vnd.jupyter.widget-view+json": {
       "model_id": "d0068c2a47be437ba0ef29e1c4dac075",
       "version_major": 2,
       "version_minor": 0
      },
      "text/plain": [
       "Training: 0it [00:00, ?it/s]"
      ]
     },
     "metadata": {},
     "output_type": "display_data"
    },
    {
     "name": "stderr",
     "output_type": "stream",
     "text": [
      "Detected KeyboardInterrupt, attempting graceful shutdown...\n"
     ]
    },
    {
     "data": {
      "text/plain": [
       "{}"
      ]
     },
     "execution_count": 33,
     "metadata": {},
     "output_type": "execute_result"
    }
   ],
   "source": [
    "nested_cross_validation(dataset, model, mode='evaluate')"
   ]
  },
  {
   "cell_type": "markdown",
   "id": "e9bde8f5",
   "metadata": {},
   "source": [
    "## Set up Tensorboard"
   ]
  },
  {
   "cell_type": "code",
   "execution_count": 28,
   "id": "dd930b1d",
   "metadata": {},
   "outputs": [
    {
     "data": {
      "text/html": [
       "\n",
       "      <iframe id=\"tensorboard-frame-fb302279b5c0241e\" width=\"100%\" height=\"800\" frameborder=\"0\">\n",
       "      </iframe>\n",
       "      <script>\n",
       "        (function() {\n",
       "          const frame = document.getElementById(\"tensorboard-frame-fb302279b5c0241e\");\n",
       "          const url = new URL(\"/\", window.location);\n",
       "          const port = 6006;\n",
       "          if (port) {\n",
       "            url.port = port;\n",
       "          }\n",
       "          frame.src = url;\n",
       "        })();\n",
       "      </script>\n",
       "    "
      ],
      "text/plain": [
       "<IPython.core.display.HTML object>"
      ]
     },
     "metadata": {},
     "output_type": "display_data"
    }
   ],
   "source": [
    "%load_ext tensorboard\n",
    "%tensorboard --logdir lightning_logs"
   ]
  },
  {
   "cell_type": "markdown",
   "id": "b973f48c",
   "metadata": {},
   "source": [
    "# 4. Visualize results"
   ]
  }
 ],
 "metadata": {
  "kernelspec": {
   "display_name": "Python 3",
   "language": "python",
   "name": "python3"
  },
  "language_info": {
   "codemirror_mode": {
    "name": "ipython",
    "version": 3
   },
   "file_extension": ".py",
   "mimetype": "text/x-python",
   "name": "python",
   "nbconvert_exporter": "python",
   "pygments_lexer": "ipython3",
   "version": "3.6.9"
  }
 },
 "nbformat": 4,
 "nbformat_minor": 5
}
